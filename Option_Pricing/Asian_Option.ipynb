{
 "cells": [
  {
   "cell_type": "code",
   "execution_count": null,
   "metadata": {},
   "outputs": [],
   "source": []
  },
  {
   "cell_type": "code",
   "execution_count": 1,
   "metadata": {},
   "outputs": [],
   "source": [
    "from math import exp, sqrt\n",
    "import random\n",
    "import numpy as np"
   ]
  },
  {
   "cell_type": "code",
   "execution_count": 2,
   "metadata": {},
   "outputs": [
    {
     "data": {
      "text/plain": [
       "'\\nParameters:\\ns0 = initial stock price\\nk = strike price\\nr = risk-less short rate\\nsig = volatility of stock value\\ndt = t/T = time to maturity\\nm = the number of path nodes\\nn = the number of simulation\\n'"
      ]
     },
     "execution_count": 2,
     "metadata": {},
     "output_type": "execute_result"
    }
   ],
   "source": [
    "'''\n",
    "Parameters:\n",
    "s0 = initial stock price\n",
    "k = strike price\n",
    "r = risk-less short rate\n",
    "sig = volatility of stock value\n",
    "dt = t/T = time to maturity\n",
    "m = the number of path nodes\n",
    "n = the number of simulation\n",
    "'''"
   ]
  },
  {
   "cell_type": "code",
   "execution_count": 3,
   "metadata": {},
   "outputs": [],
   "source": [
    "def asian_option_mc(s0, k, r, dt, sig, m, n):\n",
    "    # It is an arithmetic solution by using Monte Carlo method\n",
    "    delta_t = dt / m  # length of time interval\n",
    "    c = []\n",
    "    p = []\n",
    "    for i in range(0, n):\n",
    "        s = [s0]\n",
    "        for j in range(0, m):\n",
    "            s.append(s[-1] * exp((r - 0.5 * sig ** 2) * delta_t + (sig * sqrt(delta_t) * random.gauss(0, 1))))\n",
    "\n",
    "        avg = np.mean(s)\n",
    "        c.append(max((avg - k), 0))\n",
    "        p.append(max((k - avg), 0))\n",
    "\n",
    "    c_value = np.mean(c) * exp(-r * dt)\n",
    "    c_standard_error = np.std(c) / np.sqrt(n)\n",
    "\n",
    "    p_value = np.mean(p) * exp(-r * dt)\n",
    "    p_standard_error = np.std(p) / np.sqrt(n)\n",
    "\n",
    "    return {'call_MC': c_value, 'standard error(c)': c_standard_error, 'put_MC': p_value,\n",
    "            'standard error(p)': p_standard_error}\n"
   ]
  },
  {
   "cell_type": "code",
   "execution_count": 5,
   "metadata": {},
   "outputs": [
    {
     "name": "stdout",
     "output_type": "stream",
     "text": [
      "{'call_MC': 333.7000661690405, 'standard error(c)': 3.683676243949439, 'put_MC': 258.05762784150954, 'standard error(p)': 2.6581364881009018}\n"
     ]
    }
   ],
   "source": [
    "print(asian_option_mc(5200, 5200, 0.03, 1, 0.25, 100, 20000))"
   ]
  },
  {
   "cell_type": "code",
   "execution_count": null,
   "metadata": {},
   "outputs": [],
   "source": []
  }
 ],
 "metadata": {
  "kernelspec": {
   "display_name": ".venv",
   "language": "python",
   "name": "python3"
  },
  "language_info": {
   "codemirror_mode": {
    "name": "ipython",
    "version": 3
   },
   "file_extension": ".py",
   "mimetype": "text/x-python",
   "name": "python",
   "nbconvert_exporter": "python",
   "pygments_lexer": "ipython3",
   "version": "3.10.6"
  }
 },
 "nbformat": 4,
 "nbformat_minor": 2
}

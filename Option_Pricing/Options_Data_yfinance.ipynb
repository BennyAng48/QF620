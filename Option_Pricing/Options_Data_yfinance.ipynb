{
 "cells": [
  {
   "cell_type": "markdown",
   "metadata": {},
   "source": [
    "https://stackoverflow.com/questions/77145106/how-to-get-historical-price-of-options-with-strike-price-y-relative-to-being-set"
   ]
  },
  {
   "cell_type": "markdown",
   "metadata": {},
   "source": [
    "#### This works only on options that have yet to expire. It doesnt work on options that have already expired."
   ]
  },
  {
   "cell_type": "code",
   "execution_count": 1,
   "metadata": {},
   "outputs": [],
   "source": [
    "import numpy as np\n",
    "import pandas as pd\n",
    "import yfinance as yf\n",
    "import datetime as dt\n",
    "import matplotlib.pyplot as plt\n",
    "import plotly.express as px\n",
    "import plotly.graph_objects as go\n",
    "import warnings "
   ]
  },
  {
   "cell_type": "code",
   "execution_count": 2,
   "metadata": {},
   "outputs": [],
   "source": [
    "# Settings the warnings to be ignored \n",
    "warnings.filterwarnings('ignore') \n",
    "\n",
    "%matplotlib ipympl"
   ]
  },
  {
   "cell_type": "code",
   "execution_count": 3,
   "metadata": {},
   "outputs": [],
   "source": [
    "today_date = dt.datetime.today().strftime('%Y-%m-%d')"
   ]
  },
  {
   "cell_type": "markdown",
   "metadata": {},
   "source": [
    "### This function is for getting options data across all strikes and expiry dates"
   ]
  },
  {
   "cell_type": "code",
   "execution_count": 4,
   "metadata": {},
   "outputs": [],
   "source": [
    "def fetch_all_option_data(ticker): \n",
    "    \"\"\"\n",
    "    Fetch option chain data for a given stock ticker. \n",
    "    \"\"\"\n",
    "    Ticker = yf.Ticker(ticker)\n",
    "    expirations = Ticker.options\n",
    "    \n",
    "    option_data = pd.DataFrame() \n",
    "    \n",
    "    for expiration in expirations:\n",
    "        \n",
    "        option_chain = Ticker.option_chain(expiration) \n",
    "        \n",
    "        calls = option_chain.calls\n",
    "        calls['Option Type'] = \"Call\" \n",
    "        \n",
    "        puts = option_chain.puts\n",
    "        puts['Option Type'] = \"Put\" \n",
    "        \n",
    "        options = pd.concat([calls, puts])\n",
    "        options['Expiration Date'] = pd.to_datetime(expiration) + pd.DateOffset(hours=23, minutes=59, seconds=59)\n",
    "        \n",
    "        option_data = pd.concat([option_data, options])\n",
    "    option_data[\"Days to Expiration\"] = (option_data['Expiration Date'] - dt.datetime.today()).dt.days + 1 \n",
    "    \n",
    "    return option_data"
   ]
  },
  {
   "cell_type": "markdown",
   "metadata": {},
   "source": [
    "### This function is for getting option data for a specific expiry date and strike"
   ]
  },
  {
   "cell_type": "code",
   "execution_count": 5,
   "metadata": {},
   "outputs": [],
   "source": [
    "def get_option_data(stock_symbol, expiration_date, option_type, strike):\n",
    "    stock = yf.Ticker(stock_symbol)\n",
    "    option_chain = stock.option_chain(expiration_date)\n",
    "    options = getattr(option_chain, \"calls\" if option_type.startswith(\"call\") else \"puts\")\n",
    "    option_data = options[options[\"strike\"] == strike]\n",
    "    return option_data\n"
   ]
  },
  {
   "cell_type": "markdown",
   "metadata": {},
   "source": [
    "### This function returns the history for a particular option contract x days before expiration"
   ]
  },
  {
   "cell_type": "code",
   "execution_count": 6,
   "metadata": {},
   "outputs": [],
   "source": [
    "def get_option_history_data(contract_symbol, days_before_expiration=30):     #Can change the days before expiration here\n",
    "    option = yf.Ticker(contract_symbol)\n",
    "    option_info = option.info\n",
    "    option_expiration_date = dt.datetime.fromtimestamp(option_info[\"expireDate\"])\n",
    "\n",
    "    start_date = option_expiration_date - dt.timedelta(days=days_before_expiration)\n",
    "    option_history = option.history(start=start_date)\n",
    "    return option_history"
   ]
  },
  {
   "cell_type": "markdown",
   "metadata": {},
   "source": [
    "### This function is if you want specific information for a specfic contract on a specific date"
   ]
  },
  {
   "cell_type": "code",
   "execution_count": 7,
   "metadata": {},
   "outputs": [],
   "source": [
    "def main(stock_symbol = \"AAPL\",expiration_date = \"2024-09-06\", option_type = \"call\", strike = 220.0):\n",
    "    \n",
    "    option_data = get_option_data(stock_symbol, expiration_date, option_type, strike)\n",
    "    for i, od in option_data.iterrows():\n",
    "        contract_symbol = od[\"contractSymbol\"]\n",
    "        option_history = get_option_history_data(contract_symbol)\n",
    "        first_option_history = option_history.iloc[0]\n",
    "        first_option_history_date = option_history.index[0]\n",
    "        first_option_history_close = first_option_history[\"Close\"]\n",
    "        print(\"For {}, the closing price was ${:.2f} on {}.\".format(\n",
    "            contract_symbol,\n",
    "            first_option_history_close,\n",
    "            first_option_history_date\n",
    "        ))\n"
   ]
  },
  {
   "cell_type": "code",
   "execution_count": 8,
   "metadata": {},
   "outputs": [
    {
     "name": "stdout",
     "output_type": "stream",
     "text": [
      "For AAPL240906C00220000, the closing price was $3.20 on 2024-08-07 00:00:00-04:00.\n"
     ]
    }
   ],
   "source": [
    "# Remember to change the expiration date and strike\n",
    "\n",
    "if __name__ == \"__main__\":\n",
    "    main()"
   ]
  },
  {
   "cell_type": "code",
   "execution_count": 9,
   "metadata": {},
   "outputs": [
    {
     "name": "stdout",
     "output_type": "stream",
     "text": [
      "For TSLA240906C00170000, the closing price was $28.60 on 2024-08-07 00:00:00-04:00.\n"
     ]
    }
   ],
   "source": [
    "# Remember to change the expiration date and strike\n",
    "\n",
    "Info=main(stock_symbol = \"TSLA\",expiration_date = \"2024-09-06\", option_type = \"call\", strike = 170.0)"
   ]
  },
  {
   "cell_type": "code",
   "execution_count": 10,
   "metadata": {},
   "outputs": [
    {
     "data": {
      "text/plain": [
       "('2024-08-23',\n",
       " '2024-08-30',\n",
       " '2024-09-06',\n",
       " '2024-09-13',\n",
       " '2024-09-20',\n",
       " '2024-09-27',\n",
       " '2024-10-18',\n",
       " '2024-11-15',\n",
       " '2024-12-20',\n",
       " '2025-01-17',\n",
       " '2025-02-21',\n",
       " '2025-03-21',\n",
       " '2025-06-20',\n",
       " '2025-08-15',\n",
       " '2025-09-19',\n",
       " '2025-12-19',\n",
       " '2026-01-16',\n",
       " '2026-06-18',\n",
       " '2026-12-18')"
      ]
     },
     "execution_count": 10,
     "metadata": {},
     "output_type": "execute_result"
    }
   ],
   "source": [
    "# This cell gets all the available expirations for a ticker\n",
    "\n",
    "stock = yf.Ticker(\"TSLA\")\n",
    "expirations = stock.options\n",
    "expirations"
   ]
  },
  {
   "cell_type": "code",
   "execution_count": 11,
   "metadata": {},
   "outputs": [
    {
     "data": {
      "text/plain": [
       "Options(calls=         contractSymbol             lastTradeDate  strike  lastPrice     bid  \\\n",
       "0   TSLA240830C00075000 2024-07-12 14:44:51+00:00    75.0     176.10  124.55   \n",
       "1   TSLA240830C00085000 2024-08-02 18:32:54+00:00    85.0     124.09  130.15   \n",
       "2   TSLA240830C00095000 2024-08-02 18:34:55+00:00    95.0     113.95  120.15   \n",
       "3   TSLA240830C00100000 2024-08-16 19:55:06+00:00   100.0     116.81  115.15   \n",
       "4   TSLA240830C00105000 2024-08-16 19:44:16+00:00   105.0     111.93  110.30   \n",
       "..                  ...                       ...     ...        ...     ...   \n",
       "73  TSLA240830C00410000 2024-08-15 19:24:07+00:00   410.0       0.01    0.00   \n",
       "74  TSLA240830C00420000 2024-08-16 13:54:18+00:00   420.0       0.01    0.00   \n",
       "75  TSLA240830C00430000 2024-08-08 18:12:29+00:00   430.0       0.02    0.00   \n",
       "76  TSLA240830C00440000 2024-08-16 13:55:43+00:00   440.0       0.01    0.00   \n",
       "77  TSLA240830C00450000 2024-08-15 14:59:34+00:00   450.0       0.01    0.00   \n",
       "\n",
       "       ask     change  percentChange  volume  openInterest  impliedVolatility  \\\n",
       "0   125.90   0.000000       0.000000     NaN             2           0.000010   \n",
       "1   132.45   0.000000       0.000000     3.0             1           2.123052   \n",
       "2   122.50   0.000000       0.000000     1.0             1           1.917969   \n",
       "3   117.65   2.809998       2.464910    11.0            64           1.886719   \n",
       "4   112.50  19.919998      21.649818     6.0            16           1.777345   \n",
       "..     ...        ...            ...     ...           ...                ...   \n",
       "73    0.02   0.000000       0.000000     7.0           997           1.046880   \n",
       "74    0.01   0.000000       0.000000     2.0           135           1.031255   \n",
       "75    0.03   0.000000       0.000000     1.0            46           1.156254   \n",
       "76    0.01  -0.010000     -50.000000    11.0            54           1.093755   \n",
       "77    0.01   0.000000       0.000000     1.0           182           1.125004   \n",
       "\n",
       "    inTheMoney contractSize currency  \n",
       "0         True      REGULAR      USD  \n",
       "1         True      REGULAR      USD  \n",
       "2         True      REGULAR      USD  \n",
       "3         True      REGULAR      USD  \n",
       "4         True      REGULAR      USD  \n",
       "..         ...          ...      ...  \n",
       "73       False      REGULAR      USD  \n",
       "74       False      REGULAR      USD  \n",
       "75       False      REGULAR      USD  \n",
       "76       False      REGULAR      USD  \n",
       "77       False      REGULAR      USD  \n",
       "\n",
       "[78 rows x 14 columns], puts=         contractSymbol             lastTradeDate  strike  lastPrice     bid  \\\n",
       "0   TSLA240830P00075000 2024-08-14 14:25:15+00:00    75.0       0.01    0.00   \n",
       "1   TSLA240830P00080000 2024-08-12 19:49:26+00:00    80.0       0.01    0.00   \n",
       "2   TSLA240830P00085000 2024-08-16 17:37:04+00:00    85.0       0.01    0.00   \n",
       "3   TSLA240830P00090000 2024-08-13 15:11:37+00:00    90.0       0.01    0.00   \n",
       "4   TSLA240830P00095000 2024-08-16 18:52:58+00:00    95.0       0.01    0.00   \n",
       "..                  ...                       ...     ...        ...     ...   \n",
       "58  TSLA240830P00325000 2024-07-24 17:17:54+00:00   325.0     103.60  107.75   \n",
       "59  TSLA240830P00330000 2024-07-24 16:20:07+00:00   330.0     108.14  112.75   \n",
       "60  TSLA240830P00335000 2024-07-12 17:00:38+00:00   335.0      87.18  134.35   \n",
       "61  TSLA240830P00350000 2024-07-30 13:34:22+00:00   350.0     121.10  132.75   \n",
       "62  TSLA240830P00355000 2024-07-25 19:39:38+00:00   355.0     132.13  137.75   \n",
       "\n",
       "       ask  change  percentChange  volume  openInterest  impliedVolatility  \\\n",
       "0     0.02     0.0            0.0     2.0           123           1.781251   \n",
       "1     0.02     0.0            0.0    45.0            96           1.687502   \n",
       "2     0.02     0.0            0.0     1.0          1689           1.593752   \n",
       "3     0.02     0.0            0.0    50.0            97           1.500002   \n",
       "4     0.02     0.0            0.0    42.0           171           1.406253   \n",
       "..     ...     ...            ...     ...           ...                ...   \n",
       "58  110.10     0.0            0.0     2.0             0           0.808596   \n",
       "59  115.10     0.0            0.0     2.0             0           0.835939   \n",
       "60  135.75     0.0            0.0     NaN             0           2.820315   \n",
       "61  135.10     0.0            0.0     1.0             0           0.933594   \n",
       "62  140.10     0.0            0.0     1.0             0           0.960938   \n",
       "\n",
       "    inTheMoney contractSize currency  \n",
       "0        False      REGULAR      USD  \n",
       "1        False      REGULAR      USD  \n",
       "2        False      REGULAR      USD  \n",
       "3        False      REGULAR      USD  \n",
       "4        False      REGULAR      USD  \n",
       "..         ...          ...      ...  \n",
       "58        True      REGULAR      USD  \n",
       "59        True      REGULAR      USD  \n",
       "60        True      REGULAR      USD  \n",
       "61        True      REGULAR      USD  \n",
       "62        True      REGULAR      USD  \n",
       "\n",
       "[63 rows x 14 columns], underlying={'language': 'en-US', 'region': 'US', 'quoteType': 'EQUITY', 'typeDisp': 'Equity', 'quoteSourceName': 'Nasdaq Real Time Price', 'triggerable': True, 'customPriceAlertConfidence': 'HIGH', 'epsTrailingTwelveMonths': 3.57, 'epsForward': 3.16, 'epsCurrentYear': 2.34, 'priceEpsCurrentYear': 92.35898, 'sharesOutstanding': 3194639872, 'bookValue': 20.81, 'fiftyDayAverage': 213.628, 'fiftyDayAverageChange': 2.4919891, 'fiftyDayAverageChangePercent': 0.011665086, 'twoHundredDayAverage': 203.1743, 'twoHundredDayAverageChange': 12.945694, 'twoHundredDayAverageChangePercent': 0.06371718, 'marketCap': 690425561088, 'forwardPE': 68.3924, 'priceToBook': 10.385391, 'sourceInterval': 15, 'exchangeDataDelayedBy': 0, 'averageAnalystRating': '2.8 - Hold', 'currency': 'USD', 'priceHint': 2, 'postMarketChangePercent': 0.101796, 'postMarketTime': 1723852797, 'postMarketPrice': 216.34, 'postMarketChange': 0.220001, 'regularMarketChange': 1.9799957, 'regularMarketTime': 1723838400, 'regularMarketDayHigh': 219.8, 'regularMarketDayRange': '210.8 - 219.8', 'regularMarketDayLow': 210.8, 'regularMarketVolume': 88369547, 'regularMarketPreviousClose': 214.14, 'bid': 216.11, 'ask': 216.25, 'bidSize': 1, 'askSize': 1, 'fullExchangeName': 'NasdaqGS', 'financialCurrency': 'USD', 'regularMarketOpen': 211.12, 'averageDailyVolume3Month': 95810438, 'averageDailyVolume10Day': 75797240, 'fiftyTwoWeekLowChange': 77.31999, 'fiftyTwoWeekLowChangePercent': 0.5570604, 'fiftyTwoWeekRange': '138.8 - 278.98', 'fiftyTwoWeekHighChange': -62.860016, 'fiftyTwoWeekHighChangePercent': -0.22532086, 'fiftyTwoWeekLow': 138.8, 'marketState': 'CLOSED', 'exchange': 'NMS', 'shortName': 'Tesla, Inc.', 'longName': 'Tesla, Inc.', 'messageBoardId': 'finmb_27444752', 'exchangeTimezoneName': 'America/New_York', 'exchangeTimezoneShortName': 'EDT', 'gmtOffSetMilliseconds': -14400000, 'market': 'us_market', 'esgPopulated': False, 'regularMarketChangePercent': 0.9246267, 'regularMarketPrice': 216.12, 'hasPrePostMarketData': True, 'firstTradeDateMilliseconds': 1277818200000, 'fiftyTwoWeekHigh': 278.98, 'fiftyTwoWeekChangePercent': -6.554824, 'earningsTimestamp': 1721764800, 'earningsTimestampStart': 1729281600, 'earningsTimestampEnd': 1730145600, 'earningsCallTimestampStart': 1721770200, 'earningsCallTimestampEnd': 1721770200, 'isEarningsDateEstimate': True, 'trailingAnnualDividendRate': 0.0, 'trailingPE': 60.537815, 'trailingAnnualDividendYield': 0.0, 'tradeable': False, 'cryptoTradeable': False, 'displayName': 'Tesla', 'symbol': 'TSLA'})"
      ]
     },
     "execution_count": 11,
     "metadata": {},
     "output_type": "execute_result"
    }
   ],
   "source": [
    "# This cell gets all the options expiring on a certain date for that ticker\n",
    "\n",
    "option_chain = stock.option_chain(expirations[1])    #Second most immediate date\n",
    "option_chain"
   ]
  },
  {
   "cell_type": "code",
   "execution_count": 18,
   "metadata": {},
   "outputs": [
    {
     "data": {
      "text/html": [
       "<div>\n",
       "<style scoped>\n",
       "    .dataframe tbody tr th:only-of-type {\n",
       "        vertical-align: middle;\n",
       "    }\n",
       "\n",
       "    .dataframe tbody tr th {\n",
       "        vertical-align: top;\n",
       "    }\n",
       "\n",
       "    .dataframe thead th {\n",
       "        text-align: right;\n",
       "    }\n",
       "</style>\n",
       "<table border=\"1\" class=\"dataframe\">\n",
       "  <thead>\n",
       "    <tr style=\"text-align: right;\">\n",
       "      <th></th>\n",
       "      <th>Open</th>\n",
       "      <th>High</th>\n",
       "      <th>Low</th>\n",
       "      <th>Close</th>\n",
       "      <th>Volume</th>\n",
       "      <th>Dividends</th>\n",
       "      <th>Stock Splits</th>\n",
       "    </tr>\n",
       "    <tr>\n",
       "      <th>Date</th>\n",
       "      <th></th>\n",
       "      <th></th>\n",
       "      <th></th>\n",
       "      <th></th>\n",
       "      <th></th>\n",
       "      <th></th>\n",
       "      <th></th>\n",
       "    </tr>\n",
       "  </thead>\n",
       "  <tbody>\n",
       "    <tr>\n",
       "      <th>2024-07-15 00:00:00-04:00</th>\n",
       "      <td>0.90</td>\n",
       "      <td>0.90</td>\n",
       "      <td>0.83</td>\n",
       "      <td>0.84</td>\n",
       "      <td>5</td>\n",
       "      <td>0.0</td>\n",
       "      <td>0.0</td>\n",
       "    </tr>\n",
       "    <tr>\n",
       "      <th>2024-07-17 00:00:00-04:00</th>\n",
       "      <td>0.64</td>\n",
       "      <td>0.64</td>\n",
       "      <td>0.42</td>\n",
       "      <td>0.42</td>\n",
       "      <td>0</td>\n",
       "      <td>0.0</td>\n",
       "      <td>0.0</td>\n",
       "    </tr>\n",
       "    <tr>\n",
       "      <th>2024-07-18 00:00:00-04:00</th>\n",
       "      <td>0.41</td>\n",
       "      <td>0.41</td>\n",
       "      <td>0.41</td>\n",
       "      <td>0.41</td>\n",
       "      <td>2</td>\n",
       "      <td>0.0</td>\n",
       "      <td>0.0</td>\n",
       "    </tr>\n",
       "    <tr>\n",
       "      <th>2024-07-19 00:00:00-04:00</th>\n",
       "      <td>0.20</td>\n",
       "      <td>0.23</td>\n",
       "      <td>0.20</td>\n",
       "      <td>0.23</td>\n",
       "      <td>2</td>\n",
       "      <td>0.0</td>\n",
       "      <td>0.0</td>\n",
       "    </tr>\n",
       "    <tr>\n",
       "      <th>2024-07-23 00:00:00-04:00</th>\n",
       "      <td>0.32</td>\n",
       "      <td>0.32</td>\n",
       "      <td>0.32</td>\n",
       "      <td>0.32</td>\n",
       "      <td>0</td>\n",
       "      <td>0.0</td>\n",
       "      <td>0.0</td>\n",
       "    </tr>\n",
       "    <tr>\n",
       "      <th>2024-07-24 00:00:00-04:00</th>\n",
       "      <td>0.04</td>\n",
       "      <td>0.05</td>\n",
       "      <td>0.02</td>\n",
       "      <td>0.02</td>\n",
       "      <td>20</td>\n",
       "      <td>0.0</td>\n",
       "      <td>0.0</td>\n",
       "    </tr>\n",
       "    <tr>\n",
       "      <th>2024-07-25 00:00:00-04:00</th>\n",
       "      <td>0.03</td>\n",
       "      <td>0.05</td>\n",
       "      <td>0.03</td>\n",
       "      <td>0.03</td>\n",
       "      <td>15</td>\n",
       "      <td>0.0</td>\n",
       "      <td>0.0</td>\n",
       "    </tr>\n",
       "    <tr>\n",
       "      <th>2024-07-30 00:00:00-04:00</th>\n",
       "      <td>0.05</td>\n",
       "      <td>0.05</td>\n",
       "      <td>0.05</td>\n",
       "      <td>0.05</td>\n",
       "      <td>0</td>\n",
       "      <td>0.0</td>\n",
       "      <td>0.0</td>\n",
       "    </tr>\n",
       "    <tr>\n",
       "      <th>2024-07-31 00:00:00-04:00</th>\n",
       "      <td>0.03</td>\n",
       "      <td>0.03</td>\n",
       "      <td>0.01</td>\n",
       "      <td>0.01</td>\n",
       "      <td>0</td>\n",
       "      <td>0.0</td>\n",
       "      <td>0.0</td>\n",
       "    </tr>\n",
       "    <tr>\n",
       "      <th>2024-08-02 00:00:00-04:00</th>\n",
       "      <td>0.01</td>\n",
       "      <td>0.01</td>\n",
       "      <td>0.01</td>\n",
       "      <td>0.01</td>\n",
       "      <td>5</td>\n",
       "      <td>0.0</td>\n",
       "      <td>0.0</td>\n",
       "    </tr>\n",
       "    <tr>\n",
       "      <th>2024-08-16 00:00:00-04:00</th>\n",
       "      <td>0.01</td>\n",
       "      <td>0.01</td>\n",
       "      <td>0.01</td>\n",
       "      <td>0.01</td>\n",
       "      <td>11</td>\n",
       "      <td>0.0</td>\n",
       "      <td>0.0</td>\n",
       "    </tr>\n",
       "  </tbody>\n",
       "</table>\n",
       "</div>"
      ],
      "text/plain": [
       "                           Open  High   Low  Close  Volume  Dividends  \\\n",
       "Date                                                                    \n",
       "2024-07-15 00:00:00-04:00  0.90  0.90  0.83   0.84       5        0.0   \n",
       "2024-07-17 00:00:00-04:00  0.64  0.64  0.42   0.42       0        0.0   \n",
       "2024-07-18 00:00:00-04:00  0.41  0.41  0.41   0.41       2        0.0   \n",
       "2024-07-19 00:00:00-04:00  0.20  0.23  0.20   0.23       2        0.0   \n",
       "2024-07-23 00:00:00-04:00  0.32  0.32  0.32   0.32       0        0.0   \n",
       "2024-07-24 00:00:00-04:00  0.04  0.05  0.02   0.02      20        0.0   \n",
       "2024-07-25 00:00:00-04:00  0.03  0.05  0.03   0.03      15        0.0   \n",
       "2024-07-30 00:00:00-04:00  0.05  0.05  0.05   0.05       0        0.0   \n",
       "2024-07-31 00:00:00-04:00  0.03  0.03  0.01   0.01       0        0.0   \n",
       "2024-08-02 00:00:00-04:00  0.01  0.01  0.01   0.01       5        0.0   \n",
       "2024-08-16 00:00:00-04:00  0.01  0.01  0.01   0.01      11        0.0   \n",
       "\n",
       "                           Stock Splits  \n",
       "Date                                     \n",
       "2024-07-15 00:00:00-04:00           0.0  \n",
       "2024-07-17 00:00:00-04:00           0.0  \n",
       "2024-07-18 00:00:00-04:00           0.0  \n",
       "2024-07-19 00:00:00-04:00           0.0  \n",
       "2024-07-23 00:00:00-04:00           0.0  \n",
       "2024-07-24 00:00:00-04:00           0.0  \n",
       "2024-07-25 00:00:00-04:00           0.0  \n",
       "2024-07-30 00:00:00-04:00           0.0  \n",
       "2024-07-31 00:00:00-04:00           0.0  \n",
       "2024-08-02 00:00:00-04:00           0.0  \n",
       "2024-08-16 00:00:00-04:00           0.0  "
      ]
     },
     "execution_count": 18,
     "metadata": {},
     "output_type": "execute_result"
    }
   ],
   "source": [
    "# Test cell for getting the history for a particular option contract\n",
    "\n",
    "option = yf.Ticker('TSLA240830C00440000')\n",
    "option_info = option.info\n",
    "option_expiration_date = dt.datetime.fromtimestamp(option_info[\"expireDate\"])\n",
    "start_date = option_expiration_date - dt.timedelta(days=300)\n",
    "option_history = option.history(start=start_date,end=today_date,period='1d')\n",
    "option_history"
   ]
  },
  {
   "cell_type": "code",
   "execution_count": 13,
   "metadata": {},
   "outputs": [],
   "source": [
    "# Fetch option data for stock\n",
    "options_data = fetch_all_option_data(\"TSLA\")"
   ]
  },
  {
   "cell_type": "code",
   "execution_count": 14,
   "metadata": {},
   "outputs": [],
   "source": [
    "# Gets all the active contracts for that stock\n",
    "unique_contracts=options_data['contractSymbol'].unique()"
   ]
  },
  {
   "cell_type": "code",
   "execution_count": 15,
   "metadata": {},
   "outputs": [
    {
     "data": {
      "text/plain": [
       "2832"
      ]
     },
     "execution_count": 15,
     "metadata": {},
     "output_type": "execute_result"
    }
   ],
   "source": [
    "len(unique_contracts)"
   ]
  },
  {
   "cell_type": "code",
   "execution_count": 16,
   "metadata": {},
   "outputs": [
    {
     "data": {
      "text/plain": [
       "array(['TSLA240823C00075000', 'TSLA240823C00085000',\n",
       "       'TSLA240823C00090000', ..., 'TSLA261218P00520000',\n",
       "       'TSLA261218P00530000', 'TSLA261218P00540000'], dtype=object)"
      ]
     },
     "execution_count": 16,
     "metadata": {},
     "output_type": "execute_result"
    }
   ],
   "source": [
    "unique_contracts"
   ]
  },
  {
   "cell_type": "code",
   "execution_count": null,
   "metadata": {},
   "outputs": [],
   "source": [
    "#This took 8 minutes to run with TSLA\n",
    "\n",
    "options_data_history_df={}\n",
    "\n",
    "for option in unique_contracts:\n",
    "    value=get_option_history_data(contract_symbol=option, days_before_expiration=365)\n",
    "    options_data_history_df[option]=value"
   ]
  },
  {
   "cell_type": "code",
   "execution_count": null,
   "metadata": {},
   "outputs": [],
   "source": [
    "options_data_history_df"
   ]
  },
  {
   "cell_type": "code",
   "execution_count": null,
   "metadata": {},
   "outputs": [],
   "source": []
  }
 ],
 "metadata": {
  "kernelspec": {
   "display_name": ".venv",
   "language": "python",
   "name": "python3"
  },
  "language_info": {
   "codemirror_mode": {
    "name": "ipython",
    "version": 3
   },
   "file_extension": ".py",
   "mimetype": "text/x-python",
   "name": "python",
   "nbconvert_exporter": "python",
   "pygments_lexer": "ipython3",
   "version": "3.10.6"
  }
 },
 "nbformat": 4,
 "nbformat_minor": 2
}

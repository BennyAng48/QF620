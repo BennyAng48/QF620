{
 "cells": [
  {
   "cell_type": "code",
   "execution_count": 1,
   "metadata": {},
   "outputs": [
    {
     "name": "stdout",
     "output_type": "stream",
     "text": [
      "Python 3.10.6\n"
     ]
    }
   ],
   "source": [
    "!python --version"
   ]
  },
  {
   "cell_type": "code",
   "execution_count": 2,
   "metadata": {},
   "outputs": [],
   "source": [
    "# from polygon import RESTClient\n",
    "import polygon\n",
    "import statistics as st\n",
    "\n",
    "API_KEY = \"gonFkCTvp9gA48a1p5b9ynIaAPohFHC4\"\n",
    "\n",
    "client = polygon.OptionsClient(api_key= API_KEY)\n",
    "stock_client = polygon.StocksClient(api_key= API_KEY)"
   ]
  },
  {
   "cell_type": "code",
   "execution_count": 3,
   "metadata": {},
   "outputs": [],
   "source": [
    "from datetime import datetime, timedelta\n",
    "\n",
    "# def get_option_ticker(ticker: str, strike_price: int, option_type: str, year: int, month: int, day: int) -> str:\n",
    "#     strike_price_str = str(strike_price) + \"000\"\n",
    "#     while len(strike_price_str) < 8:\n",
    "#         strike_price_str = \"0\" + strike_price_str\n",
    "#     return ticker + dt.datetime(year, month, day).strftime(\"%y%m%d\") + option_type + strike_price_str\n",
    "\n",
    "TIMESTAMP_CONVERSION_RATE=1/1000000000\n",
    "\n",
    "def get_option_ticker(ticker: str, strike_price: int, option_type: str, expiry_date: datetime) -> str:\n",
    "    return polygon.build_option_symbol(ticker, expiry_date, option_type, strike_price)\n",
    "\n",
    "def get_time_stamp(year: int, month: int, day: int, hour: int, minute: int) -> int:\n",
    "    return int(datetime.timestamp(datetime(year, month, day, hour, minute))/TIMESTAMP_CONVERSION_RATE)\n",
    "\n",
    "def get_snapshot(client, ticker_dict: dict):\n",
    "    snapshot = client.get_snapshot(ticker_dict['ticker'], get_option_ticker(**ticker_dict))\n",
    "    \n",
    "    return snapshot if snapshot['status'] == 'OK' else None\n",
    "\n",
    "def get_ticker_dict(ticker: str, strike_price: int, option_type: str, expiry_date: datetime) -> dict:\n",
    "    ticker_dict = {\n",
    "        \"ticker\": ticker,\n",
    "        \"strike_price\": strike_price,\n",
    "        \"option_type\": option_type,\n",
    "        \"expiry_date\": expiry_date\n",
    "    }\n",
    "    return ticker_dict\n",
    "\n",
    "def generate_ticker_dict_list(ticker: str, strike_price: int, option_type: str, start_expiry_date: datetime, end_expiry_date: datetime) -> list:\n",
    "    option_list =[]\n",
    "    curr_datetime = start_expiry_date\n",
    "    while (curr_datetime < end_expiry_date):\n",
    "        option_list.append(get_ticker_dict(ticker, strike_price, option_type, curr_datetime))\n",
    "        curr_datetime += timedelta(days = 1)\n",
    "    return option_list\n",
    "\n",
    "def generate_snapshot_list(client, option_dict_list: list) -> list:\n",
    "    snapshot_list = []\n",
    "    for option in option_dict_list:\n",
    "        snapshot = get_snapshot(client, option)\n",
    "        if snapshot is not None:\n",
    "            snapshot_list.append(snapshot)\n",
    "        # print(snapshot_list)\n",
    "    return snapshot_list"
   ]
  },
  {
   "cell_type": "code",
   "execution_count": 4,
   "metadata": {},
   "outputs": [
    {
     "name": "stdout",
     "output_type": "stream",
     "text": [
      "SPY240911C00540000\n"
     ]
    }
   ],
   "source": [
    "ticker_dict = {\n",
    "    \"ticker\" : \"SPY\",\n",
    "    \"strike_price\" : 540,\n",
    "    \"option_type\" : \"C\",\n",
    "    \"expiry_date\" : datetime(2024, 9, 11)\n",
    "}\n",
    "\n",
    "option_ticker2 = get_option_ticker(**ticker_dict)\n",
    "print(option_ticker2)"
   ]
  },
  {
   "cell_type": "code",
   "execution_count": null,
   "metadata": {},
   "outputs": [],
   "source": [
    "# # n = 0\n",
    "# # print(client.get_quotes(option_ticker2))\n",
    "# ask_price = []\n",
    "# bid_price = []\n",
    "# timestamp_lte = get_time_stamp(2024, 8, 15, 4, 15)\n",
    "# timestamp_gte = get_time_stamp(2024, 8, 15, 4, 14)\n",
    "# print(f\"{timestamp_gte:0f} <= time range <= {timestamp_lte:0f}\")\n",
    "# # print(client.get_quotes(option_ticker2, limit=50000)[\"results\"])\n",
    "# quotes_dict = client.get_quotes(option_ticker2, timestamp_lt = timestamp_lte, timestamp_gt = timestamp_gte,limit=50000)\n",
    "# # print(quotes_dict)\n",
    "# # print(option_ticker2)\n",
    "# for q in quotes_dict[\"results\"]:\n",
    "#     # print(f\"{n} : {datetime.fromtimestamp(q['sip_timestamp']*TIMESTAMP_CONVERSION_RATE)}: ask_price = {q['ask_price']}, bid_price={q['bid_price']}\")\n",
    "#     # print(q)\n",
    "#     ask_price.append(q['ask_price'])\n",
    "#     bid_price.append(q['bid_price'])\n",
    "#     # n += 1\n",
    "    \n",
    "# print(f\"ask : min-> {min(ask_price)} max-> {max(ask_price)} bid : min-> {min(bid_price)} max-> {max(bid_price)}\")\n",
    "# print(f\"mean_bid : {st.fmean(bid_price)}, mean_ask : {st.fmean(ask_price)}\")\n",
    "# print(f\"median_bid : {st.median(bid_price)}, median_ask : {st.median(ask_price)}\")\n",
    "# print(f\"mode_bid : {st.mode(bid_price)}, mode_ask : {st.mode(ask_price)}\")"
   ]
  },
  {
   "cell_type": "code",
   "execution_count": 5,
   "metadata": {},
   "outputs": [
    {
     "name": "stdout",
     "output_type": "stream",
     "text": [
      "None\n"
     ]
    }
   ],
   "source": [
    "snapshot = get_snapshot(client, ticker_dict)\n",
    "print(snapshot)"
   ]
  },
  {
   "cell_type": "code",
   "execution_count": 6,
   "metadata": {},
   "outputs": [
    {
     "name": "stdout",
     "output_type": "stream",
     "text": [
      "[{'results': {'break_even_price': 554.595, 'day': {'change': 1.59, 'change_percent': 12.193, 'close': 14.63, 'high': 14.9, 'last_updated': 1723780800000000000, 'low': 11.52, 'open': 12.07, 'previous_close': 13.04, 'volume': 1255, 'vwap': 13.6352}, 'details': {'contract_type': 'call', 'exercise_style': 'american', 'expiration_date': '2024-08-19', 'shares_per_contract': 100, 'strike_price': 540, 'ticker': 'O:SPY240819C00540000'}, 'greeks': {'delta': 0.9635989704009267, 'gamma': 0.00963047707199038, 'theta': -0.18054306577569887, 'vega': 0.046339913889826494}, 'implied_volatility': 0.17401343207230346, 'last_quote': {'ask': 14.73, 'ask_size': 101, 'ask_exchange': 325, 'bid': 14.46, 'bid_size': 103, 'bid_exchange': 325, 'last_updated': 1723839298465566464, 'midpoint': 14.595, 'timeframe': 'REAL-TIME'}, 'last_trade': {'sip_timestamp': 1723839080275844864, 'conditions': [232], 'price': 14.63, 'size': 1, 'exchange': 308, 'timeframe': 'REAL-TIME'}, 'open_interest': 4333, 'underlying_asset': {'change_to_break_even': 0.705, 'last_updated': 1723852795096894208, 'price': 553.89, 'ticker': 'SPY', 'timeframe': 'REAL-TIME'}}, 'status': 'OK', 'request_id': '95f3cd1e902c60a281ae7531ebf69828'}, {'results': {'break_even_price': 554.755, 'day': {'change': 1.4, 'change_percent': 10.495, 'close': 14.74, 'high': 14.91, 'last_updated': 1723780800000000000, 'low': 12.16, 'open': 12.2, 'previous_close': 13.34, 'volume': 114, 'vwap': 13.3375}, 'details': {'contract_type': 'call', 'exercise_style': 'american', 'expiration_date': '2024-08-20', 'shares_per_contract': 100, 'strike_price': 540, 'ticker': 'O:SPY240820C00540000'}, 'greeks': {'delta': 0.9448181800366917, 'gamma': 0.012013240724507036, 'theta': -0.1986258482677308, 'vega': 0.054100111548538526}, 'implied_volatility': 0.1675906692915223, 'last_quote': {'ask': 14.84, 'ask_size': 100, 'ask_exchange': 325, 'bid': 14.67, 'bid_size': 1, 'bid_exchange': 309, 'last_updated': 1723839298445136384, 'midpoint': 14.755, 'timeframe': 'REAL-TIME'}, 'last_trade': {'sip_timestamp': 1723839212703111936, 'conditions': [227], 'price': 14.74, 'size': 1, 'exchange': 304, 'timeframe': 'REAL-TIME'}, 'open_interest': 839, 'underlying_asset': {'change_to_break_even': 0.865, 'last_updated': 1723852795096894208, 'price': 553.89, 'ticker': 'SPY', 'timeframe': 'REAL-TIME'}}, 'status': 'OK', 'request_id': 'aa818721b383138faf294ed68969b389'}, {'results': {'break_even_price': 554.91, 'day': {'change': 1.13, 'change_percent': 8.194, 'close': 14.92, 'high': 15.2, 'last_updated': 1723780800000000000, 'low': 12.23, 'open': 12.41, 'previous_close': 13.79, 'volume': 36, 'vwap': 13.8189}, 'details': {'contract_type': 'call', 'exercise_style': 'american', 'expiration_date': '2024-08-21', 'shares_per_contract': 100, 'strike_price': 540, 'ticker': 'O:SPY240821C00540000'}, 'greeks': {'delta': 0.9304710874557329, 'gamma': 0.013251085745004994, 'theta': -0.20198227601508636, 'vega': 0.10502856958206352}, 'implied_volatility': 0.16195337350470124, 'last_quote': {'ask': 15, 'ask_size': 146, 'ask_exchange': 302, 'bid': 14.82, 'bid_size': 13, 'bid_exchange': 313, 'last_updated': 1723839298308748288, 'midpoint': 14.91, 'timeframe': 'REAL-TIME'}, 'last_trade': {'sip_timestamp': 1723834517437751552, 'conditions': [209], 'price': 14.92, 'size': 1, 'exchange': 313, 'timeframe': 'REAL-TIME'}, 'open_interest': 2232, 'underlying_asset': {'change_to_break_even': 1.02, 'last_updated': 1723852795096894208, 'price': 553.89, 'ticker': 'SPY', 'timeframe': 'REAL-TIME'}}, 'status': 'OK', 'request_id': 'dce828ef903ece9d2d7ba94ecd6746ce'}, {'results': {'break_even_price': 555.07, 'day': {'change': 1.92, 'change_percent': 14.724, 'close': 14.96, 'high': 15.31, 'last_updated': 1723780800000000000, 'low': 12.67, 'open': 12.67, 'previous_close': 13.04, 'volume': 28, 'vwap': 14.4475}, 'details': {'contract_type': 'call', 'exercise_style': 'american', 'expiration_date': '2024-08-22', 'shares_per_contract': 100, 'strike_price': 540, 'ticker': 'O:SPY240822C00540000'}, 'greeks': {'delta': 0.9172608496809416, 'gamma': 0.01413773561430195, 'theta': -0.1998797819229762, 'vega': 0.1152946278603034}, 'implied_volatility': 0.15611777901195145, 'last_quote': {'ask': 15.16, 'ask_size': 270, 'ask_exchange': 302, 'bid': 14.98, 'bid_size': 16, 'bid_exchange': 313, 'last_updated': 1723839298335024128, 'midpoint': 15.07, 'timeframe': 'REAL-TIME'}, 'last_trade': {'sip_timestamp': 1723839080275848704, 'conditions': [232], 'price': 14.96, 'size': 1, 'exchange': 308, 'timeframe': 'REAL-TIME'}, 'open_interest': 723, 'underlying_asset': {'change_to_break_even': 1.18, 'last_updated': 1723852795096894208, 'price': 553.89, 'ticker': 'SPY', 'timeframe': 'REAL-TIME'}}, 'status': 'OK', 'request_id': '0988bef8e34e96fe00c886ce1af1f66a'}, {'results': {'break_even_price': 555.485, 'day': {'change': 1.03, 'change_percent': 7.163, 'close': 15.41, 'high': 15.85, 'last_updated': 1723780800000000000, 'low': 13.2, 'open': 13.29, 'previous_close': 14.38, 'volume': 455, 'vwap': 14.3711}, 'details': {'contract_type': 'call', 'exercise_style': 'american', 'expiration_date': '2024-08-23', 'shares_per_contract': 100, 'strike_price': 540, 'ticker': 'O:SPY240823C00540000'}, 'greeks': {'delta': 0.8801363305451686, 'gamma': 0.015688036747572177, 'theta': -0.24958770797917784, 'vega': 0.12600684444030275}, 'implied_volatility': 0.1727745782196466, 'last_quote': {'ask': 15.57, 'ask_size': 123, 'ask_exchange': 313, 'bid': 15.4, 'bid_size': 123, 'bid_exchange': 313, 'last_updated': 1723839298347876096, 'midpoint': 15.485, 'timeframe': 'REAL-TIME'}, 'last_trade': {'sip_timestamp': 1723839072953647616, 'conditions': [233], 'price': 15.41, 'size': 1, 'exchange': 302, 'timeframe': 'REAL-TIME'}, 'open_interest': 8580, 'underlying_asset': {'change_to_break_even': 1.595, 'last_updated': 1723852795096894208, 'price': 553.89, 'ticker': 'SPY', 'timeframe': 'REAL-TIME'}}, 'status': 'OK', 'request_id': 'c4bc06c20e010103044bc3c9a8b4969b'}, {'results': {'break_even_price': 555.72, 'day': {'change': 1.03, 'change_percent': 6.941, 'close': 15.87, 'high': 15.87, 'last_updated': 1723780800000000000, 'low': 13.43, 'open': 13.43, 'previous_close': 14.84, 'volume': 20, 'vwap': 14.362}, 'details': {'contract_type': 'call', 'exercise_style': 'american', 'expiration_date': '2024-08-26', 'shares_per_contract': 100, 'strike_price': 540, 'ticker': 'O:SPY240826C00540000'}, 'greeks': {'delta': 0.8762105055201619, 'gamma': 0.015570618637749124, 'theta': -0.195754412436633, 'vega': 0.2243341302087274}, 'implied_volatility': 0.14800309387692032, 'last_quote': {'ask': 15.8, 'ask_size': 103, 'ask_exchange': 325, 'bid': 15.64, 'bid_size': 97, 'bid_exchange': 325, 'last_updated': 1723839298469339392, 'midpoint': 15.72, 'timeframe': 'REAL-TIME'}, 'last_trade': {'sip_timestamp': 1723829760248377088, 'conditions': [233], 'price': 15.87, 'size': 1, 'exchange': 302, 'timeframe': 'REAL-TIME'}, 'open_interest': 623, 'underlying_asset': {'change_to_break_even': 1.83, 'last_updated': 1723852795096894208, 'price': 553.89, 'ticker': 'SPY', 'timeframe': 'REAL-TIME'}}, 'status': 'OK', 'request_id': 'e11cf828a1bba5d6e55f44d11035bccf'}, {'results': {'break_even_price': 555.925, 'day': {'change': 0.6, 'change_percent': 4.043, 'close': 15.44, 'high': 16.09, 'last_updated': 1723780800000000000, 'low': 14.41, 'open': 14.41, 'previous_close': 14.84, 'volume': 14, 'vwap': 15.8471}, 'details': {'contract_type': 'call', 'exercise_style': 'american', 'expiration_date': '2024-08-27', 'shares_per_contract': 100, 'strike_price': 540, 'ticker': 'O:SPY240827C00540000'}, 'greeks': {'delta': 0.864871766906862, 'gamma': 0.01568830828069438, 'theta': -0.19495965950373964, 'vega': 0.23548101852536404}, 'implied_volatility': 0.14741666931934166, 'last_quote': {'ask': 16.03, 'ask_size': 100, 'ask_exchange': 325, 'bid': 15.82, 'bid_size': 100, 'bid_exchange': 325, 'last_updated': 1723839298367182080, 'midpoint': 15.925, 'timeframe': 'REAL-TIME'}, 'last_trade': {'sip_timestamp': 1723838122342425344, 'conditions': [233], 'price': 15.44, 'size': 1, 'exchange': 308, 'timeframe': 'REAL-TIME'}, 'open_interest': 34, 'underlying_asset': {'change_to_break_even': 2.035, 'last_updated': 1723852795096894208, 'price': 553.89, 'ticker': 'SPY', 'timeframe': 'REAL-TIME'}}, 'status': 'OK', 'request_id': '1da4207bd4e8376c07f2af744ee51e45'}, {'results': {'break_even_price': 556.305, 'day': {'change': -0.84, 'change_percent': -5.51, 'close': 14.41, 'high': 15.24, 'last_updated': 1723780800000000000, 'low': 14.41, 'open': 15.24, 'previous_close': 15.25, 'volume': 12, 'vwap': 15.1567}, 'details': {'contract_type': 'call', 'exercise_style': 'american', 'expiration_date': '2024-08-28', 'shares_per_contract': 100, 'strike_price': 540, 'ticker': 'O:SPY240828C00540000'}, 'greeks': {'delta': 0.8427566206863781, 'gamma': 0.01578059604140407, 'theta': -0.20819893246343502, 'vega': 0.24728757514196922}, 'implied_volatility': 0.15431560728770363, 'last_quote': {'ask': 16.42, 'ask_size': 100, 'ask_exchange': 313, 'bid': 16.19, 'bid_size': 100, 'bid_exchange': 325, 'last_updated': 1723839298445467136, 'midpoint': 16.305, 'timeframe': 'REAL-TIME'}, 'last_trade': {'sip_timestamp': 1723821785811471360, 'conditions': [232], 'price': 14.41, 'size': 1, 'exchange': 304, 'timeframe': 'REAL-TIME'}, 'open_interest': 11, 'underlying_asset': {'change_to_break_even': 2.415, 'last_updated': 1723852795096894208, 'price': 553.89, 'ticker': 'SPY', 'timeframe': 'REAL-TIME'}}, 'status': 'OK', 'request_id': 'a10bbc876095b8ddadcc82ffcb6d5e9f'}, {'results': {'break_even_price': 556.67, 'day': {'change': 0.8, 'change_percent': 5.195, 'close': 16.2, 'high': 16.2, 'last_updated': 1723780800000000000, 'low': 15.78, 'open': 15.78, 'previous_close': 15.4, 'volume': 2, 'vwap': 15.99}, 'details': {'contract_type': 'call', 'exercise_style': 'american', 'expiration_date': '2024-08-29', 'shares_per_contract': 100, 'strike_price': 540, 'ticker': 'O:SPY240829C00540000'}, 'greeks': {'delta': 0.825020745704047, 'gamma': 0.015652584904464716, 'theta': -0.21824953601661146, 'vega': 0.2584734105230528}, 'implied_volatility': 0.16034071472149738, 'last_quote': {'ask': 16.86, 'ask_size': 400, 'ask_exchange': 302, 'bid': 16.48, 'bid_size': 148, 'bid_exchange': 302, 'last_updated': 1723839298372645120, 'midpoint': 16.67, 'timeframe': 'REAL-TIME'}, 'last_trade': {'sip_timestamp': 1723824998012791296, 'conditions': [209], 'price': 16.2, 'size': 1, 'exchange': 309, 'timeframe': 'REAL-TIME'}, 'open_interest': 1, 'underlying_asset': {'change_to_break_even': 2.78, 'last_updated': 1723852795096894208, 'price': 553.89, 'ticker': 'SPY', 'timeframe': 'REAL-TIME'}}, 'status': 'OK', 'request_id': '47a2930813dea64aa01d6909db714a74'}, {'results': {'break_even_price': 557.09, 'day': {'change': 0.85, 'change_percent': 5.247, 'close': 17.05, 'high': 17.26, 'last_updated': 1723780800000000000, 'low': 15, 'open': 15.11, 'previous_close': 16.2, 'volume': 4699, 'vwap': 15.5352}, 'details': {'contract_type': 'call', 'exercise_style': 'american', 'expiration_date': '2024-08-30', 'shares_per_contract': 100, 'strike_price': 540, 'ticker': 'O:SPY240830C00540000'}, 'greeks': {'delta': 0.8072670022309328, 'gamma': 0.015356227732167532, 'theta': -0.23055731252169595, 'vega': 0.26945146866119196}, 'implied_volatility': 0.16819569110418184, 'last_quote': {'ask': 17.18, 'ask_size': 100, 'ask_exchange': 325, 'bid': 17, 'bid_size': 100, 'bid_exchange': 325, 'last_updated': 1723839294846300160, 'midpoint': 17.09, 'timeframe': 'REAL-TIME'}, 'last_trade': {'sip_timestamp': 1723839044898355712, 'conditions': [209], 'price': 17.05, 'size': 2, 'exchange': 313, 'timeframe': 'REAL-TIME'}, 'open_interest': 7206, 'underlying_asset': {'change_to_break_even': 3.2, 'last_updated': 1723852795096894208, 'price': 553.89, 'ticker': 'SPY', 'timeframe': 'REAL-TIME'}}, 'status': 'OK', 'request_id': 'abd1a1c41d1d3c6547668cc1f17fd7e4'}, {'results': {'break_even_price': 558.255, 'day': {'change': 1.02, 'change_percent': 5.965, 'close': 18.12, 'high': 18.5, 'last_updated': 1723780800000000000, 'low': 16.01, 'open': 16.01, 'previous_close': 17.1, 'volume': 41, 'vwap': 17.0563}, 'details': {'contract_type': 'call', 'exercise_style': 'american', 'expiration_date': '2024-09-06', 'shares_per_contract': 100, 'strike_price': 540, 'ticker': 'O:SPY240906C00540000'}, 'greeks': {'delta': 0.7801282446542837, 'gamma': 0.014276830482335282, 'theta': -0.19856278817613085, 'vega': 0.4306813618566276}, 'implied_volatility': 0.15941813477676484, 'last_quote': {'ask': 18.42, 'ask_size': 100, 'ask_exchange': 325, 'bid': 18.09, 'bid_size': 102, 'bid_exchange': 325, 'last_updated': 1723839298366134528, 'midpoint': 18.255, 'timeframe': 'REAL-TIME'}, 'last_trade': {'sip_timestamp': 1723838931034461184, 'conditions': [233], 'price': 18.12, 'size': 1, 'exchange': 302, 'timeframe': 'REAL-TIME'}, 'open_interest': 1076, 'underlying_asset': {'change_to_break_even': 4.365, 'last_updated': 1723852795096894208, 'price': 553.89, 'ticker': 'SPY', 'timeframe': 'REAL-TIME'}}, 'status': 'OK', 'request_id': 'be0f780f24312f340da628d543cff9e7'}, {'results': {'break_even_price': 559.63, 'day': {'change': 0.79, 'change_percent': 4.218, 'close': 19.52, 'high': 19.9, 'last_updated': 1723780800000000000, 'low': 17.66, 'open': 17.66, 'previous_close': 18.73, 'volume': 94, 'vwap': 19.0596}, 'details': {'contract_type': 'call', 'exercise_style': 'american', 'expiration_date': '2024-09-13', 'shares_per_contract': 100, 'strike_price': 540, 'ticker': 'O:SPY240913C00540000'}, 'greeks': {'delta': 0.7535378929933223, 'gamma': 0.013059776532535415, 'theta': -0.1831596831179841, 'vega': 0.4975083862138071}, 'implied_volatility': 0.15911672203103175, 'last_quote': {'ask': 19.8, 'ask_size': 1, 'ask_exchange': 309, 'bid': 19.46, 'bid_size': 100, 'bid_exchange': 323, 'last_updated': 1723839298336732160, 'midpoint': 19.63, 'timeframe': 'REAL-TIME'}, 'last_trade': {'sip_timestamp': 1723838974028036608, 'conditions': [209], 'price': 19.52, 'size': 2, 'exchange': 303, 'timeframe': 'REAL-TIME'}, 'open_interest': 390, 'underlying_asset': {'change_to_break_even': 5.74, 'last_updated': 1723852795096894208, 'price': 553.89, 'ticker': 'SPY', 'timeframe': 'REAL-TIME'}}, 'status': 'OK', 'request_id': '8f1037fc2e776a3cbe6c548e1920fb54'}, {'results': {'break_even_price': 560.76, 'day': {'change': 0.82, 'change_percent': 4.188, 'close': 20.4, 'high': 21.01, 'last_updated': 1723780800000000000, 'low': 18.77, 'open': 19.08, 'previous_close': 19.58, 'volume': 347, 'vwap': 20.1748}, 'details': {'contract_type': 'call', 'exercise_style': 'american', 'expiration_date': '2024-09-20', 'shares_per_contract': 100, 'strike_price': 540, 'ticker': 'O:SPY240920C00540000'}, 'greeks': {'delta': 0.7386781595303089, 'gamma': 0.012186473254109858, 'theta': -0.16935323250708567, 'vega': 0.5554438672932074}, 'implied_volatility': 0.15701451563866778, 'last_quote': {'ask': 20.92, 'ask_size': 74, 'ask_exchange': 313, 'bid': 20.6, 'bid_size': 78, 'bid_exchange': 313, 'last_updated': 1723839278538830080, 'midpoint': 20.76, 'timeframe': 'REAL-TIME'}, 'last_trade': {'sip_timestamp': 1723838156616946176, 'conditions': [209], 'price': 20.4, 'size': 8, 'exchange': 315, 'timeframe': 'REAL-TIME'}, 'open_interest': 18770, 'underlying_asset': {'change_to_break_even': 6.87, 'last_updated': 1723852795096894208, 'price': 553.89, 'ticker': 'SPY', 'timeframe': 'REAL-TIME'}}, 'status': 'OK', 'request_id': 'af067417d88282bbcb245646e120ff5b'}, {'results': {'break_even_price': 561.24, 'day': {'change': 1.36, 'change_percent': 6.907, 'close': 21.05, 'high': 21.4, 'last_updated': 1723780800000000000, 'low': 19.56, 'open': 19.56, 'previous_close': 19.69, 'volume': 24, 'vwap': 20.73}, 'details': {'contract_type': 'call', 'exercise_style': 'american', 'expiration_date': '2024-09-27', 'shares_per_contract': 100, 'strike_price': 540, 'ticker': 'O:SPY240927C00540000'}, 'greeks': {'delta': 0.7396347279485124, 'gamma': 0.011915588113464262, 'theta': -0.1500708451780782, 'vega': 0.6037394049628724}, 'implied_volatility': 0.146192439647477, 'last_quote': {'ask': 21.56, 'ask_size': 10, 'ask_exchange': 322, 'bid': 20.92, 'bid_size': 264, 'bid_exchange': 302, 'last_updated': 1723839280066803200, 'midpoint': 21.24, 'timeframe': 'REAL-TIME'}, 'last_trade': {'sip_timestamp': 1723837185001516800, 'conditions': [209], 'price': 21.05, 'size': 1, 'exchange': 316, 'timeframe': 'REAL-TIME'}, 'open_interest': 138, 'underlying_asset': {'change_to_break_even': 7.35, 'last_updated': 1723852795096894208, 'price': 553.89, 'ticker': 'SPY', 'timeframe': 'REAL-TIME'}}, 'status': 'OK', 'request_id': 'd72b7c7ca5618911e43ea28d90274a59'}, {'results': {'break_even_price': 561.38, 'day': {'change': 0.35, 'change_percent': 1.707, 'close': 20.85, 'high': 21.6, 'last_updated': 1723780800000000000, 'low': 19.37, 'open': 19.5, 'previous_close': 20.5, 'volume': 154, 'vwap': 20.9897}, 'details': {'contract_type': 'call', 'exercise_style': 'american', 'expiration_date': '2024-09-30', 'shares_per_contract': 100, 'strike_price': 540, 'ticker': 'O:SPY240930C00540000'}, 'greeks': {'delta': 0.741461275599557, 'gamma': 0.011855153891973946, 'theta': -0.14271274352428162, 'vega': 0.6223532662840847}, 'implied_volatility': 0.14137987449160389, 'last_quote': {'ask': 21.68, 'ask_size': 450, 'ask_exchange': 302, 'bid': 21.08, 'bid_size': 413, 'bid_exchange': 302, 'last_updated': 1723839298278064128, 'midpoint': 21.38, 'timeframe': 'REAL-TIME'}, 'last_trade': {'sip_timestamp': 1723838539132623104, 'conditions': [209], 'price': 20.85, 'size': 1, 'exchange': 302, 'timeframe': 'REAL-TIME'}, 'open_interest': 10208, 'underlying_asset': {'change_to_break_even': 7.49, 'last_updated': 1723852795096894208, 'price': 553.89, 'ticker': 'SPY', 'timeframe': 'REAL-TIME'}}, 'status': 'OK', 'request_id': 'f6994f226b78db173a20511455e27a8a'}, {'results': {'break_even_price': 564.185, 'day': {'change': 0.38, 'change_percent': 1.63, 'close': 23.7, 'high': 24.47, 'last_updated': 1723780800000000000, 'low': 22.27, 'open': 22.27, 'previous_close': 23.32, 'volume': 192, 'vwap': 23.5352}, 'details': {'contract_type': 'call', 'exercise_style': 'american', 'expiration_date': '2024-10-18', 'shares_per_contract': 100, 'strike_price': 540, 'ticker': 'O:SPY241018C00540000'}, 'greeks': {'delta': 0.7155711483389404, 'gamma': 0.010156452127961275, 'theta': -0.13355637457020325, 'vega': 0.7376902366175142}, 'implied_volatility': 0.147181496790213, 'last_quote': {'ask': 24.47, 'ask_size': 379, 'ask_exchange': 302, 'bid': 23.9, 'bid_size': 450, 'bid_exchange': 302, 'last_updated': 1723839298420242176, 'midpoint': 24.185, 'timeframe': 'REAL-TIME'}, 'last_trade': {'sip_timestamp': 1723837728766409728, 'conditions': [232], 'price': 23.7, 'size': 39, 'exchange': 308, 'timeframe': 'REAL-TIME'}, 'open_interest': 5217, 'underlying_asset': {'change_to_break_even': 10.295, 'last_updated': 1723852795096894208, 'price': 553.89, 'ticker': 'SPY', 'timeframe': 'REAL-TIME'}}, 'status': 'OK', 'request_id': '7efdf57afa9a3858843dc80337dca46e'}, {'results': {'break_even_price': 566.09, 'day': {'change': 0.93, 'change_percent': 3.724, 'close': 25.9, 'high': 26, 'last_updated': 1723780800000000000, 'low': 25.53, 'open': 26, 'previous_close': 24.97, 'volume': 14, 'vwap': 25.9593}, 'details': {'contract_type': 'call', 'exercise_style': 'american', 'expiration_date': '2024-10-31', 'shares_per_contract': 100, 'strike_price': 540, 'ticker': 'O:SPY241031C00540000'}, 'greeks': {'delta': 0.7040186077762848, 'gamma': 0.009237382950298962, 'theta': -0.12856096630887712, 'vega': 0.8106396863245108}, 'implied_volatility': 0.15096130026492333, 'last_quote': {'ask': 26.33, 'ask_size': 25, 'ask_exchange': 302, 'bid': 25.85, 'bid_size': 1, 'bid_exchange': 301, 'last_updated': 1723839296001555200, 'midpoint': 26.09, 'timeframe': 'REAL-TIME'}, 'last_trade': {'sip_timestamp': 1723838450244093440, 'conditions': [209], 'price': 25.9, 'size': 1, 'exchange': 313, 'timeframe': 'REAL-TIME'}, 'open_interest': 1710, 'underlying_asset': {'change_to_break_even': 12.2, 'last_updated': 1723852795096894208, 'price': 553.89, 'ticker': 'SPY', 'timeframe': 'REAL-TIME'}}, 'status': 'OK', 'request_id': 'b335df8fe446a7aa972905bb048dfe7b'}, {'results': {'break_even_price': 569.105, 'day': {'change': 0.95, 'change_percent': 3.386, 'close': 29.01, 'high': 29.25, 'last_updated': 1723780800000000000, 'low': 27.11, 'open': 27.31, 'previous_close': 28.06, 'volume': 86, 'vwap': 28.46}, 'details': {'contract_type': 'call', 'exercise_style': 'american', 'expiration_date': '2024-11-15', 'shares_per_contract': 100, 'strike_price': 540, 'ticker': 'O:SPY241115C00540000'}, 'greeks': {'delta': 0.6859162442850011, 'gamma': 0.00800501002930834, 'theta': -0.12731920924355833, 'vega': 1.019034328569765}, 'implied_volatility': 0.16245898478435175, 'last_quote': {'ask': 29.36, 'ask_size': 25, 'ask_exchange': 302, 'bid': 28.85, 'bid_size': 1, 'bid_exchange': 301, 'last_updated': 1723839295999197952, 'midpoint': 29.105, 'timeframe': 'REAL-TIME'}, 'last_trade': {'sip_timestamp': 1723838808736345088, 'conditions': [233], 'price': 29.01, 'size': 1, 'exchange': 312, 'timeframe': 'REAL-TIME'}, 'open_interest': 4329, 'underlying_asset': {'change_to_break_even': 15.215, 'last_updated': 1723852795096894208, 'price': 553.89, 'ticker': 'SPY', 'timeframe': 'REAL-TIME'}}, 'status': 'OK', 'request_id': 'e1e8b43173e237a3c83297296acf2f7a'}, {'results': {'break_even_price': 570.925, 'day': {'change': 0.65, 'change_percent': 2.167, 'close': 30.64, 'high': 30.71, 'last_updated': 1723780800000000000, 'low': 28.95, 'open': 28.95, 'previous_close': 29.99, 'volume': 24, 'vwap': 29.6454}, 'details': {'contract_type': 'call', 'exercise_style': 'american', 'expiration_date': '2024-11-29', 'shares_per_contract': 100, 'strike_price': 540, 'ticker': 'O:SPY241129C00540000'}, 'greeks': {'delta': 0.6811361068491985, 'gamma': 0.007446610513664662, 'theta': -0.12107851505806362, 'vega': 1.0923876902844472}, 'implied_volatility': 0.1629743756337164, 'last_quote': {'ask': 31.02, 'ask_size': 7, 'ask_exchange': 301, 'bid': 30.83, 'bid_size': 25, 'bid_exchange': 302, 'last_updated': 1723839286041728768, 'midpoint': 30.925, 'timeframe': 'REAL-TIME'}, 'last_trade': {'sip_timestamp': 1723838502797794048, 'conditions': [227], 'price': 30.64, 'size': 1, 'exchange': 309, 'timeframe': 'REAL-TIME'}, 'open_interest': 747, 'underlying_asset': {'change_to_break_even': 17.035, 'last_updated': 1723852795096894208, 'price': 553.89, 'ticker': 'SPY', 'timeframe': 'REAL-TIME'}}, 'status': 'OK', 'request_id': '63f218abc98db5435b74e2dab30085fa'}, {'results': {'break_even_price': 573.255, 'day': {'change': 0.64, 'change_percent': 1.972, 'close': 33.09, 'high': 33.5, 'last_updated': 1723780800000000000, 'low': 31.82, 'open': 32.28, 'previous_close': 32.45, 'volume': 118, 'vwap': 32.4308}, 'details': {'contract_type': 'call', 'exercise_style': 'american', 'expiration_date': '2024-12-20', 'shares_per_contract': 100, 'strike_price': 540, 'ticker': 'O:SPY241220C00540000'}, 'greeks': {'delta': 0.6780535005554104, 'gamma': 0.006854886114833491, 'theta': -0.11268902799559871, 'vega': 1.191366224628791}, 'implied_volatility': 0.16164889434825938, 'last_quote': {'ask': 33.59, 'ask_size': 83, 'ask_exchange': 304, 'bid': 32.92, 'bid_size': 25, 'bid_exchange': 304, 'last_updated': 1723839279140228096, 'midpoint': 33.255, 'timeframe': 'REAL-TIME'}, 'last_trade': {'sip_timestamp': 1723838394844882432, 'conditions': [209], 'price': 33.09, 'size': 1, 'exchange': 313, 'timeframe': 'REAL-TIME'}, 'open_interest': 13309, 'underlying_asset': {'change_to_break_even': 19.365, 'last_updated': 1723852795096894208, 'price': 553.89, 'ticker': 'SPY', 'timeframe': 'REAL-TIME'}}, 'status': 'OK', 'request_id': 'c7e60894c47f43821ed112baa972a7df'}, {'results': {'break_even_price': 574.01, 'day': {'change': 1.19, 'change_percent': 3.62, 'close': 34.06, 'high': 34.06, 'last_updated': 1723780800000000000, 'low': 32.75, 'open': 32.75, 'previous_close': 32.87, 'volume': 3, 'vwap': 33.1867}, 'details': {'contract_type': 'call', 'exercise_style': 'american', 'expiration_date': '2024-12-31', 'shares_per_contract': 100, 'strike_price': 540, 'ticker': 'O:SPY241231C00540000'}, 'greeks': {'delta': 0.6798532717271168, 'gamma': 0.006711245130119299, 'theta': -0.10762717665380991, 'vega': 1.2367096885380617}, 'implied_volatility': 0.15779041856994414, 'last_quote': {'ask': 34.36, 'ask_size': 25, 'ask_exchange': 304, 'bid': 33.66, 'bid_size': 10, 'bid_exchange': 322, 'last_updated': 1723839278458754816, 'midpoint': 34.01, 'timeframe': 'REAL-TIME'}, 'last_trade': {'sip_timestamp': 1723830305959501824, 'conditions': [209], 'price': 34.06, 'size': 1, 'exchange': 313, 'timeframe': 'REAL-TIME'}, 'open_interest': 1184, 'underlying_asset': {'change_to_break_even': 20.12, 'last_updated': 1723852795096894208, 'price': 553.89, 'ticker': 'SPY', 'timeframe': 'REAL-TIME'}}, 'status': 'OK', 'request_id': '6fadf630e02bced68a8f0f514d7bf74d'}, {'results': {'break_even_price': 575.675, 'day': {'change': 1.74, 'change_percent': 5.118, 'close': 35.74, 'high': 35.92, 'last_updated': 1723780800000000000, 'low': 33.92, 'open': 34, 'previous_close': 34, 'volume': 1782, 'vwap': 35.6316}, 'details': {'contract_type': 'call', 'exercise_style': 'american', 'expiration_date': '2025-01-17', 'shares_per_contract': 100, 'strike_price': 540, 'ticker': 'O:SPY250117C00540000'}, 'greeks': {'delta': 0.6791064501425012, 'gamma': 0.006366728570593672, 'theta': -0.10281228491694475, 'vega': 1.306169093870151}, 'implied_volatility': 0.15670552150317296, 'last_quote': {'ask': 36, 'ask_size': 1, 'ask_exchange': 303, 'bid': 35.35, 'bid_size': 25, 'bid_exchange': 304, 'last_updated': 1723838839727926272, 'midpoint': 35.675, 'timeframe': 'REAL-TIME'}, 'last_trade': {'sip_timestamp': 1723839227254186240, 'conditions': [232], 'price': 35.74, 'size': 2, 'exchange': 308, 'timeframe': 'REAL-TIME'}, 'open_interest': 9678, 'underlying_asset': {'change_to_break_even': 21.785, 'last_updated': 1723852795096894208, 'price': 553.89, 'ticker': 'SPY', 'timeframe': 'REAL-TIME'}}, 'status': 'OK', 'request_id': '0667bca525acf6afb32c40414d99c7d1'}, {'results': {'break_even_price': 577.595, 'day': {'change': 0.4, 'change_percent': 1.086, 'close': 37.22, 'high': 37.38, 'last_updated': 1723780800000000000, 'low': 35.4, 'open': 35.44, 'previous_close': 36.82, 'volume': 107, 'vwap': 37.1363}, 'details': {'contract_type': 'call', 'exercise_style': 'american', 'expiration_date': '2025-01-31', 'shares_per_contract': 100, 'strike_price': 540, 'ticker': 'O:SPY250131C00540000'}, 'greeks': {'delta': 0.6752297552669102, 'gamma': 0.005977267370400098, 'theta': -0.1011541372061374, 'vega': 1.3642579088546924}, 'implied_volatility': 0.1603246441069555, 'last_quote': {'ask': 38.16, 'ask_size': 249, 'ask_exchange': 302, 'bid': 37.03, 'bid_size': 25, 'bid_exchange': 302, 'last_updated': 1723839241979882496, 'midpoint': 37.595, 'timeframe': 'REAL-TIME'}, 'last_trade': {'sip_timestamp': 1723838520362600192, 'conditions': [209], 'price': 37.22, 'size': 5, 'exchange': 322, 'timeframe': 'REAL-TIME'}, 'open_interest': 3359, 'underlying_asset': {'change_to_break_even': 23.705, 'last_updated': 1723852795096894208, 'price': 553.89, 'ticker': 'SPY', 'timeframe': 'REAL-TIME'}}, 'status': 'OK', 'request_id': '4e937845d6a5eaf1cbdbe86430d18c75'}, {'results': {'break_even_price': 582.835, 'day': {'change': 0.9, 'change_percent': 2.175, 'close': 42.27, 'high': 42.36, 'last_updated': 1723780800000000000, 'low': 40.74, 'open': 40.74, 'previous_close': 41.37, 'volume': 97, 'vwap': 42.1305}, 'details': {'contract_type': 'call', 'exercise_style': 'american', 'expiration_date': '2025-03-21', 'shares_per_contract': 100, 'strike_price': 540, 'ticker': 'O:SPY250321C00540000'}, 'greeks': {'delta': 0.6720910854994876, 'gamma': 0.005156025388222124, 'theta': -0.0935847875926536, 'vega': 1.5401692393387887}, 'implied_volatility': 0.16355789847167637, 'last_quote': {'ask': 43.34, 'ask_size': 308, 'ask_exchange': 302, 'bid': 42.33, 'bid_size': 25, 'bid_exchange': 302, 'last_updated': 1723839270270903808, 'midpoint': 42.835, 'timeframe': 'REAL-TIME'}, 'last_trade': {'sip_timestamp': 1723827075846179840, 'conditions': [232], 'price': 42.27, 'size': 1, 'exchange': 302, 'timeframe': 'REAL-TIME'}, 'open_interest': 6190, 'underlying_asset': {'change_to_break_even': 28.945, 'last_updated': 1723852795096894208, 'price': 553.89, 'ticker': 'SPY', 'timeframe': 'REAL-TIME'}}, 'status': 'OK', 'request_id': 'dbb6ad20f8b17e14f5f6329b5678023f'}, {'results': {'break_even_price': 583.395, 'day': {'change': 0.97, 'change_percent': 2.318, 'close': 42.81, 'high': 43.22, 'last_updated': 1723780800000000000, 'low': 41.53, 'open': 41.53, 'previous_close': 41.84, 'volume': 11, 'vwap': 42.8873}, 'details': {'contract_type': 'call', 'exercise_style': 'american', 'expiration_date': '2025-03-31', 'shares_per_contract': 100, 'strike_price': 540, 'ticker': 'O:SPY250331C00540000'}, 'greeks': {'delta': 0.6739772881677804, 'gamma': 0.0050992438627148265, 'theta': -0.09134321625169517, 'vega': 1.569812572084567}, 'implied_volatility': 0.16120995591610215, 'last_quote': {'ask': 44.03, 'ask_size': 300, 'ask_exchange': 323, 'bid': 42.76, 'bid_size': 10, 'bid_exchange': 322, 'last_updated': 1723839278459566336, 'midpoint': 43.395, 'timeframe': 'REAL-TIME'}, 'last_trade': {'sip_timestamp': 1723830744678868224, 'conditions': [209], 'price': 42.81, 'size': 2, 'exchange': 308, 'timeframe': 'REAL-TIME'}, 'open_interest': 496, 'underlying_asset': {'change_to_break_even': 29.505, 'last_updated': 1723852795096894208, 'price': 553.89, 'ticker': 'SPY', 'timeframe': 'REAL-TIME'}}, 'status': 'OK', 'request_id': '28e87a92acb7ea4d7b88988a54bcdb8a'}, {'results': {'break_even_price': 585.105, 'day': {'change': 1.18, 'change_percent': 2.708, 'close': 44.76, 'high': 44.79, 'last_updated': 1723780800000000000, 'low': 44.7, 'open': 44.72, 'previous_close': 43.58, 'volume': 9, 'vwap': 44.7267}, 'details': {'contract_type': 'call', 'exercise_style': 'american', 'expiration_date': '2025-04-17', 'shares_per_contract': 100, 'strike_price': 540, 'ticker': 'O:SPY250417C00540000'}, 'greeks': {'delta': 0.6735605193192393, 'gamma': 0.004882786377380826, 'theta': -0.08942517599764072, 'vega': 1.6238134833778084}, 'implied_volatility': 0.16229876832443588, 'last_quote': {'ask': 45.8, 'ask_size': 10, 'ask_exchange': 322, 'bid': 44.41, 'bid_size': 10, 'bid_exchange': 322, 'last_updated': 1723839024349579776, 'midpoint': 45.105, 'timeframe': 'REAL-TIME'}, 'last_trade': {'sip_timestamp': 1723830512226105088, 'conditions': [209], 'price': 44.76, 'size': 1, 'exchange': 313, 'timeframe': 'REAL-TIME'}, 'open_interest': 101, 'underlying_asset': {'change_to_break_even': 31.215, 'last_updated': 1723852795096894208, 'price': 553.89, 'ticker': 'SPY', 'timeframe': 'REAL-TIME'}}, 'status': 'OK', 'request_id': 'a816b681381444a6d9362613c9faa7cc'}, {'results': {'break_even_price': 591.135, 'day': {'change': 1.28, 'change_percent': 2.584, 'close': 50.81, 'high': 50.9, 'last_updated': 1723780800000000000, 'low': 49, 'open': 49.6, 'previous_close': 49.53, 'volume': 65, 'vwap': 50.6546}, 'details': {'contract_type': 'call', 'exercise_style': 'american', 'expiration_date': '2025-06-20', 'shares_per_contract': 100, 'strike_price': 540, 'ticker': 'O:SPY250620C00540000'}, 'greeks': {'delta': 0.6740070332340874, 'gamma': 0.004248128078649174, 'theta': -0.08333322507017005, 'vega': 1.8074999031508108}, 'implied_volatility': 0.16535696372639264, 'last_quote': {'ask': 51.94, 'ask_size': 302, 'ask_exchange': 302, 'bid': 50.33, 'bid_size': 25, 'bid_exchange': 302, 'last_updated': 1723839296010384640, 'midpoint': 51.135, 'timeframe': 'REAL-TIME'}, 'last_trade': {'sip_timestamp': 1723839131495411968, 'conditions': [233], 'price': 50.81, 'size': 8, 'exchange': 302, 'timeframe': 'REAL-TIME'}, 'open_interest': 5615, 'underlying_asset': {'change_to_break_even': 37.245, 'last_updated': 1723852795096894208, 'price': 553.89, 'ticker': 'SPY', 'timeframe': 'REAL-TIME'}}, 'status': 'OK', 'request_id': '0d94db120eee9d7638df263f627a8ca9'}, {'results': {'break_even_price': 590.885, 'day': {'change': 1.07, 'change_percent': 2.14, 'close': 51.07, 'high': 51.11, 'last_updated': 1723780800000000000, 'low': 50.46, 'open': 50.46, 'previous_close': 50, 'volume': 4, 'vwap': 50.7875}, 'details': {'contract_type': 'call', 'exercise_style': 'american', 'expiration_date': '2025-06-30', 'shares_per_contract': 100, 'strike_price': 540, 'ticker': 'O:SPY250630C00540000'}, 'greeks': {'delta': 0.6786823360870338, 'gamma': 0.004305469571382063, 'theta': -0.08085602259897709, 'vega': 1.824775658739515}, 'implied_volatility': 0.1594781729040888, 'last_quote': {'ask': 51.74, 'ask_size': 37, 'ask_exchange': 304, 'bid': 50.03, 'bid_size': 25, 'bid_exchange': 304, 'last_updated': 1723839280051030016, 'midpoint': 50.885, 'timeframe': 'REAL-TIME'}, 'last_trade': {'sip_timestamp': 1723829447289387776, 'conditions': [209], 'price': 51.07, 'size': 1, 'exchange': 313, 'timeframe': 'REAL-TIME'}, 'open_interest': 361, 'underlying_asset': {'change_to_break_even': 36.995, 'last_updated': 1723852795096894208, 'price': 553.89, 'ticker': 'SPY', 'timeframe': 'REAL-TIME'}}, 'status': 'OK', 'request_id': 'c1e3ffe0cf95af2ee2101d9e04c2f7a6'}, {'results': {'break_even_price': 594.885, 'day': {'change': 1.5, 'change_percent': 2.799, 'close': 55.1, 'high': 55.1, 'last_updated': 1723780800000000000, 'low': 54.02, 'open': 54.02, 'previous_close': 53.6, 'volume': 4, 'vwap': 54.56}, 'details': {'contract_type': 'call', 'exercise_style': 'american', 'expiration_date': '2025-08-15', 'shares_per_contract': 100, 'strike_price': 540, 'ticker': 'O:SPY250815C00540000'}, 'greeks': {'delta': 0.6797662603141432, 'gamma': 0.00395959819242104, 'theta': -0.07769726189285507, 'vega': 1.9390409963720987}, 'implied_volatility': 0.16145277746359965, 'last_quote': {'ask': 55.76, 'ask_size': 12, 'ask_exchange': 304, 'bid': 54.01, 'bid_size': 10, 'bid_exchange': 301, 'last_updated': 1723839295062626304, 'midpoint': 54.885, 'timeframe': 'REAL-TIME'}, 'last_trade': {'sip_timestamp': 1723828873024504064, 'conditions': [209], 'price': 55.1, 'size': 2, 'exchange': 313, 'timeframe': 'REAL-TIME'}, 'open_interest': 235, 'underlying_asset': {'change_to_break_even': 40.995, 'last_updated': 1723852795096894208, 'price': 553.89, 'ticker': 'SPY', 'timeframe': 'REAL-TIME'}}, 'status': 'OK', 'request_id': '474fe5406216ddc66a7ea1e304f43e9e'}, {'results': {'break_even_price': 598.26, 'day': {'change': 1.67, 'change_percent': 2.966, 'close': 57.97, 'high': 57.97, 'last_updated': 1723780800000000000, 'low': 57.97, 'open': 57.97, 'previous_close': 56.3, 'volume': 5, 'vwap': 57.97}, 'details': {'contract_type': 'call', 'exercise_style': 'american', 'expiration_date': '2025-09-19', 'shares_per_contract': 100, 'strike_price': 540, 'ticker': 'O:SPY250919C00540000'}, 'greeks': {'delta': 0.6793977293448125, 'gamma': 0.0036963865880510044, 'theta': -0.07609371131465924, 'vega': 2.0231931461096875}, 'implied_volatility': 0.1649868135345481, 'last_quote': {'ask': 59.24, 'ask_size': 25, 'ask_exchange': 304, 'bid': 57.28, 'bid_size': 25, 'bid_exchange': 304, 'last_updated': 1723839024471969536, 'midpoint': 58.26, 'timeframe': 'REAL-TIME'}, 'last_trade': {'sip_timestamp': 1723838624736447744, 'conditions': [233], 'price': 57.97, 'size': 5, 'exchange': 312, 'timeframe': 'REAL-TIME'}, 'open_interest': 967, 'underlying_asset': {'change_to_break_even': 44.37, 'last_updated': 1723852795096894208, 'price': 553.89, 'ticker': 'SPY', 'timeframe': 'REAL-TIME'}}, 'status': 'OK', 'request_id': 'b398c66d77e761de336c26c32a0c0806'}, {'results': {'break_even_price': 603.71, 'day': {'change': 2.44, 'change_percent': 3.967, 'close': 63.94, 'high': 64.3, 'last_updated': 1723780800000000000, 'low': 63.94, 'open': 64.3, 'previous_close': 61.5, 'volume': 4, 'vwap': 64.1425}, 'details': {'contract_type': 'call', 'exercise_style': 'american', 'expiration_date': '2025-12-19', 'shares_per_contract': 100, 'strike_price': 540, 'ticker': 'O:SPY251219C00540000'}, 'greeks': {'delta': 0.6887692854128428, 'gamma': 0.00338417934576569, 'theta': -0.06983011645466362, 'vega': 2.1942288491427018}, 'implied_volatility': 0.15963235958610766, 'last_quote': {'ask': 64.98, 'ask_size': 25, 'ask_exchange': 302, 'bid': 62.44, 'bid_size': 30, 'bid_exchange': 301, 'last_updated': 1723839298754143744, 'midpoint': 63.71, 'timeframe': 'REAL-TIME'}, 'last_trade': {'sip_timestamp': 1723833707819158784, 'conditions': [209], 'price': 63.94, 'size': 1, 'exchange': 313, 'timeframe': 'REAL-TIME'}, 'open_interest': 1086, 'underlying_asset': {'change_to_break_even': 49.82, 'last_updated': 1723852795096894208, 'price': 553.89, 'ticker': 'SPY', 'timeframe': 'REAL-TIME'}}, 'status': 'OK', 'request_id': '3ee3188a67106847c1554efe0cd28f71'}, {'results': {'break_even_price': 604.895, 'day': {'change': 0.8, 'change_percent': 1.246, 'close': 65.03, 'high': 65.51, 'last_updated': 1723780800000000000, 'low': 65.03, 'open': 65.51, 'previous_close': 64.23, 'volume': 3, 'vwap': 65.2433}, 'details': {'contract_type': 'call', 'exercise_style': 'american', 'expiration_date': '2026-01-16', 'shares_per_contract': 100, 'strike_price': 540, 'ticker': 'O:SPY260116C00540000'}, 'greeks': {'delta': 0.6929578502726408, 'gamma': 0.003333664722201803, 'theta': -0.06791920296960902, 'vega': 2.236423052558977}, 'implied_volatility': 0.1563485229248163, 'last_quote': {'ask': 66.27, 'ask_size': 25, 'ask_exchange': 302, 'bid': 63.52, 'bid_size': 100, 'bid_exchange': 323, 'last_updated': 1723839298727156736, 'midpoint': 64.895, 'timeframe': 'REAL-TIME'}, 'last_trade': {'sip_timestamp': 1723832469754156288, 'conditions': [209], 'price': 65.03, 'size': 1, 'exchange': 313, 'timeframe': 'REAL-TIME'}, 'open_interest': 2981, 'underlying_asset': {'change_to_break_even': 51.005, 'last_updated': 1723852795096894208, 'price': 553.89, 'ticker': 'SPY', 'timeframe': 'REAL-TIME'}}, 'status': 'OK', 'request_id': '7dab6b1879fbc5e3a53c354c53babb69'}, {'results': {'break_even_price': 614.645, 'day': {'change': 3.43, 'change_percent': 4.793, 'close': 75, 'high': 75, 'last_updated': 1723780800000000000, 'low': 73.1, 'open': 73.1, 'previous_close': 71.57, 'volume': 2, 'vwap': 74.05}, 'details': {'contract_type': 'call', 'exercise_style': 'american', 'expiration_date': '2026-06-18', 'shares_per_contract': 100, 'strike_price': 540, 'ticker': 'O:SPY260618C00540000'}, 'greeks': {'delta': 0.7025675967007736, 'gamma': 0.002864108781926847, 'theta': -0.06214478496427375, 'vega': 2.471167835790509}, 'implied_volatility': 0.15600509993673978, 'last_quote': {'ask': 76.39, 'ask_size': 25, 'ask_exchange': 304, 'bid': 72.9, 'bid_size': 300, 'bid_exchange': 323, 'last_updated': 1723839294990483968, 'midpoint': 74.645, 'timeframe': 'REAL-TIME'}, 'last_trade': {'sip_timestamp': 1723829855341592320, 'conditions': [209], 'price': 75, 'size': 1, 'exchange': 313, 'timeframe': 'REAL-TIME'}, 'open_interest': 642, 'underlying_asset': {'change_to_break_even': 60.755, 'last_updated': 1723852795096894208, 'price': 553.89, 'ticker': 'SPY', 'timeframe': 'REAL-TIME'}}, 'status': 'OK', 'request_id': '81f33b8b70c4eec25e2422f784fe5ef4'}]\n"
     ]
    }
   ],
   "source": [
    "option_generator_dict= {\n",
    "    \"ticker\" : \"SPY\",\n",
    "    \"strike_price\" : 540,\n",
    "    \"option_type\" : \"C\",\n",
    "    \"start_expiry_date\" : datetime.now(),\n",
    "    \"end_expiry_date\" : datetime(2026, 12, 18)\n",
    "}\n",
    "\n",
    "option_dict_list = generate_ticker_dict_list(**option_generator_dict)\n",
    "# print(len(option_dict_list))\n",
    "# print(option_dict_list)\n",
    "option_snapshot_list = generate_snapshot_list(client, option_dict_list)\n",
    "print(option_snapshot_list)"
   ]
  },
  {
   "cell_type": "code",
   "execution_count": 7,
   "metadata": {},
   "outputs": [
    {
     "name": "stdout",
     "output_type": "stream",
     "text": [
      "{'results': {'break_even_price': 554.595, 'day': {'change': 1.59, 'change_percent': 12.193, 'close': 14.63, 'high': 14.9, 'last_updated': 1723780800000000000, 'low': 11.52, 'open': 12.07, 'previous_close': 13.04, 'volume': 1255, 'vwap': 13.6352}, 'details': {'contract_type': 'call', 'exercise_style': 'american', 'expiration_date': '2024-08-19', 'shares_per_contract': 100, 'strike_price': 540, 'ticker': 'O:SPY240819C00540000'}, 'greeks': {'delta': 0.9635989704009267, 'gamma': 0.00963047707199038, 'theta': -0.18054306577569887, 'vega': 0.046339913889826494}, 'implied_volatility': 0.17401343207230346, 'last_quote': {'ask': 14.73, 'ask_size': 101, 'ask_exchange': 325, 'bid': 14.46, 'bid_size': 103, 'bid_exchange': 325, 'last_updated': 1723839298465566464, 'midpoint': 14.595, 'timeframe': 'REAL-TIME'}, 'last_trade': {'sip_timestamp': 1723839080275844864, 'conditions': [232], 'price': 14.63, 'size': 1, 'exchange': 308, 'timeframe': 'REAL-TIME'}, 'open_interest': 4333, 'underlying_asset': {'change_to_break_even': 0.705, 'last_updated': 1723852795096894208, 'price': 553.89, 'ticker': 'SPY', 'timeframe': 'REAL-TIME'}}, 'status': 'OK', 'request_id': '95f3cd1e902c60a281ae7531ebf69828'}\n"
     ]
    }
   ],
   "source": [
    "print(option_snapshot_list[0])"
   ]
  },
  {
   "cell_type": "code",
   "execution_count": 8,
   "metadata": {},
   "outputs": [],
   "source": [
    "bid_price = []\n",
    "ask_price = []\n",
    "delta = []\n",
    "gamma = []\n",
    "theta = []\n",
    "vega = []\n",
    "iv = []\n",
    "expiry_date = []\n",
    "\n",
    "for snapshot in option_snapshot_list:\n",
    "    bid_price.append(snapshot['results']['last_quote']['bid'])\n",
    "    ask_price.append(snapshot['results']['last_quote']['ask'])\n",
    "    delta.append(snapshot['results']['greeks']['delta'])\n",
    "    gamma.append(snapshot['results']['greeks']['gamma'])\n",
    "    theta.append(snapshot['results']['greeks']['theta'])\n",
    "    vega.append(snapshot['results']['greeks']['vega'])\n",
    "    iv.append(snapshot['results']['implied_volatility'])\n",
    "    expiry_date.append(snapshot['results']['details']['expiration_date'])"
   ]
  },
  {
   "cell_type": "code",
   "execution_count": 13,
   "metadata": {},
   "outputs": [
    {
     "name": "stdout",
     "output_type": "stream",
     "text": [
      "['2024-08-19', '2024-08-20', '2024-08-21', '2024-08-22', '2024-08-23', '2024-08-26', '2024-08-27', '2024-08-28', '2024-08-29', '2024-08-30', '2024-09-06', '2024-09-13', '2024-09-20', '2024-09-27', '2024-09-30', '2024-10-18', '2024-10-31', '2024-11-15', '2024-11-29', '2024-12-20', '2024-12-31', '2025-01-17', '2025-01-31', '2025-03-21', '2025-03-31', '2025-04-17', '2025-06-20', '2025-06-30', '2025-08-15', '2025-09-19', '2025-12-19', '2026-01-16']\n",
      "[datetime.timedelta(days=1, seconds=30547, microseconds=437826), datetime.timedelta(days=2, seconds=30547, microseconds=437822), datetime.timedelta(days=3, seconds=30547, microseconds=437822), datetime.timedelta(days=4, seconds=30547, microseconds=437821), datetime.timedelta(days=5, seconds=30547, microseconds=437820), datetime.timedelta(days=8, seconds=30547, microseconds=437820), datetime.timedelta(days=9, seconds=30547, microseconds=437819), datetime.timedelta(days=10, seconds=30547, microseconds=437818), datetime.timedelta(days=11, seconds=30547, microseconds=437818), datetime.timedelta(days=12, seconds=30547, microseconds=437817), datetime.timedelta(days=19, seconds=30547, microseconds=437817), datetime.timedelta(days=26, seconds=30547, microseconds=437816), datetime.timedelta(days=33, seconds=30547, microseconds=437815), datetime.timedelta(days=40, seconds=30547, microseconds=437815), datetime.timedelta(days=43, seconds=30547, microseconds=437814), datetime.timedelta(days=61, seconds=30547, microseconds=437814), datetime.timedelta(days=74, seconds=30547, microseconds=437813), datetime.timedelta(days=89, seconds=30547, microseconds=437812), datetime.timedelta(days=103, seconds=30547, microseconds=437812), datetime.timedelta(days=124, seconds=30547, microseconds=437811), datetime.timedelta(days=135, seconds=30547, microseconds=437811), datetime.timedelta(days=152, seconds=30547, microseconds=437810), datetime.timedelta(days=166, seconds=30547, microseconds=437810), datetime.timedelta(days=215, seconds=30547, microseconds=437809), datetime.timedelta(days=225, seconds=30547, microseconds=437808), datetime.timedelta(days=242, seconds=30547, microseconds=437808), datetime.timedelta(days=306, seconds=30547, microseconds=437807), datetime.timedelta(days=316, seconds=30547, microseconds=437806), datetime.timedelta(days=362, seconds=30547, microseconds=437806), datetime.timedelta(days=397, seconds=30547, microseconds=437805), datetime.timedelta(days=488, seconds=30547, microseconds=437805), datetime.timedelta(days=516, seconds=30547, microseconds=437804)]\n"
     ]
    }
   ],
   "source": [
    "# print(bid_price)\n",
    "# print(ask_price)\n",
    "# print(delta)\n",
    "# print(gamma)\n",
    "# print(theta)\n",
    "# print(vega)\n",
    "# print(iv)\n",
    "# print(expiry_date)\n",
    "\n",
    "print(expiry_date[:-1])\n",
    "\n",
    "#sample = datetime.strptime(expiry_date[:-1], '%Y-%m-%d')\n",
    "sample = [datetime.strptime(date, '%Y-%m-%d') for date in expiry_date[:-1]]\n",
    "#diff = sample - datetime.now()\n",
    "diff = [date - datetime.now() for date in sample]\n",
    "print(diff)"
   ]
  },
  {
   "cell_type": "code",
   "execution_count": 15,
   "metadata": {},
   "outputs": [
    {
     "data": {
      "image/png": "[encoded data removed]",
      "text/plain": [
       "<Figure size 640x480 with 1 Axes>"
      ]
     },
     "metadata": {},
     "output_type": "display_data"
    }
   ],
   "source": [
    "import matplotlib.pyplot as plt\n",
    "\n",
    "fig, ax = plt.subplots()\n",
    "ax.plot(expiry_date, bid_price, label='Bid')\n",
    "ax.plot(expiry_date, ask_price, label='Ask')\n",
    "\n",
    "ax.set_xlabel('Expiration Date')\n",
    "ax.set_ylabel('Prices')\n",
    "ax.set_title('Bid-Ask')\n",
    "ax.legend()\n",
    "plt.show()"
   ]
  },
  {
   "cell_type": "code",
   "execution_count": 16,
   "metadata": {},
   "outputs": [],
   "source": [
    "def get_daily(client, option_dict : dict, date_of: datetime):\n",
    "    ticker_str = get_option_ticker(**option_dict)\n",
    "    # print(ticker_str)\n",
    "    return client.get_daily_open_close(ticker_str, date_of)"
   ]
  },
  {
   "cell_type": "code",
   "execution_count": 17,
   "metadata": {},
   "outputs": [
    {
     "name": "stdout",
     "output_type": "stream",
     "text": [
      "Historical Price: 470.43\n",
      "{'ticker': 'SPY', 'strike_price': 471, 'option_type': 'C', 'expiry_date': datetime.datetime(2024, 1, 4, 0, 0)}\n",
      "{'status': 'OK', 'from': '2024-01-03', 'symbol': 'O:SPY240104C00471000', 'open': 1.37, 'high': 1.55, 'low': 0.36, 'close': 0.42, 'volume': 142419, 'afterHours': 0.45, 'preMarket': 1.37}\n"
     ]
    }
   ],
   "source": [
    "date_of_daily = datetime(2024, 1, 3)\n",
    "\n",
    "ticker = \"SPY\"\n",
    "historical_price = stock_client.get_daily_open_close(ticker, date_of_daily)\n",
    "strike_price = int(historical_price['open']) + 1\n",
    "option_type = \"C\"\n",
    "expiry_date = date_of_daily + timedelta(days=1)\n",
    "\n",
    "tick_dict = get_ticker_dict(ticker, strike_price, option_type, expiry_date)\n",
    "print(f\"Historical Price: {historical_price['open']}\")\n",
    "print(tick_dict)\n",
    "daily = get_daily(client, tick_dict, date_of_daily)\n",
    "print(daily)"
   ]
  },
  {
   "cell_type": "code",
   "execution_count": 18,
   "metadata": {},
   "outputs": [
    {
     "name": "stdout",
     "output_type": "stream",
     "text": [
      "Historical Price: 383.18\n",
      "{'ticker': 'SPY', 'strike_price': 384, 'option_type': 'C', 'expiry_date': datetime.datetime(2023, 1, 5, 0, 0)}\n",
      "{'status': 'OK', 'from': '2023-01-04', 'symbol': 'O:SPY230105C00384000', 'open': 2.22, 'high': 3.46, 'low': 0.71, 'close': 1.49, 'volume': 70546, 'afterHours': 1.58, 'preMarket': 2.22}\n"
     ]
    }
   ],
   "source": [
    "date_of_daily = datetime(2023, 1, 4)\n",
    "\n",
    "ticker = \"SPY\"\n",
    "historical_price = stock_client.get_daily_open_close(ticker, date_of_daily)\n",
    "strike_price = int(historical_price['open']) + 1\n",
    "option_type = \"C\"\n",
    "expiry_date = date_of_daily + timedelta(days=1)\n",
    "\n",
    "tick_dict = get_ticker_dict(ticker, strike_price, option_type, expiry_date)\n",
    "print(f\"Historical Price: {historical_price['open']}\")\n",
    "print(tick_dict)\n",
    "daily = get_daily(client, tick_dict, date_of_daily)\n",
    "print(daily)\n"
   ]
  },
  {
   "cell_type": "code",
   "execution_count": 19,
   "metadata": {},
   "outputs": [
    {
     "name": "stdout",
     "output_type": "stream",
     "text": [
      "Historical Price: 392.94\n",
      "{'ticker': 'SPY', 'strike_price': 393, 'option_type': 'C', 'expiry_date': datetime.datetime(2022, 12, 8, 0, 0)}\n",
      "{'status': 'OK', 'from': '2022-12-07', 'symbol': 'O:SPY221208C00393000', 'open': 2.42, 'high': 3.9, 'low': 1.48, 'close': 1.78, 'volume': 87274, 'afterHours': 1.9, 'preMarket': 2.42}\n"
     ]
    }
   ],
   "source": [
    "date_of_daily = datetime(2022, 12, 7)\n",
    "\n",
    "ticker = \"SPY\"\n",
    "historical_price = stock_client.get_daily_open_close(ticker, date_of_daily)\n",
    "strike_price = int(historical_price['open']) + 1\n",
    "option_type = \"C\"\n",
    "expiry_date = date_of_daily + timedelta(days=1)\n",
    "\n",
    "tick_dict = get_ticker_dict(ticker, strike_price, option_type, expiry_date)\n",
    "print(f\"Historical Price: {historical_price['open']}\")\n",
    "print(tick_dict)\n",
    "daily = get_daily(client, tick_dict, date_of_daily)\n",
    "print(daily)"
   ]
  },
  {
   "cell_type": "code",
   "execution_count": 20,
   "metadata": {},
   "outputs": [
    {
     "name": "stdout",
     "output_type": "stream",
     "text": [
      "Historical Price: 408.1\n",
      "{'ticker': 'SPY', 'strike_price': 409, 'option_type': 'C', 'expiry_date': datetime.datetime(2022, 6, 8, 0, 0)}\n",
      "{'status': 'OK', 'from': '2022-06-07', 'symbol': 'O:SPY220608C00409000', 'open': 2.55, 'high': 7.33, 'low': 2.33, 'close': 6.64, 'volume': 23976, 'afterHours': 6.77, 'preMarket': 2.55}\n"
     ]
    }
   ],
   "source": [
    "date_of_daily = datetime(2022, 6, 7)\n",
    "\n",
    "ticker = \"SPY\"\n",
    "historical_price = stock_client.get_daily_open_close(ticker, date_of_daily)\n",
    "strike_price = int(historical_price['open']) + 1\n",
    "option_type = \"C\"\n",
    "expiry_date = date_of_daily + timedelta(days=1)\n",
    "\n",
    "tick_dict = get_ticker_dict(ticker, strike_price, option_type, expiry_date)\n",
    "print(f\"Historical Price: {historical_price['open']}\")\n",
    "print(tick_dict)\n",
    "daily = get_daily(client, tick_dict, date_of_daily)\n",
    "print(daily)"
   ]
  },
  {
   "cell_type": "code",
   "execution_count": 21,
   "metadata": {},
   "outputs": [
    {
     "name": "stdout",
     "output_type": "stream",
     "text": [
      "Historical Price: 438.26\n",
      "{'ticker': 'SPY', 'strike_price': 439, 'option_type': 'C', 'expiry_date': datetime.datetime(2022, 1, 28, 0, 0)}\n",
      "{'status': 'OK', 'from': '2022-01-27', 'symbol': 'O:SPY220128C00439000', 'open': 3.97, 'high': 5.91, 'low': 0.68, 'close': 0.93, 'volume': 60522, 'afterHours': 0.75, 'preMarket': 3.97}\n"
     ]
    }
   ],
   "source": [
    "date_of_daily = datetime(2022, 1, 27)\n",
    "\n",
    "ticker = \"SPY\"\n",
    "historical_price = stock_client.get_daily_open_close(ticker, date_of_daily)\n",
    "strike_price = int(historical_price['open']) + 1\n",
    "option_type = \"C\"\n",
    "expiry_date = date_of_daily + timedelta(days=1)\n",
    "\n",
    "tick_dict = get_ticker_dict(ticker, strike_price, option_type, expiry_date)\n",
    "print(f\"Historical Price: {historical_price['open']}\")\n",
    "print(tick_dict)\n",
    "daily = get_daily(client, tick_dict, date_of_daily)\n",
    "print(daily)"
   ]
  },
  {
   "cell_type": "code",
   "execution_count": 22,
   "metadata": {},
   "outputs": [
    {
     "name": "stdout",
     "output_type": "stream",
     "text": [
      "Historical Price: 471.59\n",
      "{'ticker': 'SPY', 'strike_price': 472, 'option_type': 'C', 'expiry_date': datetime.datetime(2022, 1, 13, 0, 0)}\n",
      "{'status': 'NOT_FOUND', 'request_id': '4ab88434ea0aabae0924eee94efcdb5e', 'message': 'Data not found.'}\n"
     ]
    }
   ],
   "source": [
    "date_of_daily = datetime(2022, 1, 12)\n",
    "\n",
    "ticker = \"SPY\"\n",
    "historical_price = stock_client.get_daily_open_close(ticker, date_of_daily)\n",
    "strike_price = int(historical_price['open']) + 1\n",
    "option_type = \"C\"\n",
    "expiry_date = date_of_daily + timedelta(days=1)\n",
    "\n",
    "tick_dict = get_ticker_dict(ticker, strike_price, option_type, expiry_date)\n",
    "print(f\"Historical Price: {historical_price['open']}\")\n",
    "print(tick_dict)\n",
    "daily = get_daily(client, tick_dict, date_of_daily)\n",
    "print(daily)\n",
    "\n"
   ]
  },
  {
   "cell_type": "code",
   "execution_count": 23,
   "metadata": {},
   "outputs": [],
   "source": [
    "def check_if_daily_exists(client, ticker: str, date_of_daily: datetime, option_type: str) -> bool:\n",
    "    historical_price = stock_client.get_daily_open_close(ticker, date_of_daily)\n",
    "    if historical_price['status'] == 'NOT_FOUND':\n",
    "        return False\n",
    "    strike_price = int(historical_price['open']) + 1\n",
    "    expiry_date = date_of_daily + timedelta(days=1)\n",
    "    \n",
    "    tick_dict = get_ticker_dict(ticker, strike_price, option_type, expiry_date)\n",
    "    daily = get_daily(client, tick_dict, date_of_daily)\n",
    "    return True if daily['status'] == 'OK' else False"
   ]
  },
  {
   "cell_type": "code",
   "execution_count": 24,
   "metadata": {},
   "outputs": [
    {
     "name": "stdout",
     "output_type": "stream",
     "text": [
      "2014-12-30 : True\n",
      "2014-12-19 : True\n",
      "2014-12-11 : True\n",
      "2014-12-04 : True\n",
      "2014-11-21 : True\n",
      "2014-11-13 : True\n",
      "2014-11-06 : True\n",
      "2014-10-30 : True\n",
      "2014-10-23 : True\n",
      "2014-10-17 : True\n",
      "2014-10-09 : True\n",
      "2014-10-02 : True\n",
      "2014-09-29 : True\n",
      "2014-09-25 : True\n",
      "2014-09-19 : True\n",
      "2014-09-11 : True\n",
      "2014-09-04 : True\n",
      "2014-08-28 : True\n",
      "2014-08-21 : True\n",
      "2014-08-15 : True\n",
      "2014-08-07 : True\n",
      "2014-07-31 : True\n",
      "2014-07-24 : True\n",
      "2014-07-18 : True\n",
      "2014-07-10 : True\n",
      "2014-07-02 : True\n",
      "2014-06-26 : True\n",
      "2014-06-20 : True\n",
      "2014-06-12 : True\n",
      "2014-06-05 : True\n"
     ]
    },
    {
     "ename": "KeyboardInterrupt",
     "evalue": "",
     "output_type": "error",
     "traceback": [
      "\u001b[0;31m---------------------------------------------------------------------------\u001b[0m",
      "\u001b[0;31mKeyboardInterrupt\u001b[0m                         Traceback (most recent call last)",
      "Cell \u001b[0;32mIn[24], line 6\u001b[0m\n\u001b[1;32m      4\u001b[0m date_list \u001b[38;5;241m=\u001b[39m []\n\u001b[1;32m      5\u001b[0m \u001b[38;5;28;01mwhile\u001b[39;00m \u001b[38;5;28;01mTrue\u001b[39;00m:\n\u001b[0;32m----> 6\u001b[0m     check \u001b[38;5;241m=\u001b[39m \u001b[43mcheck_if_daily_exists\u001b[49m\u001b[43m(\u001b[49m\u001b[43mclient\u001b[49m\u001b[43m,\u001b[49m\u001b[43m \u001b[49m\u001b[43mticker\u001b[49m\u001b[43m,\u001b[49m\u001b[43m \u001b[49m\u001b[43mcurr_datetime\u001b[49m\u001b[43m,\u001b[49m\u001b[43m \u001b[49m\u001b[43moption_type\u001b[49m\u001b[43m)\u001b[49m\n\u001b[1;32m      7\u001b[0m     \u001b[38;5;66;03m# print(f\"{curr_datetime.date()} : {check}\")\u001b[39;00m\n\u001b[1;32m      8\u001b[0m     \u001b[38;5;28;01mif\u001b[39;00m check \u001b[38;5;129;01mis\u001b[39;00m \u001b[38;5;28;01mTrue\u001b[39;00m:\n",
      "Cell \u001b[0;32mIn[23], line 2\u001b[0m, in \u001b[0;36mcheck_if_daily_exists\u001b[0;34m(client, ticker, date_of_daily, option_type)\u001b[0m\n\u001b[1;32m      1\u001b[0m \u001b[38;5;28;01mdef\u001b[39;00m \u001b[38;5;21mcheck_if_daily_exists\u001b[39m(client, ticker: \u001b[38;5;28mstr\u001b[39m, date_of_daily: datetime, option_type: \u001b[38;5;28mstr\u001b[39m) \u001b[38;5;241m-\u001b[39m\u001b[38;5;241m>\u001b[39m \u001b[38;5;28mbool\u001b[39m:\n\u001b[0;32m----> 2\u001b[0m     historical_price \u001b[38;5;241m=\u001b[39m \u001b[43mstock_client\u001b[49m\u001b[38;5;241;43m.\u001b[39;49m\u001b[43mget_daily_open_close\u001b[49m\u001b[43m(\u001b[49m\u001b[43mticker\u001b[49m\u001b[43m,\u001b[49m\u001b[43m \u001b[49m\u001b[43mdate_of_daily\u001b[49m\u001b[43m)\u001b[49m\n\u001b[1;32m      3\u001b[0m     \u001b[38;5;28;01mif\u001b[39;00m historical_price[\u001b[38;5;124m'\u001b[39m\u001b[38;5;124mstatus\u001b[39m\u001b[38;5;124m'\u001b[39m] \u001b[38;5;241m==\u001b[39m \u001b[38;5;124m'\u001b[39m\u001b[38;5;124mNOT_FOUND\u001b[39m\u001b[38;5;124m'\u001b[39m:\n\u001b[1;32m      4\u001b[0m         \u001b[38;5;28;01mreturn\u001b[39;00m \u001b[38;5;28;01mFalse\u001b[39;00m\n",
      "File \u001b[0;32m~/Desktop/Projects/.venv/lib/python3.10/site-packages/polygon/stocks/stocks.py:421\u001b[0m, in \u001b[0;36mSyncStocksClient.get_daily_open_close\u001b[0;34m(self, symbol, date, adjusted, raw_response)\u001b[0m\n\u001b[1;32m    417\u001b[0m _path \u001b[38;5;241m=\u001b[39m \u001b[38;5;124mf\u001b[39m\u001b[38;5;124m\"\u001b[39m\u001b[38;5;124m/v1/open-close/\u001b[39m\u001b[38;5;132;01m{\u001b[39;00msymbol\u001b[38;5;241m.\u001b[39mupper()\u001b[38;5;132;01m}\u001b[39;00m\u001b[38;5;124m/\u001b[39m\u001b[38;5;132;01m{\u001b[39;00mdate\u001b[38;5;132;01m}\u001b[39;00m\u001b[38;5;124m\"\u001b[39m\n\u001b[1;32m    419\u001b[0m _data \u001b[38;5;241m=\u001b[39m {\u001b[38;5;124m\"\u001b[39m\u001b[38;5;124madjusted\u001b[39m\u001b[38;5;124m\"\u001b[39m: \u001b[38;5;124m\"\u001b[39m\u001b[38;5;124mtrue\u001b[39m\u001b[38;5;124m\"\u001b[39m \u001b[38;5;28;01mif\u001b[39;00m adjusted \u001b[38;5;28;01melse\u001b[39;00m \u001b[38;5;124m\"\u001b[39m\u001b[38;5;124mfalse\u001b[39m\u001b[38;5;124m\"\u001b[39m}\n\u001b[0;32m--> 421\u001b[0m _res \u001b[38;5;241m=\u001b[39m \u001b[38;5;28;43mself\u001b[39;49m\u001b[38;5;241;43m.\u001b[39;49m\u001b[43m_get_response\u001b[49m\u001b[43m(\u001b[49m\u001b[43m_path\u001b[49m\u001b[43m,\u001b[49m\u001b[43m \u001b[49m\u001b[43mparams\u001b[49m\u001b[38;5;241;43m=\u001b[39;49m\u001b[43m_data\u001b[49m\u001b[43m)\u001b[49m\n\u001b[1;32m    423\u001b[0m \u001b[38;5;28;01mif\u001b[39;00m raw_response:\n\u001b[1;32m    424\u001b[0m     \u001b[38;5;28;01mreturn\u001b[39;00m _res\n",
      "File \u001b[0;32m~/Desktop/Projects/.venv/lib/python3.10/site-packages/polygon/base_client.py:283\u001b[0m, in \u001b[0;36mBaseClient._get_response\u001b[0;34m(self, path, params, raw_response)\u001b[0m\n\u001b[1;32m    273\u001b[0m \u001b[38;5;28;01mdef\u001b[39;00m \u001b[38;5;21m_get_response\u001b[39m(\u001b[38;5;28mself\u001b[39m, path: \u001b[38;5;28mstr\u001b[39m, params: \u001b[38;5;28mdict\u001b[39m \u001b[38;5;241m=\u001b[39m \u001b[38;5;28;01mNone\u001b[39;00m, raw_response: \u001b[38;5;28mbool\u001b[39m \u001b[38;5;241m=\u001b[39m \u001b[38;5;28;01mTrue\u001b[39;00m) \u001b[38;5;241m-\u001b[39m\u001b[38;5;241m>\u001b[39m Union[Response, \u001b[38;5;28mdict\u001b[39m]:\n\u001b[1;32m    274\u001b[0m \u001b[38;5;250m    \u001b[39m\u001b[38;5;124;03m\"\"\"\u001b[39;00m\n\u001b[1;32m    275\u001b[0m \u001b[38;5;124;03m    Get response on a path. Meant to be used internally but can be used if you know what you're doing\u001b[39;00m\n\u001b[1;32m    276\u001b[0m \n\u001b[0;32m   (...)\u001b[0m\n\u001b[1;32m    281\u001b[0m \u001b[38;5;124;03m    :return: A Response object by default. Make ``raw_response=False`` to get JSON decoded Dictionary\u001b[39;00m\n\u001b[1;32m    282\u001b[0m \u001b[38;5;124;03m    \"\"\"\u001b[39;00m\n\u001b[0;32m--> 283\u001b[0m     _res \u001b[38;5;241m=\u001b[39m \u001b[38;5;28;43mself\u001b[39;49m\u001b[38;5;241;43m.\u001b[39;49m\u001b[43msession\u001b[49m\u001b[38;5;241;43m.\u001b[39;49m\u001b[43mrequest\u001b[49m\u001b[43m(\u001b[49m\u001b[38;5;124;43m\"\u001b[39;49m\u001b[38;5;124;43mGET\u001b[39;49m\u001b[38;5;124;43m\"\u001b[39;49m\u001b[43m,\u001b[49m\u001b[43m \u001b[49m\u001b[38;5;28;43mself\u001b[39;49m\u001b[38;5;241;43m.\u001b[39;49m\u001b[43mBASE\u001b[49m\u001b[43m \u001b[49m\u001b[38;5;241;43m+\u001b[39;49m\u001b[43m \u001b[49m\u001b[43mpath\u001b[49m\u001b[43m,\u001b[49m\u001b[43m \u001b[49m\u001b[43mparams\u001b[49m\u001b[38;5;241;43m=\u001b[39;49m\u001b[43mparams\u001b[49m\u001b[43m,\u001b[49m\u001b[43m \u001b[49m\u001b[43mtimeout\u001b[49m\u001b[38;5;241;43m=\u001b[39;49m\u001b[38;5;28;43mself\u001b[39;49m\u001b[38;5;241;43m.\u001b[39;49m\u001b[43mtime_out_conf\u001b[49m\u001b[43m)\u001b[49m\n\u001b[1;32m    285\u001b[0m     \u001b[38;5;28;01mif\u001b[39;00m raw_response:\n\u001b[1;32m    286\u001b[0m         \u001b[38;5;28;01mreturn\u001b[39;00m _res\n",
      "File \u001b[0;32m~/Desktop/Projects/.venv/lib/python3.10/site-packages/requests/sessions.py:589\u001b[0m, in \u001b[0;36mSession.request\u001b[0;34m(self, method, url, params, data, headers, cookies, files, auth, timeout, allow_redirects, proxies, hooks, stream, verify, cert, json)\u001b[0m\n\u001b[1;32m    584\u001b[0m send_kwargs \u001b[38;5;241m=\u001b[39m {\n\u001b[1;32m    585\u001b[0m     \u001b[38;5;124m\"\u001b[39m\u001b[38;5;124mtimeout\u001b[39m\u001b[38;5;124m\"\u001b[39m: timeout,\n\u001b[1;32m    586\u001b[0m     \u001b[38;5;124m\"\u001b[39m\u001b[38;5;124mallow_redirects\u001b[39m\u001b[38;5;124m\"\u001b[39m: allow_redirects,\n\u001b[1;32m    587\u001b[0m }\n\u001b[1;32m    588\u001b[0m send_kwargs\u001b[38;5;241m.\u001b[39mupdate(settings)\n\u001b[0;32m--> 589\u001b[0m resp \u001b[38;5;241m=\u001b[39m \u001b[38;5;28;43mself\u001b[39;49m\u001b[38;5;241;43m.\u001b[39;49m\u001b[43msend\u001b[49m\u001b[43m(\u001b[49m\u001b[43mprep\u001b[49m\u001b[43m,\u001b[49m\u001b[43m \u001b[49m\u001b[38;5;241;43m*\u001b[39;49m\u001b[38;5;241;43m*\u001b[39;49m\u001b[43msend_kwargs\u001b[49m\u001b[43m)\u001b[49m\n\u001b[1;32m    591\u001b[0m \u001b[38;5;28;01mreturn\u001b[39;00m resp\n",
      "File \u001b[0;32m~/Desktop/Projects/.venv/lib/python3.10/site-packages/requests/sessions.py:703\u001b[0m, in \u001b[0;36mSession.send\u001b[0;34m(self, request, **kwargs)\u001b[0m\n\u001b[1;32m    700\u001b[0m start \u001b[38;5;241m=\u001b[39m preferred_clock()\n\u001b[1;32m    702\u001b[0m \u001b[38;5;66;03m# Send the request\u001b[39;00m\n\u001b[0;32m--> 703\u001b[0m r \u001b[38;5;241m=\u001b[39m \u001b[43madapter\u001b[49m\u001b[38;5;241;43m.\u001b[39;49m\u001b[43msend\u001b[49m\u001b[43m(\u001b[49m\u001b[43mrequest\u001b[49m\u001b[43m,\u001b[49m\u001b[43m \u001b[49m\u001b[38;5;241;43m*\u001b[39;49m\u001b[38;5;241;43m*\u001b[39;49m\u001b[43mkwargs\u001b[49m\u001b[43m)\u001b[49m\n\u001b[1;32m    705\u001b[0m \u001b[38;5;66;03m# Total elapsed time of the request (approximately)\u001b[39;00m\n\u001b[1;32m    706\u001b[0m elapsed \u001b[38;5;241m=\u001b[39m preferred_clock() \u001b[38;5;241m-\u001b[39m start\n",
      "File \u001b[0;32m~/Desktop/Projects/.venv/lib/python3.10/site-packages/requests/adapters.py:667\u001b[0m, in \u001b[0;36mHTTPAdapter.send\u001b[0;34m(self, request, stream, timeout, verify, cert, proxies)\u001b[0m\n\u001b[1;32m    664\u001b[0m     timeout \u001b[38;5;241m=\u001b[39m TimeoutSauce(connect\u001b[38;5;241m=\u001b[39mtimeout, read\u001b[38;5;241m=\u001b[39mtimeout)\n\u001b[1;32m    666\u001b[0m \u001b[38;5;28;01mtry\u001b[39;00m:\n\u001b[0;32m--> 667\u001b[0m     resp \u001b[38;5;241m=\u001b[39m \u001b[43mconn\u001b[49m\u001b[38;5;241;43m.\u001b[39;49m\u001b[43murlopen\u001b[49m\u001b[43m(\u001b[49m\n\u001b[1;32m    668\u001b[0m \u001b[43m        \u001b[49m\u001b[43mmethod\u001b[49m\u001b[38;5;241;43m=\u001b[39;49m\u001b[43mrequest\u001b[49m\u001b[38;5;241;43m.\u001b[39;49m\u001b[43mmethod\u001b[49m\u001b[43m,\u001b[49m\n\u001b[1;32m    669\u001b[0m \u001b[43m        \u001b[49m\u001b[43murl\u001b[49m\u001b[38;5;241;43m=\u001b[39;49m\u001b[43murl\u001b[49m\u001b[43m,\u001b[49m\n\u001b[1;32m    670\u001b[0m \u001b[43m        \u001b[49m\u001b[43mbody\u001b[49m\u001b[38;5;241;43m=\u001b[39;49m\u001b[43mrequest\u001b[49m\u001b[38;5;241;43m.\u001b[39;49m\u001b[43mbody\u001b[49m\u001b[43m,\u001b[49m\n\u001b[1;32m    671\u001b[0m \u001b[43m        \u001b[49m\u001b[43mheaders\u001b[49m\u001b[38;5;241;43m=\u001b[39;49m\u001b[43mrequest\u001b[49m\u001b[38;5;241;43m.\u001b[39;49m\u001b[43mheaders\u001b[49m\u001b[43m,\u001b[49m\n\u001b[1;32m    672\u001b[0m \u001b[43m        \u001b[49m\u001b[43mredirect\u001b[49m\u001b[38;5;241;43m=\u001b[39;49m\u001b[38;5;28;43;01mFalse\u001b[39;49;00m\u001b[43m,\u001b[49m\n\u001b[1;32m    673\u001b[0m \u001b[43m        \u001b[49m\u001b[43massert_same_host\u001b[49m\u001b[38;5;241;43m=\u001b[39;49m\u001b[38;5;28;43;01mFalse\u001b[39;49;00m\u001b[43m,\u001b[49m\n\u001b[1;32m    674\u001b[0m \u001b[43m        \u001b[49m\u001b[43mpreload_content\u001b[49m\u001b[38;5;241;43m=\u001b[39;49m\u001b[38;5;28;43;01mFalse\u001b[39;49;00m\u001b[43m,\u001b[49m\n\u001b[1;32m    675\u001b[0m \u001b[43m        \u001b[49m\u001b[43mdecode_content\u001b[49m\u001b[38;5;241;43m=\u001b[39;49m\u001b[38;5;28;43;01mFalse\u001b[39;49;00m\u001b[43m,\u001b[49m\n\u001b[1;32m    676\u001b[0m \u001b[43m        \u001b[49m\u001b[43mretries\u001b[49m\u001b[38;5;241;43m=\u001b[39;49m\u001b[38;5;28;43mself\u001b[39;49m\u001b[38;5;241;43m.\u001b[39;49m\u001b[43mmax_retries\u001b[49m\u001b[43m,\u001b[49m\n\u001b[1;32m    677\u001b[0m \u001b[43m        \u001b[49m\u001b[43mtimeout\u001b[49m\u001b[38;5;241;43m=\u001b[39;49m\u001b[43mtimeout\u001b[49m\u001b[43m,\u001b[49m\n\u001b[1;32m    678\u001b[0m \u001b[43m        \u001b[49m\u001b[43mchunked\u001b[49m\u001b[38;5;241;43m=\u001b[39;49m\u001b[43mchunked\u001b[49m\u001b[43m,\u001b[49m\n\u001b[1;32m    679\u001b[0m \u001b[43m    \u001b[49m\u001b[43m)\u001b[49m\n\u001b[1;32m    681\u001b[0m \u001b[38;5;28;01mexcept\u001b[39;00m (ProtocolError, \u001b[38;5;167;01mOSError\u001b[39;00m) \u001b[38;5;28;01mas\u001b[39;00m err:\n\u001b[1;32m    682\u001b[0m     \u001b[38;5;28;01mraise\u001b[39;00m \u001b[38;5;167;01mConnectionError\u001b[39;00m(err, request\u001b[38;5;241m=\u001b[39mrequest)\n",
      "File \u001b[0;32m~/Desktop/Projects/.venv/lib/python3.10/site-packages/urllib3/connectionpool.py:789\u001b[0m, in \u001b[0;36mHTTPConnectionPool.urlopen\u001b[0;34m(self, method, url, body, headers, retries, redirect, assert_same_host, timeout, pool_timeout, release_conn, chunked, body_pos, preload_content, decode_content, **response_kw)\u001b[0m\n\u001b[1;32m    786\u001b[0m response_conn \u001b[38;5;241m=\u001b[39m conn \u001b[38;5;28;01mif\u001b[39;00m \u001b[38;5;129;01mnot\u001b[39;00m release_conn \u001b[38;5;28;01melse\u001b[39;00m \u001b[38;5;28;01mNone\u001b[39;00m\n\u001b[1;32m    788\u001b[0m \u001b[38;5;66;03m# Make the request on the HTTPConnection object\u001b[39;00m\n\u001b[0;32m--> 789\u001b[0m response \u001b[38;5;241m=\u001b[39m \u001b[38;5;28;43mself\u001b[39;49m\u001b[38;5;241;43m.\u001b[39;49m\u001b[43m_make_request\u001b[49m\u001b[43m(\u001b[49m\n\u001b[1;32m    790\u001b[0m \u001b[43m    \u001b[49m\u001b[43mconn\u001b[49m\u001b[43m,\u001b[49m\n\u001b[1;32m    791\u001b[0m \u001b[43m    \u001b[49m\u001b[43mmethod\u001b[49m\u001b[43m,\u001b[49m\n\u001b[1;32m    792\u001b[0m \u001b[43m    \u001b[49m\u001b[43murl\u001b[49m\u001b[43m,\u001b[49m\n\u001b[1;32m    793\u001b[0m \u001b[43m    \u001b[49m\u001b[43mtimeout\u001b[49m\u001b[38;5;241;43m=\u001b[39;49m\u001b[43mtimeout_obj\u001b[49m\u001b[43m,\u001b[49m\n\u001b[1;32m    794\u001b[0m \u001b[43m    \u001b[49m\u001b[43mbody\u001b[49m\u001b[38;5;241;43m=\u001b[39;49m\u001b[43mbody\u001b[49m\u001b[43m,\u001b[49m\n\u001b[1;32m    795\u001b[0m \u001b[43m    \u001b[49m\u001b[43mheaders\u001b[49m\u001b[38;5;241;43m=\u001b[39;49m\u001b[43mheaders\u001b[49m\u001b[43m,\u001b[49m\n\u001b[1;32m    796\u001b[0m \u001b[43m    \u001b[49m\u001b[43mchunked\u001b[49m\u001b[38;5;241;43m=\u001b[39;49m\u001b[43mchunked\u001b[49m\u001b[43m,\u001b[49m\n\u001b[1;32m    797\u001b[0m \u001b[43m    \u001b[49m\u001b[43mretries\u001b[49m\u001b[38;5;241;43m=\u001b[39;49m\u001b[43mretries\u001b[49m\u001b[43m,\u001b[49m\n\u001b[1;32m    798\u001b[0m \u001b[43m    \u001b[49m\u001b[43mresponse_conn\u001b[49m\u001b[38;5;241;43m=\u001b[39;49m\u001b[43mresponse_conn\u001b[49m\u001b[43m,\u001b[49m\n\u001b[1;32m    799\u001b[0m \u001b[43m    \u001b[49m\u001b[43mpreload_content\u001b[49m\u001b[38;5;241;43m=\u001b[39;49m\u001b[43mpreload_content\u001b[49m\u001b[43m,\u001b[49m\n\u001b[1;32m    800\u001b[0m \u001b[43m    \u001b[49m\u001b[43mdecode_content\u001b[49m\u001b[38;5;241;43m=\u001b[39;49m\u001b[43mdecode_content\u001b[49m\u001b[43m,\u001b[49m\n\u001b[1;32m    801\u001b[0m \u001b[43m    \u001b[49m\u001b[38;5;241;43m*\u001b[39;49m\u001b[38;5;241;43m*\u001b[39;49m\u001b[43mresponse_kw\u001b[49m\u001b[43m,\u001b[49m\n\u001b[1;32m    802\u001b[0m \u001b[43m\u001b[49m\u001b[43m)\u001b[49m\n\u001b[1;32m    804\u001b[0m \u001b[38;5;66;03m# Everything went great!\u001b[39;00m\n\u001b[1;32m    805\u001b[0m clean_exit \u001b[38;5;241m=\u001b[39m \u001b[38;5;28;01mTrue\u001b[39;00m\n",
      "File \u001b[0;32m~/Desktop/Projects/.venv/lib/python3.10/site-packages/urllib3/connectionpool.py:536\u001b[0m, in \u001b[0;36mHTTPConnectionPool._make_request\u001b[0;34m(self, conn, method, url, body, headers, retries, timeout, chunked, response_conn, preload_content, decode_content, enforce_content_length)\u001b[0m\n\u001b[1;32m    534\u001b[0m \u001b[38;5;66;03m# Receive the response from the server\u001b[39;00m\n\u001b[1;32m    535\u001b[0m \u001b[38;5;28;01mtry\u001b[39;00m:\n\u001b[0;32m--> 536\u001b[0m     response \u001b[38;5;241m=\u001b[39m \u001b[43mconn\u001b[49m\u001b[38;5;241;43m.\u001b[39;49m\u001b[43mgetresponse\u001b[49m\u001b[43m(\u001b[49m\u001b[43m)\u001b[49m\n\u001b[1;32m    537\u001b[0m \u001b[38;5;28;01mexcept\u001b[39;00m (BaseSSLError, \u001b[38;5;167;01mOSError\u001b[39;00m) \u001b[38;5;28;01mas\u001b[39;00m e:\n\u001b[1;32m    538\u001b[0m     \u001b[38;5;28mself\u001b[39m\u001b[38;5;241m.\u001b[39m_raise_timeout(err\u001b[38;5;241m=\u001b[39me, url\u001b[38;5;241m=\u001b[39murl, timeout_value\u001b[38;5;241m=\u001b[39mread_timeout)\n",
      "File \u001b[0;32m~/Desktop/Projects/.venv/lib/python3.10/site-packages/urllib3/connection.py:464\u001b[0m, in \u001b[0;36mHTTPConnection.getresponse\u001b[0;34m(self)\u001b[0m\n\u001b[1;32m    461\u001b[0m \u001b[38;5;28;01mfrom\u001b[39;00m \u001b[38;5;21;01m.\u001b[39;00m\u001b[38;5;21;01mresponse\u001b[39;00m \u001b[38;5;28;01mimport\u001b[39;00m HTTPResponse\n\u001b[1;32m    463\u001b[0m \u001b[38;5;66;03m# Get the response from http.client.HTTPConnection\u001b[39;00m\n\u001b[0;32m--> 464\u001b[0m httplib_response \u001b[38;5;241m=\u001b[39m \u001b[38;5;28;43msuper\u001b[39;49m\u001b[43m(\u001b[49m\u001b[43m)\u001b[49m\u001b[38;5;241;43m.\u001b[39;49m\u001b[43mgetresponse\u001b[49m\u001b[43m(\u001b[49m\u001b[43m)\u001b[49m\n\u001b[1;32m    466\u001b[0m \u001b[38;5;28;01mtry\u001b[39;00m:\n\u001b[1;32m    467\u001b[0m     assert_header_parsing(httplib_response\u001b[38;5;241m.\u001b[39mmsg)\n",
      "File \u001b[0;32m~/.pyenv/versions/3.10.6/lib/python3.10/http/client.py:1374\u001b[0m, in \u001b[0;36mHTTPConnection.getresponse\u001b[0;34m(self)\u001b[0m\n\u001b[1;32m   1372\u001b[0m \u001b[38;5;28;01mtry\u001b[39;00m:\n\u001b[1;32m   1373\u001b[0m     \u001b[38;5;28;01mtry\u001b[39;00m:\n\u001b[0;32m-> 1374\u001b[0m         \u001b[43mresponse\u001b[49m\u001b[38;5;241;43m.\u001b[39;49m\u001b[43mbegin\u001b[49m\u001b[43m(\u001b[49m\u001b[43m)\u001b[49m\n\u001b[1;32m   1375\u001b[0m     \u001b[38;5;28;01mexcept\u001b[39;00m \u001b[38;5;167;01mConnectionError\u001b[39;00m:\n\u001b[1;32m   1376\u001b[0m         \u001b[38;5;28mself\u001b[39m\u001b[38;5;241m.\u001b[39mclose()\n",
      "File \u001b[0;32m~/.pyenv/versions/3.10.6/lib/python3.10/http/client.py:318\u001b[0m, in \u001b[0;36mHTTPResponse.begin\u001b[0;34m(self)\u001b[0m\n\u001b[1;32m    316\u001b[0m \u001b[38;5;66;03m# read until we get a non-100 response\u001b[39;00m\n\u001b[1;32m    317\u001b[0m \u001b[38;5;28;01mwhile\u001b[39;00m \u001b[38;5;28;01mTrue\u001b[39;00m:\n\u001b[0;32m--> 318\u001b[0m     version, status, reason \u001b[38;5;241m=\u001b[39m \u001b[38;5;28;43mself\u001b[39;49m\u001b[38;5;241;43m.\u001b[39;49m\u001b[43m_read_status\u001b[49m\u001b[43m(\u001b[49m\u001b[43m)\u001b[49m\n\u001b[1;32m    319\u001b[0m     \u001b[38;5;28;01mif\u001b[39;00m status \u001b[38;5;241m!=\u001b[39m CONTINUE:\n\u001b[1;32m    320\u001b[0m         \u001b[38;5;28;01mbreak\u001b[39;00m\n",
      "File \u001b[0;32m~/.pyenv/versions/3.10.6/lib/python3.10/http/client.py:279\u001b[0m, in \u001b[0;36mHTTPResponse._read_status\u001b[0;34m(self)\u001b[0m\n\u001b[1;32m    278\u001b[0m \u001b[38;5;28;01mdef\u001b[39;00m \u001b[38;5;21m_read_status\u001b[39m(\u001b[38;5;28mself\u001b[39m):\n\u001b[0;32m--> 279\u001b[0m     line \u001b[38;5;241m=\u001b[39m \u001b[38;5;28mstr\u001b[39m(\u001b[38;5;28;43mself\u001b[39;49m\u001b[38;5;241;43m.\u001b[39;49m\u001b[43mfp\u001b[49m\u001b[38;5;241;43m.\u001b[39;49m\u001b[43mreadline\u001b[49m\u001b[43m(\u001b[49m\u001b[43m_MAXLINE\u001b[49m\u001b[43m \u001b[49m\u001b[38;5;241;43m+\u001b[39;49m\u001b[43m \u001b[49m\u001b[38;5;241;43m1\u001b[39;49m\u001b[43m)\u001b[49m, \u001b[38;5;124m\"\u001b[39m\u001b[38;5;124miso-8859-1\u001b[39m\u001b[38;5;124m\"\u001b[39m)\n\u001b[1;32m    280\u001b[0m     \u001b[38;5;28;01mif\u001b[39;00m \u001b[38;5;28mlen\u001b[39m(line) \u001b[38;5;241m>\u001b[39m _MAXLINE:\n\u001b[1;32m    281\u001b[0m         \u001b[38;5;28;01mraise\u001b[39;00m LineTooLong(\u001b[38;5;124m\"\u001b[39m\u001b[38;5;124mstatus line\u001b[39m\u001b[38;5;124m\"\u001b[39m)\n",
      "File \u001b[0;32m~/.pyenv/versions/3.10.6/lib/python3.10/socket.py:705\u001b[0m, in \u001b[0;36mSocketIO.readinto\u001b[0;34m(self, b)\u001b[0m\n\u001b[1;32m    703\u001b[0m \u001b[38;5;28;01mwhile\u001b[39;00m \u001b[38;5;28;01mTrue\u001b[39;00m:\n\u001b[1;32m    704\u001b[0m     \u001b[38;5;28;01mtry\u001b[39;00m:\n\u001b[0;32m--> 705\u001b[0m         \u001b[38;5;28;01mreturn\u001b[39;00m \u001b[38;5;28;43mself\u001b[39;49m\u001b[38;5;241;43m.\u001b[39;49m\u001b[43m_sock\u001b[49m\u001b[38;5;241;43m.\u001b[39;49m\u001b[43mrecv_into\u001b[49m\u001b[43m(\u001b[49m\u001b[43mb\u001b[49m\u001b[43m)\u001b[49m\n\u001b[1;32m    706\u001b[0m     \u001b[38;5;28;01mexcept\u001b[39;00m timeout:\n\u001b[1;32m    707\u001b[0m         \u001b[38;5;28mself\u001b[39m\u001b[38;5;241m.\u001b[39m_timeout_occurred \u001b[38;5;241m=\u001b[39m \u001b[38;5;28;01mTrue\u001b[39;00m\n",
      "File \u001b[0;32m~/.pyenv/versions/3.10.6/lib/python3.10/ssl.py:1274\u001b[0m, in \u001b[0;36mSSLSocket.recv_into\u001b[0;34m(self, buffer, nbytes, flags)\u001b[0m\n\u001b[1;32m   1270\u001b[0m     \u001b[38;5;28;01mif\u001b[39;00m flags \u001b[38;5;241m!=\u001b[39m \u001b[38;5;241m0\u001b[39m:\n\u001b[1;32m   1271\u001b[0m         \u001b[38;5;28;01mraise\u001b[39;00m \u001b[38;5;167;01mValueError\u001b[39;00m(\n\u001b[1;32m   1272\u001b[0m           \u001b[38;5;124m\"\u001b[39m\u001b[38;5;124mnon-zero flags not allowed in calls to recv_into() on \u001b[39m\u001b[38;5;132;01m%s\u001b[39;00m\u001b[38;5;124m\"\u001b[39m \u001b[38;5;241m%\u001b[39m\n\u001b[1;32m   1273\u001b[0m           \u001b[38;5;28mself\u001b[39m\u001b[38;5;241m.\u001b[39m\u001b[38;5;18m__class__\u001b[39m)\n\u001b[0;32m-> 1274\u001b[0m     \u001b[38;5;28;01mreturn\u001b[39;00m \u001b[38;5;28;43mself\u001b[39;49m\u001b[38;5;241;43m.\u001b[39;49m\u001b[43mread\u001b[49m\u001b[43m(\u001b[49m\u001b[43mnbytes\u001b[49m\u001b[43m,\u001b[49m\u001b[43m \u001b[49m\u001b[43mbuffer\u001b[49m\u001b[43m)\u001b[49m\n\u001b[1;32m   1275\u001b[0m \u001b[38;5;28;01melse\u001b[39;00m:\n\u001b[1;32m   1276\u001b[0m     \u001b[38;5;28;01mreturn\u001b[39;00m \u001b[38;5;28msuper\u001b[39m()\u001b[38;5;241m.\u001b[39mrecv_into(buffer, nbytes, flags)\n",
      "File \u001b[0;32m~/.pyenv/versions/3.10.6/lib/python3.10/ssl.py:1130\u001b[0m, in \u001b[0;36mSSLSocket.read\u001b[0;34m(self, len, buffer)\u001b[0m\n\u001b[1;32m   1128\u001b[0m \u001b[38;5;28;01mtry\u001b[39;00m:\n\u001b[1;32m   1129\u001b[0m     \u001b[38;5;28;01mif\u001b[39;00m buffer \u001b[38;5;129;01mis\u001b[39;00m \u001b[38;5;129;01mnot\u001b[39;00m \u001b[38;5;28;01mNone\u001b[39;00m:\n\u001b[0;32m-> 1130\u001b[0m         \u001b[38;5;28;01mreturn\u001b[39;00m \u001b[38;5;28;43mself\u001b[39;49m\u001b[38;5;241;43m.\u001b[39;49m\u001b[43m_sslobj\u001b[49m\u001b[38;5;241;43m.\u001b[39;49m\u001b[43mread\u001b[49m\u001b[43m(\u001b[49m\u001b[38;5;28;43mlen\u001b[39;49m\u001b[43m,\u001b[49m\u001b[43m \u001b[49m\u001b[43mbuffer\u001b[49m\u001b[43m)\u001b[49m\n\u001b[1;32m   1131\u001b[0m     \u001b[38;5;28;01melse\u001b[39;00m:\n\u001b[1;32m   1132\u001b[0m         \u001b[38;5;28;01mreturn\u001b[39;00m \u001b[38;5;28mself\u001b[39m\u001b[38;5;241m.\u001b[39m_sslobj\u001b[38;5;241m.\u001b[39mread(\u001b[38;5;28mlen\u001b[39m)\n",
      "\u001b[0;31mKeyboardInterrupt\u001b[0m: "
     ]
    }
   ],
   "source": [
    "curr_datetime = datetime(2014, 12, 30)\n",
    "ticker = \"SPY\"\n",
    "option_type = \"C\"\n",
    "date_list = []\n",
    "while True:\n",
    "    check = check_if_daily_exists(client, ticker, curr_datetime, option_type)\n",
    "    # print(f\"{curr_datetime.date()} : {check}\")\n",
    "    if check is True:\n",
    "        date_list.append(curr_datetime.date())\n",
    "        print(f\"{curr_datetime.date()} : {check}\")\n",
    "    curr_datetime -= timedelta(days=1)"
   ]
  },
  {
   "cell_type": "code",
   "execution_count": null,
   "metadata": {},
   "outputs": [],
   "source": [
    "import calendar\n",
    "\n",
    "for noDate in date_list:\n",
    "    print(f\"{noDate} : {calendar.day_name[noDate.weekday()]}\")"
   ]
  },
  {
   "cell_type": "code",
   "execution_count": null,
   "metadata": {},
   "outputs": [],
   "source": [
    "print(datetime.now() - datetime(2022, 11, 14))"
   ]
  },
  {
   "cell_type": "code",
   "execution_count": null,
   "metadata": {},
   "outputs": [],
   "source": []
  },
  {
   "cell_type": "code",
   "execution_count": null,
   "metadata": {},
   "outputs": [],
   "source": []
  }
 ],
 "metadata": {
  "kernelspec": {
   "display_name": "option_analysis",
   "language": "python",
   "name": "python3"
  },
  "language_info": {
   "codemirror_mode": {
    "name": "ipython",
    "version": 3
   },
   "file_extension": ".py",
   "mimetype": "text/x-python",
   "name": "python",
   "nbconvert_exporter": "python",
   "pygments_lexer": "ipython3",
   "version": "3.10.6"
  }
 },
 "nbformat": 4,
 "nbformat_minor": 2
}

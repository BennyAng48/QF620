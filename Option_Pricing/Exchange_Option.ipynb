{
 "cells": [
  {
   "cell_type": "code",
   "execution_count": 1,
   "metadata": {},
   "outputs": [],
   "source": [
    "#https://web.ma.utexas.edu/users/mcudina/m339d-lecture-13-exchange-options.pdf"
   ]
  },
  {
   "cell_type": "code",
   "execution_count": 2,
   "metadata": {},
   "outputs": [],
   "source": [
    "import numpy as np\n",
    "from scipy.stats import norm"
   ]
  },
  {
   "cell_type": "code",
   "execution_count": 3,
   "metadata": {},
   "outputs": [],
   "source": [
    "class Exchange:\n",
    "\n",
    "    '''\n",
    "    S: current stock price\n",
    "    X: strike price of the underlying option (amount paid to purchase the stock)\n",
    "    r: risk-free rate\n",
    "    sigma_S: volatility of the underlying asset\n",
    "    sigma_Q: volatility of the exchange asset\n",
    "    p: correlation between both assets\n",
    "    T: expiry of the underlying option\n",
    "    d: continuous dividend rate on the stock\n",
    "    '''\n",
    "\n",
    "    def __init__(self, S, Q, sigma_S, sigma_Q, p, T, d_S = 0, d_Q = 0):\n",
    "        self.S = S\n",
    "        self.Q = Q\n",
    "        self.sigma_S = sigma_S\n",
    "        self.sigma_Q = sigma_Q\n",
    "        self.p = p\n",
    "        self.T = T\n",
    "        self.d_S = d_S\n",
    "        self.d_Q = d_Q\n",
    "\n",
    "    def BlackScholes(self, option):\n",
    "        sigma = np.sqrt(self.sigma_S**2 + self.sigma_Q**2 - 2*self.p*self.sigma_S*self.sigma_Q)\n",
    "        d1 = (np.log(self.S*np.exp(-self.d_S*self.T)/(self.Q*np.exp(-self.d_Q*self.T))) + 0.5*sigma**2 * self.T) \\\n",
    "             / (sigma * self.T)\n",
    "        d2 = d1 - sigma*self.T\n",
    "        if option.lower() == \"call\":\n",
    "            return self.S*np.exp(-self.d_S*self.T)*norm.cdf(d1) - self.Q*np.exp(-self.d_Q*self.T)*norm.cdf(d2)\n",
    "        elif option.lower() == \"put\":\n",
    "            return self.Q*np.exp(-self.d_Q*self.T)*norm.cdf(-d2) - self.S*np.exp(-self.d_S*self.T)*norm.cdf(-d1)"
   ]
  },
  {
   "cell_type": "code",
   "execution_count": null,
   "metadata": {},
   "outputs": [],
   "source": []
  },
  {
   "cell_type": "code",
   "execution_count": null,
   "metadata": {},
   "outputs": [],
   "source": []
  },
  {
   "cell_type": "code",
   "execution_count": null,
   "metadata": {},
   "outputs": [],
   "source": []
  }
 ],
 "metadata": {
  "kernelspec": {
   "display_name": ".venv",
   "language": "python",
   "name": "python3"
  },
  "language_info": {
   "codemirror_mode": {
    "name": "ipython",
    "version": 3
   },
   "file_extension": ".py",
   "mimetype": "text/x-python",
   "name": "python",
   "nbconvert_exporter": "python",
   "pygments_lexer": "ipython3",
   "version": "3.10.6"
  }
 },
 "nbformat": 4,
 "nbformat_minor": 2
}

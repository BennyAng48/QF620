{
 "cells": [
  {
   "cell_type": "code",
   "execution_count": 4,
   "metadata": {},
   "outputs": [],
   "source": [
    "import math\n",
    "import numpy as np\n",
    "import matplotlib.pyplot as plt\n",
    "import pandas as pd\n",
    "from scipy.stats import norm"
   ]
  },
  {
   "cell_type": "markdown",
   "metadata": {},
   "source": [
    "# First Version"
   ]
  },
  {
   "cell_type": "markdown",
   "metadata": {},
   "source": [
    "Option parameters"
   ]
  },
  {
   "cell_type": "code",
   "execution_count": 2,
   "metadata": {},
   "outputs": [],
   "source": [
    "S = 100 # underlying price \n",
    "K = 100 # strike price\n",
    "r = 0.05 # risk-free rate \n",
    "q = 0.02 # dividend yield \n",
    "T = 0.5 # time to maturity \n",
    "sigma = 0.2 # volatility"
   ]
  },
  {
   "cell_type": "markdown",
   "metadata": {},
   "source": [
    "Black-Scholes-Merton formula for vanilla call option price"
   ]
  },
  {
   "cell_type": "code",
   "execution_count": 4,
   "metadata": {},
   "outputs": [],
   "source": [
    "d1 = (math.log(S/K) + (r - q + sigma**2/2)*T) / (sigma*math.sqrt(T)) \n",
    "d2 = d1 - sigma*math.sqrt(T)\n",
    "N_d1 = 0.5 + 0.5*math.erf(d1/math.sqrt(2))\n",
    "N_d2 = 0.5 + 0.5*math.erf(d2/math.sqrt(2))\n",
    "C = S*math.exp(-q*T)*N_d1 - K*math.exp(-r*T)*N_d2"
   ]
  },
  {
   "cell_type": "markdown",
   "metadata": {},
   "source": [
    "Option Greeks"
   ]
  },
  {
   "cell_type": "code",
   "execution_count": 5,
   "metadata": {},
   "outputs": [],
   "source": [
    "delta = math.exp(-q*T) * N_d1\n",
    "gamma = math.exp(-q*T) * math.exp(-d1**2/2) / (S*sigma*math.sqrt(2*math.pi*T))\n",
    "speed = -gamma*d1/(S*sigma*math.sqrt(T))\n",
    "vega = S*math.exp(-q*T)*math.exp(-d1**2/2)*math.sqrt(T)/(100*100)\n",
    "vomma = vega*d1*d2/sigma\n",
    "charm = -math.exp(-q*T) * (N_d1*d2*math.exp(-d1**2/2))/(2*T*sigma*math.sqrt(T))\n",
    "vanna = -math.exp(-q*T) * N_d1 * d2 / sigma\n",
    "color = -math.exp(-q*T) * math.exp(-d1**2/2) * (d2/(sigma*math.sqrt(T))) * (1-d1*d2/(sigma*math.sqrt(T)))"
   ]
  },
  {
   "cell_type": "markdown",
   "metadata": {},
   "source": [
    "Visualize Option Greeks"
   ]
  },
  {
   "cell_type": "code",
   "execution_count": 6,
   "metadata": {},
   "outputs": [],
   "source": [
    "greeks = [delta, gamma, speed, vega, vomma, charm, vanna, color]\n",
    "greeks_labels = ['Delta', 'Gamma', 'Speed', 'Vega', 'Vomma', 'Charm', 'Vanna', 'Color']"
   ]
  },
  {
   "cell_type": "code",
   "execution_count": 7,
   "metadata": {},
   "outputs": [
    {
     "data": {
      "image/png": "[encoded data removed]",
      "text/plain": [
       "<Figure size 800x600 with 1 Axes>"
      ]
     },
     "metadata": {},
     "output_type": "display_data"
    }
   ],
   "source": [
    "fig, ax = plt.subplots(figsize=(8, 6)) \n",
    "ax.bar(greeks_labels, greeks) \n",
    "ax.set_title('Option Greeks for Call Option') \n",
    "ax.set_ylabel('Value')\n",
    "ax.axhline(y=0, color='black', linestyle='--', linewidth=0.5) \n",
    "plt.show()"
   ]
  },
  {
   "cell_type": "markdown",
   "metadata": {},
   "source": [
    "# Second Version"
   ]
  },
  {
   "cell_type": "markdown",
   "metadata": {},
   "source": [
    "https://quant-next.com/option-greeks-and-pl-decomposition-part-1/"
   ]
  },
  {
   "cell_type": "code",
   "execution_count": 11,
   "metadata": {},
   "outputs": [],
   "source": [
    "#Black-Scholes price and Greeks\n",
    "class EuropeanOptionBS:\n",
    "\n",
    "    def __init__(self, S, K, T, r, q, sigma, Type):\n",
    "        self.S = S\n",
    "        self.K = K\n",
    "        self.T = T\n",
    "        self.r = r\n",
    "        self.q = q        \n",
    "        self.sigma = sigma\n",
    "        self.Type = Type\n",
    "        self.d1 = self.d1()\n",
    "        self.d2 = self.d2()\n",
    "        self.price = self.price()\n",
    "        self.delta = self.delta()\n",
    "        self.theta = self.theta()\n",
    "        self.vega = self.vega()\n",
    "        self.gamma = self.gamma()\n",
    "        self.volga = self.volga()\n",
    "        self.vanna = self.vanna()        \n",
    "        \n",
    "    def d1(self):\n",
    "        d1 = (math.log(self.S / self.K) \\\n",
    "                   + (self.r - self.q + .5 * (self.sigma ** 2)) * self.T) \\\n",
    "                    / (self.sigma * self.T ** .5)       \n",
    "        return d1\n",
    "\n",
    "    def d2(self):\n",
    "        d2 = self.d1 - self.sigma * self.T ** .5     \n",
    "        return d2\n",
    "    \n",
    "    def price(self):\n",
    "        if self.Type == \"Call\":\n",
    "            price = self.S * math.exp(-self.q * self.T) * norm.cdf(self.d1) \\\n",
    "            - self.K * math.exp(-self.r * self.T) * norm.cdf(self.d2)\n",
    "        if self.Type == \"Put\":\n",
    "            price = self.K * math.exp(-self.r * self.T) * norm.cdf(-self.d2) \\\n",
    "            - self.S * math.exp(-self.q * self.T) * norm.cdf(-self.d1)            \n",
    "        return price\n",
    "    \n",
    "    def delta(self):\n",
    "        if self.Type == \"Call\":\n",
    "            delta = math.exp(-self.q * self.T) * norm.cdf(self.d1)\n",
    "        if self.Type == \"Put\":\n",
    "            delta = -math.exp(-self.q * self.T) * norm.cdf(-self.d1)\n",
    "        return delta\n",
    "    \n",
    "    def theta(self):\n",
    "        if self.Type == \"Call\":\n",
    "            theta1 = -math.exp(-self.q * self.T) * \\\n",
    "            (self.S * norm.pdf(self.d1) * self.sigma) / (2 * self.T ** .5)\n",
    "            theta2 = self.q * self.S * math.exp(-self.q * self.T) * norm.cdf(self.d1)\n",
    "            theta3 = -self.r * self.K * math.exp(-self.r * self.T) * norm.cdf(self.d2)\n",
    "            theta = theta1 + theta2 + theta3\n",
    "        if self.Type == \"Put\":\n",
    "            theta1 = -math.exp(-self.q * self.T) * \\\n",
    "            (self.S * norm.pdf(self.d1) * self.sigma) / (2 * self.T ** .5)\n",
    "            theta2 = -self.q * self.S * math.exp(-self.q * self.T) * norm.cdf(-self.d1)\n",
    "            theta3 = self.r * self.K * math.exp(-self.r * self.T) * norm.cdf(-self.d2)\n",
    "            theta =  theta1 + theta2 + theta3\n",
    "        return theta\n",
    "    \n",
    "    def vega(self):\n",
    "        vega = self.S * math.exp(-self.q * self.T) * self.T** .5 * norm.pdf(self.d1)\n",
    "        return vega\n",
    "    \n",
    "    def gamma(self):\n",
    "        gamma = math.exp(-self.q * self.T) * norm.pdf(self.d1) / (self.S * self.sigma * self.T** .5)\n",
    "        return gamma\n",
    "    \n",
    "    def volga(self):\n",
    "        volga = self.vega / self.sigma * self.d1 * self.d2\n",
    "        return volga\n",
    "    \n",
    "    def vanna(self):\n",
    "        vanna = -self.vega / (self.S * self.sigma * self.T** .5) * self.d2\n",
    "        return vanna"
   ]
  },
  {
   "cell_type": "code",
   "execution_count": 12,
   "metadata": {},
   "outputs": [],
   "source": [
    "#parameters\n",
    "S0 = 100 # stock price\n",
    "K = 95 # strike price\n",
    "r = .0 # risk-free interest rate\n",
    "q = .0 # dividend\n",
    "T0 = .25 # time to maturity\n",
    "sigma0 = .4 # implied volatility BS\n",
    "Type = \"Put\"\n",
    "dt = 1 / 252 # 1 business day"
   ]
  },
  {
   "cell_type": "code",
   "execution_count": 13,
   "metadata": {},
   "outputs": [],
   "source": [
    "# Market changes between t and t + dt\n",
    "dS = -S0 * sigma0 * dt**.5 # dS^2 / S^2 = sigma0^2 * dt\n",
    "dsigma = .0\n",
    "T1 = T0 - dt\n",
    "S1 = S0 + dS\n",
    "sigma1 = sigma0 + dsigma"
   ]
  },
  {
   "cell_type": "code",
   "execution_count": 14,
   "metadata": {},
   "outputs": [
    {
     "name": "stdout",
     "output_type": "stream",
     "text": [
      "P&L: 0.00039375586755807657\n"
     ]
    }
   ],
   "source": [
    "P0 = EuropeanOptionBS(S0, K, T0, r, q, sigma0, Type).price\n",
    "P1 = EuropeanOptionBS(S1, K, T1, r, q, sigma1, Type).price\n",
    "delta0 = EuropeanOptionBS(S0, K, T0, r, q, sigma0, Type).delta\n",
    "isDeltaHedged = 1 #1 if is delta-hedged, 0 otherwise\n",
    "dPandL = P1 - P0 - delta0 * dS * isDeltaHedged\n",
    "print(\"P&L: \" + str(dPandL))"
   ]
  },
  {
   "cell_type": "code",
   "execution_count": 15,
   "metadata": {},
   "outputs": [],
   "source": [
    "#initial greeks\n",
    "theta0 = EuropeanOptionBS(S0, K, T0, r, q, sigma0, Type).theta\n",
    "vega0 = EuropeanOptionBS(S0, K, T0, r, q, sigma0, Type).vega\n",
    "gamma0 = EuropeanOptionBS(S0, K, T0, r, q, sigma0, Type).gamma\n",
    "volga0 = EuropeanOptionBS(S0, K, T0, r, q, sigma0, Type).volga\n",
    "vanna0 = EuropeanOptionBS(S0, K, T0, r, q, sigma0, Type).vanna"
   ]
  },
  {
   "cell_type": "code",
   "execution_count": 16,
   "metadata": {},
   "outputs": [],
   "source": [
    "#P&L attribution\n",
    "delta_PandL = delta0 * dS * (1 - isDeltaHedged)\n",
    "theta_PandL = theta0 * dt\n",
    "vega_PandL = vega0 * dsigma\n",
    "gamma_PandL = 1 / 2 * gamma0 * dS**2\n",
    "volga_PandL = 1 / 2 * volga0 * dsigma**2\n",
    "vanna_PandL = vanna0 * dS * dsigma\n",
    "unexplained = dPandL - sum([delta_PandL, theta_PandL, vega_PandL, gamma_PandL, volga_PandL, vanna_PandL])"
   ]
  },
  {
   "cell_type": "code",
   "execution_count": 17,
   "metadata": {},
   "outputs": [],
   "source": [
    "y = [delta_PandL, theta_PandL, vega_PandL, gamma_PandL, volga_PandL, vanna_PandL, unexplained]\n",
    "x = [\"delta\", \"theta\", \"vega\", \"gamma\", \"volga\", \"vanna\",\"unexplained\"]\n"
   ]
  },
  {
   "cell_type": "code",
   "execution_count": 18,
   "metadata": {},
   "outputs": [
    {
     "data": {
      "image/png": "[encoded data removed]",
      "text/plain": [
       "<Figure size 1500x500 with 1 Axes>"
      ]
     },
     "metadata": {},
     "output_type": "display_data"
    }
   ],
   "source": [
    "fig = plt.figure(figsize=(15, 5))\n",
    "plt.bar(x, y)\n",
    "plt.title(\"P&L Decomposition\")\n",
    "plt.show();"
   ]
  },
  {
   "cell_type": "code",
   "execution_count": null,
   "metadata": {},
   "outputs": [],
   "source": []
  }
 ],
 "metadata": {
  "kernelspec": {
   "display_name": ".venv",
   "language": "python",
   "name": "python3"
  },
  "language_info": {
   "codemirror_mode": {
    "name": "ipython",
    "version": 3
   },
   "file_extension": ".py",
   "mimetype": "text/x-python",
   "name": "python",
   "nbconvert_exporter": "python",
   "pygments_lexer": "ipython3",
   "version": "3.10.6"
  }
 },
 "nbformat": 4,
 "nbformat_minor": 2
}

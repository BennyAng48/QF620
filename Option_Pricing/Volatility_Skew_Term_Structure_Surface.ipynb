{
 "cells": [
  {
   "cell_type": "markdown",
   "metadata": {},
   "source": [
    "https://www.pyquantnews.com/the-pyquant-newsletter/build-an-implied-volatility-surface-with-python"
   ]
  },
  {
   "cell_type": "markdown",
   "metadata": {},
   "source": [
    "https://www.investopedia.com/articles/stock-analysis/081916/volatility-surface-explained.asp\n",
    "\n",
    "Put and call options usually have different volatility surfaces."
   ]
  },
  {
   "cell_type": "code",
   "execution_count": 1,
   "metadata": {},
   "outputs": [],
   "source": [
    "import numpy as np\n",
    "import pandas as pd\n",
    "import yfinance as yf\n",
    "import datetime as dt\n",
    "import matplotlib.pyplot as plt\n",
    "import plotly.express as px\n",
    "import plotly.graph_objects as go\n",
    "import warnings \n",
    "\n"
   ]
  },
  {
   "cell_type": "code",
   "execution_count": 2,
   "metadata": {},
   "outputs": [],
   "source": [
    "# Settings the warnings to be ignored \n",
    "warnings.filterwarnings('ignore') \n",
    "\n",
    "%matplotlib ipympl"
   ]
  },
  {
   "cell_type": "code",
   "execution_count": 3,
   "metadata": {},
   "outputs": [],
   "source": [
    "#Parameters\n",
    "\n",
    "Stock=\"AAPL\"\n",
    "Lookback_period=5                   #Only consider options traded in the past x days\n",
    "Minimum_impliedVolatility=0.005     #Only consider options above this implied volatility"
   ]
  },
  {
   "cell_type": "markdown",
   "metadata": {},
   "source": [
    "Get a list of available expiration dates for options contracts using Ticker.options.\n",
    "\n",
    "Initialize an empty DataFrame called option_data to store all the option chain data. Loop through each expiration date:\n",
    "\n",
    "Fetch the option chain data for the current expiration date using Ticker.option_chain(expiration). Separate the call and put options data.\n",
    "https://www.investopedia.com/terms/o/optionchain.asp\n",
    "\n",
    "Add an \"Option Type\" column to identify whether it's a call or put option.\n",
    "\n",
    "Calculate the actual expiration date by adding 23 hours, 59 minutes, and 59 seconds to the expiration date (to account for market closing times).\n",
    "\n",
    "Concatenate the options data for this expiration date with the option_data DataFrame. Calculate the \"Days to Expiration\" by finding the difference between the expiration date and the current date and time. This information is added as a new column to the option_data DataFrame.\n",
    "\n",
    "Return the option_data DataFrame containing all the fetched options data.\n"
   ]
  },
  {
   "cell_type": "code",
   "execution_count": 4,
   "metadata": {},
   "outputs": [],
   "source": [
    "def fetch_option_data(ticker): \n",
    "    \"\"\"\n",
    "    Fetch option chain data for a given stock ticker. \n",
    "    \"\"\"\n",
    "    Ticker = yf.Ticker(ticker)\n",
    "    expirations = Ticker.options\n",
    "    \n",
    "    option_data = pd.DataFrame() \n",
    "    \n",
    "    for expiration in expirations:\n",
    "        \n",
    "        option_chain = Ticker.option_chain(expiration) \n",
    "        \n",
    "        calls = option_chain.calls\n",
    "        calls['Option Type'] = \"Call\" \n",
    "        \n",
    "        puts = option_chain.puts\n",
    "        puts['Option Type'] = \"Put\" \n",
    "        \n",
    "        options = pd.concat([calls, puts])\n",
    "        options['Expiration Date'] = pd.to_datetime(expiration) + pd.DateOffset(hours=23, minutes=59, seconds=59)\n",
    "        \n",
    "        option_data = pd.concat([option_data, options])\n",
    "    option_data[\"Days to Expiration\"] = (option_data['Expiration Date'] - dt.datetime.today()).dt.days + 1 \n",
    "    \n",
    "    return option_data"
   ]
  },
  {
   "cell_type": "markdown",
   "metadata": {},
   "source": [
    "QQQ: Nasdaq\n",
    "\n",
    "SPY: SP500"
   ]
  },
  {
   "cell_type": "code",
   "execution_count": 5,
   "metadata": {},
   "outputs": [],
   "source": [
    "# Fetch option data for stock specified in parameters above\n",
    "options_data = fetch_option_data(Stock)"
   ]
  },
  {
   "cell_type": "code",
   "execution_count": 6,
   "metadata": {},
   "outputs": [
    {
     "data": {
      "text/html": [
       "<div>\n",
       "<style scoped>\n",
       "    .dataframe tbody tr th:only-of-type {\n",
       "        vertical-align: middle;\n",
       "    }\n",
       "\n",
       "    .dataframe tbody tr th {\n",
       "        vertical-align: top;\n",
       "    }\n",
       "\n",
       "    .dataframe thead th {\n",
       "        text-align: right;\n",
       "    }\n",
       "</style>\n",
       "<table border=\"1\" class=\"dataframe\">\n",
       "  <thead>\n",
       "    <tr style=\"text-align: right;\">\n",
       "      <th></th>\n",
       "      <th>contractSymbol</th>\n",
       "      <th>lastTradeDate</th>\n",
       "      <th>strike</th>\n",
       "      <th>lastPrice</th>\n",
       "      <th>bid</th>\n",
       "      <th>ask</th>\n",
       "      <th>change</th>\n",
       "      <th>percentChange</th>\n",
       "      <th>volume</th>\n",
       "      <th>openInterest</th>\n",
       "      <th>impliedVolatility</th>\n",
       "      <th>inTheMoney</th>\n",
       "      <th>contractSize</th>\n",
       "      <th>currency</th>\n",
       "      <th>Option Type</th>\n",
       "      <th>Expiration Date</th>\n",
       "      <th>Days to Expiration</th>\n",
       "    </tr>\n",
       "  </thead>\n",
       "  <tbody>\n",
       "    <tr>\n",
       "      <th>0</th>\n",
       "      <td>AAPL240823C00100000</td>\n",
       "      <td>2024-08-08 18:03:44+00:00</td>\n",
       "      <td>100.0</td>\n",
       "      <td>113.75</td>\n",
       "      <td>125.20</td>\n",
       "      <td>127.15</td>\n",
       "      <td>0.0</td>\n",
       "      <td>0.0</td>\n",
       "      <td>1.0</td>\n",
       "      <td>2</td>\n",
       "      <td>2.621097</td>\n",
       "      <td>True</td>\n",
       "      <td>REGULAR</td>\n",
       "      <td>USD</td>\n",
       "      <td>Call</td>\n",
       "      <td>2024-08-23 23:59:59</td>\n",
       "      <td>6</td>\n",
       "    </tr>\n",
       "    <tr>\n",
       "      <th>1</th>\n",
       "      <td>AAPL240823C00105000</td>\n",
       "      <td>2024-07-31 17:32:00+00:00</td>\n",
       "      <td>105.0</td>\n",
       "      <td>117.09</td>\n",
       "      <td>120.15</td>\n",
       "      <td>122.25</td>\n",
       "      <td>0.0</td>\n",
       "      <td>0.0</td>\n",
       "      <td>1.0</td>\n",
       "      <td>1</td>\n",
       "      <td>2.531254</td>\n",
       "      <td>True</td>\n",
       "      <td>REGULAR</td>\n",
       "      <td>USD</td>\n",
       "      <td>Call</td>\n",
       "      <td>2024-08-23 23:59:59</td>\n",
       "      <td>6</td>\n",
       "    </tr>\n",
       "    <tr>\n",
       "      <th>2</th>\n",
       "      <td>AAPL240823C00110000</td>\n",
       "      <td>2024-08-01 15:40:38+00:00</td>\n",
       "      <td>110.0</td>\n",
       "      <td>110.15</td>\n",
       "      <td>115.20</td>\n",
       "      <td>117.15</td>\n",
       "      <td>0.0</td>\n",
       "      <td>0.0</td>\n",
       "      <td>NaN</td>\n",
       "      <td>1</td>\n",
       "      <td>2.335942</td>\n",
       "      <td>True</td>\n",
       "      <td>REGULAR</td>\n",
       "      <td>USD</td>\n",
       "      <td>Call</td>\n",
       "      <td>2024-08-23 23:59:59</td>\n",
       "      <td>6</td>\n",
       "    </tr>\n",
       "    <tr>\n",
       "      <th>3</th>\n",
       "      <td>AAPL240823C00115000</td>\n",
       "      <td>2024-08-09 14:06:21+00:00</td>\n",
       "      <td>115.0</td>\n",
       "      <td>98.47</td>\n",
       "      <td>110.15</td>\n",
       "      <td>112.05</td>\n",
       "      <td>0.0</td>\n",
       "      <td>0.0</td>\n",
       "      <td>NaN</td>\n",
       "      <td>6</td>\n",
       "      <td>1.984375</td>\n",
       "      <td>True</td>\n",
       "      <td>REGULAR</td>\n",
       "      <td>USD</td>\n",
       "      <td>Call</td>\n",
       "      <td>2024-08-23 23:59:59</td>\n",
       "      <td>6</td>\n",
       "    </tr>\n",
       "    <tr>\n",
       "      <th>4</th>\n",
       "      <td>AAPL240823C00120000</td>\n",
       "      <td>2024-07-16 16:17:00+00:00</td>\n",
       "      <td>120.0</td>\n",
       "      <td>113.70</td>\n",
       "      <td>103.80</td>\n",
       "      <td>106.20</td>\n",
       "      <td>0.0</td>\n",
       "      <td>0.0</td>\n",
       "      <td>30.0</td>\n",
       "      <td>30</td>\n",
       "      <td>2.121098</td>\n",
       "      <td>True</td>\n",
       "      <td>REGULAR</td>\n",
       "      <td>USD</td>\n",
       "      <td>Call</td>\n",
       "      <td>2024-08-23 23:59:59</td>\n",
       "      <td>6</td>\n",
       "    </tr>\n",
       "    <tr>\n",
       "      <th>...</th>\n",
       "      <td>...</td>\n",
       "      <td>...</td>\n",
       "      <td>...</td>\n",
       "      <td>...</td>\n",
       "      <td>...</td>\n",
       "      <td>...</td>\n",
       "      <td>...</td>\n",
       "      <td>...</td>\n",
       "      <td>...</td>\n",
       "      <td>...</td>\n",
       "      <td>...</td>\n",
       "      <td>...</td>\n",
       "      <td>...</td>\n",
       "      <td>...</td>\n",
       "      <td>...</td>\n",
       "      <td>...</td>\n",
       "      <td>...</td>\n",
       "    </tr>\n",
       "    <tr>\n",
       "      <th>44</th>\n",
       "      <td>AAPL261218P00310000</td>\n",
       "      <td>2024-07-12 15:19:38+00:00</td>\n",
       "      <td>310.0</td>\n",
       "      <td>79.29</td>\n",
       "      <td>92.00</td>\n",
       "      <td>95.95</td>\n",
       "      <td>0.0</td>\n",
       "      <td>0.0</td>\n",
       "      <td>10.0</td>\n",
       "      <td>0</td>\n",
       "      <td>0.255119</td>\n",
       "      <td>True</td>\n",
       "      <td>REGULAR</td>\n",
       "      <td>USD</td>\n",
       "      <td>Put</td>\n",
       "      <td>2026-12-18 23:59:59</td>\n",
       "      <td>853</td>\n",
       "    </tr>\n",
       "    <tr>\n",
       "      <th>45</th>\n",
       "      <td>AAPL261218P00320000</td>\n",
       "      <td>2024-08-06 14:19:33+00:00</td>\n",
       "      <td>320.0</td>\n",
       "      <td>114.72</td>\n",
       "      <td>92.25</td>\n",
       "      <td>95.70</td>\n",
       "      <td>0.0</td>\n",
       "      <td>0.0</td>\n",
       "      <td>NaN</td>\n",
       "      <td>0</td>\n",
       "      <td>0.151620</td>\n",
       "      <td>True</td>\n",
       "      <td>REGULAR</td>\n",
       "      <td>USD</td>\n",
       "      <td>Put</td>\n",
       "      <td>2026-12-18 23:59:59</td>\n",
       "      <td>853</td>\n",
       "    </tr>\n",
       "    <tr>\n",
       "      <th>46</th>\n",
       "      <td>AAPL261218P00330000</td>\n",
       "      <td>2024-07-26 14:51:20+00:00</td>\n",
       "      <td>330.0</td>\n",
       "      <td>112.88</td>\n",
       "      <td>102.25</td>\n",
       "      <td>105.70</td>\n",
       "      <td>0.0</td>\n",
       "      <td>0.0</td>\n",
       "      <td>1.0</td>\n",
       "      <td>1</td>\n",
       "      <td>0.161477</td>\n",
       "      <td>True</td>\n",
       "      <td>REGULAR</td>\n",
       "      <td>USD</td>\n",
       "      <td>Put</td>\n",
       "      <td>2026-12-18 23:59:59</td>\n",
       "      <td>853</td>\n",
       "    </tr>\n",
       "    <tr>\n",
       "      <th>47</th>\n",
       "      <td>AAPL261218P00340000</td>\n",
       "      <td>2024-08-06 16:45:16+00:00</td>\n",
       "      <td>340.0</td>\n",
       "      <td>131.09</td>\n",
       "      <td>112.25</td>\n",
       "      <td>116.00</td>\n",
       "      <td>0.0</td>\n",
       "      <td>0.0</td>\n",
       "      <td>1.0</td>\n",
       "      <td>2</td>\n",
       "      <td>0.176705</td>\n",
       "      <td>True</td>\n",
       "      <td>REGULAR</td>\n",
       "      <td>USD</td>\n",
       "      <td>Put</td>\n",
       "      <td>2026-12-18 23:59:59</td>\n",
       "      <td>853</td>\n",
       "    </tr>\n",
       "    <tr>\n",
       "      <th>48</th>\n",
       "      <td>AAPL261218P00350000</td>\n",
       "      <td>2024-08-05 16:42:56+00:00</td>\n",
       "      <td>350.0</td>\n",
       "      <td>139.04</td>\n",
       "      <td>122.20</td>\n",
       "      <td>126.05</td>\n",
       "      <td>0.0</td>\n",
       "      <td>0.0</td>\n",
       "      <td>1.0</td>\n",
       "      <td>0</td>\n",
       "      <td>0.186837</td>\n",
       "      <td>True</td>\n",
       "      <td>REGULAR</td>\n",
       "      <td>USD</td>\n",
       "      <td>Put</td>\n",
       "      <td>2026-12-18 23:59:59</td>\n",
       "      <td>853</td>\n",
       "    </tr>\n",
       "  </tbody>\n",
       "</table>\n",
       "<p>1778 rows × 17 columns</p>\n",
       "</div>"
      ],
      "text/plain": [
       "         contractSymbol             lastTradeDate  strike  lastPrice     bid  \\\n",
       "0   AAPL240823C00100000 2024-08-08 18:03:44+00:00   100.0     113.75  125.20   \n",
       "1   AAPL240823C00105000 2024-07-31 17:32:00+00:00   105.0     117.09  120.15   \n",
       "2   AAPL240823C00110000 2024-08-01 15:40:38+00:00   110.0     110.15  115.20   \n",
       "3   AAPL240823C00115000 2024-08-09 14:06:21+00:00   115.0      98.47  110.15   \n",
       "4   AAPL240823C00120000 2024-07-16 16:17:00+00:00   120.0     113.70  103.80   \n",
       "..                  ...                       ...     ...        ...     ...   \n",
       "44  AAPL261218P00310000 2024-07-12 15:19:38+00:00   310.0      79.29   92.00   \n",
       "45  AAPL261218P00320000 2024-08-06 14:19:33+00:00   320.0     114.72   92.25   \n",
       "46  AAPL261218P00330000 2024-07-26 14:51:20+00:00   330.0     112.88  102.25   \n",
       "47  AAPL261218P00340000 2024-08-06 16:45:16+00:00   340.0     131.09  112.25   \n",
       "48  AAPL261218P00350000 2024-08-05 16:42:56+00:00   350.0     139.04  122.20   \n",
       "\n",
       "       ask  change  percentChange  volume  openInterest  impliedVolatility  \\\n",
       "0   127.15     0.0            0.0     1.0             2           2.621097   \n",
       "1   122.25     0.0            0.0     1.0             1           2.531254   \n",
       "2   117.15     0.0            0.0     NaN             1           2.335942   \n",
       "3   112.05     0.0            0.0     NaN             6           1.984375   \n",
       "4   106.20     0.0            0.0    30.0            30           2.121098   \n",
       "..     ...     ...            ...     ...           ...                ...   \n",
       "44   95.95     0.0            0.0    10.0             0           0.255119   \n",
       "45   95.70     0.0            0.0     NaN             0           0.151620   \n",
       "46  105.70     0.0            0.0     1.0             1           0.161477   \n",
       "47  116.00     0.0            0.0     1.0             2           0.176705   \n",
       "48  126.05     0.0            0.0     1.0             0           0.186837   \n",
       "\n",
       "    inTheMoney contractSize currency Option Type     Expiration Date  \\\n",
       "0         True      REGULAR      USD        Call 2024-08-23 23:59:59   \n",
       "1         True      REGULAR      USD        Call 2024-08-23 23:59:59   \n",
       "2         True      REGULAR      USD        Call 2024-08-23 23:59:59   \n",
       "3         True      REGULAR      USD        Call 2024-08-23 23:59:59   \n",
       "4         True      REGULAR      USD        Call 2024-08-23 23:59:59   \n",
       "..         ...          ...      ...         ...                 ...   \n",
       "44        True      REGULAR      USD         Put 2026-12-18 23:59:59   \n",
       "45        True      REGULAR      USD         Put 2026-12-18 23:59:59   \n",
       "46        True      REGULAR      USD         Put 2026-12-18 23:59:59   \n",
       "47        True      REGULAR      USD         Put 2026-12-18 23:59:59   \n",
       "48        True      REGULAR      USD         Put 2026-12-18 23:59:59   \n",
       "\n",
       "    Days to Expiration  \n",
       "0                    6  \n",
       "1                    6  \n",
       "2                    6  \n",
       "3                    6  \n",
       "4                    6  \n",
       "..                 ...  \n",
       "44                 853  \n",
       "45                 853  \n",
       "46                 853  \n",
       "47                 853  \n",
       "48                 853  \n",
       "\n",
       "[1778 rows x 17 columns]"
      ]
     },
     "execution_count": 6,
     "metadata": {},
     "output_type": "execute_result"
    }
   ],
   "source": [
    "options_data"
   ]
  },
  {
   "cell_type": "code",
   "execution_count": 7,
   "metadata": {},
   "outputs": [
    {
     "name": "stdout",
     "output_type": "stream",
     "text": [
      "<class 'pandas.core.frame.DataFrame'>\n",
      "Index: 1778 entries, 0 to 48\n",
      "Data columns (total 17 columns):\n",
      " #   Column              Non-Null Count  Dtype              \n",
      "---  ------              --------------  -----              \n",
      " 0   contractSymbol      1778 non-null   object             \n",
      " 1   lastTradeDate       1778 non-null   datetime64[ns, UTC]\n",
      " 2   strike              1778 non-null   float64            \n",
      " 3   lastPrice           1778 non-null   float64            \n",
      " 4   bid                 1778 non-null   float64            \n",
      " 5   ask                 1778 non-null   float64            \n",
      " 6   change              1778 non-null   float64            \n",
      " 7   percentChange       1778 non-null   float64            \n",
      " 8   volume              1688 non-null   float64            \n",
      " 9   openInterest        1778 non-null   int64              \n",
      " 10  impliedVolatility   1778 non-null   float64            \n",
      " 11  inTheMoney          1778 non-null   bool               \n",
      " 12  contractSize        1778 non-null   object             \n",
      " 13  currency            1778 non-null   object             \n",
      " 14  Option Type         1778 non-null   object             \n",
      " 15  Expiration Date     1778 non-null   datetime64[ns]     \n",
      " 16  Days to Expiration  1778 non-null   int64              \n",
      "dtypes: bool(1), datetime64[ns, UTC](1), datetime64[ns](1), float64(8), int64(2), object(4)\n",
      "memory usage: 237.9+ KB\n"
     ]
    }
   ],
   "source": [
    "options_data.info()"
   ]
  },
  {
   "cell_type": "code",
   "execution_count": 8,
   "metadata": {},
   "outputs": [],
   "source": [
    "#We need a filter for last trade date, say no more than 5 days\n",
    "options_data[\"lastTradeDate\"] = pd.to_datetime(options_data[\"lastTradeDate\"]).dt.tz_localize(None)\n",
    "options_data = options_data[options_data[\"lastTradeDate\"] >= (dt.datetime.today() - dt.timedelta(days=Lookback_period))]"
   ]
  },
  {
   "cell_type": "code",
   "execution_count": 9,
   "metadata": {},
   "outputs": [],
   "source": [
    "#We need a filter for open interest, say more than 0\n",
    "options_data = options_data[options_data[\"openInterest\"] > 0]"
   ]
  },
  {
   "cell_type": "code",
   "execution_count": 10,
   "metadata": {},
   "outputs": [
    {
     "data": {
      "text/html": [
       "<div>\n",
       "<style scoped>\n",
       "    .dataframe tbody tr th:only-of-type {\n",
       "        vertical-align: middle;\n",
       "    }\n",
       "\n",
       "    .dataframe tbody tr th {\n",
       "        vertical-align: top;\n",
       "    }\n",
       "\n",
       "    .dataframe thead th {\n",
       "        text-align: right;\n",
       "    }\n",
       "</style>\n",
       "<table border=\"1\" class=\"dataframe\">\n",
       "  <thead>\n",
       "    <tr style=\"text-align: right;\">\n",
       "      <th></th>\n",
       "      <th>contractSymbol</th>\n",
       "      <th>lastTradeDate</th>\n",
       "      <th>strike</th>\n",
       "      <th>lastPrice</th>\n",
       "      <th>bid</th>\n",
       "      <th>ask</th>\n",
       "      <th>change</th>\n",
       "      <th>percentChange</th>\n",
       "      <th>volume</th>\n",
       "      <th>openInterest</th>\n",
       "      <th>impliedVolatility</th>\n",
       "      <th>inTheMoney</th>\n",
       "      <th>contractSize</th>\n",
       "      <th>currency</th>\n",
       "      <th>Option Type</th>\n",
       "      <th>Expiration Date</th>\n",
       "      <th>Days to Expiration</th>\n",
       "    </tr>\n",
       "  </thead>\n",
       "  <tbody>\n",
       "    <tr>\n",
       "      <th>10</th>\n",
       "      <td>AAPL240823C00160000</td>\n",
       "      <td>2024-08-16 18:11:57</td>\n",
       "      <td>160.0</td>\n",
       "      <td>65.90</td>\n",
       "      <td>65.25</td>\n",
       "      <td>67.20</td>\n",
       "      <td>0.810005</td>\n",
       "      <td>1.244439</td>\n",
       "      <td>25.0</td>\n",
       "      <td>26</td>\n",
       "      <td>1.257816</td>\n",
       "      <td>True</td>\n",
       "      <td>REGULAR</td>\n",
       "      <td>USD</td>\n",
       "      <td>Call</td>\n",
       "      <td>2024-08-23 23:59:59</td>\n",
       "      <td>6</td>\n",
       "    </tr>\n",
       "    <tr>\n",
       "      <th>11</th>\n",
       "      <td>AAPL240823C00165000</td>\n",
       "      <td>2024-08-13 18:37:02</td>\n",
       "      <td>165.0</td>\n",
       "      <td>56.73</td>\n",
       "      <td>60.20</td>\n",
       "      <td>62.10</td>\n",
       "      <td>0.000000</td>\n",
       "      <td>0.000000</td>\n",
       "      <td>10.0</td>\n",
       "      <td>43</td>\n",
       "      <td>1.072270</td>\n",
       "      <td>True</td>\n",
       "      <td>REGULAR</td>\n",
       "      <td>USD</td>\n",
       "      <td>Call</td>\n",
       "      <td>2024-08-23 23:59:59</td>\n",
       "      <td>6</td>\n",
       "    </tr>\n",
       "    <tr>\n",
       "      <th>12</th>\n",
       "      <td>AAPL240823C00170000</td>\n",
       "      <td>2024-08-16 17:12:12</td>\n",
       "      <td>170.0</td>\n",
       "      <td>56.70</td>\n",
       "      <td>55.25</td>\n",
       "      <td>57.20</td>\n",
       "      <td>4.600002</td>\n",
       "      <td>8.829180</td>\n",
       "      <td>5.0</td>\n",
       "      <td>83</td>\n",
       "      <td>1.060552</td>\n",
       "      <td>True</td>\n",
       "      <td>REGULAR</td>\n",
       "      <td>USD</td>\n",
       "      <td>Call</td>\n",
       "      <td>2024-08-23 23:59:59</td>\n",
       "      <td>6</td>\n",
       "    </tr>\n",
       "    <tr>\n",
       "      <th>13</th>\n",
       "      <td>AAPL240823C00175000</td>\n",
       "      <td>2024-08-16 18:13:39</td>\n",
       "      <td>175.0</td>\n",
       "      <td>50.95</td>\n",
       "      <td>50.20</td>\n",
       "      <td>52.15</td>\n",
       "      <td>0.670002</td>\n",
       "      <td>1.332542</td>\n",
       "      <td>22.0</td>\n",
       "      <td>112</td>\n",
       "      <td>0.919923</td>\n",
       "      <td>True</td>\n",
       "      <td>REGULAR</td>\n",
       "      <td>USD</td>\n",
       "      <td>Call</td>\n",
       "      <td>2024-08-23 23:59:59</td>\n",
       "      <td>6</td>\n",
       "    </tr>\n",
       "    <tr>\n",
       "      <th>14</th>\n",
       "      <td>AAPL240823C00180000</td>\n",
       "      <td>2024-08-16 18:15:15</td>\n",
       "      <td>180.0</td>\n",
       "      <td>46.00</td>\n",
       "      <td>45.95</td>\n",
       "      <td>46.60</td>\n",
       "      <td>3.849998</td>\n",
       "      <td>9.134041</td>\n",
       "      <td>91.0</td>\n",
       "      <td>164</td>\n",
       "      <td>0.908204</td>\n",
       "      <td>True</td>\n",
       "      <td>REGULAR</td>\n",
       "      <td>USD</td>\n",
       "      <td>Call</td>\n",
       "      <td>2024-08-23 23:59:59</td>\n",
       "      <td>6</td>\n",
       "    </tr>\n",
       "    <tr>\n",
       "      <th>...</th>\n",
       "      <td>...</td>\n",
       "      <td>...</td>\n",
       "      <td>...</td>\n",
       "      <td>...</td>\n",
       "      <td>...</td>\n",
       "      <td>...</td>\n",
       "      <td>...</td>\n",
       "      <td>...</td>\n",
       "      <td>...</td>\n",
       "      <td>...</td>\n",
       "      <td>...</td>\n",
       "      <td>...</td>\n",
       "      <td>...</td>\n",
       "      <td>...</td>\n",
       "      <td>...</td>\n",
       "      <td>...</td>\n",
       "      <td>...</td>\n",
       "    </tr>\n",
       "    <tr>\n",
       "      <th>38</th>\n",
       "      <td>AAPL261218P00250000</td>\n",
       "      <td>2024-08-16 19:23:43</td>\n",
       "      <td>250.0</td>\n",
       "      <td>37.54</td>\n",
       "      <td>37.10</td>\n",
       "      <td>38.95</td>\n",
       "      <td>-1.110001</td>\n",
       "      <td>-2.871929</td>\n",
       "      <td>7.0</td>\n",
       "      <td>502</td>\n",
       "      <td>0.174447</td>\n",
       "      <td>True</td>\n",
       "      <td>REGULAR</td>\n",
       "      <td>USD</td>\n",
       "      <td>Put</td>\n",
       "      <td>2026-12-18 23:59:59</td>\n",
       "      <td>853</td>\n",
       "    </tr>\n",
       "    <tr>\n",
       "      <th>39</th>\n",
       "      <td>AAPL261218P00260000</td>\n",
       "      <td>2024-08-16 19:23:43</td>\n",
       "      <td>260.0</td>\n",
       "      <td>43.48</td>\n",
       "      <td>41.80</td>\n",
       "      <td>45.30</td>\n",
       "      <td>-3.090000</td>\n",
       "      <td>-6.635173</td>\n",
       "      <td>2.0</td>\n",
       "      <td>1193</td>\n",
       "      <td>0.167748</td>\n",
       "      <td>True</td>\n",
       "      <td>REGULAR</td>\n",
       "      <td>USD</td>\n",
       "      <td>Put</td>\n",
       "      <td>2026-12-18 23:59:59</td>\n",
       "      <td>853</td>\n",
       "    </tr>\n",
       "    <tr>\n",
       "      <th>40</th>\n",
       "      <td>AAPL261218P00270000</td>\n",
       "      <td>2024-08-14 16:45:02</td>\n",
       "      <td>270.0</td>\n",
       "      <td>54.63</td>\n",
       "      <td>48.50</td>\n",
       "      <td>51.30</td>\n",
       "      <td>0.000000</td>\n",
       "      <td>0.000000</td>\n",
       "      <td>4.0</td>\n",
       "      <td>138</td>\n",
       "      <td>0.152779</td>\n",
       "      <td>True</td>\n",
       "      <td>REGULAR</td>\n",
       "      <td>USD</td>\n",
       "      <td>Put</td>\n",
       "      <td>2026-12-18 23:59:59</td>\n",
       "      <td>853</td>\n",
       "    </tr>\n",
       "    <tr>\n",
       "      <th>41</th>\n",
       "      <td>AAPL261218P00280000</td>\n",
       "      <td>2024-08-13 17:40:54</td>\n",
       "      <td>280.0</td>\n",
       "      <td>61.10</td>\n",
       "      <td>55.85</td>\n",
       "      <td>59.10</td>\n",
       "      <td>0.000000</td>\n",
       "      <td>0.000000</td>\n",
       "      <td>3.0</td>\n",
       "      <td>82</td>\n",
       "      <td>0.147759</td>\n",
       "      <td>True</td>\n",
       "      <td>REGULAR</td>\n",
       "      <td>USD</td>\n",
       "      <td>Put</td>\n",
       "      <td>2026-12-18 23:59:59</td>\n",
       "      <td>853</td>\n",
       "    </tr>\n",
       "    <tr>\n",
       "      <th>43</th>\n",
       "      <td>AAPL261218P00300000</td>\n",
       "      <td>2024-08-15 14:28:16</td>\n",
       "      <td>300.0</td>\n",
       "      <td>75.50</td>\n",
       "      <td>73.20</td>\n",
       "      <td>76.05</td>\n",
       "      <td>0.000000</td>\n",
       "      <td>0.000000</td>\n",
       "      <td>5.0</td>\n",
       "      <td>6</td>\n",
       "      <td>0.136209</td>\n",
       "      <td>True</td>\n",
       "      <td>REGULAR</td>\n",
       "      <td>USD</td>\n",
       "      <td>Put</td>\n",
       "      <td>2026-12-18 23:59:59</td>\n",
       "      <td>853</td>\n",
       "    </tr>\n",
       "  </tbody>\n",
       "</table>\n",
       "<p>1169 rows × 17 columns</p>\n",
       "</div>"
      ],
      "text/plain": [
       "         contractSymbol       lastTradeDate  strike  lastPrice    bid    ask  \\\n",
       "10  AAPL240823C00160000 2024-08-16 18:11:57   160.0      65.90  65.25  67.20   \n",
       "11  AAPL240823C00165000 2024-08-13 18:37:02   165.0      56.73  60.20  62.10   \n",
       "12  AAPL240823C00170000 2024-08-16 17:12:12   170.0      56.70  55.25  57.20   \n",
       "13  AAPL240823C00175000 2024-08-16 18:13:39   175.0      50.95  50.20  52.15   \n",
       "14  AAPL240823C00180000 2024-08-16 18:15:15   180.0      46.00  45.95  46.60   \n",
       "..                  ...                 ...     ...        ...    ...    ...   \n",
       "38  AAPL261218P00250000 2024-08-16 19:23:43   250.0      37.54  37.10  38.95   \n",
       "39  AAPL261218P00260000 2024-08-16 19:23:43   260.0      43.48  41.80  45.30   \n",
       "40  AAPL261218P00270000 2024-08-14 16:45:02   270.0      54.63  48.50  51.30   \n",
       "41  AAPL261218P00280000 2024-08-13 17:40:54   280.0      61.10  55.85  59.10   \n",
       "43  AAPL261218P00300000 2024-08-15 14:28:16   300.0      75.50  73.20  76.05   \n",
       "\n",
       "      change  percentChange  volume  openInterest  impliedVolatility  \\\n",
       "10  0.810005       1.244439    25.0            26           1.257816   \n",
       "11  0.000000       0.000000    10.0            43           1.072270   \n",
       "12  4.600002       8.829180     5.0            83           1.060552   \n",
       "13  0.670002       1.332542    22.0           112           0.919923   \n",
       "14  3.849998       9.134041    91.0           164           0.908204   \n",
       "..       ...            ...     ...           ...                ...   \n",
       "38 -1.110001      -2.871929     7.0           502           0.174447   \n",
       "39 -3.090000      -6.635173     2.0          1193           0.167748   \n",
       "40  0.000000       0.000000     4.0           138           0.152779   \n",
       "41  0.000000       0.000000     3.0            82           0.147759   \n",
       "43  0.000000       0.000000     5.0             6           0.136209   \n",
       "\n",
       "    inTheMoney contractSize currency Option Type     Expiration Date  \\\n",
       "10        True      REGULAR      USD        Call 2024-08-23 23:59:59   \n",
       "11        True      REGULAR      USD        Call 2024-08-23 23:59:59   \n",
       "12        True      REGULAR      USD        Call 2024-08-23 23:59:59   \n",
       "13        True      REGULAR      USD        Call 2024-08-23 23:59:59   \n",
       "14        True      REGULAR      USD        Call 2024-08-23 23:59:59   \n",
       "..         ...          ...      ...         ...                 ...   \n",
       "38        True      REGULAR      USD         Put 2026-12-18 23:59:59   \n",
       "39        True      REGULAR      USD         Put 2026-12-18 23:59:59   \n",
       "40        True      REGULAR      USD         Put 2026-12-18 23:59:59   \n",
       "41        True      REGULAR      USD         Put 2026-12-18 23:59:59   \n",
       "43        True      REGULAR      USD         Put 2026-12-18 23:59:59   \n",
       "\n",
       "    Days to Expiration  \n",
       "10                   6  \n",
       "11                   6  \n",
       "12                   6  \n",
       "13                   6  \n",
       "14                   6  \n",
       "..                 ...  \n",
       "38                 853  \n",
       "39                 853  \n",
       "40                 853  \n",
       "41                 853  \n",
       "43                 853  \n",
       "\n",
       "[1169 rows x 17 columns]"
      ]
     },
     "execution_count": 10,
     "metadata": {},
     "output_type": "execute_result"
    }
   ],
   "source": [
    "options_data"
   ]
  },
  {
   "cell_type": "code",
   "execution_count": 11,
   "metadata": {},
   "outputs": [],
   "source": [
    "# Select call options\n",
    "call_options = options_data[options_data[\"Option Type\"] == \"Call\"]"
   ]
  },
  {
   "cell_type": "code",
   "execution_count": 12,
   "metadata": {},
   "outputs": [],
   "source": [
    "#Sort by Expiration Dates\n",
    "call_options.sort_values(by=['Expiration Date'], ascending=True, inplace=True)"
   ]
  },
  {
   "cell_type": "code",
   "execution_count": 13,
   "metadata": {},
   "outputs": [],
   "source": [
    "#call_options"
   ]
  },
  {
   "cell_type": "code",
   "execution_count": 14,
   "metadata": {},
   "outputs": [],
   "source": [
    "# Print available expiration dates\n",
    "#print(\"Available Expiration Dates:\")\n",
    "#print(set(call_options['Expiration Date']))"
   ]
  },
  {
   "cell_type": "code",
   "execution_count": 15,
   "metadata": {},
   "outputs": [
    {
     "data": {
      "text/plain": [
       "[Timestamp('2024-08-23 23:59:59'),\n",
       " Timestamp('2024-08-30 23:59:59'),\n",
       " Timestamp('2024-09-06 23:59:59'),\n",
       " Timestamp('2024-09-13 23:59:59'),\n",
       " Timestamp('2024-09-20 23:59:59'),\n",
       " Timestamp('2024-09-27 23:59:59'),\n",
       " Timestamp('2024-10-18 23:59:59'),\n",
       " Timestamp('2024-11-15 23:59:59'),\n",
       " Timestamp('2024-12-20 23:59:59'),\n",
       " Timestamp('2025-01-17 23:59:59'),\n",
       " Timestamp('2025-03-21 23:59:59'),\n",
       " Timestamp('2025-06-20 23:59:59'),\n",
       " Timestamp('2025-08-15 23:59:59'),\n",
       " Timestamp('2025-09-19 23:59:59'),\n",
       " Timestamp('2025-12-19 23:59:59'),\n",
       " Timestamp('2026-01-16 23:59:59'),\n",
       " Timestamp('2026-06-18 23:59:59'),\n",
       " Timestamp('2026-12-18 23:59:59')]"
      ]
     },
     "execution_count": 15,
     "metadata": {},
     "output_type": "execute_result"
    }
   ],
   "source": [
    "#Perhaps create a list of all the unique Available Expiration Dates for better referencing\n",
    "Available_Expiration_Dates=call_options['Expiration Date'].unique().tolist()\n",
    "Available_Expiration_Dates"
   ]
  },
  {
   "cell_type": "code",
   "execution_count": 16,
   "metadata": {},
   "outputs": [
    {
     "data": {
      "text/plain": [
       "18"
      ]
     },
     "execution_count": 16,
     "metadata": {},
     "output_type": "execute_result"
    }
   ],
   "source": [
    "len(Available_Expiration_Dates)"
   ]
  },
  {
   "cell_type": "markdown",
   "metadata": {},
   "source": [
    "### Volatility Smile"
   ]
  },
  {
   "cell_type": "code",
   "execution_count": 17,
   "metadata": {},
   "outputs": [],
   "source": [
    "# Select an expiration date to plot\n",
    "#chosen_expiry_date = \"2024-08-20 23:59:59\"\n",
    "chosen_expiry_date = Available_Expiration_Dates[5]\n",
    "selected_calls_at_expiry = call_options[call_options[\"Expiration Date\"] == chosen_expiry_date]"
   ]
  },
  {
   "cell_type": "code",
   "execution_count": 18,
   "metadata": {},
   "outputs": [],
   "source": [
    "# Filter out low implied volatility options\n",
    "filtered_calls_at_expiry = selected_calls_at_expiry[selected_calls_at_expiry[\"impliedVolatility\"] >= Minimum_impliedVolatility]"
   ]
  },
  {
   "cell_type": "code",
   "execution_count": 19,
   "metadata": {},
   "outputs": [],
   "source": [
    "#Sort by Strike\n",
    "filtered_calls_at_expiry.sort_values(by=['strike'], ascending=True, inplace=True)"
   ]
  },
  {
   "cell_type": "code",
   "execution_count": 20,
   "metadata": {},
   "outputs": [],
   "source": [
    "# Set the strike price as the index for better plotting\n",
    "filtered_calls_at_expiry.set_index(\"strike\", inplace=True)"
   ]
  },
  {
   "cell_type": "code",
   "execution_count": 21,
   "metadata": {},
   "outputs": [],
   "source": [
    "#filtered_calls_at_expiry"
   ]
  },
  {
   "cell_type": "markdown",
   "metadata": {},
   "source": [
    "#### Using matplotlib"
   ]
  },
  {
   "cell_type": "code",
   "execution_count": 22,
   "metadata": {},
   "outputs": [
    {
     "data": {
      "application/vnd.jupyter.widget-view+json": {
       "model_id": "367d132c6a4c4042ad584da8d7edf0cb",
       "version_major": 2,
       "version_minor": 0
      },
      "image/png": "[encoded data removed]",
      "text/html": [
       "\n",
       "            <div style=\"display: inline-block;\">\n",
       "                <div class=\"jupyter-widgets widget-label\" style=\"text-align: center;\">\n",
       "                    Figure\n",
       "                </div>\n",
       "                <img src='data:image/png;base64,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' width=1000.0/>\n",
       "            </div>\n",
       "        "
      ],
      "text/plain": [
       "Canvas(toolbar=Toolbar(toolitems=[('Home', 'Reset original view', 'home', 'home'), ('Back', 'Back to previous …"
      ]
     },
     "metadata": {},
     "output_type": "display_data"
    }
   ],
   "source": [
    "# Plot Implied Volatility Skew\n",
    "plt.figure(figsize=(10, 6))\n",
    "plt.plot(filtered_calls_at_expiry.index, filtered_calls_at_expiry[\"impliedVolatility\"], marker='o', linestyle='solid') \n",
    "plt.title(f\"Implied Volatility Skew for {chosen_expiry_date}\")\n",
    "plt.xlabel(\"Strike Price\")\n",
    "plt.ylabel(\"Implied Volatility\")\n",
    "plt.grid(True)"
   ]
  },
  {
   "cell_type": "markdown",
   "metadata": {},
   "source": [
    "#### Using Plotly"
   ]
  },
  {
   "cell_type": "code",
   "execution_count": 23,
   "metadata": {},
   "outputs": [
    {
     "data": {
      "application/vnd.plotly.v1+json": {
       "config": {
        "plotlyServerURL": "https://plot.ly"
       },
       "data": [
        {
         "hovertemplate": "Strike Price=%{x}<br>Implied Volatility=%{y}<extra></extra>",
         "legendgroup": "",
         "line": {
          "color": "#636efa",
          "dash": "solid"
         },
         "marker": {
          "symbol": "circle"
         },
         "mode": "lines+markers",
         "name": "",
         "orientation": "v",
         "showlegend": false,
         "type": "scatter",
         "x": [
          180,
          185,
          190,
          195,
          200,
          205,
          210,
          215,
          220,
          225,
          230,
          235,
          240,
          245,
          250,
          255,
          265,
          280,
          285
         ],
         "xaxis": "x",
         "y": [
          0.5043994873046875,
          0.51562984375,
          0.46497117065429694,
          0.4329890686035156,
          0.4136411175537109,
          0.34204759521484374,
          0.31726756958007807,
          0.29834686035156244,
          0.2670361383056641,
          0.2492140509033203,
          0.23462679443359374,
          0.22467816345214842,
          0.2172929833984375,
          0.2135088415527344,
          0.21411918701171873,
          0.21778125976562498,
          0.2309647216796875,
          0.26563234375,
          0.278327529296875
         ],
         "yaxis": "y"
        }
       ],
       "layout": {
        "height": 600,
        "legend": {
         "tracegroupgap": 0
        },
        "template": {
         "data": {
          "bar": [
           {
            "error_x": {
             "color": "#2a3f5f"
            },
            "error_y": {
             "color": "#2a3f5f"
            },
            "marker": {
             "line": {
              "color": "#E5ECF6",
              "width": 0.5
             },
             "pattern": {
              "fillmode": "overlay",
              "size": 10,
              "solidity": 0.2
             }
            },
            "type": "bar"
           }
          ],
          "barpolar": [
           {
            "marker": {
             "line": {
              "color": "#E5ECF6",
              "width": 0.5
             },
             "pattern": {
              "fillmode": "overlay",
              "size": 10,
              "solidity": 0.2
             }
            },
            "type": "barpolar"
           }
          ],
          "carpet": [
           {
            "aaxis": {
             "endlinecolor": "#2a3f5f",
             "gridcolor": "white",
             "linecolor": "white",
             "minorgridcolor": "white",
             "startlinecolor": "#2a3f5f"
            },
            "baxis": {
             "endlinecolor": "#2a3f5f",
             "gridcolor": "white",
             "linecolor": "white",
             "minorgridcolor": "white",
             "startlinecolor": "#2a3f5f"
            },
            "type": "carpet"
           }
          ],
          "choropleth": [
           {
            "colorbar": {
             "outlinewidth": 0,
             "ticks": ""
            },
            "type": "choropleth"
           }
          ],
          "contour": [
           {
            "colorbar": {
             "outlinewidth": 0,
             "ticks": ""
            },
            "colorscale": [
             [
              0,
              "#0d0887"
             ],
             [
              0.1111111111111111,
              "#46039f"
             ],
             [
              0.2222222222222222,
              "#7201a8"
             ],
             [
              0.3333333333333333,
              "#9c179e"
             ],
             [
              0.4444444444444444,
              "#bd3786"
             ],
             [
              0.5555555555555556,
              "#d8576b"
             ],
             [
              0.6666666666666666,
              "#ed7953"
             ],
             [
              0.7777777777777778,
              "#fb9f3a"
             ],
             [
              0.8888888888888888,
              "#fdca26"
             ],
             [
              1,
              "#f0f921"
             ]
            ],
            "type": "contour"
           }
          ],
          "contourcarpet": [
           {
            "colorbar": {
             "outlinewidth": 0,
             "ticks": ""
            },
            "type": "contourcarpet"
           }
          ],
          "heatmap": [
           {
            "colorbar": {
             "outlinewidth": 0,
             "ticks": ""
            },
            "colorscale": [
             [
              0,
              "#0d0887"
             ],
             [
              0.1111111111111111,
              "#46039f"
             ],
             [
              0.2222222222222222,
              "#7201a8"
             ],
             [
              0.3333333333333333,
              "#9c179e"
             ],
             [
              0.4444444444444444,
              "#bd3786"
             ],
             [
              0.5555555555555556,
              "#d8576b"
             ],
             [
              0.6666666666666666,
              "#ed7953"
             ],
             [
              0.7777777777777778,
              "#fb9f3a"
             ],
             [
              0.8888888888888888,
              "#fdca26"
             ],
             [
              1,
              "#f0f921"
             ]
            ],
            "type": "heatmap"
           }
          ],
          "heatmapgl": [
           {
            "colorbar": {
             "outlinewidth": 0,
             "ticks": ""
            },
            "colorscale": [
             [
              0,
              "#0d0887"
             ],
             [
              0.1111111111111111,
              "#46039f"
             ],
             [
              0.2222222222222222,
              "#7201a8"
             ],
             [
              0.3333333333333333,
              "#9c179e"
             ],
             [
              0.4444444444444444,
              "#bd3786"
             ],
             [
              0.5555555555555556,
              "#d8576b"
             ],
             [
              0.6666666666666666,
              "#ed7953"
             ],
             [
              0.7777777777777778,
              "#fb9f3a"
             ],
             [
              0.8888888888888888,
              "#fdca26"
             ],
             [
              1,
              "#f0f921"
             ]
            ],
            "type": "heatmapgl"
           }
          ],
          "histogram": [
           {
            "marker": {
             "pattern": {
              "fillmode": "overlay",
              "size": 10,
              "solidity": 0.2
             }
            },
            "type": "histogram"
           }
          ],
          "histogram2d": [
           {
            "colorbar": {
             "outlinewidth": 0,
             "ticks": ""
            },
            "colorscale": [
             [
              0,
              "#0d0887"
             ],
             [
              0.1111111111111111,
              "#46039f"
             ],
             [
              0.2222222222222222,
              "#7201a8"
             ],
             [
              0.3333333333333333,
              "#9c179e"
             ],
             [
              0.4444444444444444,
              "#bd3786"
             ],
             [
              0.5555555555555556,
              "#d8576b"
             ],
             [
              0.6666666666666666,
              "#ed7953"
             ],
             [
              0.7777777777777778,
              "#fb9f3a"
             ],
             [
              0.8888888888888888,
              "#fdca26"
             ],
             [
              1,
              "#f0f921"
             ]
            ],
            "type": "histogram2d"
           }
          ],
          "histogram2dcontour": [
           {
            "colorbar": {
             "outlinewidth": 0,
             "ticks": ""
            },
            "colorscale": [
             [
              0,
              "#0d0887"
             ],
             [
              0.1111111111111111,
              "#46039f"
             ],
             [
              0.2222222222222222,
              "#7201a8"
             ],
             [
              0.3333333333333333,
              "#9c179e"
             ],
             [
              0.4444444444444444,
              "#bd3786"
             ],
             [
              0.5555555555555556,
              "#d8576b"
             ],
             [
              0.6666666666666666,
              "#ed7953"
             ],
             [
              0.7777777777777778,
              "#fb9f3a"
             ],
             [
              0.8888888888888888,
              "#fdca26"
             ],
             [
              1,
              "#f0f921"
             ]
            ],
            "type": "histogram2dcontour"
           }
          ],
          "mesh3d": [
           {
            "colorbar": {
             "outlinewidth": 0,
             "ticks": ""
            },
            "type": "mesh3d"
           }
          ],
          "parcoords": [
           {
            "line": {
             "colorbar": {
              "outlinewidth": 0,
              "ticks": ""
             }
            },
            "type": "parcoords"
           }
          ],
          "pie": [
           {
            "automargin": true,
            "type": "pie"
           }
          ],
          "scatter": [
           {
            "fillpattern": {
             "fillmode": "overlay",
             "size": 10,
             "solidity": 0.2
            },
            "type": "scatter"
           }
          ],
          "scatter3d": [
           {
            "line": {
             "colorbar": {
              "outlinewidth": 0,
              "ticks": ""
             }
            },
            "marker": {
             "colorbar": {
              "outlinewidth": 0,
              "ticks": ""
             }
            },
            "type": "scatter3d"
           }
          ],
          "scattercarpet": [
           {
            "marker": {
             "colorbar": {
              "outlinewidth": 0,
              "ticks": ""
             }
            },
            "type": "scattercarpet"
           }
          ],
          "scattergeo": [
           {
            "marker": {
             "colorbar": {
              "outlinewidth": 0,
              "ticks": ""
             }
            },
            "type": "scattergeo"
           }
          ],
          "scattergl": [
           {
            "marker": {
             "colorbar": {
              "outlinewidth": 0,
              "ticks": ""
             }
            },
            "type": "scattergl"
           }
          ],
          "scattermapbox": [
           {
            "marker": {
             "colorbar": {
              "outlinewidth": 0,
              "ticks": ""
             }
            },
            "type": "scattermapbox"
           }
          ],
          "scatterpolar": [
           {
            "marker": {
             "colorbar": {
              "outlinewidth": 0,
              "ticks": ""
             }
            },
            "type": "scatterpolar"
           }
          ],
          "scatterpolargl": [
           {
            "marker": {
             "colorbar": {
              "outlinewidth": 0,
              "ticks": ""
             }
            },
            "type": "scatterpolargl"
           }
          ],
          "scatterternary": [
           {
            "marker": {
             "colorbar": {
              "outlinewidth": 0,
              "ticks": ""
             }
            },
            "type": "scatterternary"
           }
          ],
          "surface": [
           {
            "colorbar": {
             "outlinewidth": 0,
             "ticks": ""
            },
            "colorscale": [
             [
              0,
              "#0d0887"
             ],
             [
              0.1111111111111111,
              "#46039f"
             ],
             [
              0.2222222222222222,
              "#7201a8"
             ],
             [
              0.3333333333333333,
              "#9c179e"
             ],
             [
              0.4444444444444444,
              "#bd3786"
             ],
             [
              0.5555555555555556,
              "#d8576b"
             ],
             [
              0.6666666666666666,
              "#ed7953"
             ],
             [
              0.7777777777777778,
              "#fb9f3a"
             ],
             [
              0.8888888888888888,
              "#fdca26"
             ],
             [
              1,
              "#f0f921"
             ]
            ],
            "type": "surface"
           }
          ],
          "table": [
           {
            "cells": {
             "fill": {
              "color": "#EBF0F8"
             },
             "line": {
              "color": "white"
             }
            },
            "header": {
             "fill": {
              "color": "#C8D4E3"
             },
             "line": {
              "color": "white"
             }
            },
            "type": "table"
           }
          ]
         },
         "layout": {
          "annotationdefaults": {
           "arrowcolor": "#2a3f5f",
           "arrowhead": 0,
           "arrowwidth": 1
          },
          "autotypenumbers": "strict",
          "coloraxis": {
           "colorbar": {
            "outlinewidth": 0,
            "ticks": ""
           }
          },
          "colorscale": {
           "diverging": [
            [
             0,
             "#8e0152"
            ],
            [
             0.1,
             "#c51b7d"
            ],
            [
             0.2,
             "#de77ae"
            ],
            [
             0.3,
             "#f1b6da"
            ],
            [
             0.4,
             "#fde0ef"
            ],
            [
             0.5,
             "#f7f7f7"
            ],
            [
             0.6,
             "#e6f5d0"
            ],
            [
             0.7,
             "#b8e186"
            ],
            [
             0.8,
             "#7fbc41"
            ],
            [
             0.9,
             "#4d9221"
            ],
            [
             1,
             "#276419"
            ]
           ],
           "sequential": [
            [
             0,
             "#0d0887"
            ],
            [
             0.1111111111111111,
             "#46039f"
            ],
            [
             0.2222222222222222,
             "#7201a8"
            ],
            [
             0.3333333333333333,
             "#9c179e"
            ],
            [
             0.4444444444444444,
             "#bd3786"
            ],
            [
             0.5555555555555556,
             "#d8576b"
            ],
            [
             0.6666666666666666,
             "#ed7953"
            ],
            [
             0.7777777777777778,
             "#fb9f3a"
            ],
            [
             0.8888888888888888,
             "#fdca26"
            ],
            [
             1,
             "#f0f921"
            ]
           ],
           "sequentialminus": [
            [
             0,
             "#0d0887"
            ],
            [
             0.1111111111111111,
             "#46039f"
            ],
            [
             0.2222222222222222,
             "#7201a8"
            ],
            [
             0.3333333333333333,
             "#9c179e"
            ],
            [
             0.4444444444444444,
             "#bd3786"
            ],
            [
             0.5555555555555556,
             "#d8576b"
            ],
            [
             0.6666666666666666,
             "#ed7953"
            ],
            [
             0.7777777777777778,
             "#fb9f3a"
            ],
            [
             0.8888888888888888,
             "#fdca26"
            ],
            [
             1,
             "#f0f921"
            ]
           ]
          },
          "colorway": [
           "#636efa",
           "#EF553B",
           "#00cc96",
           "#ab63fa",
           "#FFA15A",
           "#19d3f3",
           "#FF6692",
           "#B6E880",
           "#FF97FF",
           "#FECB52"
          ],
          "font": {
           "color": "#2a3f5f"
          },
          "geo": {
           "bgcolor": "white",
           "lakecolor": "white",
           "landcolor": "#E5ECF6",
           "showlakes": true,
           "showland": true,
           "subunitcolor": "white"
          },
          "hoverlabel": {
           "align": "left"
          },
          "hovermode": "closest",
          "mapbox": {
           "style": "light"
          },
          "paper_bgcolor": "white",
          "plot_bgcolor": "#E5ECF6",
          "polar": {
           "angularaxis": {
            "gridcolor": "white",
            "linecolor": "white",
            "ticks": ""
           },
           "bgcolor": "#E5ECF6",
           "radialaxis": {
            "gridcolor": "white",
            "linecolor": "white",
            "ticks": ""
           }
          },
          "scene": {
           "xaxis": {
            "backgroundcolor": "#E5ECF6",
            "gridcolor": "white",
            "gridwidth": 2,
            "linecolor": "white",
            "showbackground": true,
            "ticks": "",
            "zerolinecolor": "white"
           },
           "yaxis": {
            "backgroundcolor": "#E5ECF6",
            "gridcolor": "white",
            "gridwidth": 2,
            "linecolor": "white",
            "showbackground": true,
            "ticks": "",
            "zerolinecolor": "white"
           },
           "zaxis": {
            "backgroundcolor": "#E5ECF6",
            "gridcolor": "white",
            "gridwidth": 2,
            "linecolor": "white",
            "showbackground": true,
            "ticks": "",
            "zerolinecolor": "white"
           }
          },
          "shapedefaults": {
           "line": {
            "color": "#2a3f5f"
           }
          },
          "ternary": {
           "aaxis": {
            "gridcolor": "white",
            "linecolor": "white",
            "ticks": ""
           },
           "baxis": {
            "gridcolor": "white",
            "linecolor": "white",
            "ticks": ""
           },
           "bgcolor": "#E5ECF6",
           "caxis": {
            "gridcolor": "white",
            "linecolor": "white",
            "ticks": ""
           }
          },
          "title": {
           "x": 0.05
          },
          "xaxis": {
           "automargin": true,
           "gridcolor": "white",
           "linecolor": "white",
           "ticks": "",
           "title": {
            "standoff": 15
           },
           "zerolinecolor": "white",
           "zerolinewidth": 2
          },
          "yaxis": {
           "automargin": true,
           "gridcolor": "white",
           "linecolor": "white",
           "ticks": "",
           "title": {
            "standoff": 15
           },
           "zerolinecolor": "white",
           "zerolinewidth": 2
          }
         }
        },
        "title": {
         "text": "Implied Volatility Skew for 2024-09-27 23:59:59"
        },
        "width": 800,
        "xaxis": {
         "anchor": "y",
         "domain": [
          0,
          1
         ],
         "title": {
          "text": "Strike Price"
         }
        },
        "yaxis": {
         "anchor": "x",
         "domain": [
          0,
          1
         ],
         "title": {
          "text": "Implied Volatility"
         }
        }
       }
      }
     },
     "metadata": {},
     "output_type": "display_data"
    }
   ],
   "source": [
    "fig = px.line(x=filtered_calls_at_expiry.index ,y =filtered_calls_at_expiry[\"impliedVolatility\"],\n",
    "              title=f\"Implied Volatility Skew for {chosen_expiry_date}\", \n",
    "              labels={'x':'Strike Price', 'y':'Implied Volatility'},\n",
    "              width=800, height=600,\n",
    "              markers=True)\n",
    "fig.show()"
   ]
  },
  {
   "cell_type": "markdown",
   "metadata": {},
   "source": [
    "### Volatility Term Structure"
   ]
  },
  {
   "cell_type": "code",
   "execution_count": 37,
   "metadata": {},
   "outputs": [],
   "source": [
    "#Perhaps create a list of all the unique strike price for better referencing\n",
    "Available_Strike_Prices=call_options['strike'].unique().tolist()\n",
    "#Available_Strike_Prices"
   ]
  },
  {
   "cell_type": "code",
   "execution_count": 40,
   "metadata": {},
   "outputs": [],
   "source": [
    "# Select a specific strike price to plot\n",
    "#selected_strike_price = 19000\n",
    "selected_strike_price = Available_Strike_Prices[7]\n",
    "selected_calls_at_strike = call_options[call_options[\"strike\"] == selected_strike_price]"
   ]
  },
  {
   "cell_type": "code",
   "execution_count": 41,
   "metadata": {},
   "outputs": [
    {
     "data": {
      "text/html": [
       "<div>\n",
       "<style scoped>\n",
       "    .dataframe tbody tr th:only-of-type {\n",
       "        vertical-align: middle;\n",
       "    }\n",
       "\n",
       "    .dataframe tbody tr th {\n",
       "        vertical-align: top;\n",
       "    }\n",
       "\n",
       "    .dataframe thead th {\n",
       "        text-align: right;\n",
       "    }\n",
       "</style>\n",
       "<table border=\"1\" class=\"dataframe\">\n",
       "  <thead>\n",
       "    <tr style=\"text-align: right;\">\n",
       "      <th></th>\n",
       "      <th>contractSymbol</th>\n",
       "      <th>lastTradeDate</th>\n",
       "      <th>strike</th>\n",
       "      <th>lastPrice</th>\n",
       "      <th>bid</th>\n",
       "      <th>ask</th>\n",
       "      <th>change</th>\n",
       "      <th>percentChange</th>\n",
       "      <th>volume</th>\n",
       "      <th>openInterest</th>\n",
       "      <th>impliedVolatility</th>\n",
       "      <th>inTheMoney</th>\n",
       "      <th>contractSize</th>\n",
       "      <th>currency</th>\n",
       "      <th>Option Type</th>\n",
       "      <th>Expiration Date</th>\n",
       "      <th>Days to Expiration</th>\n",
       "    </tr>\n",
       "  </thead>\n",
       "  <tbody>\n",
       "    <tr>\n",
       "      <th>39</th>\n",
       "      <td>AAPL240823C00245000</td>\n",
       "      <td>2024-08-16 19:35:30</td>\n",
       "      <td>245.0</td>\n",
       "      <td>0.02</td>\n",
       "      <td>0.01</td>\n",
       "      <td>0.02</td>\n",
       "      <td>0.000000</td>\n",
       "      <td>0.000000</td>\n",
       "      <td>191.0</td>\n",
       "      <td>1227</td>\n",
       "      <td>0.257820</td>\n",
       "      <td>False</td>\n",
       "      <td>REGULAR</td>\n",
       "      <td>USD</td>\n",
       "      <td>Call</td>\n",
       "      <td>2024-08-23 23:59:59</td>\n",
       "      <td>6</td>\n",
       "    </tr>\n",
       "    <tr>\n",
       "      <th>33</th>\n",
       "      <td>AAPL240830C00245000</td>\n",
       "      <td>2024-08-16 19:49:25</td>\n",
       "      <td>245.0</td>\n",
       "      <td>0.08</td>\n",
       "      <td>0.08</td>\n",
       "      <td>0.09</td>\n",
       "      <td>-0.010000</td>\n",
       "      <td>-11.111116</td>\n",
       "      <td>1193.0</td>\n",
       "      <td>2257</td>\n",
       "      <td>0.216805</td>\n",
       "      <td>False</td>\n",
       "      <td>REGULAR</td>\n",
       "      <td>USD</td>\n",
       "      <td>Call</td>\n",
       "      <td>2024-08-30 23:59:59</td>\n",
       "      <td>13</td>\n",
       "    </tr>\n",
       "    <tr>\n",
       "      <th>25</th>\n",
       "      <td>AAPL240906C00245000</td>\n",
       "      <td>2024-08-16 19:39:15</td>\n",
       "      <td>245.0</td>\n",
       "      <td>0.19</td>\n",
       "      <td>0.17</td>\n",
       "      <td>0.20</td>\n",
       "      <td>0.010000</td>\n",
       "      <td>5.555550</td>\n",
       "      <td>553.0</td>\n",
       "      <td>750</td>\n",
       "      <td>0.201668</td>\n",
       "      <td>False</td>\n",
       "      <td>REGULAR</td>\n",
       "      <td>USD</td>\n",
       "      <td>Call</td>\n",
       "      <td>2024-09-06 23:59:59</td>\n",
       "      <td>20</td>\n",
       "    </tr>\n",
       "    <tr>\n",
       "      <th>23</th>\n",
       "      <td>AAPL240913C00245000</td>\n",
       "      <td>2024-08-16 19:59:29</td>\n",
       "      <td>245.0</td>\n",
       "      <td>0.44</td>\n",
       "      <td>0.43</td>\n",
       "      <td>0.47</td>\n",
       "      <td>0.090000</td>\n",
       "      <td>25.714287</td>\n",
       "      <td>230.0</td>\n",
       "      <td>5376</td>\n",
       "      <td>0.208748</td>\n",
       "      <td>False</td>\n",
       "      <td>REGULAR</td>\n",
       "      <td>USD</td>\n",
       "      <td>Call</td>\n",
       "      <td>2024-09-13 23:59:59</td>\n",
       "      <td>27</td>\n",
       "    </tr>\n",
       "    <tr>\n",
       "      <th>48</th>\n",
       "      <td>AAPL240920C00245000</td>\n",
       "      <td>2024-08-16 19:59:09</td>\n",
       "      <td>245.0</td>\n",
       "      <td>0.76</td>\n",
       "      <td>0.75</td>\n",
       "      <td>0.78</td>\n",
       "      <td>0.090000</td>\n",
       "      <td>13.432832</td>\n",
       "      <td>3091.0</td>\n",
       "      <td>21403</td>\n",
       "      <td>0.212044</td>\n",
       "      <td>False</td>\n",
       "      <td>REGULAR</td>\n",
       "      <td>USD</td>\n",
       "      <td>Call</td>\n",
       "      <td>2024-09-20 23:59:59</td>\n",
       "      <td>34</td>\n",
       "    </tr>\n",
       "    <tr>\n",
       "      <th>17</th>\n",
       "      <td>AAPL240927C00245000</td>\n",
       "      <td>2024-08-16 19:51:03</td>\n",
       "      <td>245.0</td>\n",
       "      <td>1.05</td>\n",
       "      <td>1.03</td>\n",
       "      <td>1.10</td>\n",
       "      <td>0.140000</td>\n",
       "      <td>15.384607</td>\n",
       "      <td>144.0</td>\n",
       "      <td>444</td>\n",
       "      <td>0.213509</td>\n",
       "      <td>False</td>\n",
       "      <td>REGULAR</td>\n",
       "      <td>USD</td>\n",
       "      <td>Call</td>\n",
       "      <td>2024-09-27 23:59:59</td>\n",
       "      <td>41</td>\n",
       "    </tr>\n",
       "    <tr>\n",
       "      <th>38</th>\n",
       "      <td>AAPL241018C00245000</td>\n",
       "      <td>2024-08-16 19:58:26</td>\n",
       "      <td>245.0</td>\n",
       "      <td>2.10</td>\n",
       "      <td>2.14</td>\n",
       "      <td>2.19</td>\n",
       "      <td>0.140000</td>\n",
       "      <td>7.142850</td>\n",
       "      <td>547.0</td>\n",
       "      <td>7678</td>\n",
       "      <td>0.219979</td>\n",
       "      <td>False</td>\n",
       "      <td>REGULAR</td>\n",
       "      <td>USD</td>\n",
       "      <td>Call</td>\n",
       "      <td>2024-10-18 23:59:59</td>\n",
       "      <td>62</td>\n",
       "    </tr>\n",
       "    <tr>\n",
       "      <th>39</th>\n",
       "      <td>AAPL241115C00245000</td>\n",
       "      <td>2024-08-16 19:42:09</td>\n",
       "      <td>245.0</td>\n",
       "      <td>4.34</td>\n",
       "      <td>4.30</td>\n",
       "      <td>4.40</td>\n",
       "      <td>0.340000</td>\n",
       "      <td>8.500004</td>\n",
       "      <td>1063.0</td>\n",
       "      <td>39320</td>\n",
       "      <td>0.246101</td>\n",
       "      <td>False</td>\n",
       "      <td>REGULAR</td>\n",
       "      <td>USD</td>\n",
       "      <td>Call</td>\n",
       "      <td>2024-11-15 23:59:59</td>\n",
       "      <td>90</td>\n",
       "    </tr>\n",
       "    <tr>\n",
       "      <th>40</th>\n",
       "      <td>AAPL241220C00245000</td>\n",
       "      <td>2024-08-16 19:47:34</td>\n",
       "      <td>245.0</td>\n",
       "      <td>5.80</td>\n",
       "      <td>5.85</td>\n",
       "      <td>5.95</td>\n",
       "      <td>0.450000</td>\n",
       "      <td>8.411221</td>\n",
       "      <td>128.0</td>\n",
       "      <td>5668</td>\n",
       "      <td>0.242866</td>\n",
       "      <td>False</td>\n",
       "      <td>REGULAR</td>\n",
       "      <td>USD</td>\n",
       "      <td>Call</td>\n",
       "      <td>2024-12-20 23:59:59</td>\n",
       "      <td>125</td>\n",
       "    </tr>\n",
       "    <tr>\n",
       "      <th>48</th>\n",
       "      <td>AAPL250117C00245000</td>\n",
       "      <td>2024-08-16 19:47:34</td>\n",
       "      <td>245.0</td>\n",
       "      <td>7.05</td>\n",
       "      <td>7.10</td>\n",
       "      <td>7.25</td>\n",
       "      <td>0.450000</td>\n",
       "      <td>6.818186</td>\n",
       "      <td>365.0</td>\n",
       "      <td>14905</td>\n",
       "      <td>0.244270</td>\n",
       "      <td>False</td>\n",
       "      <td>REGULAR</td>\n",
       "      <td>USD</td>\n",
       "      <td>Call</td>\n",
       "      <td>2025-01-17 23:59:59</td>\n",
       "      <td>153</td>\n",
       "    </tr>\n",
       "    <tr>\n",
       "      <th>40</th>\n",
       "      <td>AAPL250321C00245000</td>\n",
       "      <td>2024-08-16 18:48:06</td>\n",
       "      <td>245.0</td>\n",
       "      <td>10.50</td>\n",
       "      <td>10.50</td>\n",
       "      <td>10.65</td>\n",
       "      <td>0.200000</td>\n",
       "      <td>1.941746</td>\n",
       "      <td>11.0</td>\n",
       "      <td>2890</td>\n",
       "      <td>0.257973</td>\n",
       "      <td>False</td>\n",
       "      <td>REGULAR</td>\n",
       "      <td>USD</td>\n",
       "      <td>Call</td>\n",
       "      <td>2025-03-21 23:59:59</td>\n",
       "      <td>216</td>\n",
       "    </tr>\n",
       "    <tr>\n",
       "      <th>40</th>\n",
       "      <td>AAPL250620C00245000</td>\n",
       "      <td>2024-08-16 19:49:20</td>\n",
       "      <td>245.0</td>\n",
       "      <td>14.68</td>\n",
       "      <td>14.80</td>\n",
       "      <td>14.95</td>\n",
       "      <td>0.440001</td>\n",
       "      <td>3.089891</td>\n",
       "      <td>41.0</td>\n",
       "      <td>5715</td>\n",
       "      <td>0.270027</td>\n",
       "      <td>False</td>\n",
       "      <td>REGULAR</td>\n",
       "      <td>USD</td>\n",
       "      <td>Call</td>\n",
       "      <td>2025-06-20 23:59:59</td>\n",
       "      <td>307</td>\n",
       "    </tr>\n",
       "    <tr>\n",
       "      <th>39</th>\n",
       "      <td>AAPL250919C00245000</td>\n",
       "      <td>2024-08-16 19:07:20</td>\n",
       "      <td>245.0</td>\n",
       "      <td>18.65</td>\n",
       "      <td>18.50</td>\n",
       "      <td>18.90</td>\n",
       "      <td>0.299999</td>\n",
       "      <td>1.634873</td>\n",
       "      <td>8.0</td>\n",
       "      <td>3844</td>\n",
       "      <td>0.279655</td>\n",
       "      <td>False</td>\n",
       "      <td>REGULAR</td>\n",
       "      <td>USD</td>\n",
       "      <td>Call</td>\n",
       "      <td>2025-09-19 23:59:59</td>\n",
       "      <td>398</td>\n",
       "    </tr>\n",
       "    <tr>\n",
       "      <th>39</th>\n",
       "      <td>AAPL251219C00245000</td>\n",
       "      <td>2024-08-15 15:45:54</td>\n",
       "      <td>245.0</td>\n",
       "      <td>21.47</td>\n",
       "      <td>22.00</td>\n",
       "      <td>22.55</td>\n",
       "      <td>0.000000</td>\n",
       "      <td>0.000000</td>\n",
       "      <td>4.0</td>\n",
       "      <td>1717</td>\n",
       "      <td>0.287422</td>\n",
       "      <td>False</td>\n",
       "      <td>REGULAR</td>\n",
       "      <td>USD</td>\n",
       "      <td>Call</td>\n",
       "      <td>2025-12-19 23:59:59</td>\n",
       "      <td>489</td>\n",
       "    </tr>\n",
       "    <tr>\n",
       "      <th>46</th>\n",
       "      <td>AAPL260116C00245000</td>\n",
       "      <td>2024-08-16 18:43:45</td>\n",
       "      <td>245.0</td>\n",
       "      <td>23.32</td>\n",
       "      <td>22.95</td>\n",
       "      <td>23.80</td>\n",
       "      <td>0.619999</td>\n",
       "      <td>2.731273</td>\n",
       "      <td>15.0</td>\n",
       "      <td>2448</td>\n",
       "      <td>0.291206</td>\n",
       "      <td>False</td>\n",
       "      <td>REGULAR</td>\n",
       "      <td>USD</td>\n",
       "      <td>Call</td>\n",
       "      <td>2026-01-16 23:59:59</td>\n",
       "      <td>517</td>\n",
       "    </tr>\n",
       "    <tr>\n",
       "      <th>41</th>\n",
       "      <td>AAPL260618C00245000</td>\n",
       "      <td>2024-08-16 18:22:22</td>\n",
       "      <td>245.0</td>\n",
       "      <td>28.35</td>\n",
       "      <td>27.55</td>\n",
       "      <td>28.75</td>\n",
       "      <td>0.480000</td>\n",
       "      <td>1.722280</td>\n",
       "      <td>10.0</td>\n",
       "      <td>754</td>\n",
       "      <td>0.296302</td>\n",
       "      <td>False</td>\n",
       "      <td>REGULAR</td>\n",
       "      <td>USD</td>\n",
       "      <td>Call</td>\n",
       "      <td>2026-06-18 23:59:59</td>\n",
       "      <td>670</td>\n",
       "    </tr>\n",
       "  </tbody>\n",
       "</table>\n",
       "</div>"
      ],
      "text/plain": [
       "         contractSymbol       lastTradeDate  strike  lastPrice    bid    ask  \\\n",
       "39  AAPL240823C00245000 2024-08-16 19:35:30   245.0       0.02   0.01   0.02   \n",
       "33  AAPL240830C00245000 2024-08-16 19:49:25   245.0       0.08   0.08   0.09   \n",
       "25  AAPL240906C00245000 2024-08-16 19:39:15   245.0       0.19   0.17   0.20   \n",
       "23  AAPL240913C00245000 2024-08-16 19:59:29   245.0       0.44   0.43   0.47   \n",
       "48  AAPL240920C00245000 2024-08-16 19:59:09   245.0       0.76   0.75   0.78   \n",
       "17  AAPL240927C00245000 2024-08-16 19:51:03   245.0       1.05   1.03   1.10   \n",
       "38  AAPL241018C00245000 2024-08-16 19:58:26   245.0       2.10   2.14   2.19   \n",
       "39  AAPL241115C00245000 2024-08-16 19:42:09   245.0       4.34   4.30   4.40   \n",
       "40  AAPL241220C00245000 2024-08-16 19:47:34   245.0       5.80   5.85   5.95   \n",
       "48  AAPL250117C00245000 2024-08-16 19:47:34   245.0       7.05   7.10   7.25   \n",
       "40  AAPL250321C00245000 2024-08-16 18:48:06   245.0      10.50  10.50  10.65   \n",
       "40  AAPL250620C00245000 2024-08-16 19:49:20   245.0      14.68  14.80  14.95   \n",
       "39  AAPL250919C00245000 2024-08-16 19:07:20   245.0      18.65  18.50  18.90   \n",
       "39  AAPL251219C00245000 2024-08-15 15:45:54   245.0      21.47  22.00  22.55   \n",
       "46  AAPL260116C00245000 2024-08-16 18:43:45   245.0      23.32  22.95  23.80   \n",
       "41  AAPL260618C00245000 2024-08-16 18:22:22   245.0      28.35  27.55  28.75   \n",
       "\n",
       "      change  percentChange  volume  openInterest  impliedVolatility  \\\n",
       "39  0.000000       0.000000   191.0          1227           0.257820   \n",
       "33 -0.010000     -11.111116  1193.0          2257           0.216805   \n",
       "25  0.010000       5.555550   553.0           750           0.201668   \n",
       "23  0.090000      25.714287   230.0          5376           0.208748   \n",
       "48  0.090000      13.432832  3091.0         21403           0.212044   \n",
       "17  0.140000      15.384607   144.0           444           0.213509   \n",
       "38  0.140000       7.142850   547.0          7678           0.219979   \n",
       "39  0.340000       8.500004  1063.0         39320           0.246101   \n",
       "40  0.450000       8.411221   128.0          5668           0.242866   \n",
       "48  0.450000       6.818186   365.0         14905           0.244270   \n",
       "40  0.200000       1.941746    11.0          2890           0.257973   \n",
       "40  0.440001       3.089891    41.0          5715           0.270027   \n",
       "39  0.299999       1.634873     8.0          3844           0.279655   \n",
       "39  0.000000       0.000000     4.0          1717           0.287422   \n",
       "46  0.619999       2.731273    15.0          2448           0.291206   \n",
       "41  0.480000       1.722280    10.0           754           0.296302   \n",
       "\n",
       "    inTheMoney contractSize currency Option Type     Expiration Date  \\\n",
       "39       False      REGULAR      USD        Call 2024-08-23 23:59:59   \n",
       "33       False      REGULAR      USD        Call 2024-08-30 23:59:59   \n",
       "25       False      REGULAR      USD        Call 2024-09-06 23:59:59   \n",
       "23       False      REGULAR      USD        Call 2024-09-13 23:59:59   \n",
       "48       False      REGULAR      USD        Call 2024-09-20 23:59:59   \n",
       "17       False      REGULAR      USD        Call 2024-09-27 23:59:59   \n",
       "38       False      REGULAR      USD        Call 2024-10-18 23:59:59   \n",
       "39       False      REGULAR      USD        Call 2024-11-15 23:59:59   \n",
       "40       False      REGULAR      USD        Call 2024-12-20 23:59:59   \n",
       "48       False      REGULAR      USD        Call 2025-01-17 23:59:59   \n",
       "40       False      REGULAR      USD        Call 2025-03-21 23:59:59   \n",
       "40       False      REGULAR      USD        Call 2025-06-20 23:59:59   \n",
       "39       False      REGULAR      USD        Call 2025-09-19 23:59:59   \n",
       "39       False      REGULAR      USD        Call 2025-12-19 23:59:59   \n",
       "46       False      REGULAR      USD        Call 2026-01-16 23:59:59   \n",
       "41       False      REGULAR      USD        Call 2026-06-18 23:59:59   \n",
       "\n",
       "    Days to Expiration  \n",
       "39                   6  \n",
       "33                  13  \n",
       "25                  20  \n",
       "23                  27  \n",
       "48                  34  \n",
       "17                  41  \n",
       "38                  62  \n",
       "39                  90  \n",
       "40                 125  \n",
       "48                 153  \n",
       "40                 216  \n",
       "40                 307  \n",
       "39                 398  \n",
       "39                 489  \n",
       "46                 517  \n",
       "41                 670  "
      ]
     },
     "execution_count": 41,
     "metadata": {},
     "output_type": "execute_result"
    }
   ],
   "source": [
    "selected_calls_at_strike "
   ]
  },
  {
   "cell_type": "code",
   "execution_count": 42,
   "metadata": {},
   "outputs": [],
   "source": [
    "# Filter out low implied volatility options\n",
    "filtered_calls_at_strike = selected_calls_at_strike[selected_calls_at_strike[\"impliedVolatility\"] >= Minimum_impliedVolatility]"
   ]
  },
  {
   "cell_type": "code",
   "execution_count": 43,
   "metadata": {},
   "outputs": [],
   "source": [
    "# Set the expiration date as the index for better plotting\n",
    "filtered_calls_at_strike.set_index(\"Expiration Date\", inplace=True)"
   ]
  },
  {
   "cell_type": "code",
   "execution_count": 44,
   "metadata": {},
   "outputs": [],
   "source": [
    "#filtered_calls_at_strike"
   ]
  },
  {
   "cell_type": "markdown",
   "metadata": {},
   "source": [
    "#### Using matplotlib"
   ]
  },
  {
   "cell_type": "code",
   "execution_count": 45,
   "metadata": {},
   "outputs": [
    {
     "data": {
      "application/vnd.jupyter.widget-view+json": {
       "model_id": "614ea3ddcc614d619f3c34aa6fe95496",
       "version_major": 2,
       "version_minor": 0
      },
      "image/png": "[encoded data removed]",
      "text/html": [
       "\n",
       "            <div style=\"display: inline-block;\">\n",
       "                <div class=\"jupyter-widgets widget-label\" style=\"text-align: center;\">\n",
       "                    Figure\n",
       "                </div>\n",
       "                <img src='data:image/png;base64,iVBORw0KGgoAAAANSUhEUgAAA+gAAAJYCAYAAADxHswlAAAAOXRFWHRTb2Z0d2FyZQBNYXRwbG90bGliIHZlcnNpb24zLjcuNSwgaHR0cHM6Ly9tYXRwbG90bGliLm9yZy/xnp5ZAAAACXBIWXMAAA9hAAAPYQGoP6dpAACYM0lEQVR4nOzdd3hUZfrG8Xtm0isJIaQASei9C4JYqRYQKyIKgsKKIrrs2taVsuoirKu4FrCvCCgqPwvKUkRAESRIky5C6ClAIIHUycz5/RFmTEgCARLOJPl+rotrzZmTk2fOSbLcvO/7vBbDMAwBAAAAAABTWc0uAAAAAAAAENABAAAAAPAIBHQAAAAAADwAAR0AAAAAAA9AQAcAAAAAwAMQ0AEAAAAA8AAEdAAAAAAAPAABHQAAAAAAD0BABwAAAADAAxDQAQAAAADwAAR0AAAAAAA8AAEdAAAAAAAPQEAHAAAAAMADENABAAAAAPAABHQAAAAAADwAAR0AAAAAAA9AQAcAAAAAwAMQ0AEAAAAA8AAEdAAAAAAAPAABHQAAAAAAD0BABwAAAADAAxDQAQAAAADwAAR0AAAAAAA8AAEdAAAAAAAPQEAHAAAAAMADENABAAAAAPAABHQAAAAAADwAAR0AAAAAAA9AQAcAAAAAwAMQ0AEAAAAA8AAEdAAAAAAAPAABHQAAAAAAD0BABwAAAADAAxDQAQAAAADwAAR0AAAAAAA8AAEdAAAAAAAPQEAHAAAAAMADENABAAAAAPAABHQAAAAAADwAAR0AAAAAAA9AQAcAAAAAwAMQ0AEAAAAA8AAEdAAAAAAAPAABHQAAAAAAD0BABwAAAADAAxDQAQAAAADwAAR0AAAAAAA8AAEdAAAAAAAPQEAHAAAAAMADENAB1HjXXHONrrnmGvfHe/fulcVi0X//+98K+xr//e9/ZbFYtHfv3gq7ZnksX75cFotFy5cvr9DrWiwWTZw40f1xae/vzPsKVJZdu3apT58+Cg0NlcVi0Zdffml2SRestJ/Za665Rq1btzavqHKorN81AFDTENABmM4V7n755RezSzFV27Zt1aBBAxmGUeY5V1xxherWrauCgoJKr2fBggXFQvjFOnz4sCZOnKiNGzdWyPVc/5BSnj+X+h9GysPpdGrmzJnq2rWrwsPDFRwcrKZNm2ro0KH6+eef3edt27ZNEydONPU9eEINZzNs2DBt3rxZL7zwgj766CN17ty5Ur/ekSNH9Oijj6p58+by9/dXZGSkunTpoieffFKnTp1ynzdnzhxNmzatUmupKEV/XqxWq2JiYtSnTx+PDtzHjh3Tv/71L1111VWqU6eOatWqpcsvv1xz58495+e+8MILslgspf7DxzXXXFPq75F+/fqVu7b33ntPLVq0kJ+fn5o0aaLXXnvtvN4bgJrLy+wCAMDTxMXFKScnR97e3pf06w4ZMkRPPfWUfvzxR1111VUlXt+7d69Wr16tMWPGyMur8n99L1iwQG+88UapIT0nJ+ecNSxevLjYx4cPH9akSZMUHx+v9u3bX3R9derU0UcffVTs2L///W8dPHhQr7zySolzPc3YsWP1xhtv6Oabb9aQIUPk5eWlnTt36n//+58aNmyoyy+/XFJhOJ40aZKuueYaxcfHm1KrJ9RQlpycHK1evVrPPPOMxowZU+lfLz09XZ07d1ZmZqZGjBih5s2b69ixY/r11181ffp0jR49WkFBQZIKA/qWLVv02GOPlfv6V111lXJycuTj41NJ76BsvXv31tChQ2UYhpKSkvTmm2/quuuu07fffqvrr7/+rJ9rRt2u537DDTfo73//u7y8vDRv3jzddddd7u/Z0hw8eFD//Oc/FRgYWOa169Wrp8mTJxc7FhMTU6663nrrLT344IO67bbbNG7cOP34448aO3assrOz9eSTT5b/DQKokQjoAHAGi8UiPz+/S/517777bj399NOaM2dOqQH9448/lmEYGjJkyCWv7UzluT+V/Rf1wMBA3XPPPcWOffLJJzp+/HiJ4xfC6XQqPz+/Ur4XUlNT9eabb2rkyJF6++23i702bdo0HTly5IKuaxiGcnNz5e/vXxFlVrqsrKyzhqTycN2rWrVqVUBFhc5W13vvvaf9+/frp59+Uvfu3Yu9lpmZecHf97m5ufLx8ZHVajXl948kNW3atNjPzi233KK2bdtq2rRpZQZ0M+tu1aqVdu3apbi4OPexhx56SL169dKUKVP0xBNPlPoc//rXv+ryyy+Xw+HQ0aNHS712aGjoBf0eycnJ0TPPPKMbb7xRn3/+uSRp5MiRcjqdeu655zRq1CiFhYWd93UB1BxMcQfgke677z4FBQVp//79uummmxQUFKTY2Fi98cYbkqTNmzfruuuuU2BgoOLi4jRnzpxin++aNv/DDz/oT3/6k2rXrq2QkBANHTpUx48fP+vXLmsN+o4dO3T77bcrPDxcfn5+6ty5s77++usSn79161Zdd9118vf3V7169fT888/L6XSe8z3Xr19fV111lT7//HPZ7fYSr8+ZM0eNGjVS165dJUkbNmzQ9ddfr5CQEAUFBalnz57FpkaX5ccff9Qdd9yhBg0ayNfXV/Xr19ef//xn5eTkuM+577773Pe66BRPlzPXoJem6Br05cuX67LLLpMkDR8+3H29//73v5owYYK8vb1LDaWjRo1SrVq1lJube873VZa8vDxNmDBBjRs3dr/fJ554Qnl5ecXOs1gsGjNmjGbPnq1WrVrJ19dXCxcudH8vrVy5UmPHjnVPpf3Tn/6k/Px8nThxQkOHDlVYWJjCwsL0xBNPnHWZgiQlJSXJMAxdccUVJV6zWCyKjIyUVPh9fMcdd0iSrr32Wvd9c007jo+P10033aRFixapc+fO8vf311tvvXXWPgqlPbtDhw7p/vvvV0xMjHx9fZWQkKDRo0crPz//nDWU9b0QHx+v++67z/2x6z6uWLFCDz30kCIjI1WvXj336//73/905ZVXKjAwUMHBwbrxxhu1devWs97HiRMnusPZ448/LovFUmyEvzw/I+eq60y7d++WzWZzz3AoKiQkxB1Sr7nmGn377bfat2+f+565anOt1/7kk0/097//XbGxsQoICFBmZma513IvXrxYAQEBGjx4sHvJS3l/R5VXmzZtFBERoaSkpAuue82aNbrhhhsUFhamwMBAtW3bVq+++mqxcy607oSEhGLhXCr8fhw4cKDy8vK0Z8+eEp/zww8/6PPPPy/X0oOCgoJiSxbKY9myZTp27JgeeuihYscffvhhZWVl6dtvvz2v6wGoeRhBB+CxHA6Hrr/+el111VWaOnWqZs+erTFjxigwMFDPPPOMhgwZoltvvVUzZszQ0KFD1a1bNyUkJBS7xpgxY1SrVi1NnDhRO3fu1PTp07Vv3z73XybLa+vWrbriiisUGxurp556SoGBgfr00081cOBAzZs3T7fccoskKSUlRddee60KCgrc57399tvlHtEcMmSIRo0apUWLFummm25yH9+8ebO2bNmi8ePHu+u58sorFRISoieeeELe3t566623dM0112jFihXuEF+azz77TNnZ2Ro9erRq166txMREvfbaazp48KA+++wzSdKf/vQnHT58WEuWLCkxjfxCtGjRQv/4xz80fvx4jRo1SldeeaUkqXv37urRo4f+8Y9/aO7cucWmKOfn5+vzzz/XbbfddsEjc06nUwMGDNDKlSs1atQotWjRQps3b9Yrr7yi3377rUQzse+//16ffvqpxowZo4iICMXHx7vXzD/yyCOKiorSpEmT9PPPP+vtt99WrVq1tGrVKjVo0ED//Oc/tWDBAv3rX/9S69atNXTo0DLrcoWKzz77THfccYcCAgJKPe+qq67S2LFj9Z///Ed/+9vf1KJFC/f9dNm5c6cGDx6sP/3pTxo5cqSaNWt2Xvfo8OHD6tKli06cOKFRo0apefPmOnTokD7//HNlZ2eXq4bz8dBDD6lOnToaP368srKyJEkfffSRhg0bpr59+2rKlCnKzs7W9OnT1aNHD23YsKHMafW33nqratWqpT//+c8aPHiwbrjhBvf08vP9GSmtrtLExcXJ4XC4ay7LM888o4yMjGJLLly1uTz33HPy8fHRX//6V+Xl5ZV79P2bb77R7bffrkGDBun999+XzWYr9++o83H8+HEdP35cjRs3vqC6lyxZoptuuknR0dF69NFHFRUVpe3bt+ubb77Ro48+Kqn8v1vPR0pKiiQpIiKi2HGHw6FHHnlEDzzwgNq0aXPWa/z2228KDAxUfn6+6tatq5EjR2r8+PHnXPq0YcMGSSrRB6FTp06yWq3asGFDhczwAVCNGQBgsg8++MCQZKxdu9Z9bNiwYYYk45///Kf72PHjxw1/f3/DYrEYn3zyifv4jh07DEnGhAkTSlyzU6dORn5+vvv41KlTDUnGV1995T529dVXG1dffbX746SkJEOS8cEHH7iP9ezZ02jTpo2Rm5vrPuZ0Oo3u3bsbTZo0cR977LHHDEnGmjVr3MfS0tKM0NBQQ5KRlJR01nuRnp5u+Pr6GoMHDy52/KmnnjIkGTt37jQMwzAGDhxo+Pj4GLt373afc/jwYSM4ONi46qqr3MeWLVtmSDKWLVvmPpadnV3i606ePNmwWCzGvn373Mcefvhho6z/myjrfhd9f2fe17Vr15a4ry7dunUzunbtWuzY//3f/5Wo/VxuvPFGIy4uzv3xRx99ZFitVuPHH38sdt6MGTMMScZPP/1U7D1ZrVZj69atxc51vbe+ffsaTqezWM0Wi8V48MEH3ccKCgqMevXqFXvfZRk6dKghyQgLCzNuueUW46WXXjK2b99e4rzPPvuszPsQFxdnSDIWLlxY7Hhp38NF32fRZzd06FDDarUW+/lzcb3fs9Vw5vWK1jZs2DD3x6772KNHD6OgoMB9/OTJk0atWrWMkSNHFvv8lJQUIzQ0tMTxM7ne67/+9a9ix8v7M1JWXWVJSUkx6tSpY0gymjdvbjz44IPGnDlzjBMnTpQ498zvRxfXz2XDhg1L/DyW9jN79dVXG61atTIMwzDmzZtneHt7GyNHjjQcDof7nPL+jiqLJOP+++83jhw5YqSlpRlr1qwxevbsaUgy/v3vf5933QUFBUZCQoIRFxdnHD9+vNi5RX+OLrbuMx07dsyIjIw0rrzyyhKvvf7660ZoaKiRlpZmGEbx+1rUiBEjjIkTJxrz5s0zZs6caQwYMMCQZNx5553n/PoPP/ywYbPZSn2tTp06xl133XWe7whATcMUdwAe7YEHHnD/d61atdSsWTMFBgbqzjvvdB9v1qyZatWqVep0xlGjRhUb8Rg9erS8vLy0YMGCcteQnp6u77//XnfeeadOnjypo0eP6ujRozp27Jj69u2rXbt26dChQ5IKG6tdfvnl6tKli/vz69SpU+5142FhYbrhhhv09ddfu0fxDMPQJ598os6dO6tp06ZyOBxavHixBg4cqIYNG7o/Nzo6WnfffbdWrlypzMzMMr9G0dH8rKwsHT16VN27d5dhGO7Rn0tt6NChWrNmjXbv3u0+Nnv2bNWvX19XX331BV/3s88+U4sWLdS8eXP3czt69Kiuu+46SYXTUYu6+uqr1bJly1Kvdf/99xebddG1a1cZhqH777/ffcxms6lz586lfi+e6YMPPtDrr7+uhIQEffHFF/rrX/+qFi1aqGfPnu7vp/JISEhQ3759y31+UU6nU19++aX69+9faufz85llUl4jR46UzWZzf7xkyRKdOHFCgwcPLvaMbDabunbtWuIZlceF/IycWVdZ6tatq02bNunBBx/U8ePHNWPGDN19992KjIzUc889d87lDUUNGzbsvPoFfPzxxxo0aJD+9Kc/6a233pLVWvjXuPP5HXU27733nurUqaPIyEh17dpVP/30k8aNG1eiyV156t6wYYOSkpL02GOPlegP4Pq+qqi6XZxOp4YMGaITJ06U6Jp+7NgxjR8/Xs8+++w5m0a+9957mjBhgm699Vbde++9+uqrrzRy5Eh9+umn51xGdLZGeX5+fsWWEgFAaQjoADyWn59fib9IhYaGql69eiWCQ2hoaKlry5s0aVLs46CgIEVHR5/XdlG///67DMNw/8Wu6J8JEyZIktLS0iRJ+/btK/E1JZ3XtOMhQ4YoKytLX331lSRp1apV2rt3rzvkHzlyRNnZ2aVes0WLFnI6nTpw4ECZ19+/f7/uu+8+hYeHKygoSHXq1HGH4IyMjHLXWZEGDRokX19fzZ49213HN998oyFDhlxUSNy1a5e2bt1a4rk1bdpU0h/PzeXMJRJFNWjQoNjHoaGhkgp7B5x5/Fx9DiTJarXq4Ycf1rp163T06FF99dVXuv766/X999/rrrvuKtf7O1fN53LkyBFlZmZe0j22z6x3165dkqTrrruuxHNavHhxiWdUHhfyM3I+9zE6OlrTp09XcnKydu7cqf/85z/u6fHvvfdeua9zPl8zKSlJ99xzj2677Ta99tprxX4uzud31NncfPPNWrJkib777jutWbNGR48e1b///W/3PwScT92uf2w72/dWRdXt8sgjj2jhwoV699131a5du2Kv/f3vf1d4eLgeeeSRcl+vqL/85S+SpO++++6s5/n7+ys/P7/U16pSA0cA5mENOgCPVdZoVlnHz2fk6ny4Grz99a9/LXOk8sw1mhfjpptuUmhoqObMmaO7775bc+bMkc1mO6/QVhaHw6HevXsrPT1dTz75pJo3b67AwEAdOnRI9913X7ma2VWGsLAw3XTTTZo9e7bGjx+vzz//XHl5eRe9VtPpdKpNmzZ6+eWXS339zHB9tr88n8/34/l+L9auXVsDBgzQgAED3Guk9+3bV6IBVmlKq7msf9RwOBznVdfFKOtrnVmv63vuo48+UlRUVInzL8WWgqXVVR4Wi0VNmzZV06ZNdeONN6pJkyaaPXt2sZk/FfU1o6OjFR0drQULFuiXX34pNuOhon5H1atXT7169TrneRUVMivyd+ukSZP05ptv6sUXX9S9995b7LVdu3bp7bff1rRp03T48GH38dzcXNntdu3du1chISEKDw8v8/qu3xXp6elnrSM6OloOh0NpaWnuZo9SYU+NY8eOlXurNgA1FwEdQLW2a9cuXXvtte6PT506peTkZN1www3lvoZriqy3t/c5//IaFxfnHhEsaufOneX+er6+vrr99ts1c+ZMpaam6rPPPtN1113nDi916tRRQEBAqdfcsWOHrFZrieDpsnnzZv3222/68MMPizUxW7JkSYlzK3p687muN3ToUN18881au3atZs+erQ4dOqhVq1YX9TUbNWqkTZs2qWfPnpUyXbsydO7cWStWrFBycrLi4uIuqG7XNk4nTpwodnzfvn3FPq5Tp45CQkK0ZcuWs17vbDWEhYWV+Dr5+flKTk4uV62NGjWSJEVGRpYrHJbHxfyMXKiGDRsqLCys2PuuyO85Pz8/ffPNN7ruuuvUr18/rVixwv3zcT6/oy4V13PdsmVLmTVVVN1vvPGGJk6cqMcee6zUfcYPHTokp9OpsWPHauzYsSVeT0hI0KOPPnrWzu6uZSvnmh7fvn17SdIvv/xS7P9nfvnlFzmdTvfrAFAWprgDqNbefvvtYluWTZ8+XQUFBWXu6VuayMhIXXPNNXrrrbdKDR1Ftwe74YYb9PPPPysxMbHY666p2+U1ZMgQ2e12/elPf9KRI0eKrWG32Wzq06ePvvrqq2JT9VNTUzVnzhz16NFDISEhpV7XNdpbdITXMIwS2x5Jcu8ffGb4ulDnut7111+viIgITZkyRStWrKiQTsd33nmnDh06pHfeeafEazk5OWft1l2ZUlJStG3bthLH8/PztXTpUlmtVvfI4YU8h5CQEEVEROiHH34odvzNN98s9rHVatXAgQM1f/58/fLLLyWu4/o+OVsNjRo1KvF13n777XKP1vft21chISH65z//Wer2gheyJ/zF/Iycy5o1a0r9vklMTNSxY8eKTasPDAys0GUjoaGhWrRokSIjI9W7d2/3NPLz+R11qXTs2FEJCQmaNm1aie8b1/dVRdQ9d+5cjR07VkOGDClzpkzr1q31xRdflPjTqlUrNWjQQF988YW7l0RmZmaJLRgNw9Dzzz8vScVG+rOzs7Vjx45ie6lfd911Cg8P1/Tp04tdY/r06QoICNCNN954zvcEoGZjBB1AtZafn6+ePXvqzjvv1M6dO/Xmm2+qR48eGjBgwHld54033lCPHj3Upk0bjRw5Ug0bNlRqaqpWr16tgwcPatOmTZKkJ554Qh999JH69eunRx991L3NWlxcnH799ddyf72rr75a9erV01dffSV/f3/deuutxV5//vnntWTJEvXo0UMPPfSQvLy89NZbbykvL09Tp04t87rNmzdXo0aN9Ne//lWHDh1SSEiI5s2bV+qa6U6dOkmSxo4dq759+170NPtGjRqpVq1amjFjhoKDgxUYGKiuXbu617N6e3vrrrvu0uuvvy6bzabBgwdf8Ndyuffee/Xpp5/qwQcf1LJly3TFFVfI4XBox44d+vTTT937h19qBw8eVJcuXXTdddepZ8+eioqKUlpamj7++GNt2rRJjz32mHuLqPbt28tms2nKlCnKyMiQr6+vrrvuumLTZ0vzwAMP6MUXX9QDDzygzp0764cfftBvv/1W4rx//vOfWrx4sa6++mr3VnTJycn67LPPtHLlStWqVeusNTzwwAN68MEHddttt6l3797atGmTFi1aVGKLq7KEhIRo+vTpuvfee9WxY0fdddddqlOnjvbv369vv/1WV1xxhV5//fXzvscX+jNyLh999JFmz56tW265RZ06dZKPj4+2b9+u999/X35+fvrb3/7mPrdTp06aO3euxo0bp8suu0xBQUHq37//BX9tqXDrMNf76tWrl1auXKnY2Nhy/466VKxWq6ZPn67+/furffv2Gj58uKKjo7Vjxw5t3bpVixYtklT+362lSUxM1NChQ1W7dm317NmzxD+Edu/eXQ0bNlRERIQGDhxY4vNdI+ZFX1u/fr0GDx6swYMHq3HjxsrJydEXX3yhn376SaNGjVLHjh2Lff1rr71WEyZM0MSJEyUVTv9/7rnn9PDDD+uOO+5Q37599eOPP2rWrFl64YUXzjqNHgAksc0aAPOVtc1aYGBgiXPL2hYnLi7OuPHGG0tcc8WKFcaoUaOMsLAwIygoyBgyZIhx7NixEtc81zZrhmEYu3fvNoYOHWpERUUZ3t7eRmxsrHHTTTcZn3/+ebHzfv31V+Pqq682/Pz8jNjYWOO5554z3nvvvXJts1bU448/ftatfdavX2/07dvXCAoKMgICAoxrr73WWLVqVbFzStuyadu2bUavXr2MoKAgIyIiwhg5cqSxadOmEu+5oKDAeOSRR4w6deoYFoul2JZruoBt1gzDML766iujZcuWhpeXV6n3ODEx0ZBk9OnTp1z36EylbWuVn59vTJkyxWjVqpXh6+trhIWFGZ06dTImTZpkZGRkFHtPDz/8cIlrlvb9aRiGMWHCBEOSceTIkWLHy/reLSozM9N49dVXjb59+xr16tUzvL29jeDgYKNbt27GO++8U2wbKsMwjHfeecdo2LChYbPZij3PM7/vi8rOzjbuv/9+IzQ01AgODjbuvPNOIy0trdRt0fbt22cMHTrUqFOnjuHr62s0bNjQePjhh428vLxz1uBwOIwnn3zSiIiIMAICAoy+ffsav//+e5nbrJW2nZthFH6v9u3b1wgNDTX8/PyMRo0aGffdd5/xyy+/nPVelrXNmmGU72fkXHWd6ddffzUef/xxo2PHjkZ4eLjh5eVlREdHG3fccYexfv36YueeOnXKuPvuu41atWoZktzfm66fy88++6zU+3Dmz2xpv/d+//13Izo62mjRooX7e7C8v6NKU9b3f2m1lbduwzCMlStXGr179zaCg4ONwMBAo23btsZrr71W7JwLrdv17Mr6U9o2g0WVdl/37Nlj3HHHHUZ8fLzh5+dnBAQEGJ06dTJmzJhR4ufS9Z5L22bw7bffNpo1a2b4+PgYjRo1Ml555ZUSnw8ApbEYRiV1VQIAE/33v//V8OHDtXbtWlNGSHFhNm3apPbt22vmzJklGj0BAABUd6xBBwB4jHfeeUdBQUElpvQDAADUBKxBBwCYbv78+dq2bZvefvttjRkzxt2UDAAAoCYhoAMATPfII48oNTVVN9xwgyZNmmR2OQAAAKZgDToAAAAAAB6ANegAAAAAAHgAAjoAAAAAAB6ANeg1jNPp1OHDhxUcHCyLxWJ2OQAAAABMYhiGTp48qZiYGFmtjN16BFN3Ya8BXn/9dSMuLs7w9fU1unTpYqxZs6bMc+fNm2d06tTJCA0NNQICAox27doZM2fOLHaO0+k0nn32WSMqKsrw8/Mzevbsafz222/lrufAgQOGJP7whz/84Q9/+MMf/vCHP/wxJBkHDhy44LyDisUIeiWaO3euxo0bpxkzZqhr166aNm2a+vbtq507dyoyMrLE+eHh4XrmmWfUvHlz+fj46JtvvtHw4cMVGRmpvn37SpKmTp2q//znP/rwww+VkJCgZ599Vn379tW2bdvk5+d3zpqCg4MlSQcOHFBISEjFvuFqyG63a/HixerTp4+8vb3NLqdG4hmYi/tvLu6/Z+A5mI9nYC7uv/kq6xlkZmaqfv367owA8xHQK9HLL7+skSNHavjw4ZKkGTNm6Ntvv9X777+vp556qsT511xzTbGPH330UX344YdauXKl+vbtK8MwNG3aNP3973/XzTffLEmaOXOm6tatqy+//FJ33XXXOWtyTWsPCQkhoJeD3W5XQECAQkJC+D8kk/AMzMX9Nxf33zPwHMzHMzAX9998lf0MWPrqOVhoUEny8/O1bt069erVy33MarWqV69eWr169Tk/3zAMLV26VDt37tRVV10lSUpKSlJKSkqxa4aGhqpr167luiYAAAAAwHMxgl5Jjh49KofDobp16xY7XrduXe3YsaPMz8vIyFBsbKzy8vJks9n05ptvqnfv3pKklJQU9zXOvKbrtTPl5eUpLy/P/XFmZqakwn+Fs9vt5//GahjXPeJemYdnYC7uv7m4/56B52A+noG5uP/mq6xnwDP1PAR0DxMcHKyNGzfq1KlTWrp0qcaNG6eGDRuWmP5eXpMnT9akSZNKHF+8eLECAgIustqaY8mSJWaXUOPxDMzF/TcX998z8BzMxzMwF/fffBX9DLKzsyv0erh4BPRKEhERIZvNptTU1GLHU1NTFRUVVebnWa1WNW7cWJLUvn17bd++XZMnT9Y111zj/rzU1FRFR0cXu2b79u1Lvd7TTz+tcePGuT92NYLo06cPa9DLwW63a8mSJerduzdrrkzCMzAX999c3H/PwHMwH8/AXNx/81XWM3DNroXnIKBXEh8fH3Xq1ElLly7VwIEDJRXuQb506VKNGTOm3NdxOp3uKeoJCQmKiorS0qVL3YE8MzNTa9as0ejRo0v9fF9fX/n6+pY47u3tzS/Y88D9Mh/PwFzcf3Nx/z0Dz8F8PANzcf/NV9HPgOfpeQjolWjcuHEaNmyYOnfurC5dumjatGnKyspyd3UfOnSoYmNjNXnyZEmF09E7d+6sRo0aKS8vTwsWLNBHH32k6dOnSyrsrvjYY4/p+eefV5MmTdzbrMXExLj/EQAAAAAAUDUR0CvRoEGDdOTIEY0fP14pKSlq3769Fi5c6G7ytn//flmtfzTSz8rK0kMPPaSDBw/K399fzZs316xZszRo0CD3OU888YSysrI0atQonThxQj169NDChQvLtQc6AAAAAMBzEdAr2ZgxY8qc0r58+fJiHz///PN6/vnnz3o9i8Wif/zjH/rHP/5RUSUCAAAAADwA+6ADAAAAAOABCOgAAAAAAHgAAjoAAAAAAB6AgA4AAAAAgAcgoAMAAAAA4AHo4g4AAAAAl4DDaSgxKV1pJ3MVGeynLgnhslktZpcFD0JABwAAAIBKtnBLsibN36bkjFz3sehQP03o31L9WkebWBk8CVPcAQAAAKASLdySrNGz1hcL55KUkpGr0bPWa+GWZJMqg6choAMAAABAJXE4DU2av01GKa+5jk2av00OZ2lnoKZhijsAAAAAVKDs/ALtO5atfceytOK3IyVGzosyJCVn5CoxKV3dGtW+dEXCIxHQAQAAAOA8ZWTbtfdYlvalZ2vf0SztPZat/emF/3vkZN55Xy/tZNkhHjUHAR0AAAAAzmAYho6eyte+Y6fD9+n/3Xc6lJ/Itp/188MCvNWgdqCCfGz6afexc369yGC/iiodVRgBHQAAAECN5HQaSs7MLQzdx7K191iW9h/Ldgfx7HzHWT8/MthX8bUD1aB2gOJrByiudqDiagcoLjxQoQHekgrXoPeY8r1SMnJLXYdukRQVWrjlGkBABwAAAFBt2R1OHTqeUxi+07O19+gfo+D707OVX+As83MtFikm1F/xEafDd3jh/8ZHBKhBeIACfM4dp2xWiyb0b6nRs9bLIhUL6a4d0Cf0b8l+6JBEQAcAAABQxeXaHTqQ/sfIt2s0fN+xbB06kXPWDuneNovqhwWcHgU/PQJ+ejS8Xpi/fL1sF11fv9bRmn5PxxL7oEexDzrOQEAHAAAA4PFO5tq171jhqPfeY1nadzRb+9ILQ/jZuqRLkp+3VXHhxcO3K4xHh/rJy1b5u0/3ax2t3i2jlJiUrrSTuYoMLpzWzsg5iiKgAwAAADCdYRg64eqMfizbvU2Za2r60VP5Z/38YF8vxUW4wneAO5DHRwQqMthXFov5QdhmtbCVGs6KgA4AAADgkjAMQ2kn84pMQf8jjO89lqWTuQVn/fzagT7uEfC401PSXVPTwwK8PSKEAxeDgA4AAACgwjichg6fyCkM3qenoO89WjgKvu9YtnLsZ++MHhXiVyJ8u6amB/t5X6J3AZiDgA4AAADgvOQXOHXweHaxZmyu0fADx7Nld5TdlM1qkeqFBbhDd3ztQDUIL5yK3iA8QH7eF9+UDaiqCOgAAAAASsjJd2hfepb2pJ7U94ctWv31Nh08nqu9x7J0+ESOztIYXT42q+qH+5cyCh6o2Fr+8vGq/KZsQFVEQAcAAABqqIwcu/afHgUv3CM8yz01PTUzr8iZNmnfwWKfG+BjKxz5rh1Y2Jwt/HRztohARYX40Z0cuAAEdAAAAKCaMgxDx7Lyi3REz9b+0/+771iWjmfbz/r5IX5eiq8dIK/cE7q8dWM1jAx2T02vE+QZndGB6oSADgAAAFRhTqeh1JO52ns0W/vT/wjfru7op/LO3hk9Isi3cOS7SDM215T0WgE+stvtWrBggW7o1Vje3jRpAyoTAR0AAADwcAUOpw6fyC22NZkriO9Pz1ZegbPMz7VYpJhQ/9ON2E4H8fA/AnmgL5EA8BT8NAIAAAAeINfuKNIZvegoeJYOHs9RwVm6snlZLaoX5l9kFPz0evDaAaoXRmd0oKogoAMAAACXSFZewR9bkqWfXhd+NFv707N1OCNHxlk6o/t6WdUgvHj4LvzvQMXU8pOXjc7oQFVHQAcAAAAq0Ins/DP2B/+jQdvRU3ln/dwgXy/3OnBXEG8QHqj4iADVDfaTlc7oQLVGQAcAAEC15nAaSkxKV9rJXEUG+6lLQvhFbQFmGIaOnMorEb5d3dEzcs7eGT0swPuP8O0eDS+cml470IfO6EANRkAHAABAtbVwS7Imzd+m5Ixc97HoUD9N6N9S/VpHl/l5Tqeh5Mxc7Tt6uit6epb2Hf1jv/DsfMdZv27dEF/FhReG7viIQPd+4Q1qByjUn07oAEpHQAcAAEC1tHBLskbPWq8zl3WnZORq9Kz1eu3uDmoVE1qkK3qW9p/+3wPpOcp3lN0Z3WqRYmr5u0N30VHwBuEBCvDhr9kAzh+/OQAAAFDtOJyGJs3fViKcS3IfGzNnw1mv4W2zqH7YH+vBi+4PXi8sQD5eNGUDULEI6AAAAKh2EpPSi01rL4u3zaJGdYJO7xF+eouy01PTY2r5X9RadQA4XwR0AAAAVDupmecO55L00u3tdHOH2EquBgDKh3k5AAAAqFbW7k3Xa0t3levcyBC/Sq4GAMqPEXQAAABUCwfSs/Xi/3bo283JkiSLVOoadNdrUaGFW64BgKcgoAMAAKBKy8y1641lv+uDlXuV73DKapEGXdZA7evX0lPzfpVUPKi7VpVP6N+SNeYAPAoBHQAAAFVSgcOpT9Ye0CtLftOxrHxJUo/GEXrmxhZqER0iSQr19yqxD3pUOfZBBwAzENABAABQ5fzw2xE9/+02/ZZ6SpLUsE6gnrmhha5rHimL5Y9R8X6to9W7ZZQSk9KVdjJXkcGF09oZOQfgiQjoAAAAqDJ+Tzup57/druU7j0iSagV467GeTTTk8jh520rvf2yzWtStUe1LWSYAXBACOgAAADzeKbs06Zvt+njtQTmchrysFg3tFq9HezZRaIC32eUBQIUgoAMAAMBj5Rc49cFPezVtg005jgOSpN4t6+rp65urYZ0gk6sDgIpFQAcAAIDHMQxDi7amavL/tmvfsWxJFjWPCtb4m1qqe+MIs8sDgEpBQAcAAIBH2XIoQ899s01rktIlSXWCfNSrbo4mDL1cfr4+JlcHAJWHgA4AAIBLxuE0yuyonpqZq38t2ql56w/KMCRfL6tGXtlQ91/RQD8sXUzndQDVHgEdAAAAl8TCLckl9iSPDvXTU9c3196j2ZqxYrdy7A5J0s3tY/REv+aKreUvu91uVskAcEkR0AEAAFDpFm5J1uhZ62WccTw5I1ePfrLR/XHHBrX095taqmODsEtaHwB4AgI6AAAAKpXDaWjS/G0lwnlRNov08p3tNaB9jCwWprIDqJmsZhcAAACA6i0xKb3YtPbSOAwpMsSPcA6gRiOgAwAAoNIYhqH1+4+X69y0k2cP8QBQ3THFHQAAABXuQHq2vt50WF9sOKTf006V63Mig/0quSoA8GwEdAAAAFSI41n5+nZzsr7aeEhr9/4xau5ts8hmtSjX7iz18yySokILt1wDgJqMgA4AAIALlmt36Lvtqfpyw2Gt+C1NdkdhKziLRerWsLYGto9VvzZRWvX7UY2etV6SijWLc604n9C/JfucA6jxCOgAAAA4Lw6nodW7j+nLjYe0cEuKTuUVuF9rGR2igR1iNKBdrKJC/5iy3q91tKbf07HEPuhRoX6a0L+l+rWOvqTvAQA8EQEdAAAA52QYhrYeztSXGw7p602HlXYyz/1abC1/3dw+RgM7xKpp3eAyr9GvdbR6t4xSYlK60k7mKjK4cFo7I+cAUIiADgAAgDIdSM/WVxsP6cuNh4s1ewv199aNbaM1sH2sOseFyVrOkG2zWtStUe3KKhcAqjQCOgAAAIo5npWvbzYn66sNh/TLvj+avfl4WdW7RV3d3D5GVzerI18vm4lVAkD1Q0AHAABAkWZvh7R85xEVOM9o9tYhVv1aRynEz9vkSgGg+iKgAwAA1FCuZm9fbDikRVtLNnu7pUOs+reLKdbsDQBQeQjoAAAANUhFNHsDAFQOAjoAAEAN4Gr29sWGQ9p9JMt93NXs7ZYOserUoPzN3gAAFY+ADgAAUE2V1ezN18uqXi3qamCHWF3dtI58vKwmVgkAcCGgAwAAVCM5+YXN3r7aWLLZW/dGtXVze5q9AYCnIqADAABUcQ6noVW7j+rLDYdLNHtrFROige1p9gYAVQEBHQAAoAoyDENbDmXqy42HNL+UZm8DO8RoYPtYNaHZGwBUGQR0AACAKmT/scJmb19uLN7srVaAt25sE62BNHsDgCqLgA4AAODh0rPy9e2vh/XlxsNad2azt5Z1NbA9zd4AoDogoAMAAHignHyHlmxP1VcbDmnFbyWbvQ083ewtmGZvAFBtENABAAA8hKvZ2xcbDmnRlhRl5Tvcr7WKCdEtHQqbvdUNodkbAFRHBHQAAAATuZq9fbHhkOb/elhHijR7qxfmr4HtYzWwQ4waR9LsDQCqOwI6AACACVzN3r7YeEh7zmj2dlPbaA1sH6tOcWGyWGj2BgA1BQEdAADgEnE1e/tiwyGt33/CfdzV7O2W9rG6imZvAFBjEdABAAAqUVnN3qwWqXujCA3sEKu+rerS7A0AQEAHAACoaAUOp1btPqYvN5Zs9tY6NkQD29PsDQBQEgEdAACgAtDsDQBwsQjoAAAAF2H/sWx9ufGQvqTZGwDgIhHQAQAAztOxU3n6dnOyviyl2VvvlnU1kGZvAIALQEAHAAAoh5x8hxZsTdNXGw/rB5q9AQAqAf+sW4neeOMNxcfHy8/PT127dlViYmKZ577zzju68sorFRYWprCwMPXq1avE+adOndKYMWNUr149+fv7q2XLlpoxY0Zlvw0AAGqsAodTP/5+VLN2WdVtynI9+slGfb8jTQVOQ61jQ/T3G1vo56d7atYDXXV7p3qEcwDARWEEvZLMnTtX48aN04wZM9S1a1dNmzZNffv21c6dOxUZGVni/OXLl2vw4MHq3r27/Pz8NGXKFPXp00dbt25VbGysJGncuHH6/vvvNWvWLMXHx2vx4sV66KGHFBMTowEDBlzqtwgAQJXjcBpKTEpX2slcRQb7qUtCuGzW4mvDDcPQ5kMZhc3eNiXr6Kk8FY5pOGj2BgCoVAT0SvLyyy9r5MiRGj58uCRpxowZ+vbbb/X+++/rqaeeKnH+7Nmzi3387rvvat68eVq6dKmGDh0qSVq1apWGDRuma665RpI0atQovfXWW0pMTCSgAwBwDgu3JGvS/G1Kzsh1H4sO9dOE/i3Vr3W09h3L0lcbD+vLDYe05+gfzd7CArzVMjhPYwdcri4NI2j2BgCoNAT0SpCfn69169bp6aefdh+zWq3q1auXVq9eXa5rZGdny263Kzw83H2se/fu+vrrrzVixAjFxMRo+fLl+u233/TKK6+UeZ28vDzl5f2xzUtmZqYkyW63y263n+9bq3Fc94h7ZR6egbm4/+bi/lecRVtT9cgnm2SccTw5I1cPzlqv+NoB2nss233c18uqXs0jNaB9tLrGhWjF90vVJjpQBQUFl7ZwSOJnwWzcf/NV1jPgmXoei2EYZ/5/FS7S4cOHFRsbq1WrVqlbt27u40888YRWrFihNWvWnPMaDz30kBYtWqStW7fKz89PUmHYHjVqlGbOnCkvLy9ZrVa988477hH20kycOFGTJk0qcXzOnDkKCAi4gHcHAEDV4jSkSettOpEvSWcb/TbULNRQ5zqG2oYb8rNdogIBwCTZ2dm6++67lZGRoZCQELPLgRhB90gvvviiPvnkEy1fvtwdziXptdde088//6yvv/5acXFx+uGHH/Twww8rJiZGvXr1KvVaTz/9tMaNG+f+ODMzU/Xr11efPn34ISwHu92uJUuWqHfv3vL2pvGPGXgG5uL+m4v7XzHWJKXrxM+/nPO81+5qr36t6pY4znMwH8/AXNx/81XWM3DNroXnIKBXgoiICNlsNqWmphY7npqaqqioqLN+7ksvvaQXX3xR3333ndq2bes+npOTo7/97W/64osvdOONN0qS2rZtq40bN+qll14qM6D7+vrK19e3xHFvb29+wZ4H7pf5eAbm4v6bi/t/cTYePFmu85yynPU+8xzMxzMwF/fffBX9DHienodt1iqBj4+POnXqpKVLl7qPOZ1OLV26tNiU9zNNnTpVzz33nBYuXKjOnTsXe821ZtxqLf7IbDabnE5nxb4BAACqOIfT0KKtKbrzrdV6afHOcn1OZLDfuU8CAKASMYJeScaNG6dhw4apc+fO6tKli6ZNm6asrCx3V/ehQ4cqNjZWkydPliRNmTJF48eP15w5cxQfH6+UlBRJUlBQkIKCghQSEqKrr75ajz/+uPz9/RUXF6cVK1Zo5syZevnll017nwAAeJKsvAJ99ssBfbBqr/adbvpms0jeXlbl2kv/B22LpKjQwi3XAAAwEwG9kgwaNEhHjhzR+PHjlZKSovbt22vhwoWqW7dwbdv+/fuLjYZPnz5d+fn5uv3224tdZ8KECZo4caIk6ZNPPtHTTz+tIUOGKD09XXFxcXrhhRf04IMPXrL3BQCAJzp0IkcfrtqrjxP362RuYaf1UH9v3d21gYZ2i9OmAyc0etZ6SSrWyd3VMm5C/5Yl9kMHAOBSI6BXojFjxmjMmDGlvrZ8+fJiH+/du/ec14uKitIHH3xQAZUBAFA9bNh/XO+tTNL/tqTI4SyM3gkRgRpxRbxu61RPAT6Ff9WJDvXX9Hs6ltgHParIPugAAJiNgA4AAKqUAodTi7el6t0f92j9/hPu490a1tYDVybo2maRspYyGt6vdbR6t4xSYlK60k7mKjK4cFo7I+cAAE9BQAcAAFVCZq5dn649oA9+2qtDJ3IkSd42iwa0i9WIHvFqFRN6zmvYrBZ1a1S7sksFAOCCENABAIBHO5CerQ9+2qtPfzmgU3mF68vDArx1z+VxuvfyOEWG0H0dAFA9ENABAIDHMQxD6/Yd17s/JmnxthSdXl6uxpFBur9Hgm7pECs/b5u5RQIAUMEI6AAAwGPYHU4t2Jys91cmadPBDPfxK5tE6P4eCbqqSZ1S15cDAFAdENABAIDpMrLt+njtfn24aq+7y7qPl1W3tI/ViB4JahYVbHKFAABUPgI6AAAwTdLRLH3wU5I+X3dQ2fkOSVJEkI/uvTxeQy5voIggX5MrBADg0iGgAwCAS8owDP28J13vrUzS0h2pMk6vL28eFawRPRI0oF0M68sBADUSAR0AAFwS+QVOffPrYb23MklbD2e6j1/brI7u79FQVzSuLYuF9eUAgJqLgA4AACrV8ax8zUksXF+edjJPkuTnbdVtHetp+BUJahwZZHKFAAB4BgI6AACoFL+nndL7PyXp/9YfVK7dKUmKDPbVsO7xurtLA4UF+phcIQAAnoWADgAAKoxhGPrp92N6b+UeLdt5xH28VUyIHrgyQTe2iZGPl9XECgEA8FwEdAAAcNFy7Q59vemw3l+ZpB0pJyVJFovUq0Vd3d8jQV0TwllfDgDAORDQAQDABTt6Kk+zft6nWT/v09FT+ZKkAB+b7uhUuL48PiLQ5AoBAKg6COgAAOC87Uw5qfdXJumLjYeUX1C4vjw61E/Dusdr8GUNFBrgbXKFAABUPQR0AABQLk6noRW7juj9lUn6cddR9/F29UJ1/5UNdX3rKHnbWF8OAMCFIqADAICzyrU79H/rD+n9n5L0e9opSZLVIvVtFaX7eySoU1wY68sBAKgABHQAAFCqtMxcfXR6ffnxbLskKcjXS4Muq6/7userfniAyRUCAFC9ENABAEAxWw9n6L2VSZq/6bDsDkOSVC/MX/d1j9egy+or2I/15QAAVAYCOgAAkNNp6PsdaXpvZZJW7znmPt4pLkz390hQn5Z15cX6cgAAKhUBHQCAGiw7v0Dz1h3U+z/tVdLRLEmSzWrRDW2idX+PBLWvX8vcAgEAqEEI6AAA1EDJGTn6cNU+fZy4Xxk5hevLg/28dHeXBhraPV6xtfxNrhAAgJqHgA4AQA3y68ETem9lkr79NVkFzsL15XG1AzS8e7zu6Fxfgb781QAAALPw/8IAAFRzDqehJdtS9d7KPVq797j7eNeEcN3fI0E9W9SVzco2aQAAmI2ADgBANXUqr0Cfrj2g/67aq/3p2ZIkL6tF/dvF6P4eCWodG2pyhQAAoCgCOgAA1czB49n6cNVefZJ4QCfzCiRJtQK8C9eXd4tXVKifyRUCAIDSENABAKgm1u8/rvd+TNLCrSlynF5f3rBOoEZckaDbOtaTv4/N5AoBAMDZENABAKjCChxOLdyaovdWJmnD/hPu41c0rq37eyTomqaRsrK+HACAKoGADgBAFZSZa9fcxML15YdO5EiSfGxWDWgfoxFXJKhlTIjJFQIAgPNFQAcAoArZfyxb7/+UpM9+OaCsfIckKTzQR/dcHqd7Lm+gyGDWlwMAUFUR0AEA8HCGYSgxKV3vrdyjxdtSZRQuL1eTyCDd3yNBAzvEys+b9eUAAFR1BHQAADyU3eHUL0csevetNdp8KNN9/KqmdfRAjwRd2SRCFgvrywEAqC4I6AAAeJgT2fmak7hfH67aq9RMm6RM+XpZdWvHWI24IkFN6gabXSIAAKgEBHQAAC4hh7NwunrayVxFBvupS0K4bKe7rO85ckof/LRXn687qBx74fryYG9DI65srKHdE1Q7yNfM0gEAQCUjoAMAcIks3JKsSfO3KTkj130sKtRPd11WX1sOZWjpjjT3+vLmUcEa3r2BvA5t0oBrG8nb29ukqgEAwKVCQAcA4BJYuCVZo2etl3HG8ZSMXE37bpf7457NI3V/jwR1a1RbBQUFWpC86dIWCgAATENABwCgkjmchibN31YinBcV4GPTlw9foaasLwcAoMayml0AAADVXWJSerFp7aXJznfo2Kn8S1QRAADwRAR0AAAqkWEYWrojtVznpp08e4gHAADVG1PcAQCoJL8ePKEXvt2uNUnp5To/MtivkisCAACejIAOAEAFO3g8W/9atFNfbTwsSfKxWeTtZVV2nqPUdegWFXZz75IQfknrBAAAnoWADgBABcnIsevN5b/rg5/2Kr/AKUm6tWOs/tqnmX49eEKjZ62XRSoW0i2n/3dC/5bu/dABAEDNREAHAOAi5Rc4NWfNPr26dJeOZ9slSd0a1tYzN7ZQ69hQSVJMLX9Nv6djqfugT+jfUv1aR5tSOwAA8BwEdAAALpBhGFq0NVVTFu5Q0tEsSVLjyCD97YbmurZZpCyW4iPi/VpHq3fLKCUmpSvtZK4igwuntTNyDgAAJAI6AAAXZMP+43rh2+36Zd9xSVJEkI/+3LupBnWuLy9b2Zuk2KwWdWtU+1KVCQAAqhACOgAA5+FAeramLNyhb35NliT5eVs16sqGGnV1IwX58n+rAADgwvE3CQAAyiEj267Xl+3Sh6v2Kd/hlMUi3d6xnv7Sp5miQtkeDQAAXDwCOgAAZ5FX4NBHq/fpte9/V0ZOYQO4Ho0j9LcbWqhlTIjJ1QEAgOqEgA4AQCkMw9CCzSmasnCH9qdnS5Ka1Q3W0zc019VN65RoAAcAAHCxCOgAAJxh3b50vfDtdq3ff0KSVCfYV3/t01S3d6pPx3UAAFBpCOgAAJy292iWpi7aoQWbUyRJ/t42/enqhhp5ZUMF0gAOAABUMv62AQCo8Y5n5es/3+/SrJ/3ye4wZLVId3aur3G9myoyhAZwAADg0iCgAwBqrFy7QzNX79Vr3/+uk7kFkqRrmtXR09e3ULOoYJOrAwAANQ0BHQBQ4xiGofm/Jmvqwh06eDxHktQ8KljP3NhCVzapY3J1AACgpiKgAwBqlMSkdL2wYLs2HTghSaob4qu/9mmmWzvWowEcAAAwFQEdAFAj7DlySi/+b4cWb0uVJAX62PTg1Y30wJUN5e9jM7k6AAAAAjoAoJo7dipP/1m6S7PX7FeBs7AB3OAuDfRYr6aqE+xrdnkAAABuBHQAQLWUa3fog5/26s1lv+tkXmEDuJ7NI/XU9c3VpC4N4AAAgOchoAMAqhWn09DXmw7rX4t26tCJwgZwrWND9LcbWqh7owiTqwMAACgbAR0AUG2s3n1MLyzYpi2HMiVJMaF+erxfM93cLlZWGsABAAAPR0AHAFR5v6ed1Iv/26HvtqdJkoJ8vfTQtY004ooE+XnTAA4AAFQNBHQAQJV19FSepn33mz5OPCCH05DNatGQrg30aM8mqh1EAzgAAFC1ENABAFVOTr5D7/+UpOnLd+vU6QZwfVrW1ZPXN1ejOkEmVwcAAHBhCOgAgCrD6TT0fxsO6aVFO5WSmStJalcvVH+7oYW6NqxtcnUAAAAXh4AOAKgSfvr9qF74dru2JRc2gIut5a8n+jVT/7YxNIADAADVAgEdAODRfks9qckLtmvZziOSpGA/Lz1yXWMN7RZPAzgAAFCtENABAB4p7WSuXlnym+auPSCnIXlZLbq3W5zGXtdEYYE+ZpcHAABQ4QjoAACPkp1foHd+SNJbP+xWdr5DknR96yg90a+5EiICTa4OAACg8hDQAQAeweE0NG/dQb20eKfSTuZJktrXr6W/39hCnePDTa4OAACg8hHQAQCm++G3I/rngu3akXJSklQ/3F9P9WuhG9pEyWKhARwAAKgZCOgAANNsT87UPxds14+7jkqSQv299ch1jXVvtzj5etEADgAA1CwEdADAJZeamat/L96pz9YdlGFI3jaLhnWL15jrGqtWAA3gAABAzURABwBcMll5BXrrhz1654c9yrEXNoC7sW20nuzbXA1qB5hcHQAAgLkI6ACASlfgcOqzdQf178W/6eipwgZwnePC9LcbW6hjgzCTqwMAAPAMBPQiJkyYoBEjRiguLs7sUgCgWjAMQ8t3FjaA25V2SpIUXztAT13fXH1b0QAOAACgKKvZBXiSr776So0aNVLPnj01Z84c5eXlmV0SAFRZWw9n6J731mj4f9dqV9op1Qrw1oT+LbX4z1erX+towjkAAMAZCOhFbNy4UWvXrlWrVq306KOPKioqSqNHj9batWvNLg0AqozkjBz95dNNuum1lfrp92PysVn1p6saasXj12r4FQny8eL/egAAAErD35LO0KFDB/3nP//R4cOH9d577+ngwYO64oor1LZtW7366qvKyMgwu0QA8Egnc+16adFOXfOv5Zq3vrA7+83tY7T0L1fr6RtaKNTf2+wSAQAAPBoBvQyGYchutys/P1+GYSgsLEyvv/666tevr7lz55brGm+88Ybi4+Pl5+enrl27KjExscxz33nnHV155ZUKCwtTWFiYevXqVer527dv14ABAxQaGqrAwEBddtll2r9//wW/TwC4WAUOpz76eZ+u+ddyvb7sd+UVONUlIVxfPXyFXr2rg+qH050dAACgPAjoZ1i3bp3GjBmj6Oho/fnPf1aHDh20fft2rVixQrt27dILL7ygsWPHnvM6c+fO1bhx4zRhwgStX79e7dq1U9++fZWWllbq+cuXL9fgwYO1bNkyrV69WvXr11efPn106NAh9zm7d+9Wjx491Lx5cy1fvly//vqrnn32Wfn5+VXY+weA8jIMQ99tS1XfaT/o2S+36FhWvhpGBOrteztp7qjL1a5+LbNLBAAAqFLo4l5EmzZttGPHDvXp00fvvfee+vfvL5vNVuycwYMH69FHHz3ntV5++WWNHDlSw4cPlyTNmDFD3377rd5//3099dRTJc6fPXt2sY/fffddzZs3T0uXLtXQoUMlSc8884xuuOEGTZ061X1eo0aNzvt9AsDF2nwwQy8s2Kaf96RLksIDffRYryYa3KWBvG382y8AAMCFIKAXceedd2rEiBGKjY0t85yIiAg5nc6zXic/P1/r1q3T008/7T5mtVrVq1cvrV69uly1ZGdny263Kzw8XJLkdDr17bff6oknnlDfvn21YcMGJSQk6Omnn9bAgQPLvE5eXl6xbvSZmZmSJLvdLrvdXq5aajLXPeJemYdnYK4z7/+hEzl6ecnv+vrXZEmSr5dVw7vHadSV8Qr285acDtmdDtPqrW74/vcMPAfz8QzMxf03X2U9A56p57EYhmGYXYSn+Mc//qG//vWvCggovl4yJydH//rXvzR+/PhyXefw4cOKjY3VqlWr1K1bN/fxJ554QitWrNCaNWvOeY2HHnpIixYt0tatW+Xn56eUlBRFR0crICBAzz//vK699lotXLhQf/vb37Rs2TJdffXVpV5n4sSJmjRpUonjc+bMKfE+AaAsOQXSkkNWrUi2qMAo3B7tsginbmjgVLivycUBAIALkp2drbvvvlsZGRkKCQkxuxyIgF6MzWZTcnKyIiMjix0/duyYIiMj5XCUb1ToYgP6iy++qKlTp2r58uVq27ZtsWsOHjxYc+bMcZ87YMAABQYG6uOPPy71WqWNoNevX19Hjx7lh7Ac7Ha7lixZot69e8vbmw7UZuAZmCs7N0//mP29lqb66URO4b+yX54Qpqf6NVOrGH6HVDa+/z0Dz8F8PANzcf/NV1nPIDMzUxEREQR0D8IU9yIMw5DFYilxfNOmTe6p5uUREREhm82m1NTUYsdTU1MVFRV11s996aWX9OKLL+q7775zh3PXNb28vNSyZcti57do0UIrV64s83q+vr7y9S05vOXt7c0v2PPA/TIfz+DSMgxDi7am6sX/bdfeYzZJdjWODNLfbmiua5tFlvq7EpWH73/PwHMwH8/AXNx/81X0M+B5eh4CuqSwsDBZLBZZLBY1bdq02F88HQ6HTp06pQcffLDc1/Px8VGnTp20dOlS9/pwp9OppUuXasyYMWV+3tSpU/XCCy9o0aJF6ty5c4lrXnbZZdq5c2ex47/99pvi4uLKXRsAnMuG/cf1zwXbtXbvcUlSkLehJ65vqbu7xsuLBnAAAACVhoAuadq0aTIMQyNGjNCkSZMUGhrqfs3Hx0fx8fHFpqqXx7hx4zRs2DB17txZXbp00bRp05SVleXu6j506FDFxsZq8uTJkqQpU6Zo/PjxmjNnjuLj45WSkiJJCgoKUlBQkCTp8ccf16BBg3TVVVe516DPnz9fy5cvr4C7AKAmcDgNJSalK+1kriKD/dQlIVw2a+E/Sh5Iz9bURTs1f9NhSZKft1X3XxGvBtm/6dbL6hPOAQAAKhkBXdKwYcMkSQkJCerevXuFTPUYNGiQjhw5ovHjxyslJUXt27fXwoULVbduXUnS/v37ZbX+8Zfd6dOnKz8/X7fffnux60yYMEETJ06UJN1yyy2aMWOGJk+erLFjx6pZs2aaN2+eevTocdH1XmpnCwkAKsfCLcmaNH+bkjNy3ceiQ/301z7NtCMlUx+u2qd8h1MWi3R7x3r6S59mqh1g04IFv5lYNQAAQM1R4wN6ZmamuyFChw4dlJOTo5ycnFLPPd/GCWPGjClzSvuZo9579+4t1zVHjBihESNGnFcdnqaskDChf0v1ax1tYmVA9bVwS7JGz1qvM7uCJmfk6i+fbXJ/3KNxhP52Qwu1PN0Aju1XAAAALp0aH9DDwsLcndtr1apVauMjV/O48nZxR9nKCgkpGbkaPWu9pt/TkZAOVDCH09Ck+dtK/NwV5WW16O17O+na5jSAAwAAMEuND+jff/+9u0P7smXLTK6mejtbSDAkWSRNmr9NvVtGMd0dqECJSenFZqyUpsBpyN/Hi3AOAABgohof0K+++upS/xsV71whwVDhdNvEpHR1a1T70hUGVHNpJ88ezs/3PAAAAFSOGh/Qf/3113KfW3Rfcpw/QgJgjshgvwo9DwAAAJWjxgf09u3by2KxyDDOtjpTrEGvAIQEwBy+XlZZLFJZv+YskqJCC3dTAAAAgHlqfEBPSkoyu4Qao0tCuKJD/ZSSkVvqOnRCAlDxfvjtiB6cte6s4VySJvRvSe8HAAAAk9X4gB4XF2d2CTWGzWrRhP4tNXrWelmkYiGdkABUvK82HtJfPt2kAqehK5tE6LaO9TRl4Y5ivSCi2OIQAADAY9T4gP7111/r+uuvl7e3t77++uuznjtgwIBLVFX11a91tKbf07HEPuiEBKBivb8ySf/4ZpskqX+7GP37jnby8bKqf7sYJSalK+1kriKDC2es8I9iAAAAnqHGB/SBAwcqJSVFkZGRGjhwYJnnsQa94vRrHa3eLaP0p49+0Xfb03Rrx1j96/Z2hASgAhiGoX8t2qk3l++WJN3XPV7jb2op6+mfL5vVwi4JAAAAHqrGB3Sn01nqf6Ny2awWNawTJG1PU0SQL+EcqAAFDqee+WKL5v5yQJL0eN9meuiaRuxtDgAAUEVYzS7Ak8ycOVN5eXkljufn52vmzJkmVFS9+XnbJEnZ+QUmVwJUfbl2h0bPXq+5vxyQ1SK9eGsbPXxtY8I5AABAFUJAL2L48OHKyMgocfzkyZMaPny4CRVVbwE+hQE9J5+ZC8DFyMixa+h7iVqyLVU+XlZNv6eT7urSwOyyAAAAcJ5q/BT3ogzDKHW06eDBgwoNDTWhourN//QIeq6dtf3AhUrNzNWw9xO1I+Wkgv289O7QzurakDXmAAAAVREBXVKHDh1ksVhksVjUs2dPeXn9cVscDoeSkpLUr18/Eyusnvx9mOIOXIw9R07p3vcSdehEjuoE+2rmiC5qER1idlkAAAC4QAR0yd29fePGjerbt6+CgoLcr/n4+Cg+Pl633XabSdVVX64R9BxG0IHz9uvBE7rvg7VKz8pXQkSgZo7oovrhAWaXBQAAgItAQJc0YcIESVJ8fLwGDRokPz8/kyuqGdwBPZ+ADpyPH3cd0YMfrVNWvkNtYkP1wfDLFBHka3ZZAAAAuEgE9CKGDRtmdgk1irtJHCPoQLl9vemw/vLpRtkdhq5oXFtv3dtZQb78KgcAAKgO+FtdEQ6HQ6+88oo+/fRT7d+/X/n5+cVeT09PN6my6snPvQadgA6Ux39/StKkb7bJMKSb2kbr33e2k6+XzeyyAAAAUEHYZq2ISZMm6eWXX9agQYOUkZGhcePG6dZbb5XVatXEiRPNLq/acY2g08UdODvDMPTSop2aOL8wnA/rFqf/3NWBcA4AAFDNENCLmD17tt555x395S9/kZeXlwYPHqx3331X48eP188//2x2edWOaw06I+hA2QocTv3ti816fdnvkqS/9G6qiQNayWotuSUkAAAAqjYCehEpKSlq06aNJCkoKEgZGRmSpJtuuknffvutmaVVS/5F1qAbhmFyNYDnybU79NDs9fo48YCsFumft7TRIz2byGIhnAMAAFRHBPQi6tWrp+TkZElSo0aNtHjxYknS2rVr5etLh+SK5hpBNwwpr8BpcjWAZ8nIsWvo+4lavC1VPl5WvTmko+7u2sDssgAAAFCJCOhF3HLLLVq6dKkk6ZFHHtGzzz6rJk2aaOjQoRoxYoTJ1VU/roAusdUaUFRaZq4GvbVaiUnpCvb10swRXdSvdbTZZQEAAKCS0cW9iBdffNH934MGDVKDBg20evVqNWnSRP379zexsurJy2aVj82qfIdTOXaHwswuCPAASUezdO97a3TweI7qBPvqw+Fd1DImxOyyAAAAcAkQ0M+iW7du6tatm9llVGv+Pjbl5zhpFAdI2nwwQ/d9kKhjWfmKrx2gmSO6qkHtALPLAgAAwCVS4wP6119/Xe5zBwwYUImV1Ez+3jZl5NjZag013spdR/Wnj35RVr5DrWJC9N/hXVQnmN4XAAAANUmND+gDBw4s13kWi0UOByGyork6uTOCjprsm18P689zN8ruMNS9UW29dW8nBft5m10WAAAALrEaH9CdTrqHm8nVKC6HEXTUUDNX79WEr7fKMKQb20Tr5UHt5OtlO/cnAgAAoNqp8QEd5nLvhZ5fYHIlwKVlGIZeWfKb/vP975Kkey+P08QBrWSzssc5AABATcU2a2dYsWKF+vfvr8aNG6tx48YaMGCAfvzxR7PLqrYCfBhBR83jcBr62xdb3OH8z72a6h83E84BAABqOgJ6EbNmzVKvXr0UEBCgsWPHauzYsfL391fPnj01Z84cs8urlvxcU9zzWWqAmiHX7tDDs9fr48T9slik5we21qO9mshiIZwDAADUdExxL+KFF17Q1KlT9ec//9l9bOzYsXr55Zf13HPP6e677zaxuuopwN0kjinuqP4yc+0a+eEvWpOULh+bVa/e1V7Xt4k2uywAAAB4CEbQi9izZ4/69+9f4viAAQOUlJRkQkXVn6tJHNusobpLy8zVoLd+1pqkdAX5eum/Iy4jnAMAAKAYAnoR9evX19KlS0sc/+6771S/fn0TKqr+2GYNNcHeo1m6bcYqbU/OVESQrz4Zdbm6N4owuywAAAB4GKa4F/GXv/xFY8eO1caNG9W9e3dJ0k8//aT//ve/evXVV02urnpimzVUd1sOZei+DxJ19FS+4moHaOaILoqrHWh2WQAAAPBABHRJ6enpCg8P1+jRoxUVFaV///vf+vTTTyVJLVq00Ny5c3XzzTebXGX15A7ojKCjGlr1+1GN+midTuUVqGV0iD4c0UV1gn3NLgsAAAAeioAuKSYmRgMHDtT999+vW265RbfccovZJdUY/myzhmpqweZkPfbJRuU7nOrWsLbeHtpJwX7eZpcFAAAAD8YadEnvvPOOjhw5on79+ik+Pl4TJ07Uvn37zC6rRmANOqqjj37ep4fnrFe+w6nrW0fpg+GXEc4BAABwTgR0Sffee6+WLl2q33//XcOGDdOHH36oRo0aqXfv3po7d67y8/PNLrHacm2zRhd3VAeGYeiVJb/p2S+3yDCkIV0b6PW7O8rv9FIOAAAA4GwI6EUkJCRo0qRJSkpK0sKFCxUZGakRI0YoOjpaY8eONbu8asm1Bp0RdFR1Dqehv3+5Ra8u3SVJerRnEz0/sLVsVovJlQEAAKCqIKCXoVevXpo9e7ZmzpwpSXrjjTdMrqh68vcpbINAkzhUZbl2h8bMWa/Za/bLYpGeG9haf+7dVBYL4RwAAADlR5O4Uuzbt08ffPCBPvzwQx04cEDXXnut7r//frPLqpZcI+hMcUdVdTLXrpEzf9HPe9LlY7Nq2l3tdUObaLPLAgAAQBVEQD8tLy9P8+bN0/vvv6/ly5crNjZW9913n4YPH674+Hizy6u2AmgShyos7WSu7nt/rbYlZyrI10tv39tJ3RtHmF0WAAAAqigCuqSHHnpIn3zyibKzs3XzzTdrwYIF6t27N9NTLwFX8yy2WUNVs+9Ylu59L1H707MVEeSj/w7votaxoWaXBQAAgCqMgC5p5cqVmjBhgu655x7Vrl3b7HJqFPc+6IygowrZcihD932wVkdP5alBeIBmjuii+IhAs8sCAABAFUdAl/Trr7+aXUKNFXB6BD3f4VSBwykvG30L4dlW7T6qUTPX6VRegVpEh+jDEZcpMtjP7LIAAABQDRDQYSrXCLpUOM09mIAOD/a/zcl69JONync41TUhXO8M66wQP2+zywIAAEA1QRqCqXy9rHIt9WcdOjzZrJ/36aE565XvcKpfqyh9OKIL4RwAAAAVihF0mMpiscjf26bsfAfr0OGRDMPQq0t3adp3uyRJg7s00PMDW8tmpYkkAAAAKhYBHaYL8Dkd0BlBh4dxOA1N/HqrPvp5nyRp7HWN9efeTdnhAQAAAJWixgf082kQ17Zt20qspOZyb7XGCHqFcjgNJSalK+1kriKD/dQlIZxR3/OQV+DQn+du1ILNKbJYpEkDWmlot3izywIAAEA1VuMDevv27WWxWGQYxjlHxRwOAmRlCGCrtQq3cEuyJs3fpuSMXPex6FA/TejfUv1aR5tYWdVwMteuP320Tqt2H5O3zaJXBrXXTW1jzC4LAAAA1VyNbxKXlJSkPXv2KCkpSfPmzVNCQoLefPNNbdiwQRs2bNCbb76pRo0aad68eWaXWm35u0bQmeJeIRZuSdboWeuLhXNJSsnI1ehZ67VwS7JJlVUNR07mafA7P2vV7mMK9LHpv8O7EM4BAABwSdT4EfS4uDj3f99xxx36z3/+oxtuuMF9rG3btqpfv76effZZDRw40IQKqz/XFPdsRtAvmsNpaNL8bTJKec2QZJE0af429W4ZxXT3Uuw/lq1731+jfceyVTvQR/8d3kVt6oWaXRYAAABqiBo/gl7U5s2blZCQUOJ4QkKCtm3bZkJFNYN7ijsj6BctMSm9xMh5UYak5IxcJSalX7qiqoithzN024xV2ncsW/XC/PX56O6EcwAAAFxSBPQiWrRoocmTJys/P999LD8/X5MnT1aLFi1MrKx682cNeoVJO1l2OC9q8dYU5RVwv11W7z6mu976WUdO5ql5VLD+b3R3JUQEml0WAAAAapgaP8W9qBkzZqh///6qV6+eu2P7r7/+KovFovnz55tcXfXl7134bcgI+sWLDPYr13kfrNqrLzce0i0d6mnQZfXVLCq4kivzXAu3JGvsJxuVX+BUl4RwvTO0s0L9vc0uCwAAADUQAb2ILl26aM+ePZo9e7Z27NghSRo0aJDuvvtuBQYymlZZ/H0KJ3KwBv3idUkIV3Son1Iycktdhy5JQb42BfjYlHYyX+//lKT3f0pSu/q1NKhzffVvF61gv5oTTues2a+/f7lZTkPq07Ku/jO4g7snAgAAAHCpEdDPEBgYqFGjRpldRo0S4FP4bZjLCPpFs1ktmtC/pUbPWl/iNVdLuJfuaKdeLerqh11HNHftAS3dnqZNB05o04ETeu6bbbqhTbQGXVZfl8WHnXPrwarizD3hL4sP05vLd+vlJb9Jku66rL6eH9haXjZW/QAAAMA8BPQzfPTRR3rrrbe0Z88erV69WnFxcXrllVfUsGFD3XzzzWaXVy25RixZg14x+rWO1ht3d9TDH6+XUWQYPeqMfdCva15X1zWvqyMn8/TFhoOau/aAdh/J0rz1BzVv/UE1jAjUHZ3r67ZOseWeOu+JStsTPsDH5p6x8ch1jTWud9Nq848RAAAAqLoYLipi+vTpGjdunK6//nodP35cDkfhX+DDwsI0bdo0c4urxlxd3JniXnHiIwJlGJKvl1Uv39lOH4+8XCufvM4dzouqE+yrUVc10nfjrta80d10Z+d6CvCxac/RLE1ZuEPdJn+vBz78RUu2parA4TTh3Vy4svaEd32v3dm5nv7SpxnhHAAAAB6BgF7Ea6+9pnfeeUfPPPOMvLz+mFzQuXNnbd682cTKqjf/0yPoTHGvOKv3HJMkXd6wtm7tWE/dGtU+577nFotFneLCNfX2dkp8ppem3NZGHRvUksNp6LvtqRo58xd1e/F7vfi/Hdpz5NSleBsX5Wx7wrv8uOuoHM6znQEAAABcOkxxLyIpKUkdOnQocdzX11dZWVkmVFQz+LtH0AtMrqT6WL37qCSpe6PaF/T5Qb5eGnRZAw26rIF2pZ7Up78c0P+tP6QjJ/M0Y8VuzVixW13iw3XnZfV1Q5sodx8BT+F0Gvpiw6Gz7gkv/bEnfLcLvE8AAABARfKsv1WbLCEhQRs3blRcXFyx4wsXLmQf9ErkGkFnm7WKUeBwas2edEmqkODZpG6wnrmxpR7v21zf70jV3LUHtOK3I0rcm67Evema+PVW9W8Xo0GX1Ve7eqGmTBdPycjVxgMntOngCf168IR+PZChk3nl+wef8u4dDwAAAFQ2AnoR48aN08MPP6zc3FwZhqHExER9/PHHmjx5st59912zy6u2/GkSV6G2Hs7UybwCBft5qVVMaIVd18fLqn6to9WvdbRSMnL1+boD+vSXg9qfnq2PE/fr48T9alY3WHd0rqdbO9ZTeKBPiWuc2U29S0L4Oafenykjx67NBzO06eCJwlB+4ITSTuaVOM/bZpHdce7p61W5AR4AAACqFwJ6EQ888ID8/f3197//XdnZ2br77rsVExOjV199VXfddZfZ5VVbriZxjKBXjFW7/1h/fr7ht7yiQv005romeuiaxvo56Zg+XXtA/9uSop2pJ/X8t9s1ZeEO9W5ZV3d2rq8rm9SRzWoptZt69Bmd5c+Ua3fo1wMntCLZou8/36zNhzK152jJ5SY2q0VN6warXb1QtatfS+3q1VKjOoG65qXlZe4Jbzn9ProkhFfQXQEAAAAuDgH9DEOGDNGQIUOUnZ2tU6dOKTIy0uySqj0/urhXKFeDuG4NK39dtdVqUfdGEereKEKTcuz6euMhzf3lgLYcytSCzSlasDlFMaF+al+/lhZsSSnx+SkZuRo9a72m39NRvVtGafeRU+5R8U0HT2hH8kkVOA1JNknJ7s9rEB5wOogXBvJWMSGlroN37QlvkYqFdEuR1yvrHzEAAACA80VAL0NAQIACAgLMLqNGcI2g08X94uUXOLU2qXD9effGl7bxWai/t+7tFq97u8Vr6+EMffbLQX2x4ZAOZ+TqcEbJcC79EZrHfrxBXlaLsu0lt3ELD/RWtE+eenZooo5x4Wpbr1ap0+dL0691tKbf07HEyP2Ze8IDAAAAnqDGB/SOHTtq6dKlCgsLU4cOHc7a4Gr9+vWXsLKagzXoFWfTwRPKsTsUHuijppHBptXRKiZUrQaE6qnrm+uNZb/rte9/P+v5+Q5D+Q5DAT42tYkNVfv6tdS2Xi21qx+qyEAv/e9//9MN1zaSt7f3edfSr3W0ereMuui17wAAAEBlq/EB/eabb5avr68kaeDAgeYWU0O5t1mzO2QYhildwKuL1bv/mN5u9YAA6udtU+PIoHKd+/T1zfXAlQ1LBGe73X7RddisFrZSAwAAgMer8QF9woQJpf43Lh3XCLphSHkFTvmd/hjnb9Xp/c89KYyWt0t623q1GNUGAABAjWY1uwDAv0ggZ5r7hcu1O7R+/wlJnhXQuySEKzrUT2VFb4sKu7nTTR0AAAA1XY0fQQ8LCyv3lOr09PRKrqZm8rJZ5WOzKt/hVI7doTCzC6qi1u87rvwCp+qG+KphRKDZ5bjZrBa6qQMAAADlUOMD+rRp08wuAZL8vAsDOlutXbhVRdafe9o6frqpAwAAAOdW4wP6sGHDzC4BkgJ8vJSZW8BWaxfBtf9590YRJldSOrqpAwAAAGdX4wP6mRwOh7744gtt375dktSyZUvdfPPN8vLiVlUmdyd3RtAvSFZegTYdOCHJs9afn4lu6gAAAEDZSJ1FbN26VQMGDFBKSoqaNWsmSZoyZYrq1Kmj+fPnq3Xr1iZXWH2590JnBP2CrN2brgKnoXph/qofHmB2OQAAAAAuAF3ci3jggQfUqlUrHTx4UOvXr9f69et14MABtW3bVqNGjbqga77xxhuKj4+Xn5+funbtqsTExDLPfeedd3TllVcqLCxMYWFh6tWr11nPf/DBB2WxWKrFOnrXCDpd3C+Ma//z7oxOAwAAAFUWAb2IjRs3avLkyQoL+6OPeFhYmF544QVt2LDhvK83d+5cjRs3ThMmTND69evVrl079e3bV2lpaaWev3z5cg0ePFjLli3T6tWrVb9+ffXp00eHDh0qce4XX3yhn3/+WTExMeddlycKcAV0e4HJlVRNq3Z79vpzAAAAAOdGQC+iadOmSk1NLXE8LS1NjRs3Pu/rvfzyyxo5cqSGDx+uli1basaMGQoICND7779f6vmzZ8/WQw89pPbt26t58+Z699135XQ6tXTp0mLnHTp0SI888ohmz54tb2/v867LE/m5prjnO02upOrJyLZr6+EMSZ69/hwAAADA2RHQi5g8ebLGjh2rzz//XAcPHtTBgwf1+eef67HHHtOUKVOUmZnp/nMu+fn5WrdunXr16uU+ZrVa1atXL61evbpc9WRnZ8tutys8PNx9zOl06t5779Xjjz+uVq1anf+b9FAB7iZxjKCfrzVJx+Q0pIZ1AlU3xM/scgAAAABcIJrEFXHTTTdJku688073PtKGYUiS+vfv7/7YYrHI4Tj7WumjR4/K4XCobt26xY7XrVtXO3bsKFc9Tz75pGJiYoqF/ClTpsjLy0tjx44t1zXy8vKUl5fn/tj1jwt2u112u71c17gUfG2F9zsr17PqctXiSTWd6affj0iSusaHeXSdF6oqPIPqjPtvLu6/Z+A5mI9nYC7uv/kq6xnwTD0PAb2IZcuWmV2C24svvqhPPvlEy5cvl59f4ajounXr9Oqrr2r9+vXuf0A4l8mTJ2vSpEklji9evFgBAZ7T7TvlkFWSVZt3/KYF2eX7B4xLacmSJWaXUKbFm2ySLPLN2KcFC/aaXU6l8eRnUBNw/83F/fcMPAfz8QzMxf03X0U/g+zs7Aq9Hi4eAb2Iq6++usKuFRERIZvNVmJNe2pqqqKios76uS+99JJefPFFfffdd2rbtq37+I8//qi0tDQ1aNDAfczhcOgvf/mLpk2bpr1795a41tNPP61x48a5P87MzHQ3nwsJCbnAd1fxti/ZpR9SkhTbIF433NDc7HLc7Ha7lixZot69e3vkev9jWflKXr1ckvTgrT1VO9DH3IIqgac/g+qO+28u7r9n4DmYj2dgLu6/+SrrGZRn6S4uLQL6GXJzc/Xrr78qLS1NTmfxhmUDBgwo93V8fHzUqVMnLV26VAMHDpQkd8O3MWPGlPl5U6dO1QsvvKBFixapc+fOxV679957i013l6S+ffvq3nvv1fDhw0u9nq+vr3x9fUsc9/b29qhfsIG+hbXkFRgeVZeLp90vl3X7j0qSmkcFK6pWoMnVVC5PfQY1BfffXNx/z8BzMB/PwFzcf/NV9DPgeXoeAnoRCxcu1NChQ3X06NESr5Vn3fmZxo0bp2HDhqlz587q0qWLpk2bpqysLHeYHjp0qGJjYzV58mRJhevLx48frzlz5ig+Pl4pKSmSpKCgIAUFBal27dqqXbt4l25vb29FRUWpWbNmF/KWPYZ7H3Q7+6Cfj1W7C79X6d4OAAAAVH10cS/ikUce0R133KHk5GQ5nc5if843nEvSoEGD9NJLL2n8+PFq3769Nm7cqIULF7obx+3fv1/Jycnu86dPn678/Hzdfvvtio6Odv956aWXKuw9eip3QM8noJ+P1XsK9z/v1pCADgAAAFR1jKAXkZqaqnHjxpXovH4xxowZU+aU9uXLlxf7uLQ15OdyIZ/jiQIYQT9vKRm52nMkS1aL1JWADgAAAFR5jKAXcfvtt5cIzbg0/L0ZQT9fq/cUTm9vHRuqUH/WDwEAAABVHSPoRbz++uu644479OOPP6pNmzYlmiaUd+9xnD9/n8JvxWwCermt3s30dgAAAKA6IaAX8fHHH2vx4sXy8/PT8uXLi+01brFYCOiVyDWCnssU93Jb5QroNIgDAAAAqgUCehHPPPOMJk2apKeeekpWK7P/LyVXQGcEvXwOpGfr4PEceVktuiw+3OxyAAAAAFQAUmgR+fn5GjRoEOHcBGyzdn5c09vb1a+lQF/+nQ0AAACoDkiiRQwbNkxz5841u4waiW3Wzo9r//PuTG8HAAAAqg2G3opwOByaOnWqFi1apLZt25ZoEvfyyy+bVFn1F3B6inu+w6kCh1NeNv7tqCyGYbD/OQAAAFANEdCL2Lx5szp06CBJ2rJlS7HXijaMQ8VzjaBLUm6BU0EE9DLtOZql1Mw8+XhZ1TEuzOxyAAAAAFQQAnoRy5YtM7uEGsvXyyqLRTIMKTu/QEGsqy6Ta/15xwa15OdtO8fZAAAAAKoKhinhESwWyx9breU7Ta7Gs7kCevdGESZXAgAAAKAiMUwp6dZbby3Xef/3f/9XyZXUbAE+NmXnO5RtLzC7FI/ldP6x/pwGcQAAAED1QkCXFBoaanYJkNzTtenkXrbf0k4qPStf/t42ta1Xy+xyAAAAAFQgArqkDz74wOwSoMIRdImAfjarfi8cPb8sIVw+XqxQAQAAAKoT/oYPj+Fag55jJ6CXhe3VAAAAgOqLgA6P4Zrins0IeqkcTkM/s/4cAAAAqLYI6PAY7inujKCXauvhDJ3MLVCwn5daxYSYXQ4AAACACkZAh8fwZw36Wbm2V+uaEC4vGz+6AAAAQHXD3/LhMfy9C3sWMoJeulWnA3o39j8HAAAAqiUCOjyGv0/htyMj6CXZHU6t3ZsuiQZxAAAAQHVFQIfHCPBhBL0svx48oex8h8ICvNU8KtjscgAAAABUAgI6PIarizsj6CW59j/v1qi2rFaLydUAAAAAqAwEdHgMVxd3tlkrif3PAQAAgOqPgA6P4X96BD2XKe7F5Nod+mXfcUk0iAMAAACqMwI6PIYroGfnF5hciWfZsP+E8gucqhPsq0Z1As0uBwAAAEAlIaDDY7j3QWcEvZjVu49Kkro3qi2LhfXnAAAAQHVFQIfH8KdJXKlc+593b8T6cwAAAKA6I6DDYwQwgl5Cdn6BNh44IUnq1pD15wAAAEB1RkCHx/AjoJewdu9xFTgNxdbyV/1wf7PLAQAAAFCJCOjwGO4RdKa4u63e/cf+56w/BwAAAKo3Ajo8BmvQSyraIA4AAABA9UZAh8dwdXHPtjtkGIbJ1ZgvM9euzYcyJBWOoAMAAACo3gjo8BiuEXTDkPIKnCZXY77EPelyGlJCRKCiQ1l/DgAAAFR3BHR4DFdAl5jmLv2xvRqj5wAAAEDNQECHx/CyWeVjK/yWpJO7tHrP6YDekIAOAAAA1AQEdHgUP+/Cb8nsGj6Cnp6Vr+3JmZKkywnoAAAAQI1AQIdHCfDxkiTl1vAR9J9Pj543qxusOsG+JlcDAAAA4FIgoMOjuDq51/Qp7qtZfw4AAADUOAR0eBRXo7iaPsV91en9zwnoAAAAQM1BQIdHcY+g1+CAnpaZq91HsmSxSJcnENABAACAmoKADo8S4J7iXmByJeZxdW9vFROi0ABvk6sBAAAAcKkQ0OFR/LxdI+hOkysxz6rfCwN690YRJlcCAAAA4FIioMOj/LEGnRF09j8HAAAAahYCOjyKa4p7Td1m7eDxbO1Pz5bNatFlCeFmlwMAAADgEiKgw6P41fAu7q7t1drWC1WQr5fJ1QAAAAC4lAjo8CgBNXwfdFdA7872agAAAECNQ0CHR3GtQa+JU9wNw9Cq3TSIAwAAAGoqAjo8imsf9Jo4xX3vsWylZObKx2ZVp7gws8sBAAAAcIkR0OFRXAE9pwYG9FW7j0qSOjSo5V6LDwAAAKDmIKDDo9TkNeiu9efdWH8OAAAA1EgEdHgU1xr0mjaCbhhGkQZxrD8HAAAAaiICOjyKv0/h1mI1bQ36b6mndCwrX37eVrWvX8vscgAAAACYgIAOj1JTu7ivPr3+/LL4cPl48WMJAAAA1EQkAXgUV0CvaSPoq1h/DgAAANR4BHR4FP8a2CTO4TS0JildktStIQEdAAAAqKkI6PAoNTGgb0/OVEaOXUG+XmoTG2p2OQAAAABMQkCHRwk4PcU9v8Aph9MwuZpLw7X/edeEcHnZ+JEEAAAAairSADyKawRdqjmj6Ox/DgAAAEAioMPD+HpZZbEU/nd2foG5xVwCdodTia715wR0AAAAoEYjoMOjWCyWP7Zay3eaXE3l23woQ1n5DtUK8FaLqBCzywEAAABgIgI6PE7A6Wnu2fbqP4Lumt5+eUJtWa0Wk6sBAAAAYCYCOjyO3+kR9JwasBe6q0Fc98ZMbwcAAABqOgI6PI5/DQnoeQUO/bL3uCT2PwcAAABAQIcHCqghe6Fv2H9CeQVORQT5qnFkkNnlAAAAADAZAR0exz3FvZoH9KLbq1ksrD8HAAAAajoCOjyOu0lcNZ/i7gro3dleDQAAAIAI6PBA/qcDem41HkHPyXdow4HC9ecEdAAAAAASAR0eyN/bS1L1HkH/ZV+67A5DMaF+ahAeYHY5AAAAADwAAR0ex9+n8NuyOndxX+Vefx7B+nMAAAAAkgjo8EABPoUj6NW5SVzRBnEAAAAAIBHQ4YH8qvk+6Jm5dv168IQkAjoAAACAPxDQ4XH8vat3F/e1SelyGlJ87QDF1vI3uxwAAAAAHoKADo8TUM27uDO9HQAAAEBpCOjwOK4R9Oq6Br1ogzgAAAAAcCGgw+O49kHPzi8wuZKKdzwrX9tTMiVJlzcMN7kaAAAAAJ6EgA6P88cIutPkSiremqRjMgypSWSQIoP9zC4HAAAAgAchoMPjuNag51TDEXTX9PburD8HAAAAcAYCOjyOn0/1XYNOgzgAAAAAZSGgw+P8MYJevQJ62slc7Uo7JYtF6ppAQAcAAABQHAG9kr3xxhuKj4+Xn5+funbtqsTExDLPfeedd3TllVcqLCxMYWFh6tWrV7Hz7Xa7nnzySbVp00aBgYGKiYnR0KFDdfjw4UvxVi4Z9xr0ahTQHU5DH63eJ0lqEBagEH9vkysCAAAA4GkI6JVo7ty5GjdunCZMmKD169erXbt26tu3r9LS0ko9f/ny5Ro8eLCWLVum1atXq379+urTp48OHTokScrOztb69ev17LPPav369fq///s/7dy5UwMGDLiUb6vSubu42x0yDMPkai7ewi3J6jHle732/e+SpH3p2eox5Xst3JJscmUAAAAAPAkBvRK9/PLLGjlypIYPH66WLVtqxowZCggI0Pvvv1/q+bNnz9ZDDz2k9u3bq3nz5nr33XfldDq1dOlSSVJoaKiWLFmiO++8U82aNdPll1+u119/XevWrdP+/fsv5VurVK4RdMOQ8gqqdif3hVuSNXrWeiVn5BY7npKRq9Gz1hPSAQAAALgR0CtJfn6+1q1bp169ermPWa1W9erVS6tXry7XNbKzs2W32xUeXvZ+2RkZGbJYLKpVq9bFluwxXAFdqtrT3B1OQ5Pmb1NpcwBcxybN3yaHs+rPEgAAAABw8bzMLqC6Onr0qBwOh+rWrVvseN26dbVjx45yXePJJ59UTExMsZBfVG5urp588kkNHjxYISEhpZ6Tl5envLw898eZmZmSCtez2+32ctVhBm+bRXaHoZM5eQrysZhWh+seXci9WpOUXmLkvChDUnJGrlb/nqauCWX/I0xNdzHPABeP+28u7r9n4DmYj2dgLu6/+SrrGfBMPQ8B3UO9+OKL+uSTT7R8+XL5+fmVeN1ut+vOO++UYRiaPn16mdeZPHmyJk2aVOL44sWLFRAQUKE1VyQv2WSXRQu/+151/c2uRlqyZMl5f866oxZJtnOet/jHNTq2nVH0c7mQZ4CKw/03F/ffM/AczMczMBf333wV/Qyys7Mr9Hq4eAT0ShIRESGbzabU1NRix1NTUxUVFXXWz33ppZf04osv6rvvvlPbtm1LvO4K5/v27dP3339f5ui5JD399NMaN26c++PMzEx387mzfZ7Z/rl1hXIy89SlWw+1ijGvTrvdriVLlqh3797y9j6/zuu1k9I1c9cv5zyvz5VdGUE/i4t5Brh43H9zcf89A8/BfDwDc3H/zVdZz8A1uxaeg4BeSXx8fNSpUyctXbpUAwcOlCR3w7cxY8aU+XlTp07VCy+8oEWLFqlz584lXneF8127dmnZsmWqXfvs+2n7+vrK19e3xHFvb2+P/gUb4OMlKU92w+IRdV7I/eoQV9s9Vb80FklRoX7q1jhSNqt50/irCk//nq3uuP/m4v57Bp6D+XgG5uL+m6+inwHP0/MQ0CvRuHHjNGzYMHXu3FldunTRtGnTlJWVpeHDh0uShg4dqtjYWE2ePFmSNGXKFI0fP15z5sxRfHy8UlJSJElBQUEKCgqS3W7X7bffrvXr1+ubb76Rw+FwnxMeHi4fHx9z3mglcDWKy67CTeJeWLD9rOFckib0b0k4BwAAACCJgF6pBg0apCNHjmj8+PFKSUlR+/bttXDhQnfjuP3798tq/aOR/vTp05Wfn6/bb7+92HUmTJigiRMn6tChQ/r6668lSe3bty92zrJly3TNNddU6vu5lFx7oVfVLu6frzuoOWv2y2KRxlzbWJ+vO1isYVxUqJ8m9G+pfq2jTawSAAAAgCchoFeyMWPGlDmlffny5cU+3rt371mvFR8fL8OoGc3EAlwB3V5gciXnb+vhDD3zxWZJ0mM9m+rRXk30WK+mSkxKV9rJXEUG+6lLQjgj5wAAAACKIaDDI/l5u0bQnSZXcn4ycuwaPWu98gqcurZZHT1yXWNJks1qUbdGZ+8XAAAAAKBms577FODS+2MNetUZQXc6Df3l043an56temH+emVQe1kZJQcAAABQTgR0eCTXFPdce9VZgz59xW59tz1NPl5Wzbink2oFVJ+mfQAAAAAqHwEdHsnHq/Bbc9PBE1q9+5gcTs9ee79y11H9e/FOSdJzN7dS69hQkysCAAAAUNWwBh0eZ+GWZM1bf1CStGRbmpZsS1O0B3c9P3wiR2M/2SCnIQ3qXF+DLmtgdkkAAAAAqiBG0OFRFm5J1uhZ65WVV3xqe0pGrkbPWq+FW5JNqqx0eQUOPTR7vdKz8tUqJkSTbm5ldkkAAAAAqigCOjyGw2lo0vxtKm0yu+vYpPnbPGq6+/PfbNfGAycU6u+tGfd0cnefBwAAAIDzRUCHx0hMSldyRm6ZrxuSkjNylZiUfumKOosvNhzURz/vkyRNG9Re9cMDTK4IAAAAQFVGQIfHSDtZdji/kPMq046UTD39f5slSWOva6xrm0eaXBEAAACAqo6ADo8RGexXoedVlsxcux78aJ1y7U5d2SRCj/Zqamo9AAAAAKoHAjo8RpeEcEWH+slSxusWSdGhfuqSEH4pyyrGMAz99dNN2nssW7G1/PXqXR1ks5ZVMQAAAACUHwEdHsNmtWhC/5aSVCKkuz6e0L+lqYH4rR/2aPG2VPnYrHpzSEeFB/qYVgsAAACA6oWADo/Sr3W0pt/TUVGhxaexR4X6afo9HU3dB33V7qOaunCHJGnCgJZqV7+WabUAAAAAqH68zC4AOFO/1tHq3TJK17/6g35LPaVHezbR2J5NTB05T8nM1diPN8hpSLd1rKe7uzQwrRYAAAAA1RMj6PBINqtFTesGS5KC/bxMDecFTmnsJ5t09FS+mkcF6/mBrWWxsO4cAAAAQMViBB0eK/r0NPeUs+yNfil8tc+qDSkZCvbz0lv3dpK/j83UegAAAABUT4ygw2NFh/pLkpIzzQvo839N1g8phT8mL9/ZXnG1A02rBQAAAED1xgg6PJZrBD35RM4l+XoOp6HEpHSlncxVZLCfagV465kvt0qSHrwqQb1b1r0kdQAAAAComQjo8FhRl3CK+8ItyZo0f5uSi3wtm9Uih9NQ01CnHuvZuNJrAAAAAFCzEdDhsWJqFU5xTz2ZJ4fTqLRGcQu3JGv0rPUyzjjucBYe6RxReV8bAAAAAFxYgw6PFRHk6x7FPnIyr1K+hsNpaNL8bSXCeVELDljdYR0AAAAAKgsBHR7LZrWobrCvJCk5o3LWoScmpReb1l6aE/kW/bLveKV8fQAAAABwIaDDo0WfnuZeWevQ006W77pplTSCDwAAAAAuBHR4NFejuHONcl+oyGC/cp7nWylfHwAAAABcaBIHjxYd4groFTPF/cyt1DrUr6UAH5uy8x2lnm+RFOpjqHNcWIV8fQAAAAAoCwEdHq0iR9BL20rN18uqvAJnqee7+rbfGu+kizsAAACASscUd3i0mApag+7aSu3MoO8K59c1r6Po0OLT3aNC/fTaXe3UrjYd3AEAAABUPkbQ4dEqYgS9PFupbU8+qRWPX6t1+467p793SQiX01GgBfsu+EsDAAAAQLkR0OHRXKPaqZm5cjiNC5pqXp6t1JIzcrVu33F1a1S72HFn6UvTAQAAAKDCMcUdHi0y2E82q0UFTkPHTl3YVmfl30qtcjrFAwAAAEB5ENDh0WxWi3uLswud5l7+rdTKdx4AAAAAVAYCOjzeH+vQL2yrtS4J4SUawBVlUeFU+i4J4Rd0fQAAAACoCAR0eLyY0MJO7hc6gm6zWvTn3k1Lfc21on1C/5ZspQYAAADAVAR0eDzXCPrFbLX2e9opSZK3rXgIjwr10/R7Oqpf6+gLLxAAAAAAKgBd3OHxXNPTD19gQE87mauZq/dKkmbc00kBPl7FtlJj5BwAAACAJyCgw+P9MYJ+YWvQZyzfo1y7Ux0a1NJ1zSNlsRDIAQAAAHgeprjD40VfxBr01MxczVqzT5I0rndTwjkAAAAAj0VAh8dzTXFPzcyV02mc1+e+uex35Rc4dVl8mHo0jqiM8gAAAACgQhDQ4fEig31ltUh2h6GjWXnl/rzDJ3L0ceIBSdKfGT0HAAAA4OEI6PB4XjarIoPL38nd4TS0evcxPf7ZJuU7nOqaEKbujRg9BwAAAODZaBKHKiEq1E8pmblKzshV23pln7dwS7Imzd9WbL36rrQsLdySzFZqAAAAADwaI+ioElzr0JNPlN3JfeGWZI2etb5EM7njWfkaPWu9Fm5JrtQaAQAAAOBiENBRJbi2WkvOLH2Ku8NpaNL8bSqthZzr2KT52+Q4zyZzAAAAAHCpENBRJcSc3mqtrDXoiUnpZ92GzVDhNm2JSemVUR4AAAAAXDQCOqoE9wj6idJDeNrJ8u2RXt7zAAAAAOBSI6CjSnCvQc8sfQ26q8v7uZT3PAAAAAC41AjoqBKiaxVOcU/NyJOzlHXkXRLC3SG+NBYVhvwuCeGVVSIAAAAAXBQCOqqEyGBfWSxSvsOp9Oz8Eq/brBZN6N+y1M+1nP7fCf1byma1lHoOAAAAAJiNgI4qwdtmVZ0gX0llr0Pv1zpaLaKDSxyPCvXT9Hs6sg86AAAAAI/mZXYBQHlF1/JX2sk8JWfkqE290BKvFzic2n8sW5I05bY28vO2KTK4cFo7I+cAAAAAPB0BHVVGdIifNklKKWMv9O3JJ5WV71Cwn5du71SfUA4AAACgSmGKO6oM11Zrh8uY4p64t3CP885xYYRzAAAAAFUOAR1VhqtLe0pG6Vut/eIK6PF0agcAAABQ9RDQUWW4tlpLzig5gm4YhtaeDuhspQYAAACgKiKgo8pwj6CXsgZ977FsHT2VLx+bVW1iSzaQAwAAAABPR0BHlREVUhjQkzNyZRhGsdfWJhWOnrerHyo/b9slrw0AAAAALhYBHVVG3RA/WSxSfoFT6Vn5xV5by/pzAAAAAFUcAR1Vho+XVRFBvpJKrkN3rz8noAMAAACoogjoqFJc69CLBvS0k7naeyxbFovUMS7MrNIAAAAA4KIQ0FGllLbV2i97j0uSmtUNVqi/tyl1AQAAAMDFIqCjSokOLbnVWuLpBnGXMb0dAAAAQBVGQEeVEuUeQf8joP+y73RAZ/9zAAAAAFUYAR1VimuK++HTU9xP5tq17XCmJOmyeNafAwAAAKi6COioUlxT3F0j6Bv2n5DTkOqF+btfAwAAAICqiICOKqVoF3fDMNzbq7H+HAAAAEBVR0BHlRIZUrgPel6BU8ez7QR0AAAAANUGAR1Viq+XTRFBhSF9f3q2Nuw/IYn15wAAAACqPgI6qhzXNPfvtqUqr8CpsABvNY4MMrkqAAAAALg4BHRUOa6t1r7edFiS1Dk+XBaLxcySAAAAAOCiEdBR5cScDuj707MlMb0dAAAAQPVAQEeVExniV+zjjg0I6AAAAACqPgI6qpSFW5L1zg97ih0bM2eDFm5JNqkiAAAAAKgYBHRUGQu3JGv0rPU6kWMvdjw1M1ejZ60npAMAAACo0gjoqBIcTkOT5m+TUcprrmOT5m+Tw1naGQAAAADg+QjoqBISk9KVnJFb5uuGpOSMXCUmpV+6ogAAAACgAhHQUSWknSw7nF/IeQAAAADgaQjoqBIig/3OfdJ5nAcAAAAAnoaAjiqhS0K4okP9ZCnjdYuk6FA/dUkIv5RlAQAAAECFIaBXsjfeeEPx8fHy8/NT165dlZiYWOa577zzjq688kqFhYUpLCxMvXr1KnG+YRgaP368oqOj5e/vr169emnXrl2V/TZMZ7NaNKF/S0kqEdJdH0/o31I2a1kRHgAAAAA8GwG9Es2dO1fjxo3ThAkTtH79erVr1059+/ZVWlpaqecvX75cgwcP1rJly7R69WrVr19fffr00aFDh9znTJ06Vf/5z380Y8YMrVmzRoGBgerbt69yc6v/2ut+raM1/Z6OigotPo09KtRP0+/pqH6to02qDAAAAAAunpfZBVRnL7/8skaOHKnhw4dLkmbMmKFvv/1W77//vp566qkS58+ePbvYx++++67mzZunpUuXaujQoTIMQ9OmTdPf//533XzzzZKkmTNnqm7duvryyy911113Vf6bMlm/1tHq3TJKiUnpSjuZq8jgwmntjJwDAAAAqOoI6JUkPz9f69at09NPP+0+ZrVa1atXL61evbpc18jOzpbdbld4eOG66qSkJKWkpKhXr17uc0JDQ9W1a1etXr261ICel5envLw898eZmZmSJLvdLrvdfkHvzRN0bhAiKUSS5HQUyOmonK/jukdV+V5VdTwDc3H/zcX99ww8B/PxDMzF/TdfZT0DnqnnIaBXkqNHj8rhcKhu3brFjtetW1c7duwo1zWefPJJxcTEuAN5SkqK+xpnXtP12pkmT56sSZMmlTi+ePFiBQQElKsOSEuWLDG7hBqPZ2Au7r+5uP+egedgPp6Bubj/5qvoZ5CdnV2h18PFI6B7qBdffFGffPKJli9fLj+/C9867Omnn9a4cePcH2dmZrrXtoeEhFREqdWa3W7XkiVL1Lt3b3l7e5tdTo3EMzAX999c3H/PwHMwH8/AXNx/81XWM3DNroXnIKBXkoiICNlsNqWmphY7npqaqqioqLN+7ksvvaQXX3xR3333ndq2bes+7vq81NRURUf/0RAtNTVV7du3L/Vavr6+8vX1LXHc29ubX7DngftlPp6Bubj/5uL+ewaeg/l4Bubi/puvop8Bz9Pz0MW9kvj4+KhTp05aunSp+5jT6dTSpUvVrVu3Mj9v6tSpeu6557Rw4UJ17ty52GsJCQmKiooqds3MzEytWbPmrNcEAAAAAHg+RtAr0bhx4zRs2DB17txZXbp00bRp05SVleXu6j506FDFxsZq8uTJkqQpU6Zo/PjxmjNnjuLj493ryoOCghQUFCSLxaLHHntMzz//vJo0aaKEhAQ9++yziomJ0cCBA816mwAAAACACkBAr0SDBg3SkSNHNH78eKWkpKh9+/ZauHChu8nb/v37ZbX+MYlh+vTpys/P///27j8qqjKNA/j3IjKiIKghIAxKuwa4bbJ7EIJqxROJ9gfm6qmT6+avJAPSdK1VVwT8sZil5JKZpRJx3Eyt0KOpSTSkaCruiIBILoroOuBKohAs4My7f3iYwzj8GH7OvfD9nDPnOHde3ve5z3Pw8sy9cwfTp083mScuLg7x8fEAgLfffhu//PILIiMjUVlZiaeffhpHjhzp1OfUiYiIiIiIyPrYoHezmJgYxMTENPuaRqMxeV5SUtLmfJIkYfXq1Vi9enUXREdERERERERywc+gExEREREREckAG3QiIiIiIiIiGWCDTkRERERERCQDbNCJiIiIiIiIZIANOhEREREREZEMsEEnIiIiIiIikgF+zVofI4QAANy7d8/KkShDQ0MDampqcO/ePfTv39/a4fRJrIF1Mf/WxfzLA+tgfayBdTH/1tddNWjsCRp7BLI+Nuh9TFVVFQBArVZbORIiIiIiIpKDqqoqODk5WTsMAiAJvl3SpxgMBty8eROOjo6QJMna4cjevXv3oFarcf36dQwePNja4fRJrIF1Mf/WxfzLA+tgfayBdTH/1tddNRBCoKqqCiNGjICNDT/9LAc8g97H2NjYwNPT09phKM7gwYN5QLIy1sC6mH/rYv7lgXWwPtbAuph/6+uOGvDMubzwbRIiIiIiIiIiGWCDTkRERERERCQDbNCJWqFSqRAXFweVSmXtUPos1sC6mH/rYv7lgXWwPtbAuph/62MN+g7eJI6IiIiIiIhIBngGnYiIiIiIiEgG2KATERERERERyQAbdCIiIiIiIiIZYINOREREREREJANs0ElxEhMTMW7cODg6OmL48OF44YUXUFRUZDLmf//7H6KjozFs2DA4ODhg2rRpKC8vN76em5uLl19+GWq1Gvb29vDz88PmzZtbXDM7Oxu2trbw9/dvM76vvvoKEydOxLBhwyBJEs6fP282pq345K6naqDRaCBJktmjrKys1fiEEFi1ahXc3d1hb2+PsLAwXL582WTMunXrEBISgoEDB8LZ2blzCelhvSH/jerq6uDv79/i74pcKb0GLc0rSRLOnj3bBRnqfnKvQV84FgA9e0yuq6vD3/72N4wcORIqlQqjRo3Czp0724xxy5YtGDVqFAYMGICgoCCcOXPG5PWPP/4YoaGhGDx4MCRJQmVlZceS0cN6Q+4bCSEwefJkSJKE9PT09iXCipReg5KSkhaPBXv37u1EZqhTBJHChIeHi5SUFJGfny/Onz8vnn/+eeHl5SWqq6uNYxYsWCDUarX47rvvRE5OjnjyySdFSEiI8fUdO3aIhQsXCo1GI4qLi0VaWpqwt7cXycnJZuvduXNHPProo2LixIli7Nixbcb32WefiYSEBPHJJ58IAEKr1ZqNaSs+ueupGnz//fcCgCgqKhI6nc740Ov1rca3fv164eTkJNLT00Vubq6IiIgQ3t7eora21jhm1apVYtOmTWLJkiXCycmp65LTA3pD/hstXLhQTJ48ucXfFblSeg3q6upM5tPpdOLVV18V3t7ewmAwdHG2uofca9AXjgVC9OwxOSIiQgQFBYljx46Jq1evipMnT4oTJ060Gt/u3buFnZ2d2LlzpygoKBDz588Xzs7Oory83DgmKSlJJCYmisTERAFA3Llzp2uS0816Q+4bbdq0yXgs+PrrrzuXmB6k9Brcv3/f7FiQkJAgHBwcRFVVVRdmitqDDTop3q1btwQAkZWVJYQQorKyUvTv31/s3bvXOKawsFAAEKdOnWpxnqioKDFhwgSz7S+99JJYuXKliIuLs6hBb3T16tVm/yjraHxy1l01aPzDuD1/LBkMBuHm5ibeffdd47bKykqhUqnE559/bjY+JSVFcQ36w5Sa/2+++Ub4+vqKgoICxTXoD1NqDRrV19cLFxcXsXr1aovXkRs51aCpvnQsEKL76nD48GHh5OQkKioq2hVPYGCgiI6ONj7X6/VixIgRIjEx0WxsZ2ttbUrNvVarFR4eHkKn0ymuQX+YUmvQlL+/v5g7d2671qGuxUvcSfHu3r0LABg6dCgA4Ny5c2hoaEBYWJhxjK+vL7y8vHDq1KlW52mco1FKSgquXLmCuLi4Lou3o/HJWXfWAAD8/f3h7u6O5557DtnZ2a3GcvXqVZSVlZms7eTkhKCgIMXmty1KzH95eTnmz5+PtLQ0DBw40LIdlTEl1qCpAwcOoKKiAnPmzGl1bjmTUw0s0RuPBUD31eHAgQMICAjAhg0b4OHhgcceewxLly5FbW1ti3PU19fj3LlzJmvb2NggLCxM0TluiRJzX1NTgxkzZmDLli1wc3Nr/07LjBJr0NS5c+dw/vx5zJs3z7Idpm5ha+0AiDrDYDDgzTffxFNPPYXHH38cAFBWVgY7OzuzzxW7urq2+JnBkydP4osvvsChQ4eM2y5fvoxly5bh+PHjsLXtul+VjsQnZ91ZA3d3d3z00UcICAhAXV0dtm/fjtDQUJw+fRq///3vm52ncX5XV1eL11YyJeZfCIHZs2djwYIFCAgIQElJSUd2XTaUWIOH7dixA+Hh4fD09LRon+VGbjWwRG87FgDdW4crV67gxIkTGDBgAL7++mvcvn0bUVFRqKioQEpKSrPz3L59G3q9vtnfhUuXLnViT+VHqblfvHgxQkJCMGXKlI7stqwotQZN7dixA35+fggJCbF0t6kbsEEnRYuOjkZ+fj5OnDjR4Tny8/MxZcoUxMXFYeLEiQAAvV6PGTNmICEhAY899lizP7dr1y689tprxueHDx/GM8880+E4lKq7agAAPj4+8PHxMT4PCQlBcXExkpKSkJaW1mwN+vXr1+E4lEiJ+U9OTkZVVRWWL1/e4ZjlRIk1aOrGjRs4evQo9uzZ0+H4rU1uNeiLxwKge+tgMBggSRJ27doFJycnAMCmTZswffp0fPjhh8jJycHkyZON47dt24YJEyZ0fGcURom5P3DgADIzM6HVajscs5wosQZN1dbW4p///CdiY2M7HD91DTbopFgxMTE4ePAgfvjhB5OzPm5ubqivr0dlZaXJO5bl5eVml09dvHgRzz77LCIjI7Fy5Urj9qqqKuTk5ECr1SImJgbAg/8chRCwtbXFt99+i4iICAQFBRl/xsPDw6K42xOf3HVnDVoSGBhoPPg1VwOdTmdcy93d3WRtS+7CryRKzX9mZiZOnToFlUplMndAQAD+9Kc/ITU11bIEyIBSa9BUSkoKhg0bhoiICIv2WW7kWANL9KZjAdD9dXB3d4eHh4exOQEAPz8/CCFw48YNBAQEmNwp39XVFSqVCv369TO7M75Sc9wSpeY+MzMTxcXFZmeXp02bhmeeeQYajaYD2bAOpdagqX379qGmpgavvPJKR1JAXcmqn4An6gCDwSCio6PFiBEjxE8//WT2euMNOfbt22fcdunSJbMbcuTn54vhw4eLt956y2wOvV4v8vLyTB6vv/668PHxEXl5eSZ352xJWzcGais+OeuJGrQkLCxMTJ06tdXY3NzcxHvvvWfcdvfu3V51kzil5//atWsmv1tHjx4VAMS+ffvE9evXLY7FmpReg6Zjvb29xV/+8heL15cLOdegqd58LBCi5+qwbds2YW9vb3Jn6fT0dGFjYyNqampajC8wMFDExMQYn+v1euHh4dErbhKn9NzrdDqzv7UAiM2bN4srV65YnggrUnoNmho/fryYNm1a6ztMPYINOinO66+/LpycnIRGozH5Woim/0EtWLBAeHl5iczMTJGTkyOCg4NFcHCw8fW8vDzh4uIiZs6caTLHrVu3WlzX0ru4V1RUCK1WKw4dOiQAiN27dwutVit0Op3F8cldT9UgKSlJpKeni8uXL4u8vDyxaNEiYWNjIzIyMlqNb/369cLZ2Vns379fXLhwQUyZMsXsa76uXbsmtFqt8etEtFqt0Gq1ivhakd6Q/6ZaamDkrLfUICMjQwAQhYWFXZSZniP3GvSFY4EQPVeHqqoq4enpKaZPny4KCgpEVlaWGD16tHj11VdbjW/37t1CpVKJTz/9VFy8eFFERkYKZ2dnUVZWZhyj0+mEVqs1fiXeDz/8ILRabbvvmN3TekPuHwaF3cW9t9Tg8uXLQpIkcfjw4S7KDHUGG3RSHADNPlJSUoxjamtrRVRUlBgyZIgYOHCgmDp1qskfRXFxcc3OMXLkyBbXtbRBT0lJaXbuuLg4i+OTu56qwTvvvCN+9atfiQEDBoihQ4eK0NBQkZmZ2WZ8BoNBxMbGCldXV6FSqcSzzz4rioqKTMbMmjWr2fW///77zqan2/WG/DelxAa9t9Tg5ZdfVtz3bjeSew36wrFAiJ49JhcWFoqwsDBhb28vPD09xZIlS1o9e9goOTlZeHl5CTs7OxEYGCh+/PFHk9dbWr/pPshRb8h9c/ukpAa9t9Rg+fLlQq1WC71e3+FcUNeRhBACRERERERERGRV/B50IiIiIiIiIhlgg05EREREREQkA2zQiYiIiIiIiGSADToRERERERGRDLBBJyIiIiIiIpIBNuhEREREREREMsAGnYiIiIiIiEgG2KATERHJxKhRo/D+++93y9wlJSWQJAnnz5/vlvmJiIio89igExERtWH27NmQJMnsMWnSpC5d5+zZs4iMjOz0PLNnz8YLL7xgsk2tVkOn0+Hxxx/v9PytiY+PN+bH1tYWjzzyCP7whz/g/fffR11dXbvm0mg0kCQJlZWV3RMsERGRzNhaOwAiIiIlmDRpElJSUky2qVSqLl3DxcWl1dcbGhrQv3//Ds3dr18/uLm5dehn2+s3v/kNMjIyYDAYUFFRAY1Gg7Vr1yItLQ0ajQaOjo49EgcREZHS8Aw6ERGRBVQqFdzc3EweQ4YMAfDgTK+dnR2OHz9uHL9hwwYMHz4c5eXlAIDQ0FDExMQgJiYGTk5OeOSRRxAbGwshhPFnHr7EXZIkbN26FRERERg0aBDWrVsHvV6PefPmwdvbG/b29vDx8cHmzZuNPxMfH4/U1FTs37/feCZbo9E0e4l7VlYWAgMDoVKp4O7ujmXLluH+/fvG10NDQ7Fw4UK8/fbbGDp0KNzc3BAfH99mrmxtbeHm5oYRI0bgt7/9Ld544w1kZWUhPz8f77zzjnFcWloaAgIC4OjoCDc3N8yYMQO3bt0C8OCS/AkTJgAAhgwZAkmSMHv2bACAwWBAYmKiMQdjx47Fvn372oyLiIhI7tigExERdVJoaCjefPNN/PnPf8bdu3eh1WoRGxuL7du3w9XV1TguNTUVtra2OHPmDDZv3oxNmzZh+/btrc4dHx+PqVOnIi8vD3PnzoXBYICnpyf27t2LixcvYtWqVVixYgX27NkDAFi6dClefPFFTJo0CTqdDjqdDiEhIWbz/uc//8Hzzz+PcePGITc3F1u3bsWOHTuwdu1ak3GpqakYNGgQTp8+jQ0bNmD16tU4duxYu3Pk6+uLyZMn46uvvjJua2howJo1a5Cbm4v09HSUlJQYm3C1Wo0vv/wSAFBUVASdTmd8IyIxMRGfffYZPvroIxQUFGDx4sWYOXMmsrKy2h0XERGRnPASdyIiIgscPHgQDg4OJttWrFiBFStWAADWrl2LY8eOITIyEvn5+Zg1axYiIiJMxqvVaiQlJUGSJPj4+CAvLw9JSUmYP39+i+vOmDEDc+bMMdmWkJBg/Le3tzdOnTqFPXv24MUXX4SDgwPs7e1RV1fX6iXtH374IdRqNT744ANIkgRfX1/cvHkTf/3rX7Fq1SrY2Dx4D/+JJ55AXFwcAGD06NH44IMP8N133+G5556zIGumfH198e233xqfz5071/jvRx99FP/4xz8wbtw4VFdXw8HBAUOHDgUADB8+HM7OzgCAuro6/P3vf0dGRgaCg4ONP3vixAls27YN48ePb3dcREREcsEGnYiIyAITJkzA1q1bTbY1NpAAYGdnh127duGJJ57AyJEjkZSUZDbHk08+CUmSjM+Dg4OxceNG6PV69OvXr9l1AwICzLZt2bIFO3fuRGlpKWpra1FfXw9/f/927U9hYSGCg4NN4nnqqadQXV2NGzduwMvLC8CDBr0pd3d342Xo7SWEMFnv3LlziI+PR25uLu7cuQODwQAAKC0txZgxY5qd49///jdqamrM3iCor6/H7373uw7FRUREJBds0ImIiCwwaNAg/PrXv251zMmTJwEAP//8M37++WcMGjSoS9Ztavfu3Vi6dCk2btyI4OBgODo64t1338Xp06c7vVZzHr4pnSRJxka6vQoLC+Ht7Q0A+OWXXxAeHo7w8HDs2rULLi4uKC0tRXh4OOrr61uco7q6GgBw6NAheHh4mLzW1TftIyIi6mls0ImIiLpAcXExFi9ejE8++QRffPEFZs2ahYyMDOOl4gDMmugff/wRo0ePbvHseXOys7MREhKCqKgok7WbsrOzg16vb3UePz8/fPnllyZntbOzs+Ho6AhPT0+L47HUpUuXcOTIESxfvtz4vKKiAuvXr4darQYA5OTkmO0HAJN9GTNmDFQqFUpLS3k5OxER9Tq8SRwREZEF6urqUFZWZvK4ffs2gAcN5MyZMxEeHo45c+YgJSUFFy5cwMaNG03mKC0txZIlS1BUVITPP/8cycnJWLRoUbviGD16NHJycnD06FH89NNPiI2NxdmzZ03GjBo1ChcuXEBRURFu376NhoYGs3mioqJw/fp1vPHGG7h06RL279+PuLg4LFmyxORNhY64f/8+ysrKcPPmTeTl5SE5ORnjx4+Hv78/3nrrLQCAl5cX7OzskJycjCtXruDAgQNYs2aNyTwjR46EJEk4ePAg/vvf/6K6uhqOjo5YunQpFi9ejNTUVBQXF+Nf//oXkpOTkZqa2qm4iYiIrI0NOhERkQWOHDkCd3d3k8fTTz8NAFi3bh2uXbuGbdu2AXjwOe2PP/4YK1euRG5urnGOV155BbW1tQgMDER0dDQWLVqEyMjIdsXx2muv4Y9//CNeeuklBAUFoaKiwuRsOgDMnz8fPj4+CAgIgIuLC7Kzs83m8fDwwDfffIMzZ85g7NixWLBgAebNm4eVK1e2NzVmCgoK4O7uDi8vL4SGhmLPnj1Yvnw5jh8/brzRnouLCz799FPs3bsXY8aMwfr16/Hee++ZxZiQkIBly5bB1dUVMTExAIA1a9YgNjYWiYmJ8PPzw6RJk3Do0CHj5fNERERKJYmmX8BKRERE3SI0NBT+/v4m33NORERE1BTPoBMRERERERHJABt0IiIiIiIiIhngJe5EREREREREMsAz6EREREREREQywAadiIiIiIiISAbYoBMRERERERHJABt0IiIiIiIiIhlgg05EREREREQkA2zQiYiIiIiIiGSADToRERERERGRDLBBJyIiIiIiIpIBNuhEREREREREMsAGnYiIiIiIiEgG2KATERERERERyQAbdCIiIiIiIiIZYINOREREREREJANs0ImIiIiIiIhkgA06ERERERERkQywQSciIiIiIiKSATboRERERERERDLABp2IiIiIiIhIBtigExEREREREckAG3QiIiIiIiIiGWCDTkRERERERCQDbNCJiIiIiIiIZOD/jHQtladlp9IAAAAASUVORK5CYII=' width=1000.0/>\n",
       "            </div>\n",
       "        "
      ],
      "text/plain": [
       "Canvas(toolbar=Toolbar(toolitems=[('Home', 'Reset original view', 'home', 'home'), ('Back', 'Back to previous …"
      ]
     },
     "metadata": {},
     "output_type": "display_data"
    }
   ],
   "source": [
    "# Plot Implied Volatility Term Structure\n",
    "plt.figure(figsize=(10, 6))\n",
    "plt.plot(filtered_calls_at_strike.index, filtered_calls_at_strike[\"impliedVolatility\"], marker='o', linestyle='solid')\n",
    "plt.title(f\"Implied Volatility Term Structure for Strike Price {selected_strike_price}\")\n",
    "plt.xlabel(\"Expiration Date\")\n",
    "plt.ylabel(\"Implied Volatility\")\n",
    "plt.grid(True)"
   ]
  },
  {
   "cell_type": "markdown",
   "metadata": {},
   "source": [
    "#### Using Plotly"
   ]
  },
  {
   "cell_type": "code",
   "execution_count": 46,
   "metadata": {},
   "outputs": [
    {
     "data": {
      "application/vnd.plotly.v1+json": {
       "config": {
        "plotlyServerURL": "https://plot.ly"
       },
       "data": [
        {
         "hovertemplate": "Expiration Date=%{x}<br>Implied Volatility=%{y}<extra></extra>",
         "legendgroup": "",
         "line": {
          "color": "#636efa",
          "dash": "solid"
         },
         "marker": {
          "symbol": "circle"
         },
         "mode": "lines+markers",
         "name": "",
         "orientation": "v",
         "showlegend": false,
         "type": "scatter",
         "x": [
          "2024-08-23T23:59:59",
          "2024-08-30T23:59:59",
          "2024-09-06T23:59:59",
          "2024-09-13T23:59:59",
          "2024-09-20T23:59:59",
          "2024-09-27T23:59:59",
          "2024-10-18T23:59:59",
          "2024-11-15T23:59:59",
          "2024-12-20T23:59:59",
          "2025-01-17T23:59:59",
          "2025-03-21T23:59:59",
          "2025-06-20T23:59:59",
          "2025-09-19T23:59:59",
          "2025-12-19T23:59:59",
          "2026-01-16T23:59:59",
          "2026-06-18T23:59:59"
         ],
         "xaxis": "x",
         "y": [
          0.257819921875,
          0.21680470703125,
          0.2016681396484375,
          0.2087481469726562,
          0.21204401245117185,
          0.2135088415527344,
          0.2199785034179687,
          0.2461012890625,
          0.24286645812988278,
          0.2442702526855469,
          0.25797250823974616,
          0.2700268310546875,
          0.27965503067016595,
          0.28742167663574214,
          0.2912058184814452,
          0.2963022030639648
         ],
         "yaxis": "y"
        }
       ],
       "layout": {
        "height": 600,
        "legend": {
         "tracegroupgap": 0
        },
        "template": {
         "data": {
          "bar": [
           {
            "error_x": {
             "color": "#2a3f5f"
            },
            "error_y": {
             "color": "#2a3f5f"
            },
            "marker": {
             "line": {
              "color": "#E5ECF6",
              "width": 0.5
             },
             "pattern": {
              "fillmode": "overlay",
              "size": 10,
              "solidity": 0.2
             }
            },
            "type": "bar"
           }
          ],
          "barpolar": [
           {
            "marker": {
             "line": {
              "color": "#E5ECF6",
              "width": 0.5
             },
             "pattern": {
              "fillmode": "overlay",
              "size": 10,
              "solidity": 0.2
             }
            },
            "type": "barpolar"
           }
          ],
          "carpet": [
           {
            "aaxis": {
             "endlinecolor": "#2a3f5f",
             "gridcolor": "white",
             "linecolor": "white",
             "minorgridcolor": "white",
             "startlinecolor": "#2a3f5f"
            },
            "baxis": {
             "endlinecolor": "#2a3f5f",
             "gridcolor": "white",
             "linecolor": "white",
             "minorgridcolor": "white",
             "startlinecolor": "#2a3f5f"
            },
            "type": "carpet"
           }
          ],
          "choropleth": [
           {
            "colorbar": {
             "outlinewidth": 0,
             "ticks": ""
            },
            "type": "choropleth"
           }
          ],
          "contour": [
           {
            "colorbar": {
             "outlinewidth": 0,
             "ticks": ""
            },
            "colorscale": [
             [
              0,
              "#0d0887"
             ],
             [
              0.1111111111111111,
              "#46039f"
             ],
             [
              0.2222222222222222,
              "#7201a8"
             ],
             [
              0.3333333333333333,
              "#9c179e"
             ],
             [
              0.4444444444444444,
              "#bd3786"
             ],
             [
              0.5555555555555556,
              "#d8576b"
             ],
             [
              0.6666666666666666,
              "#ed7953"
             ],
             [
              0.7777777777777778,
              "#fb9f3a"
             ],
             [
              0.8888888888888888,
              "#fdca26"
             ],
             [
              1,
              "#f0f921"
             ]
            ],
            "type": "contour"
           }
          ],
          "contourcarpet": [
           {
            "colorbar": {
             "outlinewidth": 0,
             "ticks": ""
            },
            "type": "contourcarpet"
           }
          ],
          "heatmap": [
           {
            "colorbar": {
             "outlinewidth": 0,
             "ticks": ""
            },
            "colorscale": [
             [
              0,
              "#0d0887"
             ],
             [
              0.1111111111111111,
              "#46039f"
             ],
             [
              0.2222222222222222,
              "#7201a8"
             ],
             [
              0.3333333333333333,
              "#9c179e"
             ],
             [
              0.4444444444444444,
              "#bd3786"
             ],
             [
              0.5555555555555556,
              "#d8576b"
             ],
             [
              0.6666666666666666,
              "#ed7953"
             ],
             [
              0.7777777777777778,
              "#fb9f3a"
             ],
             [
              0.8888888888888888,
              "#fdca26"
             ],
             [
              1,
              "#f0f921"
             ]
            ],
            "type": "heatmap"
           }
          ],
          "heatmapgl": [
           {
            "colorbar": {
             "outlinewidth": 0,
             "ticks": ""
            },
            "colorscale": [
             [
              0,
              "#0d0887"
             ],
             [
              0.1111111111111111,
              "#46039f"
             ],
             [
              0.2222222222222222,
              "#7201a8"
             ],
             [
              0.3333333333333333,
              "#9c179e"
             ],
             [
              0.4444444444444444,
              "#bd3786"
             ],
             [
              0.5555555555555556,
              "#d8576b"
             ],
             [
              0.6666666666666666,
              "#ed7953"
             ],
             [
              0.7777777777777778,
              "#fb9f3a"
             ],
             [
              0.8888888888888888,
              "#fdca26"
             ],
             [
              1,
              "#f0f921"
             ]
            ],
            "type": "heatmapgl"
           }
          ],
          "histogram": [
           {
            "marker": {
             "pattern": {
              "fillmode": "overlay",
              "size": 10,
              "solidity": 0.2
             }
            },
            "type": "histogram"
           }
          ],
          "histogram2d": [
           {
            "colorbar": {
             "outlinewidth": 0,
             "ticks": ""
            },
            "colorscale": [
             [
              0,
              "#0d0887"
             ],
             [
              0.1111111111111111,
              "#46039f"
             ],
             [
              0.2222222222222222,
              "#7201a8"
             ],
             [
              0.3333333333333333,
              "#9c179e"
             ],
             [
              0.4444444444444444,
              "#bd3786"
             ],
             [
              0.5555555555555556,
              "#d8576b"
             ],
             [
              0.6666666666666666,
              "#ed7953"
             ],
             [
              0.7777777777777778,
              "#fb9f3a"
             ],
             [
              0.8888888888888888,
              "#fdca26"
             ],
             [
              1,
              "#f0f921"
             ]
            ],
            "type": "histogram2d"
           }
          ],
          "histogram2dcontour": [
           {
            "colorbar": {
             "outlinewidth": 0,
             "ticks": ""
            },
            "colorscale": [
             [
              0,
              "#0d0887"
             ],
             [
              0.1111111111111111,
              "#46039f"
             ],
             [
              0.2222222222222222,
              "#7201a8"
             ],
             [
              0.3333333333333333,
              "#9c179e"
             ],
             [
              0.4444444444444444,
              "#bd3786"
             ],
             [
              0.5555555555555556,
              "#d8576b"
             ],
             [
              0.6666666666666666,
              "#ed7953"
             ],
             [
              0.7777777777777778,
              "#fb9f3a"
             ],
             [
              0.8888888888888888,
              "#fdca26"
             ],
             [
              1,
              "#f0f921"
             ]
            ],
            "type": "histogram2dcontour"
           }
          ],
          "mesh3d": [
           {
            "colorbar": {
             "outlinewidth": 0,
             "ticks": ""
            },
            "type": "mesh3d"
           }
          ],
          "parcoords": [
           {
            "line": {
             "colorbar": {
              "outlinewidth": 0,
              "ticks": ""
             }
            },
            "type": "parcoords"
           }
          ],
          "pie": [
           {
            "automargin": true,
            "type": "pie"
           }
          ],
          "scatter": [
           {
            "fillpattern": {
             "fillmode": "overlay",
             "size": 10,
             "solidity": 0.2
            },
            "type": "scatter"
           }
          ],
          "scatter3d": [
           {
            "line": {
             "colorbar": {
              "outlinewidth": 0,
              "ticks": ""
             }
            },
            "marker": {
             "colorbar": {
              "outlinewidth": 0,
              "ticks": ""
             }
            },
            "type": "scatter3d"
           }
          ],
          "scattercarpet": [
           {
            "marker": {
             "colorbar": {
              "outlinewidth": 0,
              "ticks": ""
             }
            },
            "type": "scattercarpet"
           }
          ],
          "scattergeo": [
           {
            "marker": {
             "colorbar": {
              "outlinewidth": 0,
              "ticks": ""
             }
            },
            "type": "scattergeo"
           }
          ],
          "scattergl": [
           {
            "marker": {
             "colorbar": {
              "outlinewidth": 0,
              "ticks": ""
             }
            },
            "type": "scattergl"
           }
          ],
          "scattermapbox": [
           {
            "marker": {
             "colorbar": {
              "outlinewidth": 0,
              "ticks": ""
             }
            },
            "type": "scattermapbox"
           }
          ],
          "scatterpolar": [
           {
            "marker": {
             "colorbar": {
              "outlinewidth": 0,
              "ticks": ""
             }
            },
            "type": "scatterpolar"
           }
          ],
          "scatterpolargl": [
           {
            "marker": {
             "colorbar": {
              "outlinewidth": 0,
              "ticks": ""
             }
            },
            "type": "scatterpolargl"
           }
          ],
          "scatterternary": [
           {
            "marker": {
             "colorbar": {
              "outlinewidth": 0,
              "ticks": ""
             }
            },
            "type": "scatterternary"
           }
          ],
          "surface": [
           {
            "colorbar": {
             "outlinewidth": 0,
             "ticks": ""
            },
            "colorscale": [
             [
              0,
              "#0d0887"
             ],
             [
              0.1111111111111111,
              "#46039f"
             ],
             [
              0.2222222222222222,
              "#7201a8"
             ],
             [
              0.3333333333333333,
              "#9c179e"
             ],
             [
              0.4444444444444444,
              "#bd3786"
             ],
             [
              0.5555555555555556,
              "#d8576b"
             ],
             [
              0.6666666666666666,
              "#ed7953"
             ],
             [
              0.7777777777777778,
              "#fb9f3a"
             ],
             [
              0.8888888888888888,
              "#fdca26"
             ],
             [
              1,
              "#f0f921"
             ]
            ],
            "type": "surface"
           }
          ],
          "table": [
           {
            "cells": {
             "fill": {
              "color": "#EBF0F8"
             },
             "line": {
              "color": "white"
             }
            },
            "header": {
             "fill": {
              "color": "#C8D4E3"
             },
             "line": {
              "color": "white"
             }
            },
            "type": "table"
           }
          ]
         },
         "layout": {
          "annotationdefaults": {
           "arrowcolor": "#2a3f5f",
           "arrowhead": 0,
           "arrowwidth": 1
          },
          "autotypenumbers": "strict",
          "coloraxis": {
           "colorbar": {
            "outlinewidth": 0,
            "ticks": ""
           }
          },
          "colorscale": {
           "diverging": [
            [
             0,
             "#8e0152"
            ],
            [
             0.1,
             "#c51b7d"
            ],
            [
             0.2,
             "#de77ae"
            ],
            [
             0.3,
             "#f1b6da"
            ],
            [
             0.4,
             "#fde0ef"
            ],
            [
             0.5,
             "#f7f7f7"
            ],
            [
             0.6,
             "#e6f5d0"
            ],
            [
             0.7,
             "#b8e186"
            ],
            [
             0.8,
             "#7fbc41"
            ],
            [
             0.9,
             "#4d9221"
            ],
            [
             1,
             "#276419"
            ]
           ],
           "sequential": [
            [
             0,
             "#0d0887"
            ],
            [
             0.1111111111111111,
             "#46039f"
            ],
            [
             0.2222222222222222,
             "#7201a8"
            ],
            [
             0.3333333333333333,
             "#9c179e"
            ],
            [
             0.4444444444444444,
             "#bd3786"
            ],
            [
             0.5555555555555556,
             "#d8576b"
            ],
            [
             0.6666666666666666,
             "#ed7953"
            ],
            [
             0.7777777777777778,
             "#fb9f3a"
            ],
            [
             0.8888888888888888,
             "#fdca26"
            ],
            [
             1,
             "#f0f921"
            ]
           ],
           "sequentialminus": [
            [
             0,
             "#0d0887"
            ],
            [
             0.1111111111111111,
             "#46039f"
            ],
            [
             0.2222222222222222,
             "#7201a8"
            ],
            [
             0.3333333333333333,
             "#9c179e"
            ],
            [
             0.4444444444444444,
             "#bd3786"
            ],
            [
             0.5555555555555556,
             "#d8576b"
            ],
            [
             0.6666666666666666,
             "#ed7953"
            ],
            [
             0.7777777777777778,
             "#fb9f3a"
            ],
            [
             0.8888888888888888,
             "#fdca26"
            ],
            [
             1,
             "#f0f921"
            ]
           ]
          },
          "colorway": [
           "#636efa",
           "#EF553B",
           "#00cc96",
           "#ab63fa",
           "#FFA15A",
           "#19d3f3",
           "#FF6692",
           "#B6E880",
           "#FF97FF",
           "#FECB52"
          ],
          "font": {
           "color": "#2a3f5f"
          },
          "geo": {
           "bgcolor": "white",
           "lakecolor": "white",
           "landcolor": "#E5ECF6",
           "showlakes": true,
           "showland": true,
           "subunitcolor": "white"
          },
          "hoverlabel": {
           "align": "left"
          },
          "hovermode": "closest",
          "mapbox": {
           "style": "light"
          },
          "paper_bgcolor": "white",
          "plot_bgcolor": "#E5ECF6",
          "polar": {
           "angularaxis": {
            "gridcolor": "white",
            "linecolor": "white",
            "ticks": ""
           },
           "bgcolor": "#E5ECF6",
           "radialaxis": {
            "gridcolor": "white",
            "linecolor": "white",
            "ticks": ""
           }
          },
          "scene": {
           "xaxis": {
            "backgroundcolor": "#E5ECF6",
            "gridcolor": "white",
            "gridwidth": 2,
            "linecolor": "white",
            "showbackground": true,
            "ticks": "",
            "zerolinecolor": "white"
           },
           "yaxis": {
            "backgroundcolor": "#E5ECF6",
            "gridcolor": "white",
            "gridwidth": 2,
            "linecolor": "white",
            "showbackground": true,
            "ticks": "",
            "zerolinecolor": "white"
           },
           "zaxis": {
            "backgroundcolor": "#E5ECF6",
            "gridcolor": "white",
            "gridwidth": 2,
            "linecolor": "white",
            "showbackground": true,
            "ticks": "",
            "zerolinecolor": "white"
           }
          },
          "shapedefaults": {
           "line": {
            "color": "#2a3f5f"
           }
          },
          "ternary": {
           "aaxis": {
            "gridcolor": "white",
            "linecolor": "white",
            "ticks": ""
           },
           "baxis": {
            "gridcolor": "white",
            "linecolor": "white",
            "ticks": ""
           },
           "bgcolor": "#E5ECF6",
           "caxis": {
            "gridcolor": "white",
            "linecolor": "white",
            "ticks": ""
           }
          },
          "title": {
           "x": 0.05
          },
          "xaxis": {
           "automargin": true,
           "gridcolor": "white",
           "linecolor": "white",
           "ticks": "",
           "title": {
            "standoff": 15
           },
           "zerolinecolor": "white",
           "zerolinewidth": 2
          },
          "yaxis": {
           "automargin": true,
           "gridcolor": "white",
           "linecolor": "white",
           "ticks": "",
           "title": {
            "standoff": 15
           },
           "zerolinecolor": "white",
           "zerolinewidth": 2
          }
         }
        },
        "title": {
         "text": "Implied Volatility Term Structure for Strike Price 245.0"
        },
        "width": 800,
        "xaxis": {
         "anchor": "y",
         "domain": [
          0,
          1
         ],
         "title": {
          "text": "Expiration Date"
         }
        },
        "yaxis": {
         "anchor": "x",
         "domain": [
          0,
          1
         ],
         "title": {
          "text": "Implied Volatility"
         }
        }
       }
      }
     },
     "metadata": {},
     "output_type": "display_data"
    }
   ],
   "source": [
    "fig = px.line(x=filtered_calls_at_strike.index ,y =filtered_calls_at_strike[\"impliedVolatility\"],\n",
    "              title=f\"Implied Volatility Term Structure for Strike Price {selected_strike_price}\", \n",
    "              labels={'x':'Expiration Date', 'y':'Implied Volatility'},\n",
    "              width=800, height=600,\n",
    "              markers=True)\n",
    "fig.show()"
   ]
  },
  {
   "cell_type": "markdown",
   "metadata": {},
   "source": [
    "### Volatility Surface"
   ]
  },
  {
   "cell_type": "code",
   "execution_count": 47,
   "metadata": {},
   "outputs": [],
   "source": [
    "#call_options"
   ]
  },
  {
   "cell_type": "code",
   "execution_count": 48,
   "metadata": {},
   "outputs": [],
   "source": [
    "# pivot the dataframe\n",
    "surface = (call_options[[\"Days to Expiration\", 'strike', 'impliedVolatility']]\n",
    "           .pivot_table(values='impliedVolatility', index='strike', columns=\"Days to Expiration\")\n",
    "           .dropna()\n",
    ")"
   ]
  },
  {
   "cell_type": "code",
   "execution_count": 49,
   "metadata": {},
   "outputs": [
    {
     "data": {
      "text/html": [
       "<div>\n",
       "<style scoped>\n",
       "    .dataframe tbody tr th:only-of-type {\n",
       "        vertical-align: middle;\n",
       "    }\n",
       "\n",
       "    .dataframe tbody tr th {\n",
       "        vertical-align: top;\n",
       "    }\n",
       "\n",
       "    .dataframe thead th {\n",
       "        text-align: right;\n",
       "    }\n",
       "</style>\n",
       "<table border=\"1\" class=\"dataframe\">\n",
       "  <thead>\n",
       "    <tr style=\"text-align: right;\">\n",
       "      <th>Days to Expiration</th>\n",
       "      <th>6</th>\n",
       "      <th>13</th>\n",
       "      <th>20</th>\n",
       "      <th>27</th>\n",
       "      <th>34</th>\n",
       "      <th>41</th>\n",
       "      <th>62</th>\n",
       "      <th>90</th>\n",
       "      <th>125</th>\n",
       "      <th>153</th>\n",
       "      <th>216</th>\n",
       "      <th>307</th>\n",
       "      <th>363</th>\n",
       "      <th>398</th>\n",
       "      <th>489</th>\n",
       "      <th>517</th>\n",
       "      <th>670</th>\n",
       "      <th>853</th>\n",
       "    </tr>\n",
       "    <tr>\n",
       "      <th>strike</th>\n",
       "      <th></th>\n",
       "      <th></th>\n",
       "      <th></th>\n",
       "      <th></th>\n",
       "      <th></th>\n",
       "      <th></th>\n",
       "      <th></th>\n",
       "      <th></th>\n",
       "      <th></th>\n",
       "      <th></th>\n",
       "      <th></th>\n",
       "      <th></th>\n",
       "      <th></th>\n",
       "      <th></th>\n",
       "      <th></th>\n",
       "      <th></th>\n",
       "      <th></th>\n",
       "      <th></th>\n",
       "    </tr>\n",
       "  </thead>\n",
       "  <tbody>\n",
       "    <tr>\n",
       "      <th>180.0</th>\n",
       "      <td>0.908204</td>\n",
       "      <td>0.704593</td>\n",
       "      <td>0.665287</td>\n",
       "      <td>0.618656</td>\n",
       "      <td>0.530156</td>\n",
       "      <td>0.504399</td>\n",
       "      <td>0.482061</td>\n",
       "      <td>0.451788</td>\n",
       "      <td>0.417608</td>\n",
       "      <td>0.407843</td>\n",
       "      <td>0.390692</td>\n",
       "      <td>0.381262</td>\n",
       "      <td>0.383673</td>\n",
       "      <td>0.377203</td>\n",
       "      <td>0.376013</td>\n",
       "      <td>0.374854</td>\n",
       "      <td>0.371588</td>\n",
       "      <td>0.372199</td>\n",
       "    </tr>\n",
       "    <tr>\n",
       "      <th>185.0</th>\n",
       "      <td>0.814455</td>\n",
       "      <td>0.646488</td>\n",
       "      <td>0.615238</td>\n",
       "      <td>0.549565</td>\n",
       "      <td>0.520268</td>\n",
       "      <td>0.515630</td>\n",
       "      <td>0.452703</td>\n",
       "      <td>0.419317</td>\n",
       "      <td>0.395697</td>\n",
       "      <td>0.387274</td>\n",
       "      <td>0.375739</td>\n",
       "      <td>0.369116</td>\n",
       "      <td>0.369513</td>\n",
       "      <td>0.370764</td>\n",
       "      <td>0.365607</td>\n",
       "      <td>0.367316</td>\n",
       "      <td>0.363440</td>\n",
       "      <td>0.364936</td>\n",
       "    </tr>\n",
       "    <tr>\n",
       "      <th>190.0</th>\n",
       "      <td>0.721682</td>\n",
       "      <td>0.563969</td>\n",
       "      <td>0.517095</td>\n",
       "      <td>0.500493</td>\n",
       "      <td>0.471685</td>\n",
       "      <td>0.464971</td>\n",
       "      <td>0.424200</td>\n",
       "      <td>0.393866</td>\n",
       "      <td>0.375495</td>\n",
       "      <td>0.369452</td>\n",
       "      <td>0.361609</td>\n",
       "      <td>0.357581</td>\n",
       "      <td>0.364447</td>\n",
       "      <td>0.357917</td>\n",
       "      <td>0.360450</td>\n",
       "      <td>0.359580</td>\n",
       "      <td>0.355750</td>\n",
       "      <td>0.360724</td>\n",
       "    </tr>\n",
       "    <tr>\n",
       "      <th>200.0</th>\n",
       "      <td>0.559575</td>\n",
       "      <td>0.531987</td>\n",
       "      <td>0.478033</td>\n",
       "      <td>0.452520</td>\n",
       "      <td>0.393561</td>\n",
       "      <td>0.413641</td>\n",
       "      <td>0.354987</td>\n",
       "      <td>0.352057</td>\n",
       "      <td>0.340094</td>\n",
       "      <td>0.337836</td>\n",
       "      <td>0.335425</td>\n",
       "      <td>0.336951</td>\n",
       "      <td>0.342627</td>\n",
       "      <td>0.338202</td>\n",
       "      <td>0.344977</td>\n",
       "      <td>0.348212</td>\n",
       "      <td>0.344764</td>\n",
       "      <td>0.344474</td>\n",
       "    </tr>\n",
       "    <tr>\n",
       "      <th>210.0</th>\n",
       "      <td>0.417242</td>\n",
       "      <td>0.360114</td>\n",
       "      <td>0.335212</td>\n",
       "      <td>0.320075</td>\n",
       "      <td>0.313850</td>\n",
       "      <td>0.317268</td>\n",
       "      <td>0.307502</td>\n",
       "      <td>0.316413</td>\n",
       "      <td>0.311835</td>\n",
       "      <td>0.309730</td>\n",
       "      <td>0.313972</td>\n",
       "      <td>0.318549</td>\n",
       "      <td>0.328376</td>\n",
       "      <td>0.320472</td>\n",
       "      <td>0.332938</td>\n",
       "      <td>0.328300</td>\n",
       "      <td>0.331122</td>\n",
       "      <td>0.329078</td>\n",
       "    </tr>\n",
       "    <tr>\n",
       "      <th>220.0</th>\n",
       "      <td>0.281257</td>\n",
       "      <td>0.264045</td>\n",
       "      <td>0.253670</td>\n",
       "      <td>0.265632</td>\n",
       "      <td>0.264168</td>\n",
       "      <td>0.267036</td>\n",
       "      <td>0.269569</td>\n",
       "      <td>0.291023</td>\n",
       "      <td>0.287025</td>\n",
       "      <td>0.284980</td>\n",
       "      <td>0.294654</td>\n",
       "      <td>0.302436</td>\n",
       "      <td>0.314155</td>\n",
       "      <td>0.312598</td>\n",
       "      <td>0.319083</td>\n",
       "      <td>0.314170</td>\n",
       "      <td>0.319648</td>\n",
       "      <td>0.326026</td>\n",
       "    </tr>\n",
       "    <tr>\n",
       "      <th>230.0</th>\n",
       "      <td>0.208504</td>\n",
       "      <td>0.211922</td>\n",
       "      <td>0.209420</td>\n",
       "      <td>0.226570</td>\n",
       "      <td>0.231697</td>\n",
       "      <td>0.234627</td>\n",
       "      <td>0.242500</td>\n",
       "      <td>0.267402</td>\n",
       "      <td>0.265754</td>\n",
       "      <td>0.266761</td>\n",
       "      <td>0.277839</td>\n",
       "      <td>0.287483</td>\n",
       "      <td>0.295036</td>\n",
       "      <td>0.297218</td>\n",
       "      <td>0.309592</td>\n",
       "      <td>0.310493</td>\n",
       "      <td>0.310401</td>\n",
       "      <td>0.315299</td>\n",
       "    </tr>\n",
       "    <tr>\n",
       "      <th>240.0</th>\n",
       "      <td>0.227547</td>\n",
       "      <td>0.201668</td>\n",
       "      <td>0.194832</td>\n",
       "      <td>0.209358</td>\n",
       "      <td>0.214974</td>\n",
       "      <td>0.217293</td>\n",
       "      <td>0.225716</td>\n",
       "      <td>0.251839</td>\n",
       "      <td>0.249275</td>\n",
       "      <td>0.250465</td>\n",
       "      <td>0.264168</td>\n",
       "      <td>0.275383</td>\n",
       "      <td>0.282264</td>\n",
       "      <td>0.284462</td>\n",
       "      <td>0.292076</td>\n",
       "      <td>0.297096</td>\n",
       "      <td>0.300254</td>\n",
       "      <td>0.305747</td>\n",
       "    </tr>\n",
       "    <tr>\n",
       "      <th>250.0</th>\n",
       "      <td>0.316413</td>\n",
       "      <td>0.240242</td>\n",
       "      <td>0.214852</td>\n",
       "      <td>0.214852</td>\n",
       "      <td>0.213631</td>\n",
       "      <td>0.214119</td>\n",
       "      <td>0.216744</td>\n",
       "      <td>0.241768</td>\n",
       "      <td>0.236946</td>\n",
       "      <td>0.238991</td>\n",
       "      <td>0.252418</td>\n",
       "      <td>0.265754</td>\n",
       "      <td>0.272590</td>\n",
       "      <td>0.276634</td>\n",
       "      <td>0.284065</td>\n",
       "      <td>0.285194</td>\n",
       "      <td>0.292823</td>\n",
       "      <td>0.300849</td>\n",
       "    </tr>\n",
       "  </tbody>\n",
       "</table>\n",
       "</div>"
      ],
      "text/plain": [
       "Days to Expiration       6         13        20        27        34   \\\n",
       "strike                                                                 \n",
       "180.0               0.908204  0.704593  0.665287  0.618656  0.530156   \n",
       "185.0               0.814455  0.646488  0.615238  0.549565  0.520268   \n",
       "190.0               0.721682  0.563969  0.517095  0.500493  0.471685   \n",
       "200.0               0.559575  0.531987  0.478033  0.452520  0.393561   \n",
       "210.0               0.417242  0.360114  0.335212  0.320075  0.313850   \n",
       "220.0               0.281257  0.264045  0.253670  0.265632  0.264168   \n",
       "230.0               0.208504  0.211922  0.209420  0.226570  0.231697   \n",
       "240.0               0.227547  0.201668  0.194832  0.209358  0.214974   \n",
       "250.0               0.316413  0.240242  0.214852  0.214852  0.213631   \n",
       "\n",
       "Days to Expiration       41        62        90        125       153  \\\n",
       "strike                                                                 \n",
       "180.0               0.504399  0.482061  0.451788  0.417608  0.407843   \n",
       "185.0               0.515630  0.452703  0.419317  0.395697  0.387274   \n",
       "190.0               0.464971  0.424200  0.393866  0.375495  0.369452   \n",
       "200.0               0.413641  0.354987  0.352057  0.340094  0.337836   \n",
       "210.0               0.317268  0.307502  0.316413  0.311835  0.309730   \n",
       "220.0               0.267036  0.269569  0.291023  0.287025  0.284980   \n",
       "230.0               0.234627  0.242500  0.267402  0.265754  0.266761   \n",
       "240.0               0.217293  0.225716  0.251839  0.249275  0.250465   \n",
       "250.0               0.214119  0.216744  0.241768  0.236946  0.238991   \n",
       "\n",
       "Days to Expiration       216       307       363       398       489  \\\n",
       "strike                                                                 \n",
       "180.0               0.390692  0.381262  0.383673  0.377203  0.376013   \n",
       "185.0               0.375739  0.369116  0.369513  0.370764  0.365607   \n",
       "190.0               0.361609  0.357581  0.364447  0.357917  0.360450   \n",
       "200.0               0.335425  0.336951  0.342627  0.338202  0.344977   \n",
       "210.0               0.313972  0.318549  0.328376  0.320472  0.332938   \n",
       "220.0               0.294654  0.302436  0.314155  0.312598  0.319083   \n",
       "230.0               0.277839  0.287483  0.295036  0.297218  0.309592   \n",
       "240.0               0.264168  0.275383  0.282264  0.284462  0.292076   \n",
       "250.0               0.252418  0.265754  0.272590  0.276634  0.284065   \n",
       "\n",
       "Days to Expiration       517       670       853  \n",
       "strike                                            \n",
       "180.0               0.374854  0.371588  0.372199  \n",
       "185.0               0.367316  0.363440  0.364936  \n",
       "190.0               0.359580  0.355750  0.360724  \n",
       "200.0               0.348212  0.344764  0.344474  \n",
       "210.0               0.328300  0.331122  0.329078  \n",
       "220.0               0.314170  0.319648  0.326026  \n",
       "230.0               0.310493  0.310401  0.315299  \n",
       "240.0               0.297096  0.300254  0.305747  \n",
       "250.0               0.285194  0.292823  0.300849  "
      ]
     },
     "execution_count": 49,
     "metadata": {},
     "output_type": "execute_result"
    }
   ],
   "source": [
    "surface"
   ]
  },
  {
   "cell_type": "markdown",
   "metadata": {},
   "source": [
    "#### Using matplotlib"
   ]
  },
  {
   "cell_type": "code",
   "execution_count": 50,
   "metadata": {},
   "outputs": [
    {
     "data": {
      "application/vnd.jupyter.widget-view+json": {
       "model_id": "cbedbfe7dc9e4104af0d0bdd89df38e7",
       "version_major": 2,
       "version_minor": 0
      },
      "image/png": "[encoded data removed]",
      "text/html": [
       "\n",
       "            <div style=\"display: inline-block;\">\n",
       "                <div class=\"jupyter-widgets widget-label\" style=\"text-align: center;\">\n",
       "                    Figure\n",
       "                </div>\n",
       "                <img src='data:image/png;base64,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' width=1000.0/>\n",
       "            </div>\n",
       "        "
      ],
      "text/plain": [
       "Canvas(toolbar=Toolbar(toolitems=[('Home', 'Reset original view', 'home', 'home'), ('Back', 'Back to previous …"
      ]
     },
     "metadata": {},
     "output_type": "display_data"
    }
   ],
   "source": [
    "# create the figure object\n",
    "fig = plt.figure(figsize=(10, 6))\n",
    "\n",
    "# add the subplot with projection argument\n",
    "ax = fig.add_subplot(111, projection='3d')\n",
    "\n",
    "# get the 1d values from the pivoted dataframe\n",
    "x, y, z = surface.columns.values, surface.index.values, surface.values\n",
    "\n",
    "# return coordinate matrices from coordinate vectors\n",
    "X, Y = np.meshgrid(x, y)\n",
    "\n",
    "# set labels\n",
    "ax.set_xlabel('Days to expiration')\n",
    "ax.set_ylabel('Strike price')\n",
    "ax.set_zlabel('Implied volatility')\n",
    "ax.set_title('Call implied volatility surface')\n",
    "\n",
    "# plot\n",
    "plot=ax.plot_surface(X, Y, z, cmap='PRGn')\n",
    "\n",
    "# Colorbar\n",
    "fig.colorbar(plot, ax=ax);"
   ]
  },
  {
   "cell_type": "markdown",
   "metadata": {},
   "source": [
    "#### Using Plotly"
   ]
  },
  {
   "cell_type": "code",
   "execution_count": 36,
   "metadata": {},
   "outputs": [
    {
     "data": {
      "application/vnd.plotly.v1+json": {
       "config": {
        "plotlyServerURL": "https://plot.ly"
       },
       "data": [
        {
         "type": "surface",
         "x": [
          180,
          185,
          190,
          200,
          210,
          220,
          230,
          240,
          250
         ],
         "y": [
          6,
          13,
          20,
          27,
          34,
          41,
          62,
          90,
          125,
          153,
          216,
          307,
          363,
          398,
          489,
          517,
          670,
          853
         ],
         "z": [
          [
           0.9082040429687499,
           0.7045927978515626,
           0.665286550292969,
           0.6186561572265626,
           0.5301560656738282,
           0.5043994873046875,
           0.4820608435058594,
           0.45178770874023444,
           0.41760836303710935,
           0.4078428356933594,
           0.3906921282958984,
           0.38126229095458974,
           0.3836731555175781,
           0.37720349365234374,
           0.37601332000732424,
           0.37485366363525385,
           0.3715883154296875,
           0.37219866088867193
          ],
          [
           0.81445498046875,
           0.64648791015625,
           0.6152382226562501,
           0.5495650512695314,
           0.5202684692382812,
           0.51562984375,
           0.452703226928711,
           0.4193173303222656,
           0.3956969610595704,
           0.3872741937255859,
           0.37573866455078125,
           0.36911641632080083,
           0.3695131408691406,
           0.3707643490600586,
           0.3656069299316406,
           0.3673158972167969,
           0.36344020355224615,
           0.3649355499267578
          ],
          [
           0.7216824707031251,
           0.5639692041015626,
           0.5170946728515625,
           0.5004932763671875,
           0.471684970703125,
           0.46497117065429694,
           0.4242000939941406,
           0.39386592468261716,
           0.3754945263671875,
           0.3694521063232422,
           0.3616091671752929,
           0.3575808871459961,
           0.3644472735595704,
           0.3579165771484375,
           0.36044951080322263,
           0.3595797685241699,
           0.35574985076904286,
           0.36072416625976556
          ],
          [
           0.559574716796875,
           0.5319871020507813,
           0.47803256347656253,
           0.45252012329101565,
           0.393560751953125,
           0.4136411175537109,
           0.3549869189453124,
           0.35205726074218746,
           0.34009448974609374,
           0.3378362115478516,
           0.33542534698486326,
           0.33695121063232425,
           0.3426274234008788,
           0.3382024188232422,
           0.34497725341796875,
           0.3482120843505859,
           0.3447636325073242,
           0.34447371841430663
          ],
          [
           0.4172421557617187,
           0.3601138208007812,
           0.33521172607421873,
           0.3200751586914062,
           0.3138496350097656,
           0.31726756958007807,
           0.30750204223632804,
           0.31641308593749995,
           0.3118354949951171,
           0.30972980316162113,
           0.3139717041015625,
           0.31854929504394525,
           0.3283758569335937,
           0.32047188323974607,
           0.33293818923950197,
           0.32829956375122066,
           0.33112241149902344,
           0.3290777542114257
          ],
          [
           0.28125718749999995,
           0.2640454455566406,
           0.2536695727539063,
           0.26563234375,
           0.26416751464843746,
           0.2670361383056641,
           0.2695690719604492,
           0.2910227148437499,
           0.2870249520874023,
           0.2849802947998046,
           0.29465427032470703,
           0.3024361749267578,
           0.31415480773925775,
           0.31259842681884764,
           0.31908334732055654,
           0.31417006637573236,
           0.31964791687011707,
           0.32602602691650384
          ],
          [
           0.20850400878906244,
           0.21192194335937498,
           0.20941952697753902,
           0.22657023437499998,
           0.23169713623046873,
           0.23462679443359374,
           0.24250025085449217,
           0.2674023455810547,
           0.2657544128417969,
           0.26676148284912116,
           0.2778392529296875,
           0.28748271118164054,
           0.29503573623657225,
           0.2972177212524414,
           0.3095924754333496,
           0.31049273498535157,
           0.3104011831665039,
           0.3152992054748534
          ],
          [
           0.22754678710937498,
           0.2016681396484375,
           0.1948322705078125,
           0.2093584924316406,
           0.21497367065429687,
           0.2172929833984375,
           0.22571575073242187,
           0.2518385363769531,
           0.24927508544921873,
           0.2504652590942382,
           0.26416751464843746,
           0.27538261245727536,
           0.2822642575073242,
           0.28446150115966784,
           0.29207556076049795,
           0.2970956521606445,
           0.30025418991088865,
           0.3057472990417481
          ],
          [
           0.31641308593749995,
           0.24024197265624997,
           0.2148516015625,
           0.2148516015625,
           0.21363091064453127,
           0.21411918701171873,
           0.21674367248535154,
           0.24176783630371096,
           0.23694610717773437,
           0.23899076446533202,
           0.2524183645629883,
           0.2657544128417969,
           0.27259028198242186,
           0.2766338206481933,
           0.284064776611328,
           0.28519391571044916,
           0.2928232339477538,
           0.30084927673339845
          ]
         ]
        }
       ],
       "layout": {
        "autosize": true,
        "height": 600,
        "margin": {
         "b": 30,
         "l": 10,
         "r": 10,
         "t": 30
        },
        "scene": {
         "xaxis": {
          "title": {
           "text": "Strike"
          }
         },
         "yaxis": {
          "title": {
           "text": "Days to Expiration"
          }
         },
         "zaxis": {
          "title": {
           "text": "Implied Vol"
          }
         }
        },
        "template": {
         "data": {
          "bar": [
           {
            "error_x": {
             "color": "#2a3f5f"
            },
            "error_y": {
             "color": "#2a3f5f"
            },
            "marker": {
             "line": {
              "color": "#E5ECF6",
              "width": 0.5
             },
             "pattern": {
              "fillmode": "overlay",
              "size": 10,
              "solidity": 0.2
             }
            },
            "type": "bar"
           }
          ],
          "barpolar": [
           {
            "marker": {
             "line": {
              "color": "#E5ECF6",
              "width": 0.5
             },
             "pattern": {
              "fillmode": "overlay",
              "size": 10,
              "solidity": 0.2
             }
            },
            "type": "barpolar"
           }
          ],
          "carpet": [
           {
            "aaxis": {
             "endlinecolor": "#2a3f5f",
             "gridcolor": "white",
             "linecolor": "white",
             "minorgridcolor": "white",
             "startlinecolor": "#2a3f5f"
            },
            "baxis": {
             "endlinecolor": "#2a3f5f",
             "gridcolor": "white",
             "linecolor": "white",
             "minorgridcolor": "white",
             "startlinecolor": "#2a3f5f"
            },
            "type": "carpet"
           }
          ],
          "choropleth": [
           {
            "colorbar": {
             "outlinewidth": 0,
             "ticks": ""
            },
            "type": "choropleth"
           }
          ],
          "contour": [
           {
            "colorbar": {
             "outlinewidth": 0,
             "ticks": ""
            },
            "colorscale": [
             [
              0,
              "#0d0887"
             ],
             [
              0.1111111111111111,
              "#46039f"
             ],
             [
              0.2222222222222222,
              "#7201a8"
             ],
             [
              0.3333333333333333,
              "#9c179e"
             ],
             [
              0.4444444444444444,
              "#bd3786"
             ],
             [
              0.5555555555555556,
              "#d8576b"
             ],
             [
              0.6666666666666666,
              "#ed7953"
             ],
             [
              0.7777777777777778,
              "#fb9f3a"
             ],
             [
              0.8888888888888888,
              "#fdca26"
             ],
             [
              1,
              "#f0f921"
             ]
            ],
            "type": "contour"
           }
          ],
          "contourcarpet": [
           {
            "colorbar": {
             "outlinewidth": 0,
             "ticks": ""
            },
            "type": "contourcarpet"
           }
          ],
          "heatmap": [
           {
            "colorbar": {
             "outlinewidth": 0,
             "ticks": ""
            },
            "colorscale": [
             [
              0,
              "#0d0887"
             ],
             [
              0.1111111111111111,
              "#46039f"
             ],
             [
              0.2222222222222222,
              "#7201a8"
             ],
             [
              0.3333333333333333,
              "#9c179e"
             ],
             [
              0.4444444444444444,
              "#bd3786"
             ],
             [
              0.5555555555555556,
              "#d8576b"
             ],
             [
              0.6666666666666666,
              "#ed7953"
             ],
             [
              0.7777777777777778,
              "#fb9f3a"
             ],
             [
              0.8888888888888888,
              "#fdca26"
             ],
             [
              1,
              "#f0f921"
             ]
            ],
            "type": "heatmap"
           }
          ],
          "heatmapgl": [
           {
            "colorbar": {
             "outlinewidth": 0,
             "ticks": ""
            },
            "colorscale": [
             [
              0,
              "#0d0887"
             ],
             [
              0.1111111111111111,
              "#46039f"
             ],
             [
              0.2222222222222222,
              "#7201a8"
             ],
             [
              0.3333333333333333,
              "#9c179e"
             ],
             [
              0.4444444444444444,
              "#bd3786"
             ],
             [
              0.5555555555555556,
              "#d8576b"
             ],
             [
              0.6666666666666666,
              "#ed7953"
             ],
             [
              0.7777777777777778,
              "#fb9f3a"
             ],
             [
              0.8888888888888888,
              "#fdca26"
             ],
             [
              1,
              "#f0f921"
             ]
            ],
            "type": "heatmapgl"
           }
          ],
          "histogram": [
           {
            "marker": {
             "pattern": {
              "fillmode": "overlay",
              "size": 10,
              "solidity": 0.2
             }
            },
            "type": "histogram"
           }
          ],
          "histogram2d": [
           {
            "colorbar": {
             "outlinewidth": 0,
             "ticks": ""
            },
            "colorscale": [
             [
              0,
              "#0d0887"
             ],
             [
              0.1111111111111111,
              "#46039f"
             ],
             [
              0.2222222222222222,
              "#7201a8"
             ],
             [
              0.3333333333333333,
              "#9c179e"
             ],
             [
              0.4444444444444444,
              "#bd3786"
             ],
             [
              0.5555555555555556,
              "#d8576b"
             ],
             [
              0.6666666666666666,
              "#ed7953"
             ],
             [
              0.7777777777777778,
              "#fb9f3a"
             ],
             [
              0.8888888888888888,
              "#fdca26"
             ],
             [
              1,
              "#f0f921"
             ]
            ],
            "type": "histogram2d"
           }
          ],
          "histogram2dcontour": [
           {
            "colorbar": {
             "outlinewidth": 0,
             "ticks": ""
            },
            "colorscale": [
             [
              0,
              "#0d0887"
             ],
             [
              0.1111111111111111,
              "#46039f"
             ],
             [
              0.2222222222222222,
              "#7201a8"
             ],
             [
              0.3333333333333333,
              "#9c179e"
             ],
             [
              0.4444444444444444,
              "#bd3786"
             ],
             [
              0.5555555555555556,
              "#d8576b"
             ],
             [
              0.6666666666666666,
              "#ed7953"
             ],
             [
              0.7777777777777778,
              "#fb9f3a"
             ],
             [
              0.8888888888888888,
              "#fdca26"
             ],
             [
              1,
              "#f0f921"
             ]
            ],
            "type": "histogram2dcontour"
           }
          ],
          "mesh3d": [
           {
            "colorbar": {
             "outlinewidth": 0,
             "ticks": ""
            },
            "type": "mesh3d"
           }
          ],
          "parcoords": [
           {
            "line": {
             "colorbar": {
              "outlinewidth": 0,
              "ticks": ""
             }
            },
            "type": "parcoords"
           }
          ],
          "pie": [
           {
            "automargin": true,
            "type": "pie"
           }
          ],
          "scatter": [
           {
            "fillpattern": {
             "fillmode": "overlay",
             "size": 10,
             "solidity": 0.2
            },
            "type": "scatter"
           }
          ],
          "scatter3d": [
           {
            "line": {
             "colorbar": {
              "outlinewidth": 0,
              "ticks": ""
             }
            },
            "marker": {
             "colorbar": {
              "outlinewidth": 0,
              "ticks": ""
             }
            },
            "type": "scatter3d"
           }
          ],
          "scattercarpet": [
           {
            "marker": {
             "colorbar": {
              "outlinewidth": 0,
              "ticks": ""
             }
            },
            "type": "scattercarpet"
           }
          ],
          "scattergeo": [
           {
            "marker": {
             "colorbar": {
              "outlinewidth": 0,
              "ticks": ""
             }
            },
            "type": "scattergeo"
           }
          ],
          "scattergl": [
           {
            "marker": {
             "colorbar": {
              "outlinewidth": 0,
              "ticks": ""
             }
            },
            "type": "scattergl"
           }
          ],
          "scattermapbox": [
           {
            "marker": {
             "colorbar": {
              "outlinewidth": 0,
              "ticks": ""
             }
            },
            "type": "scattermapbox"
           }
          ],
          "scatterpolar": [
           {
            "marker": {
             "colorbar": {
              "outlinewidth": 0,
              "ticks": ""
             }
            },
            "type": "scatterpolar"
           }
          ],
          "scatterpolargl": [
           {
            "marker": {
             "colorbar": {
              "outlinewidth": 0,
              "ticks": ""
             }
            },
            "type": "scatterpolargl"
           }
          ],
          "scatterternary": [
           {
            "marker": {
             "colorbar": {
              "outlinewidth": 0,
              "ticks": ""
             }
            },
            "type": "scatterternary"
           }
          ],
          "surface": [
           {
            "colorbar": {
             "outlinewidth": 0,
             "ticks": ""
            },
            "colorscale": [
             [
              0,
              "#0d0887"
             ],
             [
              0.1111111111111111,
              "#46039f"
             ],
             [
              0.2222222222222222,
              "#7201a8"
             ],
             [
              0.3333333333333333,
              "#9c179e"
             ],
             [
              0.4444444444444444,
              "#bd3786"
             ],
             [
              0.5555555555555556,
              "#d8576b"
             ],
             [
              0.6666666666666666,
              "#ed7953"
             ],
             [
              0.7777777777777778,
              "#fb9f3a"
             ],
             [
              0.8888888888888888,
              "#fdca26"
             ],
             [
              1,
              "#f0f921"
             ]
            ],
            "type": "surface"
           }
          ],
          "table": [
           {
            "cells": {
             "fill": {
              "color": "#EBF0F8"
             },
             "line": {
              "color": "white"
             }
            },
            "header": {
             "fill": {
              "color": "#C8D4E3"
             },
             "line": {
              "color": "white"
             }
            },
            "type": "table"
           }
          ]
         },
         "layout": {
          "annotationdefaults": {
           "arrowcolor": "#2a3f5f",
           "arrowhead": 0,
           "arrowwidth": 1
          },
          "autotypenumbers": "strict",
          "coloraxis": {
           "colorbar": {
            "outlinewidth": 0,
            "ticks": ""
           }
          },
          "colorscale": {
           "diverging": [
            [
             0,
             "#8e0152"
            ],
            [
             0.1,
             "#c51b7d"
            ],
            [
             0.2,
             "#de77ae"
            ],
            [
             0.3,
             "#f1b6da"
            ],
            [
             0.4,
             "#fde0ef"
            ],
            [
             0.5,
             "#f7f7f7"
            ],
            [
             0.6,
             "#e6f5d0"
            ],
            [
             0.7,
             "#b8e186"
            ],
            [
             0.8,
             "#7fbc41"
            ],
            [
             0.9,
             "#4d9221"
            ],
            [
             1,
             "#276419"
            ]
           ],
           "sequential": [
            [
             0,
             "#0d0887"
            ],
            [
             0.1111111111111111,
             "#46039f"
            ],
            [
             0.2222222222222222,
             "#7201a8"
            ],
            [
             0.3333333333333333,
             "#9c179e"
            ],
            [
             0.4444444444444444,
             "#bd3786"
            ],
            [
             0.5555555555555556,
             "#d8576b"
            ],
            [
             0.6666666666666666,
             "#ed7953"
            ],
            [
             0.7777777777777778,
             "#fb9f3a"
            ],
            [
             0.8888888888888888,
             "#fdca26"
            ],
            [
             1,
             "#f0f921"
            ]
           ],
           "sequentialminus": [
            [
             0,
             "#0d0887"
            ],
            [
             0.1111111111111111,
             "#46039f"
            ],
            [
             0.2222222222222222,
             "#7201a8"
            ],
            [
             0.3333333333333333,
             "#9c179e"
            ],
            [
             0.4444444444444444,
             "#bd3786"
            ],
            [
             0.5555555555555556,
             "#d8576b"
            ],
            [
             0.6666666666666666,
             "#ed7953"
            ],
            [
             0.7777777777777778,
             "#fb9f3a"
            ],
            [
             0.8888888888888888,
             "#fdca26"
            ],
            [
             1,
             "#f0f921"
            ]
           ]
          },
          "colorway": [
           "#636efa",
           "#EF553B",
           "#00cc96",
           "#ab63fa",
           "#FFA15A",
           "#19d3f3",
           "#FF6692",
           "#B6E880",
           "#FF97FF",
           "#FECB52"
          ],
          "font": {
           "color": "#2a3f5f"
          },
          "geo": {
           "bgcolor": "white",
           "lakecolor": "white",
           "landcolor": "#E5ECF6",
           "showlakes": true,
           "showland": true,
           "subunitcolor": "white"
          },
          "hoverlabel": {
           "align": "left"
          },
          "hovermode": "closest",
          "mapbox": {
           "style": "light"
          },
          "paper_bgcolor": "white",
          "plot_bgcolor": "#E5ECF6",
          "polar": {
           "angularaxis": {
            "gridcolor": "white",
            "linecolor": "white",
            "ticks": ""
           },
           "bgcolor": "#E5ECF6",
           "radialaxis": {
            "gridcolor": "white",
            "linecolor": "white",
            "ticks": ""
           }
          },
          "scene": {
           "xaxis": {
            "backgroundcolor": "#E5ECF6",
            "gridcolor": "white",
            "gridwidth": 2,
            "linecolor": "white",
            "showbackground": true,
            "ticks": "",
            "zerolinecolor": "white"
           },
           "yaxis": {
            "backgroundcolor": "#E5ECF6",
            "gridcolor": "white",
            "gridwidth": 2,
            "linecolor": "white",
            "showbackground": true,
            "ticks": "",
            "zerolinecolor": "white"
           },
           "zaxis": {
            "backgroundcolor": "#E5ECF6",
            "gridcolor": "white",
            "gridwidth": 2,
            "linecolor": "white",
            "showbackground": true,
            "ticks": "",
            "zerolinecolor": "white"
           }
          },
          "shapedefaults": {
           "line": {
            "color": "#2a3f5f"
           }
          },
          "ternary": {
           "aaxis": {
            "gridcolor": "white",
            "linecolor": "white",
            "ticks": ""
           },
           "baxis": {
            "gridcolor": "white",
            "linecolor": "white",
            "ticks": ""
           },
           "bgcolor": "#E5ECF6",
           "caxis": {
            "gridcolor": "white",
            "linecolor": "white",
            "ticks": ""
           }
          },
          "title": {
           "x": 0.05
          },
          "xaxis": {
           "automargin": true,
           "gridcolor": "white",
           "linecolor": "white",
           "ticks": "",
           "title": {
            "standoff": 15
           },
           "zerolinecolor": "white",
           "zerolinewidth": 2
          },
          "yaxis": {
           "automargin": true,
           "gridcolor": "white",
           "linecolor": "white",
           "ticks": "",
           "title": {
            "standoff": 15
           },
           "zerolinecolor": "white",
           "zerolinewidth": 2
          }
         }
        },
        "title": {
         "text": "Call implied volatility surface"
        },
        "width": 800
       }
      }
     },
     "metadata": {},
     "output_type": "display_data"
    }
   ],
   "source": [
    "fig = go.Figure(data=[go.Surface(z=surface.values,x=surface.index,y=surface.columns)])\n",
    "\n",
    "fig.update_layout(title='Call implied volatility surface', \n",
    "                  scene=dict(\n",
    "                        xaxis_title='Strike',\n",
    "                        yaxis_title='Days to Expiration',\n",
    "                        zaxis_title='Implied Vol'\n",
    "                    ),\n",
    "                  autosize=True,\n",
    "                  width=800, height=600,\n",
    "                  margin=dict(l=10, r=10, b=30, t=30)\n",
    ")\n",
    "\n",
    "fig.show()"
   ]
  },
  {
   "cell_type": "code",
   "execution_count": null,
   "metadata": {},
   "outputs": [],
   "source": []
  }
 ],
 "metadata": {
  "kernelspec": {
   "display_name": ".venv",
   "language": "python",
   "name": "python3"
  },
  "language_info": {
   "codemirror_mode": {
    "name": "ipython",
    "version": 3
   },
   "file_extension": ".py",
   "mimetype": "text/x-python",
   "name": "python",
   "nbconvert_exporter": "python",
   "pygments_lexer": "ipython3",
   "version": "3.10.6"
  }
 },
 "nbformat": 4,
 "nbformat_minor": 2
}

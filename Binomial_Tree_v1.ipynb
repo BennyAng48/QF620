{
 "cells": [
  {
   "cell_type": "markdown",
   "metadata": {},
   "source": [
    "https://www.kaggle.com/code/ahmetgokkaya/pricing-derivatives-with-binomial-tree-model"
   ]
  },
  {
   "cell_type": "code",
   "execution_count": 1,
   "metadata": {},
   "outputs": [],
   "source": [
    "import math\n",
    "import numpy as np\n",
    "from matplotlib import pyplot as plt\n",
    "import pandas as pd\n",
    "import datetime as dt"
   ]
  },
  {
   "cell_type": "markdown",
   "metadata": {},
   "source": [
    "# One step Binomial Model"
   ]
  },
  {
   "cell_type": "markdown",
   "metadata": {},
   "source": [
    "### This doesnt do anything useful..."
   ]
  },
  {
   "cell_type": "code",
   "execution_count": 2,
   "metadata": {},
   "outputs": [],
   "source": [
    "def binomial_model(S, u, d, p):\n",
    "    \"\"\"\n",
    "    Returns a one-period binomial model.\n",
    "\n",
    "    Parameters:\n",
    "    S (float): initial asset price\n",
    "    u (float): factor by which the asset price goes up\n",
    "    d (float): factor by which the asset price goes down\n",
    "    p (float): probability of an up movement\n",
    "\n",
    "    Returns:\n",
    "    (tuple): a tuple containing the following elements:\n",
    "        - S_0 (float): the initial asset price\n",
    "        - S_u (float): the asset price after an up movement\n",
    "        - S_d (float): the asset price after a down movement\n",
    "        - p (float): the probability of an up movement\n",
    "    \"\"\"\n",
    "    S_0 = S\n",
    "    S_u = S * u\n",
    "    S_d = S * d\n",
    "    return S_0, S_u, S_d, p"
   ]
  },
  {
   "cell_type": "code",
   "execution_count": 3,
   "metadata": {},
   "outputs": [
    {
     "name": "stdout",
     "output_type": "stream",
     "text": [
      "S_0 = 100, S_u = 120.0, S_d = 90.0, p = 0.5\n"
     ]
    }
   ],
   "source": [
    "S_0, S_u, S_d, p = binomial_model(100, 1.2, 0.9, 0.5)\n",
    "print(f\"S_0 = {S_0}, S_u = {S_u}, S_d = {S_d}, p = {p}\")"
   ]
  },
  {
   "cell_type": "markdown",
   "metadata": {},
   "source": [
    "# Two step Binomial Model"
   ]
  },
  {
   "cell_type": "markdown",
   "metadata": {},
   "source": [
    "### Keep T and n the same for simplicity sake"
   ]
  },
  {
   "cell_type": "code",
   "execution_count": 123,
   "metadata": {},
   "outputs": [],
   "source": [
    "# Define the parameters of the binomial tree\n",
    "S0 = 100   # Initial stock price\n",
    "K = 100    # Strike price\n",
    "u = 1.1    # Up factor\n",
    "d = 0.9    # Down factor\n",
    "r = 0.0    # Risk-free rate\n",
    "T = 1      # Time to maturity in years\n",
    "n = 1      # Number of time steps"
   ]
  },
  {
   "cell_type": "code",
   "execution_count": 124,
   "metadata": {},
   "outputs": [],
   "source": [
    "# Compute the values of the underlying asset at each node of the tree\n",
    "stock_values = np.zeros((n+1, n+1))\n",
    "for i in range(n+1):       # Loops through the columns\n",
    "    for j in range(i+1):   # Loops through the rows\n",
    "        stock_values[j,i] = S0 * (u**j) * (d**(i-j))"
   ]
  },
  {
   "cell_type": "code",
   "execution_count": 125,
   "metadata": {},
   "outputs": [
    {
     "data": {
      "text/plain": [
       "array([[100.,  90.],\n",
       "       [  0., 110.]])"
      ]
     },
     "execution_count": 125,
     "metadata": {},
     "output_type": "execute_result"
    }
   ],
   "source": [
    "stock_values"
   ]
  },
  {
   "cell_type": "code",
   "execution_count": 126,
   "metadata": {},
   "outputs": [],
   "source": [
    "# Compute the risk-neutral probabilities of moving up and down\n",
    "p = (np.exp(r*T/n) - d) / (u - d)\n",
    "q = 1 - p"
   ]
  },
  {
   "cell_type": "code",
   "execution_count": 127,
   "metadata": {},
   "outputs": [
    {
     "name": "stdout",
     "output_type": "stream",
     "text": [
      "0.4999999999999997\n",
      "0.5000000000000002\n"
     ]
    }
   ],
   "source": [
    "print(p)\n",
    "print(q)"
   ]
  },
  {
   "cell_type": "code",
   "execution_count": 128,
   "metadata": {},
   "outputs": [],
   "source": [
    "# Compute the option values at each node of the tree\n",
    "option_values = np.zeros((n+1, n+1))\n",
    "for i in range(n+1):\n",
    "    option_values[i,n] = max(stock_values[i,n] - K, 0)\n",
    "for i in range(n-1, -1, -1):\n",
    "    for j in range(i+1):\n",
    "        option_values[j,i] = np.exp(-r*T/n) * (p*option_values[j,i+1] + q*option_values[j+1,i+1])\n"
   ]
  },
  {
   "cell_type": "code",
   "execution_count": 129,
   "metadata": {},
   "outputs": [
    {
     "data": {
      "text/plain": [
       "array([[ 5.,  0.],\n",
       "       [ 0., 10.]])"
      ]
     },
     "execution_count": 129,
     "metadata": {},
     "output_type": "execute_result"
    }
   ],
   "source": [
    "option_values"
   ]
  },
  {
   "cell_type": "code",
   "execution_count": 70,
   "metadata": {},
   "outputs": [
    {
     "name": "stdout",
     "output_type": "stream",
     "text": [
      "Option value: 13.333333333333336\n"
     ]
    }
   ],
   "source": [
    "# Print the option value at the initial node of the tree\n",
    "print(\"Option value:\", option_values[0,0])"
   ]
  },
  {
   "cell_type": "code",
   "execution_count": 71,
   "metadata": {},
   "outputs": [
    {
     "data": {
      "text/plain": [
       "1.0"
      ]
     },
     "execution_count": 71,
     "metadata": {},
     "output_type": "execute_result"
    }
   ],
   "source": [
    "np.exp(0)"
   ]
  },
  {
   "cell_type": "markdown",
   "metadata": {},
   "source": [
    "# Put example"
   ]
  },
  {
   "cell_type": "code",
   "execution_count": 51,
   "metadata": {},
   "outputs": [],
   "source": [
    "def binomial_tree_put(S, K, r, sigma, T, N):\n",
    "    \"\"\"\n",
    "    Calculates the price of a European put option using a two-step binomial tree.\n",
    "\n",
    "    Parameters:\n",
    "        S (float): initial stock price\n",
    "        K (float): strike price\n",
    "        r (float): risk-free interest rate\n",
    "        sigma (float): stock price volatility\n",
    "        T (float): time to maturity (in years)\n",
    "        N (int): number of time steps in the binomial tree\n",
    "\n",
    "    Returns:\n",
    "        (float) price of the put option\n",
    "    \"\"\"\n",
    "    dt = T / N\n",
    "    u = np.exp(sigma * np.sqrt(dt))\n",
    "    d = 1 / u\n",
    "    p = (np.exp(r * dt) - d) / (u - d)\n",
    "\n",
    "    # Generate the stock price tree\n",
    "    stock_tree = np.zeros((N+1, N+1))\n",
    "    for i in range(N+1):\n",
    "        for j in range(i+1):\n",
    "            stock_tree[j, i] = S * (u ** (i-j)) * (d ** j)\n",
    "\n",
    "    # Generate the option value tree\n",
    "    option_tree = np.zeros((N+1, N+1))\n",
    "    option_tree[:, N] = np.maximum(K - stock_tree[:, N], 0)\n",
    "    for i in range(N-1, -1, -1):\n",
    "        for j in range(i+1):\n",
    "            option_tree[j, i] = np.exp(-r * dt) * (p * option_tree[j, i+1] + (1-p) * option_tree[j+1, i+1])\n",
    "            option_tree[j, i] = max(option_tree[j, i], K - stock_tree[j, i])\n",
    "\n",
    "    return option_tree[0, 0]"
   ]
  },
  {
   "cell_type": "code",
   "execution_count": 58,
   "metadata": {},
   "outputs": [],
   "source": [
    "# Example usage\n",
    "S = 100  # initial stock price\n",
    "K = 105  # strike price\n",
    "r = 0.0  # risk-free interest rate\n",
    "sigma = 0.2  # stock price volatility\n",
    "T = 1  # time to maturity (in years)\n",
    "N = 1  # number of time steps in the binomial tree"
   ]
  },
  {
   "cell_type": "code",
   "execution_count": 59,
   "metadata": {},
   "outputs": [
    {
     "name": "stdout",
     "output_type": "stream",
     "text": [
      "Put price: 12.71596944905797\n"
     ]
    }
   ],
   "source": [
    "put_price = binomial_tree_put(S, K, r, sigma, T, N)\n",
    "print(\"Put price:\", put_price)"
   ]
  },
  {
   "cell_type": "markdown",
   "metadata": {},
   "source": [
    "# American Options"
   ]
  },
  {
   "cell_type": "code",
   "execution_count": 60,
   "metadata": {},
   "outputs": [],
   "source": [
    "def binomial_tree_american_put(S, K, r, sigma, T, N):\n",
    "    \"\"\"\n",
    "    Calculates the price of an American put option using a two-step binomial tree.\n",
    "\n",
    "    Parameters:\n",
    "        S (float): initial stock price\n",
    "        K (float): strike price\n",
    "        r (float): risk-free interest rate\n",
    "        sigma (float): stock price volatility\n",
    "        T (float): time to maturity (in years)\n",
    "        N (int): number of time steps in the binomial tree\n",
    "\n",
    "    Returns:\n",
    "        (float) price of the put option\n",
    "    \"\"\"\n",
    "    dt = T / N\n",
    "    u = np.exp(sigma * np.sqrt(dt))\n",
    "    d = 1 / u\n",
    "    p = (np.exp(r * dt) - d) / (u - d)\n",
    "\n",
    "    # Generate the stock price tree\n",
    "    stock_tree = np.zeros((N+1, N+1))\n",
    "    for i in range(N+1):\n",
    "        for j in range(i+1):\n",
    "            stock_tree[j, i] = S * (u ** (i-j)) * (d ** j)\n",
    "\n",
    "    # Generate the option value tree\n",
    "    option_tree = np.zeros((N+1, N+1))\n",
    "    option_tree[:, N] = np.maximum(K - stock_tree[:, N], 0)\n",
    "    for i in range(N-1, -1, -1):\n",
    "        for j in range(i+1):\n",
    "            exercise_value = K - stock_tree[j, i]\n",
    "            hold_value = np.exp(-r * dt) * (p * option_tree[j, i+1] + (1-p) * option_tree[j+1, i+1])\n",
    "            option_tree[j, i] = max(exercise_value, hold_value)\n",
    "\n",
    "    return option_tree[0, 0]"
   ]
  },
  {
   "cell_type": "code",
   "execution_count": 61,
   "metadata": {},
   "outputs": [],
   "source": [
    "# Example usage\n",
    "S = 100  # initial stock price\n",
    "K = 105  # strike price\n",
    "r = 0.05  # risk-free interest rate\n",
    "sigma = 0.2  # stock price volatility\n",
    "T = 1  # time to maturity (in years)\n",
    "N = 2  # number of time steps in the binomial tree"
   ]
  },
  {
   "cell_type": "code",
   "execution_count": 62,
   "metadata": {},
   "outputs": [
    {
     "name": "stdout",
     "output_type": "stream",
     "text": [
      "Put price: 9.088257638650122\n"
     ]
    }
   ],
   "source": [
    "put_price = binomial_tree_american_put(S, K, r, sigma, T, N)\n",
    "print(\"Put price:\", put_price)"
   ]
  },
  {
   "cell_type": "markdown",
   "metadata": {},
   "source": [
    "# Binomial Tree Formulas"
   ]
  },
  {
   "cell_type": "code",
   "execution_count": 117,
   "metadata": {},
   "outputs": [],
   "source": [
    "# Define the input values\n",
    "S0 = 100      # Initial stock price\n",
    "K = 100       # Strike Price\n",
    "u = 1.1       # Up factor\n",
    "d = 0.9       # Down factor\n",
    "p = 0.50      # Probability of up move\n",
    "r = 0.0      # Risk-free interest rate\n",
    "T = 1         # Time to maturity (in years)\n",
    "n = 1\n",
    "dt = T / n"
   ]
  },
  {
   "cell_type": "code",
   "execution_count": 118,
   "metadata": {},
   "outputs": [],
   "source": [
    "# Initialize the stock price tree\n",
    "stock_tree = np.zeros((n+1, n+1))\n",
    "stock_tree[0, 0] = S0\n",
    "\n",
    "# Fill in the stock price tree\n",
    "for i in range(1, n+1):\n",
    "    for j in range(i+1):\n",
    "        stock_tree[j, i] = S0 * u**(i-j) * d**j"
   ]
  },
  {
   "cell_type": "code",
   "execution_count": 119,
   "metadata": {},
   "outputs": [
    {
     "name": "stdout",
     "output_type": "stream",
     "text": [
      "Stock price tree:\n",
      "[[100. 110.]\n",
      " [  0.  90.]]\n"
     ]
    }
   ],
   "source": [
    "# Print the stock price tree\n",
    "print(\"Stock price tree:\")\n",
    "print(stock_tree)"
   ]
  },
  {
   "cell_type": "code",
   "execution_count": 120,
   "metadata": {},
   "outputs": [],
   "source": [
    "# Initialize the option price tree\n",
    "option_tree = np.zeros((n+1, n+1))\n",
    "\n",
    "# Fill in the option price tree at the final nodes\n",
    "for j in range(n+1):\n",
    "    option_tree[j, n] = max(stock_tree[j, n] - K, 0)\n",
    "\n",
    "# Work backwards through the tree to calculate the option prices at each node\n",
    "for i in range(n-1, -1, -1):\n",
    "    for j in range(i+1):\n",
    "        option_tree[j, i] = np.exp(-r * dt) * (p * option_tree[j, i+1] + (1-p) * option_tree[j+1, i+1])"
   ]
  },
  {
   "cell_type": "code",
   "execution_count": 121,
   "metadata": {},
   "outputs": [
    {
     "name": "stdout",
     "output_type": "stream",
     "text": [
      "Option price tree:\n",
      "[[ 5. 10.]\n",
      " [ 0.  0.]]\n"
     ]
    }
   ],
   "source": [
    "# Print the option price tree\n",
    "print(\"Option price tree:\")\n",
    "print(option_tree)"
   ]
  },
  {
   "cell_type": "markdown",
   "metadata": {},
   "source": [
    "# Risk Neutral Valuation"
   ]
  },
  {
   "cell_type": "code",
   "execution_count": 162,
   "metadata": {},
   "outputs": [],
   "source": [
    "# Define the input values\n",
    "S0 = 100      # Initial stock price\n",
    "K = 100       # Strike Price\n",
    "u = 1.1       # Up factor\n",
    "d = 0.9       # Down factor\n",
    "r = 0.0       # Risk-free interest rate\n",
    "T = 5         # Time to maturity (in years)\n",
    "n = 5\n",
    "dt = T / n"
   ]
  },
  {
   "cell_type": "code",
   "execution_count": 163,
   "metadata": {},
   "outputs": [],
   "source": [
    "# Compute the risk-neutral probabilities of moving up and down\n",
    "p = (np.exp(r*T/n) - d) / (u - d)\n",
    "q = 1 - p"
   ]
  },
  {
   "cell_type": "code",
   "execution_count": 164,
   "metadata": {},
   "outputs": [
    {
     "name": "stdout",
     "output_type": "stream",
     "text": [
      "Stock price tree:\n",
      "[[100.    110.    121.    133.1   146.41  161.051]\n",
      " [  0.     90.     99.    108.9   119.79  131.769]\n",
      " [  0.      0.     81.     89.1    98.01  107.811]\n",
      " [  0.      0.      0.     72.9    80.19   88.209]\n",
      " [  0.      0.      0.      0.     65.61   72.171]\n",
      " [  0.      0.      0.      0.      0.     59.049]]\n"
     ]
    }
   ],
   "source": [
    "# Define the number of time steps and initialize the stock price tree\n",
    "stock_tree = np.zeros((n+1, n+1))\n",
    "stock_tree[0, 0] = S0\n",
    "\n",
    "# Fill in the stock price tree\n",
    "for i in range(1, n+1):\n",
    "    for j in range(i+1):\n",
    "        stock_tree[j, i] = S0 * u**(i-j) * d**j\n",
    "\n",
    "\n",
    "# Print the stock price tree\n",
    "print(\"Stock price tree:\")\n",
    "print(stock_tree)\n",
    "\n"
   ]
  },
  {
   "cell_type": "code",
   "execution_count": 165,
   "metadata": {},
   "outputs": [
    {
     "name": "stdout",
     "output_type": "stream",
     "text": [
      "Option price tree:\n",
      "[[ 9.3126875 14.6870625 22.473875  33.1       46.41      61.051    ]\n",
      " [ 0.         3.9383125  6.90025   11.84775   19.79      31.769    ]\n",
      " [ 0.         0.         0.976375   1.95275    3.9055     7.811    ]\n",
      " [ 0.         0.         0.         0.         0.         0.       ]\n",
      " [ 0.         0.         0.         0.         0.         0.       ]\n",
      " [ 0.         0.         0.         0.         0.         0.       ]]\n"
     ]
    }
   ],
   "source": [
    "# Initialize the option price tree\n",
    "option_tree = np.zeros((n+1, n+1))\n",
    "\n",
    "# Fill in the option price tree at the final nodes\n",
    "for j in range(n+1):\n",
    "    option_tree[j, n] = max(stock_tree[j, n] - K, 0)\n",
    "\n",
    "# Work backwards through the tree to calculate the option prices at each node\n",
    "for i in range(n-1, -1, -1):\n",
    "    for j in range(i+1):\n",
    "        option_tree[j, i] = np.exp(-r * dt) * (p * option_tree[j, i+1] + q * option_tree[j+1, i+1])\n",
    "\n",
    "# Print the option price tree\n",
    "print(\"Option price tree:\")\n",
    "print(option_tree)\n",
    "\n"
   ]
  },
  {
   "cell_type": "code",
   "execution_count": 166,
   "metadata": {},
   "outputs": [
    {
     "name": "stdout",
     "output_type": "stream",
     "text": [
      "Option price: 9.31268750000001\n"
     ]
    }
   ],
   "source": [
    "# Print the option price at time 0\n",
    "print(\"Option price:\", option_tree[0, 0])"
   ]
  },
  {
   "cell_type": "code",
   "execution_count": 167,
   "metadata": {},
   "outputs": [
    {
     "data": {
      "text/plain": [
       "1.0"
      ]
     },
     "execution_count": 167,
     "metadata": {},
     "output_type": "execute_result"
    }
   ],
   "source": [
    "np.exp(0)"
   ]
  },
  {
   "cell_type": "code",
   "execution_count": null,
   "metadata": {},
   "outputs": [],
   "source": []
  },
  {
   "cell_type": "code",
   "execution_count": null,
   "metadata": {},
   "outputs": [],
   "source": []
  }
 ],
 "metadata": {
  "kernelspec": {
   "display_name": ".venv",
   "language": "python",
   "name": "python3"
  },
  "language_info": {
   "codemirror_mode": {
    "name": "ipython",
    "version": 3
   },
   "file_extension": ".py",
   "mimetype": "text/x-python",
   "name": "python",
   "nbconvert_exporter": "python",
   "pygments_lexer": "ipython3",
   "version": "3.10.6"
  }
 },
 "nbformat": 4,
 "nbformat_minor": 2
}

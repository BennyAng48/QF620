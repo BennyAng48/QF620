{
 "cells": [
  {
   "cell_type": "code",
   "execution_count": 1,
   "metadata": {},
   "outputs": [],
   "source": [
    "import math\n",
    "from math import log, sqrt, exp\n",
    "import numpy as np\n",
    "import scipy.stats as si\n",
    "from scipy.stats import norm\n",
    "from scipy.interpolate import interp1d\n",
    "from scipy.integrate import quad\n",
    "\n",
    "from scipy.optimize import brentq\n",
    "from scipy.optimize import least_squares\n",
    "from scipy.optimize import fmin\n",
    "from scipy.integrate import quad\n",
    "\n",
    "from matplotlib import pyplot as plt\n",
    "from matplotlib.widgets import Slider, Button, RadioButtons\n",
    "import plotly.graph_objects as go\n",
    "\n",
    "import pandas as pd\n",
    "import datetime as dt\n",
    "import warnings"
   ]
  },
  {
   "cell_type": "code",
   "execution_count": 2,
   "metadata": {},
   "outputs": [],
   "source": [
    "# Settings the warnings to be ignored \n",
    "warnings.filterwarnings('ignore') \n",
    "\n",
    "%matplotlib ipympl"
   ]
  },
  {
   "cell_type": "code",
   "execution_count": 3,
   "metadata": {},
   "outputs": [],
   "source": [
    "SPX_spot=3662.45\n",
    "SPY_spot=366.02"
   ]
  },
  {
   "cell_type": "code",
   "execution_count": 4,
   "metadata": {},
   "outputs": [],
   "source": [
    "# Use at the money strike to get option volatility\n",
    "\n",
    "SPX_strike=3662.45\n",
    "SPY_strike=366.02"
   ]
  },
  {
   "cell_type": "code",
   "execution_count": 5,
   "metadata": {},
   "outputs": [],
   "source": [
    "Expiry_date = pd.to_datetime(\"20210115\", format=\"%Y%m%d\")"
   ]
  },
  {
   "cell_type": "markdown",
   "metadata": {},
   "source": [
    "# Functions"
   ]
  },
  {
   "cell_type": "code",
   "execution_count": 6,
   "metadata": {},
   "outputs": [],
   "source": [
    "def h_func(x):\n",
    "    return x ** (1/3) + (3/2) * np.log(x) +10.0\n",
    "def h_prime(x):\n",
    "    return (1/3) * (x**(-2/3)) + (3/2) * (1/x)\n",
    "def h_prime_prime(x):\n",
    "    return (-2/9) * (x**(-5/3)) + (3/2) * (-1/(x**2))"
   ]
  },
  {
   "cell_type": "code",
   "execution_count": 7,
   "metadata": {},
   "outputs": [],
   "source": [
    "def BlackScholesCall(S, K, r, sigma, T):\n",
    "    d1 = (np.log(S/K)+(r+sigma**2/2)*T) / (sigma*np.sqrt(T))\n",
    "    d2 = d1 - sigma*np.sqrt(T)\n",
    "    return S*norm.cdf(d1) - K*np.exp(-r*T)*norm.cdf(d2)\n",
    "\n",
    "\n",
    "def BlackScholesPut(S, K, r, sigma, T):\n",
    "    return BlackScholesCall(S, K, r, sigma, T) - S + K*np.exp(-r*T)\n"
   ]
  },
  {
   "cell_type": "code",
   "execution_count": 8,
   "metadata": {},
   "outputs": [],
   "source": [
    "def BS_impliedVolatility(S, K, r, price, T, payoff):\n",
    "    try:\n",
    "        if (payoff.lower() == 'call'):\n",
    "            impliedVol = brentq(lambda x: price -\n",
    "                                BlackScholesCall(S, K, r, x, T),\n",
    "                                1e-12, 10.0)\n",
    "        elif (payoff.lower() == 'put'):\n",
    "            impliedVol = brentq(lambda x: price -\n",
    "                                BlackScholesPut(S, K, r, x, T),\n",
    "                                1e-12, 10.0)\n",
    "        else:\n",
    "            raise NameError('Payoff type not recognized')\n",
    "    except Exception:\n",
    "        impliedVol = np.nan\n",
    "\n",
    "    return impliedVol"
   ]
  },
  {
   "cell_type": "code",
   "execution_count": 9,
   "metadata": {},
   "outputs": [],
   "source": [
    "def BachelierCall(S:float, \n",
    "                  K:float, \n",
    "                  r:float, \n",
    "                  sigma:float, \n",
    "                  T:float):\n",
    "    \n",
    "    sigma = sigma*S\n",
    "    \n",
    "    # This is the last line in slide 7 where we define x_star\n",
    "    x = (K-S)/(sigma*np.sqrt(T))\n",
    "    \n",
    "    # This is the last line in slide 8, remember to flip the sign of x\n",
    "    value = \\\n",
    "        np.exp(-r*T)*((S-K)*norm.cdf(-x) \n",
    "                      + sigma*np.sqrt(T)*norm.pdf(-x))\n",
    "    \n",
    "    return value"
   ]
  },
  {
   "cell_type": "code",
   "execution_count": 10,
   "metadata": {},
   "outputs": [],
   "source": [
    "def BachelierPut(S:float, \n",
    "                  K:float, \n",
    "                  r:float, \n",
    "                  sigma:float, \n",
    "                  T:float):\n",
    "    \n",
    "    sigma = sigma*S\n",
    "    \n",
    "    # This is the last line in slide 7 where we define x_star\n",
    "    x = (K-S)/(sigma*np.sqrt(T))\n",
    "    \n",
    "    # This is the last line in slide 8, but it is now strike minus spot price and we no longer flip x\n",
    "    value = \\\n",
    "        np.exp(-r*T)*((K-S)*norm.cdf(x) \n",
    "                      + sigma*np.sqrt(T)*norm.pdf(x))\n",
    "    \n",
    "    return value"
   ]
  },
  {
   "cell_type": "code",
   "execution_count": 11,
   "metadata": {},
   "outputs": [],
   "source": [
    "def Bachelier_impliedVolatility(S, K, r, price, T, payoff):\n",
    "    try:\n",
    "        if (payoff.lower() == 'call'):\n",
    "            impliedVol = brentq(lambda x: price -\n",
    "                                BachelierCall(S, K, r, x, T),\n",
    "                                1e-12, 10.0)\n",
    "        elif (payoff.lower() == 'put'):\n",
    "            impliedVol = brentq(lambda x: price -\n",
    "                                BachelierPut(S, K, r, x, T),\n",
    "                                1e-12, 10.0)\n",
    "        else:\n",
    "            raise NameError('Payoff type not recognized')\n",
    "    except Exception:\n",
    "        impliedVol = np.nan\n",
    "\n",
    "    return impliedVol"
   ]
  },
  {
   "cell_type": "markdown",
   "metadata": {},
   "source": [
    "# Data Cleaning"
   ]
  },
  {
   "cell_type": "code",
   "execution_count": 12,
   "metadata": {},
   "outputs": [],
   "source": [
    "SPX_df = pd.read_csv(\"SPX_options.csv\")\n",
    "SPY_df = pd.read_csv(\"SPY_options.csv\")\n",
    "Rates_df = pd.read_csv(\"zero_rates_20201201.csv\")"
   ]
  },
  {
   "cell_type": "code",
   "execution_count": 13,
   "metadata": {},
   "outputs": [],
   "source": [
    "Rates_df[\"date\"] = pd.to_datetime(Rates_df[\"date\"], format=\"%Y%m%d\")"
   ]
  },
  {
   "cell_type": "code",
   "execution_count": 14,
   "metadata": {},
   "outputs": [],
   "source": [
    "Rates_df[\"rate_decimal\"] = Rates_df[\"rate\"] / 100"
   ]
  },
  {
   "cell_type": "code",
   "execution_count": 15,
   "metadata": {},
   "outputs": [],
   "source": [
    "Rates_df = Rates_df.drop([\"date\"], axis=1)\n",
    "\n",
    "Rates_df.set_index(\"days\", inplace=True)\n",
    "\n",
    "Rates_df = Rates_df.reindex(np.arange(Rates_df.index.min(), Rates_df.index.max() + 1))\n",
    "\n",
    "# https://pandas.pydata.org/docs/reference/api/pandas.DataFrame.interpolate.html\n",
    "Rates_df = Rates_df.interpolate(method=\"linear\")"
   ]
  },
  {
   "cell_type": "code",
   "execution_count": 16,
   "metadata": {},
   "outputs": [
    {
     "data": {
      "text/html": [
       "<div>\n",
       "<style scoped>\n",
       "    .dataframe tbody tr th:only-of-type {\n",
       "        vertical-align: middle;\n",
       "    }\n",
       "\n",
       "    .dataframe tbody tr th {\n",
       "        vertical-align: top;\n",
       "    }\n",
       "\n",
       "    .dataframe thead th {\n",
       "        text-align: right;\n",
       "    }\n",
       "</style>\n",
       "<table border=\"1\" class=\"dataframe\">\n",
       "  <thead>\n",
       "    <tr style=\"text-align: right;\">\n",
       "      <th></th>\n",
       "      <th>rate</th>\n",
       "      <th>rate_decimal</th>\n",
       "    </tr>\n",
       "    <tr>\n",
       "      <th>days</th>\n",
       "      <th></th>\n",
       "      <th></th>\n",
       "    </tr>\n",
       "  </thead>\n",
       "  <tbody>\n",
       "    <tr>\n",
       "      <th>7</th>\n",
       "      <td>0.102280</td>\n",
       "      <td>0.001023</td>\n",
       "    </tr>\n",
       "    <tr>\n",
       "      <th>8</th>\n",
       "      <td>0.104255</td>\n",
       "      <td>0.001043</td>\n",
       "    </tr>\n",
       "    <tr>\n",
       "      <th>9</th>\n",
       "      <td>0.106229</td>\n",
       "      <td>0.001062</td>\n",
       "    </tr>\n",
       "    <tr>\n",
       "      <th>10</th>\n",
       "      <td>0.108204</td>\n",
       "      <td>0.001082</td>\n",
       "    </tr>\n",
       "    <tr>\n",
       "      <th>11</th>\n",
       "      <td>0.110179</td>\n",
       "      <td>0.001102</td>\n",
       "    </tr>\n",
       "    <tr>\n",
       "      <th>...</th>\n",
       "      <td>...</td>\n",
       "      <td>...</td>\n",
       "    </tr>\n",
       "    <tr>\n",
       "      <th>3572</th>\n",
       "      <td>0.955703</td>\n",
       "      <td>0.009557</td>\n",
       "    </tr>\n",
       "    <tr>\n",
       "      <th>3573</th>\n",
       "      <td>0.955906</td>\n",
       "      <td>0.009559</td>\n",
       "    </tr>\n",
       "    <tr>\n",
       "      <th>3574</th>\n",
       "      <td>0.956109</td>\n",
       "      <td>0.009561</td>\n",
       "    </tr>\n",
       "    <tr>\n",
       "      <th>3575</th>\n",
       "      <td>0.956312</td>\n",
       "      <td>0.009563</td>\n",
       "    </tr>\n",
       "    <tr>\n",
       "      <th>3576</th>\n",
       "      <td>0.956515</td>\n",
       "      <td>0.009565</td>\n",
       "    </tr>\n",
       "  </tbody>\n",
       "</table>\n",
       "<p>3570 rows × 2 columns</p>\n",
       "</div>"
      ],
      "text/plain": [
       "          rate  rate_decimal\n",
       "days                        \n",
       "7     0.102280      0.001023\n",
       "8     0.104255      0.001043\n",
       "9     0.106229      0.001062\n",
       "10    0.108204      0.001082\n",
       "11    0.110179      0.001102\n",
       "...        ...           ...\n",
       "3572  0.955703      0.009557\n",
       "3573  0.955906      0.009559\n",
       "3574  0.956109      0.009561\n",
       "3575  0.956312      0.009563\n",
       "3576  0.956515      0.009565\n",
       "\n",
       "[3570 rows x 2 columns]"
      ]
     },
     "execution_count": 16,
     "metadata": {},
     "output_type": "execute_result"
    }
   ],
   "source": [
    "Rates_df"
   ]
  },
  {
   "cell_type": "markdown",
   "metadata": {},
   "source": [
    "### Prepare data for SPX"
   ]
  },
  {
   "cell_type": "code",
   "execution_count": 17,
   "metadata": {},
   "outputs": [
    {
     "data": {
      "text/html": [
       "<div>\n",
       "<style scoped>\n",
       "    .dataframe tbody tr th:only-of-type {\n",
       "        vertical-align: middle;\n",
       "    }\n",
       "\n",
       "    .dataframe tbody tr th {\n",
       "        vertical-align: top;\n",
       "    }\n",
       "\n",
       "    .dataframe thead th {\n",
       "        text-align: right;\n",
       "    }\n",
       "</style>\n",
       "<table border=\"1\" class=\"dataframe\">\n",
       "  <thead>\n",
       "    <tr style=\"text-align: right;\">\n",
       "      <th></th>\n",
       "      <th>date</th>\n",
       "      <th>exdate</th>\n",
       "      <th>cp_flag</th>\n",
       "      <th>strike_price</th>\n",
       "      <th>best_bid</th>\n",
       "      <th>best_offer</th>\n",
       "      <th>exercise_style</th>\n",
       "    </tr>\n",
       "  </thead>\n",
       "  <tbody>\n",
       "    <tr>\n",
       "      <th>0</th>\n",
       "      <td>20201201</td>\n",
       "      <td>20201218</td>\n",
       "      <td>C</td>\n",
       "      <td>100000</td>\n",
       "      <td>3547.6</td>\n",
       "      <td>3570.5</td>\n",
       "      <td>E</td>\n",
       "    </tr>\n",
       "    <tr>\n",
       "      <th>1</th>\n",
       "      <td>20201201</td>\n",
       "      <td>20201218</td>\n",
       "      <td>C</td>\n",
       "      <td>200000</td>\n",
       "      <td>3447.6</td>\n",
       "      <td>3470.5</td>\n",
       "      <td>E</td>\n",
       "    </tr>\n",
       "    <tr>\n",
       "      <th>2</th>\n",
       "      <td>20201201</td>\n",
       "      <td>20201218</td>\n",
       "      <td>C</td>\n",
       "      <td>300000</td>\n",
       "      <td>3347.7</td>\n",
       "      <td>3370.6</td>\n",
       "      <td>E</td>\n",
       "    </tr>\n",
       "    <tr>\n",
       "      <th>3</th>\n",
       "      <td>20201201</td>\n",
       "      <td>20201218</td>\n",
       "      <td>C</td>\n",
       "      <td>400000</td>\n",
       "      <td>3247.7</td>\n",
       "      <td>3270.6</td>\n",
       "      <td>E</td>\n",
       "    </tr>\n",
       "    <tr>\n",
       "      <th>4</th>\n",
       "      <td>20201201</td>\n",
       "      <td>20201218</td>\n",
       "      <td>C</td>\n",
       "      <td>500000</td>\n",
       "      <td>3147.7</td>\n",
       "      <td>3170.6</td>\n",
       "      <td>E</td>\n",
       "    </tr>\n",
       "    <tr>\n",
       "      <th>...</th>\n",
       "      <td>...</td>\n",
       "      <td>...</td>\n",
       "      <td>...</td>\n",
       "      <td>...</td>\n",
       "      <td>...</td>\n",
       "      <td>...</td>\n",
       "      <td>...</td>\n",
       "    </tr>\n",
       "    <tr>\n",
       "      <th>2067</th>\n",
       "      <td>20201201</td>\n",
       "      <td>20210219</td>\n",
       "      <td>P</td>\n",
       "      <td>5000000</td>\n",
       "      <td>1333.1</td>\n",
       "      <td>1350.5</td>\n",
       "      <td>E</td>\n",
       "    </tr>\n",
       "    <tr>\n",
       "      <th>2068</th>\n",
       "      <td>20201201</td>\n",
       "      <td>20210219</td>\n",
       "      <td>P</td>\n",
       "      <td>5100000</td>\n",
       "      <td>1431.8</td>\n",
       "      <td>1454.7</td>\n",
       "      <td>E</td>\n",
       "    </tr>\n",
       "    <tr>\n",
       "      <th>2069</th>\n",
       "      <td>20201201</td>\n",
       "      <td>20210219</td>\n",
       "      <td>P</td>\n",
       "      <td>5200000</td>\n",
       "      <td>1531.7</td>\n",
       "      <td>1554.6</td>\n",
       "      <td>E</td>\n",
       "    </tr>\n",
       "    <tr>\n",
       "      <th>2070</th>\n",
       "      <td>20201201</td>\n",
       "      <td>20210219</td>\n",
       "      <td>P</td>\n",
       "      <td>5300000</td>\n",
       "      <td>1631.5</td>\n",
       "      <td>1654.4</td>\n",
       "      <td>E</td>\n",
       "    </tr>\n",
       "    <tr>\n",
       "      <th>2071</th>\n",
       "      <td>20201201</td>\n",
       "      <td>20210219</td>\n",
       "      <td>P</td>\n",
       "      <td>5400000</td>\n",
       "      <td>1731.4</td>\n",
       "      <td>1752.3</td>\n",
       "      <td>E</td>\n",
       "    </tr>\n",
       "  </tbody>\n",
       "</table>\n",
       "<p>2072 rows × 7 columns</p>\n",
       "</div>"
      ],
      "text/plain": [
       "          date    exdate cp_flag  strike_price  best_bid  best_offer  \\\n",
       "0     20201201  20201218       C        100000    3547.6      3570.5   \n",
       "1     20201201  20201218       C        200000    3447.6      3470.5   \n",
       "2     20201201  20201218       C        300000    3347.7      3370.6   \n",
       "3     20201201  20201218       C        400000    3247.7      3270.6   \n",
       "4     20201201  20201218       C        500000    3147.7      3170.6   \n",
       "...        ...       ...     ...           ...       ...         ...   \n",
       "2067  20201201  20210219       P       5000000    1333.1      1350.5   \n",
       "2068  20201201  20210219       P       5100000    1431.8      1454.7   \n",
       "2069  20201201  20210219       P       5200000    1531.7      1554.6   \n",
       "2070  20201201  20210219       P       5300000    1631.5      1654.4   \n",
       "2071  20201201  20210219       P       5400000    1731.4      1752.3   \n",
       "\n",
       "     exercise_style  \n",
       "0                 E  \n",
       "1                 E  \n",
       "2                 E  \n",
       "3                 E  \n",
       "4                 E  \n",
       "...             ...  \n",
       "2067              E  \n",
       "2068              E  \n",
       "2069              E  \n",
       "2070              E  \n",
       "2071              E  \n",
       "\n",
       "[2072 rows x 7 columns]"
      ]
     },
     "execution_count": 17,
     "metadata": {},
     "output_type": "execute_result"
    }
   ],
   "source": [
    "SPX_df"
   ]
  },
  {
   "cell_type": "code",
   "execution_count": 18,
   "metadata": {},
   "outputs": [],
   "source": [
    "SPX_df[\"date\"] = pd.to_datetime(SPX_df[\"date\"], format=\"%Y%m%d\")\n",
    "SPX_df[\"exdate\"] = pd.to_datetime(SPX_df[\"exdate\"], format=\"%Y%m%d\")"
   ]
  },
  {
   "cell_type": "code",
   "execution_count": 19,
   "metadata": {},
   "outputs": [],
   "source": [
    "SPX_df[\"days_to_expiry\"] = (SPX_df[\"exdate\"] - SPX_df[\"date\"]) / pd.Timedelta(days=1)\n",
    "SPX_df[\"years_to_expiry\"] = SPX_df[\"days_to_expiry\"] / 365"
   ]
  },
  {
   "cell_type": "code",
   "execution_count": 20,
   "metadata": {},
   "outputs": [],
   "source": [
    "SPX_df[\"mid_price\"] = 0.5 * (SPX_df[\"best_bid\"] + SPX_df[\"best_offer\"])"
   ]
  },
  {
   "cell_type": "code",
   "execution_count": 21,
   "metadata": {},
   "outputs": [],
   "source": [
    "SPX_df[\"strike_price\"] = SPX_df[\"strike_price\"] / 1000"
   ]
  },
  {
   "cell_type": "code",
   "execution_count": 22,
   "metadata": {},
   "outputs": [],
   "source": [
    "SPX_df[\"options_type\"] = SPX_df[\"cp_flag\"].map(lambda x: \"call\" if x == \"C\" else \"put\")"
   ]
  },
  {
   "cell_type": "code",
   "execution_count": 23,
   "metadata": {},
   "outputs": [],
   "source": [
    "SPX_df=SPX_df.merge(Rates_df,\n",
    "                    left_on=\"days_to_expiry\",\n",
    "                    right_index=True)"
   ]
  },
  {
   "cell_type": "code",
   "execution_count": 24,
   "metadata": {},
   "outputs": [],
   "source": [
    "# Filter the dataframe to get only exdates which we want\n",
    "\n",
    "SPX_df = SPX_df [SPX_df [\"exdate\"] == Expiry_date].reset_index(drop=True)"
   ]
  },
  {
   "cell_type": "code",
   "execution_count": 25,
   "metadata": {},
   "outputs": [],
   "source": [
    "# impl market volatility column\n",
    "SPX_df[\"vols\"] = SPX_df.apply(\n",
    "    lambda x: BS_impliedVolatility(\n",
    "        SPX_spot,\n",
    "        x[\"strike_price\"],\n",
    "        x[\"rate_decimal\"],\n",
    "        x[\"mid_price\"],\n",
    "        x[\"years_to_expiry\"],\n",
    "        x[\"options_type\"]\n",
    "    ),\n",
    "    axis=1,\n",
    ")\n",
    "\n",
    "# axis = (1,)\n",
    "SPX_df.dropna(inplace=True)\n",
    "SPX_df.reset_index(drop=True,inplace=True)"
   ]
  },
  {
   "cell_type": "code",
   "execution_count": 26,
   "metadata": {},
   "outputs": [
    {
     "data": {
      "text/html": [
       "<div>\n",
       "<style scoped>\n",
       "    .dataframe tbody tr th:only-of-type {\n",
       "        vertical-align: middle;\n",
       "    }\n",
       "\n",
       "    .dataframe tbody tr th {\n",
       "        vertical-align: top;\n",
       "    }\n",
       "\n",
       "    .dataframe thead th {\n",
       "        text-align: right;\n",
       "    }\n",
       "</style>\n",
       "<table border=\"1\" class=\"dataframe\">\n",
       "  <thead>\n",
       "    <tr style=\"text-align: right;\">\n",
       "      <th></th>\n",
       "      <th>date</th>\n",
       "      <th>exdate</th>\n",
       "      <th>cp_flag</th>\n",
       "      <th>strike_price</th>\n",
       "      <th>best_bid</th>\n",
       "      <th>best_offer</th>\n",
       "      <th>exercise_style</th>\n",
       "      <th>days_to_expiry</th>\n",
       "      <th>years_to_expiry</th>\n",
       "      <th>mid_price</th>\n",
       "      <th>options_type</th>\n",
       "      <th>rate</th>\n",
       "      <th>rate_decimal</th>\n",
       "      <th>vols</th>\n",
       "    </tr>\n",
       "  </thead>\n",
       "  <tbody>\n",
       "    <tr>\n",
       "      <th>0</th>\n",
       "      <td>2020-12-01</td>\n",
       "      <td>2021-01-15</td>\n",
       "      <td>C</td>\n",
       "      <td>2570.0</td>\n",
       "      <td>1087.2</td>\n",
       "      <td>1099.6</td>\n",
       "      <td>E</td>\n",
       "      <td>45.0</td>\n",
       "      <td>0.123288</td>\n",
       "      <td>1093.40</td>\n",
       "      <td>call</td>\n",
       "      <td>0.205108</td>\n",
       "      <td>0.002051</td>\n",
       "      <td>0.361156</td>\n",
       "    </tr>\n",
       "    <tr>\n",
       "      <th>1</th>\n",
       "      <td>2020-12-01</td>\n",
       "      <td>2021-01-15</td>\n",
       "      <td>C</td>\n",
       "      <td>2575.0</td>\n",
       "      <td>1082.3</td>\n",
       "      <td>1094.6</td>\n",
       "      <td>E</td>\n",
       "      <td>45.0</td>\n",
       "      <td>0.123288</td>\n",
       "      <td>1088.45</td>\n",
       "      <td>call</td>\n",
       "      <td>0.205108</td>\n",
       "      <td>0.002051</td>\n",
       "      <td>0.364647</td>\n",
       "    </tr>\n",
       "    <tr>\n",
       "      <th>2</th>\n",
       "      <td>2020-12-01</td>\n",
       "      <td>2021-01-15</td>\n",
       "      <td>C</td>\n",
       "      <td>2580.0</td>\n",
       "      <td>1077.3</td>\n",
       "      <td>1089.6</td>\n",
       "      <td>E</td>\n",
       "      <td>45.0</td>\n",
       "      <td>0.123288</td>\n",
       "      <td>1083.45</td>\n",
       "      <td>call</td>\n",
       "      <td>0.205108</td>\n",
       "      <td>0.002051</td>\n",
       "      <td>0.362672</td>\n",
       "    </tr>\n",
       "    <tr>\n",
       "      <th>3</th>\n",
       "      <td>2020-12-01</td>\n",
       "      <td>2021-01-15</td>\n",
       "      <td>C</td>\n",
       "      <td>2590.0</td>\n",
       "      <td>1067.4</td>\n",
       "      <td>1079.7</td>\n",
       "      <td>E</td>\n",
       "      <td>45.0</td>\n",
       "      <td>0.123288</td>\n",
       "      <td>1073.55</td>\n",
       "      <td>call</td>\n",
       "      <td>0.205108</td>\n",
       "      <td>0.002051</td>\n",
       "      <td>0.368049</td>\n",
       "    </tr>\n",
       "    <tr>\n",
       "      <th>4</th>\n",
       "      <td>2020-12-01</td>\n",
       "      <td>2021-01-15</td>\n",
       "      <td>C</td>\n",
       "      <td>2610.0</td>\n",
       "      <td>1047.6</td>\n",
       "      <td>1059.9</td>\n",
       "      <td>E</td>\n",
       "      <td>45.0</td>\n",
       "      <td>0.123288</td>\n",
       "      <td>1053.75</td>\n",
       "      <td>call</td>\n",
       "      <td>0.205108</td>\n",
       "      <td>0.002051</td>\n",
       "      <td>0.374739</td>\n",
       "    </tr>\n",
       "    <tr>\n",
       "      <th>...</th>\n",
       "      <td>...</td>\n",
       "      <td>...</td>\n",
       "      <td>...</td>\n",
       "      <td>...</td>\n",
       "      <td>...</td>\n",
       "      <td>...</td>\n",
       "      <td>...</td>\n",
       "      <td>...</td>\n",
       "      <td>...</td>\n",
       "      <td>...</td>\n",
       "      <td>...</td>\n",
       "      <td>...</td>\n",
       "      <td>...</td>\n",
       "      <td>...</td>\n",
       "    </tr>\n",
       "    <tr>\n",
       "      <th>630</th>\n",
       "      <td>2020-12-01</td>\n",
       "      <td>2021-01-15</td>\n",
       "      <td>P</td>\n",
       "      <td>5000.0</td>\n",
       "      <td>1330.8</td>\n",
       "      <td>1346.6</td>\n",
       "      <td>E</td>\n",
       "      <td>45.0</td>\n",
       "      <td>0.123288</td>\n",
       "      <td>1338.70</td>\n",
       "      <td>put</td>\n",
       "      <td>0.205108</td>\n",
       "      <td>0.002051</td>\n",
       "      <td>0.391899</td>\n",
       "    </tr>\n",
       "    <tr>\n",
       "      <th>631</th>\n",
       "      <td>2020-12-01</td>\n",
       "      <td>2021-01-15</td>\n",
       "      <td>P</td>\n",
       "      <td>5100.0</td>\n",
       "      <td>1428.3</td>\n",
       "      <td>1451.2</td>\n",
       "      <td>E</td>\n",
       "      <td>45.0</td>\n",
       "      <td>0.123288</td>\n",
       "      <td>1439.75</td>\n",
       "      <td>put</td>\n",
       "      <td>0.205108</td>\n",
       "      <td>0.002051</td>\n",
       "      <td>0.434093</td>\n",
       "    </tr>\n",
       "    <tr>\n",
       "      <th>632</th>\n",
       "      <td>2020-12-01</td>\n",
       "      <td>2021-01-15</td>\n",
       "      <td>P</td>\n",
       "      <td>5200.0</td>\n",
       "      <td>1528.3</td>\n",
       "      <td>1551.2</td>\n",
       "      <td>E</td>\n",
       "      <td>45.0</td>\n",
       "      <td>0.123288</td>\n",
       "      <td>1539.75</td>\n",
       "      <td>put</td>\n",
       "      <td>0.205108</td>\n",
       "      <td>0.002051</td>\n",
       "      <td>0.455783</td>\n",
       "    </tr>\n",
       "    <tr>\n",
       "      <th>633</th>\n",
       "      <td>2020-12-01</td>\n",
       "      <td>2021-01-15</td>\n",
       "      <td>P</td>\n",
       "      <td>5300.0</td>\n",
       "      <td>1628.2</td>\n",
       "      <td>1651.1</td>\n",
       "      <td>E</td>\n",
       "      <td>45.0</td>\n",
       "      <td>0.123288</td>\n",
       "      <td>1639.65</td>\n",
       "      <td>put</td>\n",
       "      <td>0.205108</td>\n",
       "      <td>0.002051</td>\n",
       "      <td>0.475063</td>\n",
       "    </tr>\n",
       "    <tr>\n",
       "      <th>634</th>\n",
       "      <td>2020-12-01</td>\n",
       "      <td>2021-01-15</td>\n",
       "      <td>P</td>\n",
       "      <td>5400.0</td>\n",
       "      <td>1728.1</td>\n",
       "      <td>1751.0</td>\n",
       "      <td>E</td>\n",
       "      <td>45.0</td>\n",
       "      <td>0.123288</td>\n",
       "      <td>1739.55</td>\n",
       "      <td>put</td>\n",
       "      <td>0.205108</td>\n",
       "      <td>0.002051</td>\n",
       "      <td>0.493697</td>\n",
       "    </tr>\n",
       "  </tbody>\n",
       "</table>\n",
       "<p>635 rows × 14 columns</p>\n",
       "</div>"
      ],
      "text/plain": [
       "          date     exdate cp_flag  strike_price  best_bid  best_offer  \\\n",
       "0   2020-12-01 2021-01-15       C        2570.0    1087.2      1099.6   \n",
       "1   2020-12-01 2021-01-15       C        2575.0    1082.3      1094.6   \n",
       "2   2020-12-01 2021-01-15       C        2580.0    1077.3      1089.6   \n",
       "3   2020-12-01 2021-01-15       C        2590.0    1067.4      1079.7   \n",
       "4   2020-12-01 2021-01-15       C        2610.0    1047.6      1059.9   \n",
       "..         ...        ...     ...           ...       ...         ...   \n",
       "630 2020-12-01 2021-01-15       P        5000.0    1330.8      1346.6   \n",
       "631 2020-12-01 2021-01-15       P        5100.0    1428.3      1451.2   \n",
       "632 2020-12-01 2021-01-15       P        5200.0    1528.3      1551.2   \n",
       "633 2020-12-01 2021-01-15       P        5300.0    1628.2      1651.1   \n",
       "634 2020-12-01 2021-01-15       P        5400.0    1728.1      1751.0   \n",
       "\n",
       "    exercise_style  days_to_expiry  years_to_expiry  mid_price options_type  \\\n",
       "0                E            45.0         0.123288    1093.40         call   \n",
       "1                E            45.0         0.123288    1088.45         call   \n",
       "2                E            45.0         0.123288    1083.45         call   \n",
       "3                E            45.0         0.123288    1073.55         call   \n",
       "4                E            45.0         0.123288    1053.75         call   \n",
       "..             ...             ...              ...        ...          ...   \n",
       "630              E            45.0         0.123288    1338.70          put   \n",
       "631              E            45.0         0.123288    1439.75          put   \n",
       "632              E            45.0         0.123288    1539.75          put   \n",
       "633              E            45.0         0.123288    1639.65          put   \n",
       "634              E            45.0         0.123288    1739.55          put   \n",
       "\n",
       "         rate  rate_decimal      vols  \n",
       "0    0.205108      0.002051  0.361156  \n",
       "1    0.205108      0.002051  0.364647  \n",
       "2    0.205108      0.002051  0.362672  \n",
       "3    0.205108      0.002051  0.368049  \n",
       "4    0.205108      0.002051  0.374739  \n",
       "..        ...           ...       ...  \n",
       "630  0.205108      0.002051  0.391899  \n",
       "631  0.205108      0.002051  0.434093  \n",
       "632  0.205108      0.002051  0.455783  \n",
       "633  0.205108      0.002051  0.475063  \n",
       "634  0.205108      0.002051  0.493697  \n",
       "\n",
       "[635 rows x 14 columns]"
      ]
     },
     "execution_count": 26,
     "metadata": {},
     "output_type": "execute_result"
    }
   ],
   "source": [
    "SPX_df"
   ]
  },
  {
   "cell_type": "markdown",
   "metadata": {},
   "source": [
    "### Prepare data for SPY"
   ]
  },
  {
   "cell_type": "code",
   "execution_count": 27,
   "metadata": {},
   "outputs": [],
   "source": [
    "SPY_df[\"date\"] = pd.to_datetime(SPY_df[\"date\"], format=\"%Y%m%d\")\n",
    "SPY_df[\"exdate\"] = pd.to_datetime(SPY_df[\"exdate\"], format=\"%Y%m%d\")"
   ]
  },
  {
   "cell_type": "code",
   "execution_count": 28,
   "metadata": {},
   "outputs": [],
   "source": [
    "SPY_df[\"days_to_expiry\"] = (SPY_df[\"exdate\"] - SPY_df[\"date\"]) / pd.Timedelta(days=1)\n",
    "SPY_df[\"years_to_expiry\"] = SPY_df[\"days_to_expiry\"] / 365"
   ]
  },
  {
   "cell_type": "code",
   "execution_count": 29,
   "metadata": {},
   "outputs": [],
   "source": [
    "SPY_df[\"mid_price\"] = 0.5 * (SPY_df[\"best_bid\"] + SPY_df[\"best_offer\"])"
   ]
  },
  {
   "cell_type": "code",
   "execution_count": 30,
   "metadata": {},
   "outputs": [],
   "source": [
    "SPY_df[\"strike_price\"] = SPY_df[\"strike_price\"] / 1000"
   ]
  },
  {
   "cell_type": "code",
   "execution_count": 31,
   "metadata": {},
   "outputs": [],
   "source": [
    "SPY_df[\"options_type\"] = SPY_df[\"cp_flag\"].map(lambda x: \"call\" if x == \"C\" else \"put\")"
   ]
  },
  {
   "cell_type": "code",
   "execution_count": 32,
   "metadata": {},
   "outputs": [],
   "source": [
    "SPY_df=SPY_df.merge(Rates_df,\n",
    "                    left_on=\"days_to_expiry\",\n",
    "                    right_index=True)"
   ]
  },
  {
   "cell_type": "code",
   "execution_count": 33,
   "metadata": {},
   "outputs": [],
   "source": [
    "# Filter the dataframe to get only exdates which we want\n",
    "\n",
    "SPY_df = SPY_df [SPY_df [\"exdate\"] == Expiry_date].reset_index(drop=True)"
   ]
  },
  {
   "cell_type": "code",
   "execution_count": 34,
   "metadata": {},
   "outputs": [],
   "source": [
    "# impl market volatility column\n",
    "SPY_df[\"vols\"] = SPY_df.apply(\n",
    "    lambda x: BS_impliedVolatility(\n",
    "        SPY_spot,\n",
    "        x[\"strike_price\"],\n",
    "        x[\"rate_decimal\"],\n",
    "        x[\"mid_price\"],\n",
    "        x[\"years_to_expiry\"],\n",
    "        x[\"options_type\"]\n",
    "    ),\n",
    "    axis=1,\n",
    ")\n",
    "axis = (1,)\n",
    "SPY_df.dropna(inplace=True)\n",
    "SPY_df.reset_index(drop=True,inplace=True)"
   ]
  },
  {
   "cell_type": "code",
   "execution_count": 35,
   "metadata": {},
   "outputs": [
    {
     "data": {
      "text/html": [
       "<div>\n",
       "<style scoped>\n",
       "    .dataframe tbody tr th:only-of-type {\n",
       "        vertical-align: middle;\n",
       "    }\n",
       "\n",
       "    .dataframe tbody tr th {\n",
       "        vertical-align: top;\n",
       "    }\n",
       "\n",
       "    .dataframe thead th {\n",
       "        text-align: right;\n",
       "    }\n",
       "</style>\n",
       "<table border=\"1\" class=\"dataframe\">\n",
       "  <thead>\n",
       "    <tr style=\"text-align: right;\">\n",
       "      <th></th>\n",
       "      <th>date</th>\n",
       "      <th>exdate</th>\n",
       "      <th>cp_flag</th>\n",
       "      <th>strike_price</th>\n",
       "      <th>best_bid</th>\n",
       "      <th>best_offer</th>\n",
       "      <th>exercise_style</th>\n",
       "      <th>days_to_expiry</th>\n",
       "      <th>years_to_expiry</th>\n",
       "      <th>mid_price</th>\n",
       "      <th>options_type</th>\n",
       "      <th>rate</th>\n",
       "      <th>rate_decimal</th>\n",
       "      <th>vols</th>\n",
       "    </tr>\n",
       "  </thead>\n",
       "  <tbody>\n",
       "    <tr>\n",
       "      <th>0</th>\n",
       "      <td>2020-12-01</td>\n",
       "      <td>2021-01-15</td>\n",
       "      <td>C</td>\n",
       "      <td>215.0</td>\n",
       "      <td>150.84</td>\n",
       "      <td>151.31</td>\n",
       "      <td>A</td>\n",
       "      <td>45.0</td>\n",
       "      <td>0.123288</td>\n",
       "      <td>151.075</td>\n",
       "      <td>call</td>\n",
       "      <td>0.205108</td>\n",
       "      <td>0.002051</td>\n",
       "      <td>0.397950</td>\n",
       "    </tr>\n",
       "    <tr>\n",
       "      <th>1</th>\n",
       "      <td>2020-12-01</td>\n",
       "      <td>2021-01-15</td>\n",
       "      <td>C</td>\n",
       "      <td>216.0</td>\n",
       "      <td>149.84</td>\n",
       "      <td>150.31</td>\n",
       "      <td>A</td>\n",
       "      <td>45.0</td>\n",
       "      <td>0.123288</td>\n",
       "      <td>150.075</td>\n",
       "      <td>call</td>\n",
       "      <td>0.205108</td>\n",
       "      <td>0.002051</td>\n",
       "      <td>0.383523</td>\n",
       "    </tr>\n",
       "    <tr>\n",
       "      <th>2</th>\n",
       "      <td>2020-12-01</td>\n",
       "      <td>2021-01-15</td>\n",
       "      <td>C</td>\n",
       "      <td>217.0</td>\n",
       "      <td>148.84</td>\n",
       "      <td>149.31</td>\n",
       "      <td>A</td>\n",
       "      <td>45.0</td>\n",
       "      <td>0.123288</td>\n",
       "      <td>149.075</td>\n",
       "      <td>call</td>\n",
       "      <td>0.205108</td>\n",
       "      <td>0.002051</td>\n",
       "      <td>0.359591</td>\n",
       "    </tr>\n",
       "    <tr>\n",
       "      <th>3</th>\n",
       "      <td>2020-12-01</td>\n",
       "      <td>2021-01-15</td>\n",
       "      <td>C</td>\n",
       "      <td>221.0</td>\n",
       "      <td>144.84</td>\n",
       "      <td>145.32</td>\n",
       "      <td>A</td>\n",
       "      <td>45.0</td>\n",
       "      <td>0.123288</td>\n",
       "      <td>145.080</td>\n",
       "      <td>call</td>\n",
       "      <td>0.205108</td>\n",
       "      <td>0.002051</td>\n",
       "      <td>0.426489</td>\n",
       "    </tr>\n",
       "    <tr>\n",
       "      <th>4</th>\n",
       "      <td>2020-12-01</td>\n",
       "      <td>2021-01-15</td>\n",
       "      <td>C</td>\n",
       "      <td>222.0</td>\n",
       "      <td>143.84</td>\n",
       "      <td>144.32</td>\n",
       "      <td>A</td>\n",
       "      <td>45.0</td>\n",
       "      <td>0.123288</td>\n",
       "      <td>144.080</td>\n",
       "      <td>call</td>\n",
       "      <td>0.205108</td>\n",
       "      <td>0.002051</td>\n",
       "      <td>0.420976</td>\n",
       "    </tr>\n",
       "    <tr>\n",
       "      <th>...</th>\n",
       "      <td>...</td>\n",
       "      <td>...</td>\n",
       "      <td>...</td>\n",
       "      <td>...</td>\n",
       "      <td>...</td>\n",
       "      <td>...</td>\n",
       "      <td>...</td>\n",
       "      <td>...</td>\n",
       "      <td>...</td>\n",
       "      <td>...</td>\n",
       "      <td>...</td>\n",
       "      <td>...</td>\n",
       "      <td>...</td>\n",
       "      <td>...</td>\n",
       "    </tr>\n",
       "    <tr>\n",
       "      <th>478</th>\n",
       "      <td>2020-12-01</td>\n",
       "      <td>2021-01-15</td>\n",
       "      <td>P</td>\n",
       "      <td>535.0</td>\n",
       "      <td>170.18</td>\n",
       "      <td>170.65</td>\n",
       "      <td>A</td>\n",
       "      <td>45.0</td>\n",
       "      <td>0.123288</td>\n",
       "      <td>170.415</td>\n",
       "      <td>put</td>\n",
       "      <td>0.205108</td>\n",
       "      <td>0.002051</td>\n",
       "      <td>0.619266</td>\n",
       "    </tr>\n",
       "    <tr>\n",
       "      <th>479</th>\n",
       "      <td>2020-12-01</td>\n",
       "      <td>2021-01-15</td>\n",
       "      <td>P</td>\n",
       "      <td>540.0</td>\n",
       "      <td>175.18</td>\n",
       "      <td>175.65</td>\n",
       "      <td>A</td>\n",
       "      <td>45.0</td>\n",
       "      <td>0.123288</td>\n",
       "      <td>175.415</td>\n",
       "      <td>put</td>\n",
       "      <td>0.205108</td>\n",
       "      <td>0.002051</td>\n",
       "      <td>0.631142</td>\n",
       "    </tr>\n",
       "    <tr>\n",
       "      <th>480</th>\n",
       "      <td>2020-12-01</td>\n",
       "      <td>2021-01-15</td>\n",
       "      <td>P</td>\n",
       "      <td>545.0</td>\n",
       "      <td>180.18</td>\n",
       "      <td>180.65</td>\n",
       "      <td>A</td>\n",
       "      <td>45.0</td>\n",
       "      <td>0.123288</td>\n",
       "      <td>180.415</td>\n",
       "      <td>put</td>\n",
       "      <td>0.205108</td>\n",
       "      <td>0.002051</td>\n",
       "      <td>0.642859</td>\n",
       "    </tr>\n",
       "    <tr>\n",
       "      <th>481</th>\n",
       "      <td>2020-12-01</td>\n",
       "      <td>2021-01-15</td>\n",
       "      <td>P</td>\n",
       "      <td>550.0</td>\n",
       "      <td>185.18</td>\n",
       "      <td>185.65</td>\n",
       "      <td>A</td>\n",
       "      <td>45.0</td>\n",
       "      <td>0.123288</td>\n",
       "      <td>185.415</td>\n",
       "      <td>put</td>\n",
       "      <td>0.205108</td>\n",
       "      <td>0.002051</td>\n",
       "      <td>0.654424</td>\n",
       "    </tr>\n",
       "    <tr>\n",
       "      <th>482</th>\n",
       "      <td>2020-12-01</td>\n",
       "      <td>2021-01-15</td>\n",
       "      <td>P</td>\n",
       "      <td>555.0</td>\n",
       "      <td>190.18</td>\n",
       "      <td>190.65</td>\n",
       "      <td>A</td>\n",
       "      <td>45.0</td>\n",
       "      <td>0.123288</td>\n",
       "      <td>190.415</td>\n",
       "      <td>put</td>\n",
       "      <td>0.205108</td>\n",
       "      <td>0.002051</td>\n",
       "      <td>0.665840</td>\n",
       "    </tr>\n",
       "  </tbody>\n",
       "</table>\n",
       "<p>483 rows × 14 columns</p>\n",
       "</div>"
      ],
      "text/plain": [
       "          date     exdate cp_flag  strike_price  best_bid  best_offer  \\\n",
       "0   2020-12-01 2021-01-15       C         215.0    150.84      151.31   \n",
       "1   2020-12-01 2021-01-15       C         216.0    149.84      150.31   \n",
       "2   2020-12-01 2021-01-15       C         217.0    148.84      149.31   \n",
       "3   2020-12-01 2021-01-15       C         221.0    144.84      145.32   \n",
       "4   2020-12-01 2021-01-15       C         222.0    143.84      144.32   \n",
       "..         ...        ...     ...           ...       ...         ...   \n",
       "478 2020-12-01 2021-01-15       P         535.0    170.18      170.65   \n",
       "479 2020-12-01 2021-01-15       P         540.0    175.18      175.65   \n",
       "480 2020-12-01 2021-01-15       P         545.0    180.18      180.65   \n",
       "481 2020-12-01 2021-01-15       P         550.0    185.18      185.65   \n",
       "482 2020-12-01 2021-01-15       P         555.0    190.18      190.65   \n",
       "\n",
       "    exercise_style  days_to_expiry  years_to_expiry  mid_price options_type  \\\n",
       "0                A            45.0         0.123288    151.075         call   \n",
       "1                A            45.0         0.123288    150.075         call   \n",
       "2                A            45.0         0.123288    149.075         call   \n",
       "3                A            45.0         0.123288    145.080         call   \n",
       "4                A            45.0         0.123288    144.080         call   \n",
       "..             ...             ...              ...        ...          ...   \n",
       "478              A            45.0         0.123288    170.415          put   \n",
       "479              A            45.0         0.123288    175.415          put   \n",
       "480              A            45.0         0.123288    180.415          put   \n",
       "481              A            45.0         0.123288    185.415          put   \n",
       "482              A            45.0         0.123288    190.415          put   \n",
       "\n",
       "         rate  rate_decimal      vols  \n",
       "0    0.205108      0.002051  0.397950  \n",
       "1    0.205108      0.002051  0.383523  \n",
       "2    0.205108      0.002051  0.359591  \n",
       "3    0.205108      0.002051  0.426489  \n",
       "4    0.205108      0.002051  0.420976  \n",
       "..        ...           ...       ...  \n",
       "478  0.205108      0.002051  0.619266  \n",
       "479  0.205108      0.002051  0.631142  \n",
       "480  0.205108      0.002051  0.642859  \n",
       "481  0.205108      0.002051  0.654424  \n",
       "482  0.205108      0.002051  0.665840  \n",
       "\n",
       "[483 rows x 14 columns]"
      ]
     },
     "execution_count": 35,
     "metadata": {},
     "output_type": "execute_result"
    }
   ],
   "source": [
    "SPY_df"
   ]
  },
  {
   "cell_type": "markdown",
   "metadata": {},
   "source": [
    "### Getting the Black-Scholes sigma and Bachelier sigma for SPX"
   ]
  },
  {
   "cell_type": "code",
   "execution_count": 36,
   "metadata": {},
   "outputs": [],
   "source": [
    "# Find price of ATM option\n",
    "SPX_ATM = np.interp(SPX_strike, \n",
    "                    SPX_df[\"strike_price\"], \n",
    "                    SPX_df[\"mid_price\"])"
   ]
  },
  {
   "cell_type": "code",
   "execution_count": 37,
   "metadata": {},
   "outputs": [
    {
     "name": "stdout",
     "output_type": "stream",
     "text": [
      "ATM sigma for SPX using the Black-Scholes model is 0.18748\n"
     ]
    }
   ],
   "source": [
    "SPX_BS_call_sigma = BS_impliedVolatility(SPX_spot,\n",
    "                                       SPX_strike,\n",
    "                                       SPX_df[\"rate_decimal\"][0],\n",
    "                                       SPX_ATM,\n",
    "                                       SPX_df[\"years_to_expiry\"][0],\n",
    "                                       payoff = 'call')\n",
    "\n",
    "\n",
    "SPX_BS_put_sigma = BS_impliedVolatility(SPX_spot,\n",
    "                                      SPX_strike,\n",
    "                                      SPX_df[\"rate_decimal\"][0],\n",
    "                                      SPX_ATM,\n",
    "                                      SPX_df[\"years_to_expiry\"][0],\n",
    "                                      payoff = 'put')\n",
    "\n",
    "SPX_ATM_sigma = (SPX_BS_call_sigma + SPX_BS_put_sigma)/2\n",
    "\n",
    "print(f\"ATM sigma for SPX using the Black-Scholes model is {SPX_ATM_sigma:.5f}\")\n"
   ]
  },
  {
   "cell_type": "code",
   "execution_count": 38,
   "metadata": {},
   "outputs": [
    {
     "name": "stdout",
     "output_type": "stream",
     "text": [
      "ATM sigma for SPX using the Bachelier model is 0.18747\n"
     ]
    }
   ],
   "source": [
    "# Get bachelier sigma from the Black-Scholes price of option to get the Bachelier model volatility equivalent.\n",
    "\n",
    "SPX_bachelier_sigma = (SPX_ATM * np.exp(SPX_df[\"rate_decimal\"][0] * SPX_df[\"years_to_expiry\"][0])) / (SPX_spot * np.sqrt(SPX_df[\"years_to_expiry\"][0] / (2 * np.pi)))\n",
    "\n",
    "print(f\"ATM sigma for SPX using the Bachelier model is {SPX_bachelier_sigma :.5f}\")"
   ]
  },
  {
   "cell_type": "code",
   "execution_count": 39,
   "metadata": {},
   "outputs": [
    {
     "name": "stdout",
     "output_type": "stream",
     "text": [
      "ATM sigma for SPX using the Bachelier model is 0.18747\n"
     ]
    }
   ],
   "source": [
    "SPX_Bachelier_call_sigma = Bachelier_impliedVolatility(SPX_spot,\n",
    "                                       SPX_strike,\n",
    "                                       SPX_df[\"rate_decimal\"][0],\n",
    "                                       SPX_ATM,\n",
    "                                       SPX_df[\"years_to_expiry\"][0],\n",
    "                                       payoff = 'call')\n",
    "\n",
    "\n",
    "SPX_Bachelier_put_sigma = Bachelier_impliedVolatility(SPX_spot,\n",
    "                                      SPX_strike,\n",
    "                                      SPX_df[\"rate_decimal\"][0],\n",
    "                                      SPX_ATM,\n",
    "                                      SPX_df[\"years_to_expiry\"][0],\n",
    "                                      payoff = 'put')\n",
    "\n",
    "SPX_Bachelier_sigma = (SPX_Bachelier_call_sigma + SPX_Bachelier_put_sigma)/2\n",
    "\n",
    "print(f\"ATM sigma for SPX using the Bachelier model is {SPX_Bachelier_sigma:.5f}\")"
   ]
  },
  {
   "cell_type": "markdown",
   "metadata": {},
   "source": [
    "### Getting the Black-Scholes sigma and Bachelier sigma for SPY"
   ]
  },
  {
   "cell_type": "code",
   "execution_count": 40,
   "metadata": {},
   "outputs": [],
   "source": [
    "# Find price of ATM option\n",
    "SPY_ATM = np.interp(SPY_strike, \n",
    "                    SPY_df[\"strike_price\"], \n",
    "                    SPY_df[\"mid_price\"])"
   ]
  },
  {
   "cell_type": "code",
   "execution_count": 41,
   "metadata": {},
   "outputs": [
    {
     "name": "stdout",
     "output_type": "stream",
     "text": [
      "ATM sigma for SPY using the Black-Scholes model is 0.19684\n"
     ]
    }
   ],
   "source": [
    "SPY_BS_call_sigma = BS_impliedVolatility(SPY_spot,\n",
    "                                       SPY_strike,\n",
    "                                       SPY_df[\"rate_decimal\"][0],\n",
    "                                       SPY_ATM,\n",
    "                                       SPY_df[\"years_to_expiry\"][0],\n",
    "                                       payoff = 'call')\n",
    "\n",
    "\n",
    "SPY_BS_put_sigma = BS_impliedVolatility(SPY_spot,\n",
    "                                      SPY_strike,\n",
    "                                      SPY_df[\"rate_decimal\"][0],\n",
    "                                      SPY_ATM,\n",
    "                                      SPY_df[\"years_to_expiry\"][0],\n",
    "                                      payoff = 'put')\n",
    "\n",
    "SPY_ATM_sigma = (SPY_BS_call_sigma + SPY_BS_put_sigma)/2\n",
    "\n",
    "print(f\"ATM sigma for SPY using the Black-Scholes model is {SPY_ATM_sigma:.5f}\")"
   ]
  },
  {
   "cell_type": "code",
   "execution_count": 42,
   "metadata": {},
   "outputs": [
    {
     "name": "stdout",
     "output_type": "stream",
     "text": [
      "ATM sigma for SPY using the Bachelier model is 0.19682\n"
     ]
    }
   ],
   "source": [
    "# Get bachelier sigma from interpolated price of the ATM option\n",
    "\n",
    "SPY_bachelier_sigma = (SPY_ATM * np.exp(SPY_df[\"rate_decimal\"][0] * SPY_df[\"years_to_expiry\"][0])) / (SPY_spot * np.sqrt(SPY_df[\"years_to_expiry\"][0] / (2 * np.pi)))\n",
    "\n",
    "print(f\"ATM sigma for SPY using the Bachelier model is {SPY_bachelier_sigma :.5f}\")"
   ]
  },
  {
   "cell_type": "code",
   "execution_count": 43,
   "metadata": {},
   "outputs": [
    {
     "name": "stdout",
     "output_type": "stream",
     "text": [
      "ATM sigma for SPY using the Bachelier model is 0.19682\n"
     ]
    }
   ],
   "source": [
    "SPY_Bachelier_call_sigma = Bachelier_impliedVolatility(SPY_spot,\n",
    "                                       SPY_strike,\n",
    "                                       SPY_df[\"rate_decimal\"][0],\n",
    "                                       SPY_ATM,\n",
    "                                       SPY_df[\"years_to_expiry\"][0],\n",
    "                                       payoff = 'call')\n",
    "\n",
    "\n",
    "SPY_Bachelier_put_sigma = Bachelier_impliedVolatility(SPY_spot,\n",
    "                                      SPY_strike,\n",
    "                                      SPY_df[\"rate_decimal\"][0],\n",
    "                                      SPY_ATM,\n",
    "                                      SPY_df[\"years_to_expiry\"][0],\n",
    "                                      payoff = 'put')\n",
    "\n",
    "SPY_Bachelier_sigma = (SPY_Bachelier_call_sigma + SPY_Bachelier_put_sigma)/2\n",
    "\n",
    "print(f\"ATM sigma for SPY using the Bachelier model is {SPY_Bachelier_sigma:.5f}\")"
   ]
  },
  {
   "cell_type": "markdown",
   "metadata": {},
   "source": [
    "# Exotic No.1 : Black-Scholes\n",
    "\n",
    "Expected Black Scholes payoff is defined as\n",
    "\n",
    "$$\n",
    "E[V_T]= {S_0}^\\frac{1}{3}e^{\\frac{rT}{3}}e^{\\frac{-\\sigma^2T}{9}} + 1.5(log{S_0} + (r-\\frac{\\sigma^2}{2})T) + 10\n",
    "$$\n",
    "\n",
    "Therefore, the price is\n",
    "\n",
    "$$\n",
    "V_0 = e^{-rT}E[V_T]\n",
    "$$\n"
   ]
  },
  {
   "cell_type": "markdown",
   "metadata": {},
   "source": [
    "#"
   ]
  },
  {
   "cell_type": "code",
   "execution_count": 44,
   "metadata": {},
   "outputs": [],
   "source": [
    "# black scholes payoff\n",
    "def bs_price(S, rate, sigma, T):\n",
    "    return np.exp(-rate * T) * (\n",
    "        (\n",
    "            np.power(S, 1.0 / 3.0)\n",
    "            * np.exp((rate - 0.5 * sigma**2) * T * (1.0 / 3.0))\n",
    "            * np.exp(0.5 * (1.0 / 9.0) * T * sigma**2)\n",
    "            + 1.5 * (np.log(S) + (rate - 0.5 * sigma**2) * T)\n",
    "            + 10\n",
    "        )\n",
    "    )"
   ]
  },
  {
   "cell_type": "code",
   "execution_count": 45,
   "metadata": {},
   "outputs": [
    {
     "name": "stdout",
     "output_type": "stream",
     "text": [
      "Price of the Exotic option using the Black-Scholes model with SPX as the underlying is 37.704607\n"
     ]
    }
   ],
   "source": [
    "SPX_BS_price = bs_price(SPX_spot, \n",
    "                        SPX_df[\"rate_decimal\"][0], \n",
    "                        SPX_ATM_sigma, \n",
    "                        SPX_df[\"years_to_expiry\"][0])\n",
    "\n",
    "print(f\"Price of the Exotic option using the Black-Scholes model with SPX as the underlying is {SPX_BS_price:5f}\")"
   ]
  },
  {
   "cell_type": "code",
   "execution_count": 46,
   "metadata": {},
   "outputs": [
    {
     "name": "stdout",
     "output_type": "stream",
     "text": [
      "Price of the Exotic option using the Black-Scholes model with SPY as the underlying is 25.994282\n"
     ]
    }
   ],
   "source": [
    "SPY_BS_price = bs_price(SPY_spot, \n",
    "                        SPY_df[\"rate_decimal\"][0], \n",
    "                        SPY_ATM_sigma, \n",
    "                        SPY_df[\"years_to_expiry\"][0])\n",
    "\n",
    "print(f\"Price of the Exotic option using the Black-Scholes model with SPY as the underlying is {SPY_BS_price:5f}\")"
   ]
  },
  {
   "cell_type": "markdown",
   "metadata": {},
   "source": [
    "# Exotic No.1 : Bachelier\n",
    "\n",
    "Expected Bachelier payoff defined as\n",
    "\n",
    "$$\n",
    "E[V_T] = \\frac{1}{\\sqrt{2\\pi}}\\int_{-\\infty}^{\\infty} (S_0 + \\sigma S_0 \\sqrt{T} x)^\\frac{1}{3} e^\\frac{-x^2}{2}\\,dx +\n",
    "\\frac{1}{\\sqrt{2\\pi}}\\int_{-\\infty}^{\\infty} 1.5log(S_0 + \\sigma S_0 \\sqrt{T} x) e^\\frac{-x^2}{2}\\,dx\n",
    "+10\n",
    "$$\n",
    "\n",
    "Note $$S_T = S_0 + \\sigma S_0W_T$$\n",
    "\n",
    "Therefore, the price is\n",
    "\n",
    "$$\n",
    "V_0 = e^{-rT}E[V_T]\n",
    "$$\n"
   ]
  },
  {
   "cell_type": "code",
   "execution_count": 47,
   "metadata": {},
   "outputs": [],
   "source": [
    "def integrand_1(x, S, sigma, T):\n",
    "    return (\n",
    "        (1 / np.sqrt(2 * np.pi))\n",
    "        * np.power((S + sigma * S * np.sqrt(T) * x), 1.0 / 3.0)\n",
    "        * np.exp(-0.5 * np.power(x, 2))\n",
    "    )"
   ]
  },
  {
   "cell_type": "code",
   "execution_count": 48,
   "metadata": {},
   "outputs": [],
   "source": [
    "def integrand_2(x, S, sigma, T):\n",
    "    return (\n",
    "        (1 / np.sqrt(2 * np.pi))\n",
    "        * 1.5\n",
    "        * np.log(S + sigma * S * np.sqrt(T) * x)\n",
    "        * np.exp(-0.5 * np.power(x, 2))\n",
    "    )"
   ]
  },
  {
   "cell_type": "code",
   "execution_count": 49,
   "metadata": {},
   "outputs": [],
   "source": [
    "def bachelier_price(S, rate, sigma, T):\n",
    "    lower_bound = -1 / (sigma * np.sqrt(T))  # log term lower bound\n",
    "    I_1 = quad(lambda x: integrand_1(x, S, sigma, T), lower_bound, np.inf)\n",
    "    I_2 = quad(lambda x: integrand_2(x, S, sigma, T), lower_bound, np.inf)\n",
    "    V_0_bachelier = np.exp(-rate * T) * (I_1[0] + I_2[0] + 10)\n",
    "    return V_0_bachelier"
   ]
  },
  {
   "cell_type": "code",
   "execution_count": 50,
   "metadata": {},
   "outputs": [
    {
     "name": "stdout",
     "output_type": "stream",
     "text": [
      "Price of the Exotic option using the Bachelier model with SPX as the underlying is 37.702870\n"
     ]
    }
   ],
   "source": [
    "SPX_Bachelier_price = bachelier_price(SPX_spot, \n",
    "                        SPX_df[\"rate_decimal\"][0], \n",
    "                        SPX_ATM_sigma, \n",
    "                        SPX_df[\"years_to_expiry\"][0])\n",
    "\n",
    "print(f\"Price of the Exotic option using the Bachelier model with SPX as the underlying is {SPX_Bachelier_price:5f}\")"
   ]
  },
  {
   "cell_type": "code",
   "execution_count": 51,
   "metadata": {},
   "outputs": [
    {
     "name": "stdout",
     "output_type": "stream",
     "text": [
      "Price of the Exotic option using the Bachelier model with SPY as the underlying is 25.993253\n"
     ]
    }
   ],
   "source": [
    "SPY_Bachelier_price = bachelier_price(SPY_spot, \n",
    "                        SPY_df[\"rate_decimal\"][0], \n",
    "                        SPY_ATM_sigma, \n",
    "                        SPY_df[\"years_to_expiry\"][0])\n",
    "\n",
    "print(f\"Price of the Exotic option using the Bachelier model with SPY as the underlying is {SPY_Bachelier_price:5f}\")"
   ]
  },
  {
   "cell_type": "markdown",
   "metadata": {},
   "source": [
    "# Exotic No.1 : SABR\n",
    "\n",
    "For SABR payoff, we must retrieve the volatility using previous calibration result\n",
    "\n",
    "$$\n",
    "h(S_T) = S_T^{\\frac{1}{3}} + 1.5 log(S_T) + 10 \\\\\n",
    "h''(S_T) = -\\frac{2}{9}S_T^{-\\frac{5}{3}} - 1.5\\frac{1}{S_T^2} \\\\\n",
    "F = S_0 e ^ {rT}\n",
    "$$\n",
    "\n",
    "Therefore, the price is\n",
    "\n",
    "$$\n",
    "V_0 = e^{-rT}h(F) + \\int_{0}^{F} h''(K)P(K) \\,dK + \\int_{F}^{\\infty} h''(K)C(K) \\,dK\n",
    "$$\n"
   ]
  },
  {
   "cell_type": "markdown",
   "metadata": {},
   "source": [
    "For SPX, from Part 2\n",
    "\n",
    "'45': {'F': 3663.3762493669747,\n",
    "  'alpha': 1.8165044322089068,\n",
    "  'beta': 0.7,\n",
    "  'rho': -0.4043017551686191,\n",
    "  'nu': 2.790158328184338},"
   ]
  },
  {
   "cell_type": "markdown",
   "metadata": {},
   "source": [
    "For SPY, from Part 2\n",
    "\n",
    "'45': {'F': 366.11256803322914,\n",
    "  'alpha': 0.9081326349323565,\n",
    "  'beta': 0.7,\n",
    "  'rho': -0.4887794472282475,\n",
    "  'nu': 2.72851634129598},\n"
   ]
  },
  {
   "cell_type": "code",
   "execution_count": 52,
   "metadata": {},
   "outputs": [],
   "source": [
    "SPX_alpha = 1.8165044322089068\n",
    "\n",
    "SPX_beta = 0.7\n",
    "\n",
    "SPX_rho = -0.4043017551686191\n",
    "\n",
    "SPX_nu = 2.790158328184338"
   ]
  },
  {
   "cell_type": "code",
   "execution_count": 53,
   "metadata": {},
   "outputs": [],
   "source": [
    "SPY_alpha = 0.9081326349323565\n",
    "\n",
    "SPY_beta = 0.7\n",
    "\n",
    "SPY_rho = -0.4887794472282475\n",
    "\n",
    "SPY_nu = 2.72851634129598"
   ]
  },
  {
   "cell_type": "code",
   "execution_count": 54,
   "metadata": {},
   "outputs": [],
   "source": [
    "def SABR(F, K, T, alpha, beta, rho, nu):\n",
    "    X = K\n",
    "    # if K is at-the-money-forward\n",
    "    if abs(F - K) < 1e-12:\n",
    "        numer1 = (((1 - beta)**2)/24)*alpha*alpha/(F**(2 - 2*beta))\n",
    "        numer2 = 0.25*rho*beta*nu*alpha/(F**(1 - beta))\n",
    "        numer3 = ((2 - 3*rho*rho)/24)*nu*nu\n",
    "        VolAtm = alpha*(1 + (numer1 + numer2 + numer3)*T)/(F**(1-beta))\n",
    "        sabrsigma = VolAtm\n",
    "    else:\n",
    "        z = (nu/alpha)*((F*X)**(0.5*(1-beta)))*np.log(F/X)\n",
    "        zhi = np.log((((1 - 2*rho*z + z*z)**0.5) + z - rho)/(1 - rho))\n",
    "        numer1 = (((1 - beta)**2)/24)*((alpha*alpha)/((F*X)**(1 - beta)))\n",
    "        numer2 = 0.25*rho*beta*nu*alpha/((F*X)**((1 - beta)/2))\n",
    "        numer3 = ((2 - 3*rho*rho)/24)*nu*nu\n",
    "        numer = alpha*(1 + (numer1 + numer2 + numer3)*T)*z\n",
    "        denom1 = ((1 - beta)**2/24)*(np.log(F/X))**2\n",
    "        denom2 = (((1 - beta)**4)/1920)*((np.log(F/X))**4)\n",
    "        denom = ((F*X)**((1 - beta)/2))*(1 + denom1 + denom2)*zhi\n",
    "        sabrsigma = numer/denom\n",
    "\n",
    "    return sabrsigma"
   ]
  },
  {
   "cell_type": "code",
   "execution_count": 55,
   "metadata": {},
   "outputs": [],
   "source": [
    "def SABRCall(S, K, r, alpha, beta, rho, nu, T):\n",
    "    sabr_vol = SABR(S*np.exp(r*T), K, T, alpha, beta, rho, nu)\n",
    "    return BlackScholesCall(S, K, r, sabr_vol, T)\n",
    "\n",
    "\n",
    "def SABRPut(S, K, r, alpha, beta, rho, nu, T):\n",
    "    sabr_vol = SABR(S*np.exp(r*T), K, T, alpha, beta, rho, nu)\n",
    "    return BlackScholesPut(S, K, r, sabr_vol, T)"
   ]
  },
  {
   "cell_type": "code",
   "execution_count": 56,
   "metadata": {},
   "outputs": [],
   "source": [
    "def sabr_price(S, K, r, alpha, beta, rho, nu, T):\n",
    "    F = S * np.exp(r * T)\n",
    "    \n",
    "    # Integrate the h_prime_prime multiplied by SABRPut price\n",
    "    I_put = quad(\n",
    "        lambda x: h_prime_prime(x) * SABRPut(S, K, r, alpha, beta, rho, nu, T),\n",
    "        0,\n",
    "        F,\n",
    "    )\n",
    "    \n",
    "    # Integrate the h_prime_prime multiplied by SABRCall price\n",
    "    I_call = quad(\n",
    "        lambda x: h_prime_prime(x) * SABRCall(S, K, r, alpha, beta, rho, nu, T),\n",
    "        F,\n",
    "        np.inf,\n",
    "    )\n",
    "    V_0_SABR = np.exp(-r * T) * h_func(F) + I_put[0] + I_call[0]\n",
    "    return V_0_SABR"
   ]
  },
  {
   "cell_type": "code",
   "execution_count": 57,
   "metadata": {},
   "outputs": [
    {
     "name": "stdout",
     "output_type": "stream",
     "text": [
      "Price of the Exotic option using the SABR model with SPX as the underlying is 37.713597\n"
     ]
    }
   ],
   "source": [
    "SPX_SABR_price = sabr_price(SPX_spot, \n",
    "                            SPX_strike,\n",
    "                            SPX_df[\"rate_decimal\"][0], \n",
    "                            SPX_alpha, \n",
    "                            SPX_beta, \n",
    "                            SPX_rho, \n",
    "                            SPX_nu, \n",
    "                            SPX_df[\"years_to_expiry\"][0])\n",
    "\n",
    "print(f\"Price of the Exotic option using the SABR model with SPX as the underlying is {SPX_SABR_price:5f}\")"
   ]
  },
  {
   "cell_type": "code",
   "execution_count": 58,
   "metadata": {},
   "outputs": [
    {
     "name": "stdout",
     "output_type": "stream",
     "text": [
      "Price of the Exotic option using the SABR model with SPY as the underlying is 26.000677\n"
     ]
    }
   ],
   "source": [
    "SPY_SABR_price = sabr_price(SPY_spot, \n",
    "                            SPY_strike,\n",
    "                            SPY_df[\"rate_decimal\"][0], \n",
    "                            SPY_alpha, \n",
    "                            SPY_beta, \n",
    "                            SPY_rho, \n",
    "                            SPY_nu, \n",
    "                            SPY_df[\"years_to_expiry\"][0])\n",
    "\n",
    "print(f\"Price of the Exotic option using the SABR model with SPY as the underlying is {SPY_SABR_price:5f}\")"
   ]
  },
  {
   "cell_type": "markdown",
   "metadata": {},
   "source": [
    "# Exotic No.2 : Black Scholes\n",
    "\n",
    "$$\n",
    "E\\Biggl[\\int_{0}^{T} \\sigma_t^2 \\,dt\\Biggr] = 2e^{rT}\\Biggl(\\int_{0}^{F} \\frac{P(K)}{K^2} \\,dK + \\int_{F}^{\\infty} \\frac{C(K)}{K^2} \\,dK\\Biggr)\n",
    "$$\n"
   ]
  },
  {
   "cell_type": "code",
   "execution_count": 59,
   "metadata": {},
   "outputs": [],
   "source": [
    "def BlackScholescallintegrand(S, K, r, sigma, T):\n",
    "    price = BlackScholesCall(S, K, r, sigma, T) / K**2\n",
    "    return price\n",
    "\n",
    "\n",
    "def BlackScholesputintegrand(S, K, r, sigma, T):\n",
    "    price = BlackScholesPut(S, K, r, sigma, T) / K**2\n",
    "    return price"
   ]
  },
  {
   "cell_type": "code",
   "execution_count": 60,
   "metadata": {},
   "outputs": [
    {
     "name": "stdout",
     "output_type": "stream",
     "text": [
      "The integrated variance for SPX using the Black Scholes model is 0.00433\n"
     ]
    }
   ],
   "source": [
    "SPX_forward = SPX_spot * np.exp(SPX_df[\"rate_decimal\"][0] * SPX_df[\"years_to_expiry\"][0])\n",
    "\n",
    "SPX_call_integrated = quad(lambda x: BlackScholescallintegrand(SPX_spot,\n",
    "                                                               x,\n",
    "                                                               SPX_df[\"rate_decimal\"][0],\n",
    "                                                               SPX_ATM_sigma,\n",
    "                                                               SPX_df[\"years_to_expiry\"][0]), SPX_forward, np.inf)\n",
    "\n",
    "SPX_put_integrated = quad(lambda x: BlackScholesputintegrand(SPX_spot,\n",
    "                                                             x,\n",
    "                                                             SPX_df[\"rate_decimal\"][0],\n",
    "                                                             SPX_ATM_sigma,\n",
    "                                                             SPX_df[\"years_to_expiry\"][0]), 0.0, SPX_forward)\n",
    "\n",
    "SPX_BS_Expected_variance = 2 * np.exp(SPX_df[\"rate_decimal\"][0] * SPX_df[\"years_to_expiry\"][0]) * (SPX_put_integrated[0] + SPX_call_integrated[0])\n",
    "\n",
    "print(f\"The integrated variance for SPX using the Black Scholes model is {SPX_BS_Expected_variance:.5f}\")"
   ]
  },
  {
   "cell_type": "code",
   "execution_count": 61,
   "metadata": {},
   "outputs": [
    {
     "name": "stdout",
     "output_type": "stream",
     "text": [
      "The integrated variance for SPY using the Black Scholes model is 0.00478\n"
     ]
    }
   ],
   "source": [
    "SPY_forward = SPY_spot * np.exp(SPY_df[\"rate_decimal\"][0] * SPY_df[\"years_to_expiry\"][0])\n",
    "\n",
    "SPY_call_integrated = quad(lambda x: BlackScholescallintegrand(SPY_spot,\n",
    "                                                               x,\n",
    "                                                               SPY_df[\"rate_decimal\"][0],\n",
    "                                                               SPY_ATM_sigma,\n",
    "                                                               SPY_df[\"years_to_expiry\"][0]), SPY_forward, np.inf)\n",
    "\n",
    "SPY_put_integrated = quad(lambda x: BlackScholesputintegrand(SPY_spot,\n",
    "                                                             x,\n",
    "                                                             SPY_df[\"rate_decimal\"][0],\n",
    "                                                             SPY_ATM_sigma,\n",
    "                                                             SPY_df[\"years_to_expiry\"][0]), 0.0, SPY_forward)\n",
    "\n",
    "SPY_BS_Expected_variance = 2 * np.exp(SPY_df[\"rate_decimal\"][0] * SPY_df[\"years_to_expiry\"][0]) * (SPY_put_integrated[0] + SPY_call_integrated[0])\n",
    "\n",
    "print(f\"The integrated variance for SPY using the Black Scholes model is {SPY_BS_Expected_variance:.5f}\")"
   ]
  },
  {
   "cell_type": "markdown",
   "metadata": {},
   "source": [
    "# Exotic No.2 : Bachelier"
   ]
  },
  {
   "cell_type": "code",
   "execution_count": 62,
   "metadata": {},
   "outputs": [],
   "source": [
    "def bach_call_integrand(S, K, r, sigma, T):\n",
    "    bachmodel = BachelierCall(S, K, r, sigma, T)\n",
    "    return bachmodel / K**2\n",
    "\n",
    "def bach_put_integrand(S, K, r, sigma, T):\n",
    "    bachmodel = BachelierPut(S, K, r, sigma, T)\n",
    "    return bachmodel / K**2"
   ]
  },
  {
   "cell_type": "code",
   "execution_count": 63,
   "metadata": {},
   "outputs": [
    {
     "name": "stdout",
     "output_type": "stream",
     "text": [
      "The integrated variance for SPX using the Bachelier model is 0.00436\n"
     ]
    }
   ],
   "source": [
    "SPX_forward = SPX_spot * np.exp(SPX_df[\"rate_decimal\"][0] * SPX_df[\"years_to_expiry\"][0])\n",
    "\n",
    "SPX_call_integrated = quad(lambda x: bach_call_integrand(SPX_spot,\n",
    "                                                             x,\n",
    "                                                             SPX_df[\"rate_decimal\"][0],\n",
    "                                                             SPX_bachelier_sigma,\n",
    "                                                             SPX_df[\"years_to_expiry\"][0]), SPX_forward, np.inf)\n",
    "\n",
    "SPX_put_integrated = quad(lambda x: bach_put_integrand(SPX_spot,\n",
    "                                                               x,\n",
    "                                                               SPX_df[\"rate_decimal\"][0],\n",
    "                                                               SPX_bachelier_sigma,\n",
    "                                                               SPX_df[\"years_to_expiry\"][0]), 0.0, SPX_forward)\n",
    "\n",
    "SPX_Bachelier_Expected_variance = 2 * np.exp(SPX_df[\"rate_decimal\"][0] * SPX_df[\"years_to_expiry\"][0]) * (SPX_put_integrated[0] + SPX_call_integrated[0])\n",
    "\n",
    "print(f\"The integrated variance for SPX using the Bachelier model is {SPX_Bachelier_Expected_variance:.5f}\")"
   ]
  },
  {
   "cell_type": "code",
   "execution_count": 64,
   "metadata": {},
   "outputs": [
    {
     "name": "stdout",
     "output_type": "stream",
     "text": [
      "The integrated variance for SPY using the Bachelier model is 0.00481\n"
     ]
    }
   ],
   "source": [
    "SPY_forward = SPY_spot * np.exp(SPY_df[\"rate_decimal\"][0] * SPY_df[\"years_to_expiry\"][0])\n",
    "\n",
    "SPY_call_integrated = quad(lambda x: bach_call_integrand(SPY_spot,\n",
    "                                                             x,\n",
    "                                                             SPY_df[\"rate_decimal\"][0],\n",
    "                                                             SPY_bachelier_sigma,\n",
    "                                                             SPY_df[\"years_to_expiry\"][0]), SPY_forward, np.inf)\n",
    "\n",
    "SPY_put_integrated = quad(lambda x: bach_put_integrand(SPY_spot,\n",
    "                                                               x,\n",
    "                                                               SPY_df[\"rate_decimal\"][0],\n",
    "                                                               SPY_bachelier_sigma,\n",
    "                                                               SPY_df[\"years_to_expiry\"][0]), 0.0, SPY_forward)\n",
    "\n",
    "SPY_Bachelier_Expected_variance = 2 * np.exp(SPY_df[\"rate_decimal\"][0] * SPY_df[\"years_to_expiry\"][0]) * (SPY_put_integrated[0] + SPY_call_integrated[0])\n",
    "\n",
    "print(f\"The integrated variance for SPY using the Bachelier model is {SPY_Bachelier_Expected_variance:.5f}\")"
   ]
  },
  {
   "cell_type": "markdown",
   "metadata": {},
   "source": [
    "# Exotic No.2 : SABR"
   ]
  },
  {
   "cell_type": "code",
   "execution_count": 65,
   "metadata": {},
   "outputs": [],
   "source": [
    "def sabrcallintegrand(S, K, r, alpha, beta, rho, nu, T):\n",
    "    price = SABRCall(S, K, r, alpha, beta, rho, nu, T) / K**2\n",
    "    return price\n",
    "\n",
    "\n",
    "def sabrputintegrand(S, K, r, alpha, beta, rho, nu, T):\n",
    "    price = SABRPut(S, K, r, alpha, beta, rho, nu, T) / K**2\n",
    "    return price"
   ]
  },
  {
   "cell_type": "code",
   "execution_count": 66,
   "metadata": {},
   "outputs": [
    {
     "name": "stdout",
     "output_type": "stream",
     "text": [
      "The integrated variance for SPX using the SABR model is 0.00635\n"
     ]
    }
   ],
   "source": [
    "SPX_forward = SPX_spot * np.exp(SPX_df[\"rate_decimal\"][0] * SPX_df[\"years_to_expiry\"][0])\n",
    "\n",
    "SPX_call_integrated = quad(lambda x: sabrcallintegrand(SPX_spot,\n",
    "                                                        x,\n",
    "                                                        SPX_df[\"rate_decimal\"][0],\n",
    "                                                        SPX_alpha,\n",
    "                                                        SPX_beta,\n",
    "                                                        SPX_rho,\n",
    "                                                        SPX_nu,\n",
    "                                                        SPX_df[\"years_to_expiry\"][0]), SPX_forward, np.inf)\n",
    "\n",
    "SPX_put_integrated = quad(lambda x: sabrputintegrand(SPX_spot,\n",
    "                                                        x,\n",
    "                                                        SPX_df[\"rate_decimal\"][0],\n",
    "                                                        SPX_alpha,\n",
    "                                                        SPX_beta,\n",
    "                                                        SPX_rho,\n",
    "                                                        SPX_nu,\n",
    "                                                        SPX_df[\"years_to_expiry\"][0]), 0.0, SPX_forward)\n",
    "\n",
    "SPX_SABR_Expected_variance = 2 * np.exp(SPX_df[\"rate_decimal\"][0] * SPX_df[\"years_to_expiry\"][0]) * (SPX_put_integrated[0] + SPX_call_integrated[0])\n",
    "\n",
    "print(f\"The integrated variance for SPX using the SABR model is {SPX_SABR_Expected_variance:.5f}\")"
   ]
  },
  {
   "cell_type": "code",
   "execution_count": 67,
   "metadata": {},
   "outputs": [
    {
     "name": "stdout",
     "output_type": "stream",
     "text": [
      "The integrated variance for SPY using the SABR model is 0.00602\n"
     ]
    }
   ],
   "source": [
    "SPY_forward = SPY_spot * np.exp(SPY_df[\"rate_decimal\"][0] * SPY_df[\"years_to_expiry\"][0])\n",
    "\n",
    "SPY_call_integrated = quad(lambda x: sabrcallintegrand(SPY_spot,\n",
    "                                                        x,\n",
    "                                                        SPY_df[\"rate_decimal\"][0],\n",
    "                                                        SPY_alpha,\n",
    "                                                        SPY_beta,\n",
    "                                                        SPY_rho,\n",
    "                                                        SPY_nu,\n",
    "                                                        SPY_df[\"years_to_expiry\"][0]), SPY_forward, np.inf)\n",
    "\n",
    "SPY_put_integrated = quad(lambda x: sabrputintegrand(SPY_spot,\n",
    "                                                        x,\n",
    "                                                        SPY_df[\"rate_decimal\"][0],\n",
    "                                                        SPY_alpha,\n",
    "                                                        SPY_beta,\n",
    "                                                        SPY_rho,\n",
    "                                                        SPY_nu,\n",
    "                                                        SPY_df[\"years_to_expiry\"][0]), 0.0, SPY_forward)\n",
    "\n",
    "SPY_SABR_Expected_variance = 2 * np.exp(SPY_df[\"rate_decimal\"][0] * SPY_df[\"years_to_expiry\"][0]) * (SPY_put_integrated[0] + SPY_call_integrated[0])\n",
    "\n",
    "print(f\"The integrated variance for SPY using the SABR model is {SPY_SABR_Expected_variance:.5f}\")"
   ]
  },
  {
   "cell_type": "code",
   "execution_count": null,
   "metadata": {},
   "outputs": [],
   "source": []
  }
 ],
 "metadata": {
  "kernelspec": {
   "display_name": ".venv",
   "language": "python",
   "name": "python3"
  },
  "language_info": {
   "codemirror_mode": {
    "name": "ipython",
    "version": 3
   },
   "file_extension": ".py",
   "mimetype": "text/x-python",
   "name": "python",
   "nbconvert_exporter": "python",
   "pygments_lexer": "ipython3",
   "version": "3.10.6"
  }
 },
 "nbformat": 4,
 "nbformat_minor": 2
}

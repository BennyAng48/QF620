{
 "cells": [
  {
   "cell_type": "markdown",
   "metadata": {},
   "source": [
    "This notebook draws out the trees for European and American options.\n",
    "\n",
    "The first half of the code uses sigma and continuous compounding of the risk-free rate.\n",
    "\n",
    "The second half of the code uses u/d and discrete discounting."
   ]
  },
  {
   "cell_type": "markdown",
   "metadata": {},
   "source": [
    "### Keep T and n the same for simplicity sake"
   ]
  },
  {
   "cell_type": "code",
   "execution_count": 2,
   "metadata": {},
   "outputs": [],
   "source": [
    "import math\n",
    "import numpy as np\n",
    "from matplotlib import pyplot as plt\n",
    "from matplotlib.widgets import Slider, Button, RadioButtons\n",
    "import plotly.graph_objects as go\n",
    "import pandas as pd\n",
    "import datetime as dt\n",
    "import warnings"
   ]
  },
  {
   "cell_type": "code",
   "execution_count": 3,
   "metadata": {},
   "outputs": [],
   "source": [
    "# Settings the warnings to be ignored \n",
    "warnings.filterwarnings('ignore') \n",
    "\n",
    "%matplotlib ipympl"
   ]
  },
  {
   "cell_type": "markdown",
   "metadata": {},
   "source": [
    "# Using sigma"
   ]
  },
  {
   "cell_type": "code",
   "execution_count": 3,
   "metadata": {},
   "outputs": [],
   "source": [
    "# Example usage\n",
    "S = 100  # initial stock price\n",
    "K = 100  # strike price\n",
    "r = 0.1  # risk-free interest rate\n",
    "sigma = 0.4  # stock price volatility\n",
    "T = 4  # time to maturity (in years)\n",
    "N = 4  # number of time steps in the binomial tree"
   ]
  },
  {
   "cell_type": "markdown",
   "metadata": {},
   "source": [
    "### Eurpoean Calls and Puts"
   ]
  },
  {
   "cell_type": "code",
   "execution_count": 4,
   "metadata": {},
   "outputs": [],
   "source": [
    "def binomial_tree_european_call(S, K, r, sigma, T, N):\n",
    "    \"\"\"\n",
    "    Calculates the price of a European call option using a multi-step binomial tree.\n",
    "\n",
    "    Parameters:\n",
    "        S (float): initial stock price\n",
    "        K (float): strike price\n",
    "        r (float): risk-free interest rate\n",
    "        sigma (float): stock price volatility\n",
    "        T (float): time to maturity (in years)\n",
    "        N (int): number of time steps in the binomial tree\n",
    "\n",
    "    Returns:\n",
    "        (float) price of the call option\n",
    "    \"\"\"\n",
    "    dt = T / N\n",
    "    u = np.exp(sigma * np.sqrt(dt))\n",
    "    d = 1 / u                             # Cox-Ross-Rubinstein formulation\n",
    "    p = (np.exp(r * dt) - d) / (u - d)    # Risk neutral probability of going up, this needs to be between 0 and 1\n",
    "\n",
    "    # Generate the stock price tree\n",
    "    stock_tree = np.zeros((N+1, N+1))\n",
    "    for i in range(N+1):                  # Loops through the columns\n",
    "        for j in range(i+1):              # Loop through the rows\n",
    "            stock_tree[j, i] = S * (u ** (i-j)) * (d ** j)    # Initial stock price multiplied by up amount (power of number of times it went up) multiplied by down amount (power of number of time it went down)\n",
    "\n",
    "    # Print the stock price tree\n",
    "    print(\"Stock price tree:\")\n",
    "    print(stock_tree)\n",
    "\n",
    "    # Generate the option value tree\n",
    "    option_tree = np.zeros((N+1, N+1))\n",
    "    option_tree[:, N] = np.maximum(stock_tree[:, N] - K, 0)       # Payoff at maturity\n",
    "    for i in range(N-1, -1, -1):          # Loops through the columns\n",
    "        for j in range(i+1):              # Loop through the rows\n",
    "            option_tree[j, i] = np.exp(-r * dt) * (p * option_tree[j, i+1] + (1-p) * option_tree[j+1, i+1])\n",
    "            #option_tree[j, i] = max(option_tree[j, i], stock_tree[j, i] - K, 0)      # Do we need to add in a 0 here?\n",
    "\n",
    "    # Print the option price tree\n",
    "    print(\"Option price tree:\")\n",
    "    print(option_tree)\n",
    "\n",
    "    return option_tree[0, 0]"
   ]
  },
  {
   "cell_type": "code",
   "execution_count": 5,
   "metadata": {},
   "outputs": [],
   "source": [
    "def binomial_tree_european_put(S, K, r, sigma, T, N):\n",
    "    \"\"\"\n",
    "    Calculates the price of a European put option using a multi-step binomial tree.\n",
    "\n",
    "    Parameters:\n",
    "        S (float): initial stock price\n",
    "        K (float): strike price\n",
    "        r (float): risk-free interest rate\n",
    "        sigma (float): stock price volatility\n",
    "        T (float): time to maturity (in years)\n",
    "        N (int): number of time steps in the binomial tree\n",
    "\n",
    "    Returns:\n",
    "        (float) price of the put option\n",
    "    \"\"\"\n",
    "    dt = T / N\n",
    "    u = np.exp(sigma * np.sqrt(dt))\n",
    "    d = 1 / u                             # Cox-Ross-Rubinstein formulation\n",
    "    p = (np.exp(r * dt) - d) / (u - d)    # Risk neutral probability of going up, this needs to be between 0 and 1\n",
    "\n",
    "    # Generate the stock price tree\n",
    "    stock_tree = np.zeros((N+1, N+1))\n",
    "    for i in range(N+1):                  # Loops through the columns\n",
    "        for j in range(i+1):              # Loop through the rows\n",
    "            stock_tree[j, i] = S * (u ** (i-j)) * (d ** j)    # Initial stock price multiplied by up amount (power of number of times it went up) multiplied by down amount (power of number of time it went down)\n",
    "\n",
    "    # Print the stock price tree\n",
    "    print(\"Stock price tree:\")\n",
    "    print(stock_tree)\n",
    "\n",
    "    # Generate the option value tree\n",
    "    option_tree = np.zeros((N+1, N+1))\n",
    "    option_tree[:, N] = np.maximum(K - stock_tree[:, N], 0)    # Payoff at maturity\n",
    "    for i in range(N-1, -1, -1):          # Loops through the columns\n",
    "        for j in range(i+1):              # Loop through the rows\n",
    "            option_tree[j, i] = np.exp(-r * dt) * (p * option_tree[j, i+1] + (1-p) * option_tree[j+1, i+1])\n",
    "            #option_tree[j, i] = max(option_tree[j, i], K - stock_tree[j, i], 0)    # Do we need to add in a 0 here?\n",
    "\n",
    "    # Print the option price tree\n",
    "    print(\"Option price tree:\")\n",
    "    print(option_tree)\n",
    "\n",
    "    return option_tree[0, 0]"
   ]
  },
  {
   "cell_type": "markdown",
   "metadata": {},
   "source": [
    "### American Calls and Puts"
   ]
  },
  {
   "cell_type": "code",
   "execution_count": 6,
   "metadata": {},
   "outputs": [],
   "source": [
    "def binomial_tree_american_call(S, K, r, sigma, T, N):\n",
    "    \"\"\"\n",
    "    Calculates the price of an American call option using a multi-step binomial tree.\n",
    "\n",
    "    Parameters:\n",
    "        S (float): initial stock price\n",
    "        K (float): strike price\n",
    "        r (float): risk-free interest rate\n",
    "        sigma (float): stock price volatility\n",
    "        T (float): time to maturity (in years)\n",
    "        N (int): number of time steps in the binomial tree\n",
    "\n",
    "    Returns:\n",
    "        (float) price of the call option\n",
    "    \"\"\"\n",
    "    dt = T / N\n",
    "    u = np.exp(sigma * np.sqrt(dt))\n",
    "    d = 1 / u                              # Cox-Ross-Rubinstein formulation\n",
    "    p = (np.exp(r * dt) - d) / (u - d)     # Risk neutral probability of going up, this needs to be between 0 and 1\n",
    "\n",
    "    # Generate the stock price tree\n",
    "    stock_tree = np.zeros((N+1, N+1))\n",
    "    for i in range(N+1):                   # Loops through the columns\n",
    "        for j in range(i+1):               # Loops through the rows\n",
    "            stock_tree[j, i] = S * (u ** (i-j)) * (d ** j)   # Initial stock price multiplied by up amount (power of number of times it went up) multiplied by down amount (power of number of time it went down)\n",
    "\n",
    "    # Print the stock price tree\n",
    "    print(\"Stock price tree:\")\n",
    "    print(stock_tree)\n",
    "    \n",
    "    # Generate the option value tree\n",
    "    option_tree = np.zeros((N+1, N+1))\n",
    "    option_tree[:, N] = np.maximum(stock_tree[:, N] - K, 0)\n",
    "    for i in range(N-1, -1, -1):           # Loops through the columns\n",
    "        for j in range(i+1):               # Loops through the rows\n",
    "            exercise_value = stock_tree[j, i] - K\n",
    "            hold_value = np.exp(-r * dt) * (p * option_tree[j, i+1] + (1-p) * option_tree[j+1, i+1])\n",
    "            option_tree[j, i] = max(exercise_value, hold_value, 0)\n",
    "\n",
    "    # Print the option price tree\n",
    "    print(\"Option price tree:\")\n",
    "    print(option_tree)\n",
    "    \n",
    "    return option_tree[0, 0]"
   ]
  },
  {
   "cell_type": "code",
   "execution_count": 7,
   "metadata": {},
   "outputs": [],
   "source": [
    "def binomial_tree_american_put(S, K, r, sigma, T, N):\n",
    "    \"\"\"\n",
    "    Calculates the price of an American put option using a multi-step binomial tree.\n",
    "\n",
    "    Parameters:\n",
    "        S (float): initial stock price\n",
    "        K (float): strike price\n",
    "        r (float): risk-free interest rate\n",
    "        sigma (float): stock price volatility\n",
    "        T (float): time to maturity (in years)\n",
    "        N (int): number of time steps in the binomial tree\n",
    "\n",
    "    Returns:\n",
    "        (float) price of the put option\n",
    "    \"\"\"\n",
    "    dt = T / N\n",
    "    u = np.exp(sigma * np.sqrt(dt))\n",
    "    d = 1 / u                              # Cox-Ross-Rubinstein formulation\n",
    "    p = (np.exp(r * dt) - d) / (u - d)     # Risk neutral probability of going up, this needs to be between 0 and 1\n",
    "\n",
    "    # Generate the stock price tree\n",
    "    stock_tree = np.zeros((N+1, N+1))\n",
    "    for i in range(N+1):                   # Loops through the columns\n",
    "        for j in range(i+1):               # Loops through the rows\n",
    "            stock_tree[j, i] = S * (u ** (i-j)) * (d ** j)   # Initial stock price multiplied by up amount (power of number of times it went up) multiplied by down amount (power of number of time it went down)\n",
    "\n",
    "    # Print the stock price tree\n",
    "    print(\"Stock price tree:\")\n",
    "    print(stock_tree)\n",
    "\n",
    "    # Generate the option value tree\n",
    "    option_tree = np.zeros((N+1, N+1))\n",
    "    option_tree[:, N] = np.maximum(K - stock_tree[:, N], 0)\n",
    "    for i in range(N-1, -1, -1):          # Loops through the columns\n",
    "        for j in range(i+1):              # Loops through the rows\n",
    "            exercise_value = K - stock_tree[j, i]\n",
    "            hold_value = np.exp(-r * dt) * (p * option_tree[j, i+1] + (1-p) * option_tree[j+1, i+1])\n",
    "            option_tree[j, i] = max(exercise_value, hold_value, 0)        # Do we need to add in a 0 here?\n",
    "\n",
    "    # Print the option price tree\n",
    "    print(\"Option price tree:\")\n",
    "    print(option_tree)\n",
    "\n",
    "    return option_tree[0, 0]"
   ]
  },
  {
   "cell_type": "code",
   "execution_count": 8,
   "metadata": {},
   "outputs": [
    {
     "name": "stdout",
     "output_type": "stream",
     "text": [
      "Stock price tree:\n",
      "[[100.         149.18246976 222.55409285 332.01169227 495.30324244]\n",
      " [  0.          67.0320046  100.         149.18246976 222.55409285]\n",
      " [  0.           0.          44.93289641  67.0320046  100.        ]\n",
      " [  0.           0.           0.          30.11942119  44.93289641]\n",
      " [  0.           0.           0.           0.          20.1896518 ]]\n",
      "Option price tree:\n",
      "[[4.37423105e+01 7.93540904e+01 1.40681018e+02 2.41527950e+02\n",
      "  3.95303242e+02]\n",
      " [0.00000000e+00 1.34657464e+01 2.81144479e+01 5.86987280e+01\n",
      "  1.22554093e+02]\n",
      " [0.00000000e+00 0.00000000e+00 3.26003258e-15 6.80645644e-15\n",
      "  1.42108547e-14]\n",
      " [0.00000000e+00 0.00000000e+00 0.00000000e+00 0.00000000e+00\n",
      "  0.00000000e+00]\n",
      " [0.00000000e+00 0.00000000e+00 0.00000000e+00 0.00000000e+00\n",
      "  0.00000000e+00]]\n",
      "European Call price: 43.74231053246738\n"
     ]
    }
   ],
   "source": [
    "european_call_price = binomial_tree_european_call(S, K, r, sigma, T, N)\n",
    "print(\"European Call price:\", european_call_price)"
   ]
  },
  {
   "cell_type": "code",
   "execution_count": 9,
   "metadata": {},
   "outputs": [
    {
     "name": "stdout",
     "output_type": "stream",
     "text": [
      "Stock price tree:\n",
      "[[100.         149.18246976 222.55409285 332.01169227 495.30324244]\n",
      " [  0.          67.0320046  100.         149.18246976 222.55409285]\n",
      " [  0.           0.          44.93289641  67.0320046  100.        ]\n",
      " [  0.           0.           0.          30.11942119  44.93289641]\n",
      " [  0.           0.           0.           0.          20.1896518 ]]\n",
      "Option price tree:\n",
      "[[10.77431514  4.25344272  0.          0.          0.        ]\n",
      " [ 0.         20.51556384  9.98752326  0.          0.        ]\n",
      " [ 0.          0.         36.9401789  23.4517372   0.        ]\n",
      " [ 0.          0.          0.         60.36432061 55.06710359]\n",
      " [ 0.          0.          0.          0.         79.8103482 ]]\n",
      "European Put price: 10.77431513603128\n"
     ]
    }
   ],
   "source": [
    "european_put_price = binomial_tree_european_put(S, K, r, sigma, T, N)\n",
    "print(\"European Put price:\", european_put_price)"
   ]
  },
  {
   "cell_type": "code",
   "execution_count": 10,
   "metadata": {},
   "outputs": [
    {
     "name": "stdout",
     "output_type": "stream",
     "text": [
      "Stock price tree:\n",
      "[[100.         149.18246976 222.55409285 332.01169227 495.30324244]\n",
      " [  0.          67.0320046  100.         149.18246976 222.55409285]\n",
      " [  0.           0.          44.93289641  67.0320046  100.        ]\n",
      " [  0.           0.           0.          30.11942119  44.93289641]\n",
      " [  0.           0.           0.           0.          20.1896518 ]]\n",
      "Option price tree:\n",
      "[[4.37423105e+01 7.93540904e+01 1.40681018e+02 2.41527950e+02\n",
      "  3.95303242e+02]\n",
      " [0.00000000e+00 1.34657464e+01 2.81144479e+01 5.86987280e+01\n",
      "  1.22554093e+02]\n",
      " [0.00000000e+00 0.00000000e+00 3.26003258e-15 6.80645644e-15\n",
      "  1.42108547e-14]\n",
      " [0.00000000e+00 0.00000000e+00 0.00000000e+00 0.00000000e+00\n",
      "  0.00000000e+00]\n",
      " [0.00000000e+00 0.00000000e+00 0.00000000e+00 0.00000000e+00\n",
      "  0.00000000e+00]]\n",
      "American Call price: 43.74231053246738\n"
     ]
    }
   ],
   "source": [
    "american_call_price = binomial_tree_american_call(S, K, r, sigma, T, N)\n",
    "print(\"American Call price:\", american_call_price)"
   ]
  },
  {
   "cell_type": "code",
   "execution_count": 11,
   "metadata": {},
   "outputs": [
    {
     "name": "stdout",
     "output_type": "stream",
     "text": [
      "Stock price tree:\n",
      "[[100.         149.18246976 222.55409285 332.01169227 495.30324244]\n",
      " [  0.          67.0320046  100.         149.18246976 222.55409285]\n",
      " [  0.           0.          44.93289641  67.0320046  100.        ]\n",
      " [  0.           0.           0.          30.11942119  44.93289641]\n",
      " [  0.           0.           0.           0.          20.1896518 ]]\n",
      "Option price tree:\n",
      "[[16.90417313  5.97940693  0.          0.          0.        ]\n",
      " [ 0.         32.9679954  14.04026567  0.          0.        ]\n",
      " [ 0.          0.         55.06710359 32.9679954   0.        ]\n",
      " [ 0.          0.          0.         69.88057881 55.06710359]\n",
      " [ 0.          0.          0.          0.         79.8103482 ]]\n",
      "American Put price: 16.904173128843627\n"
     ]
    }
   ],
   "source": [
    "american_put_price = binomial_tree_american_put(S, K, r, sigma, T, N)\n",
    "print(\"American Put price:\", american_put_price)"
   ]
  },
  {
   "cell_type": "markdown",
   "metadata": {},
   "source": [
    "# Using u/d"
   ]
  },
  {
   "cell_type": "code",
   "execution_count": 10,
   "metadata": {},
   "outputs": [],
   "source": [
    "# Define the parameters of the binomial tree\n",
    "S = 5    # Initial stock price\n",
    "K = 10    # Strike price\n",
    "u = 2      # Up factor\n",
    "d = 0.5      # Down factor\n",
    "r = 0.04   # Risk-free rate\n",
    "T = 2      # Time to maturity in years\n",
    "N = 2      # Number of time steps"
   ]
  },
  {
   "cell_type": "markdown",
   "metadata": {},
   "source": [
    "### Basic European Calls and Puts"
   ]
  },
  {
   "cell_type": "code",
   "execution_count": 11,
   "metadata": {},
   "outputs": [],
   "source": [
    "def binomial_tree_basic_european_call(S, K, r, u, d, T, N):\n",
    "    \"\"\"\n",
    "    Calculates the price of a European call option using a multi-step binomial tree.\n",
    "\n",
    "    Parameters:\n",
    "        S (float): initial stock price\n",
    "        K (float): strike price\n",
    "        r (float): risk-free interest rate\n",
    "        u: Up factor\n",
    "        d: Down factor\n",
    "        T (float): time to maturity (in years)\n",
    "        N (int): number of time steps in the binomial tree\n",
    "\n",
    "    Returns:\n",
    "        (float) price of the put option\n",
    "    \"\"\"\n",
    "    dt=T/N\n",
    "    # Compute the risk-neutral probabilities of moving up and down\n",
    "    p = (((1+r)**dt) - d) / (u - d)          # Check this\n",
    "    q = 1 - p\n",
    "    \n",
    "    print(p)\n",
    "    print(q)\n",
    "\n",
    "    # Generate the stock price tree\n",
    "    stock_tree = np.zeros((N+1, N+1))\n",
    "    for i in range(N+1):                  # Loops through the columns\n",
    "        for j in range(i+1):              # Loop through the rows\n",
    "            stock_tree[j, i] = S * (u ** (i-j)) * (d ** j)    # Initial stock price multiplied by up amount (power of number of times it went up) multiplied by down amount (power of number of time it went down)\n",
    "\n",
    "    # Print the stock price tree\n",
    "    print(\"Stock price tree:\")\n",
    "    print(stock_tree)\n",
    "\n",
    "    # Generate the option value tree\n",
    "    option_tree = np.zeros((N+1, N+1))\n",
    "    option_tree[:, N] = np.maximum(stock_tree[:, N] - K, 0)    # Payoff at maturity\n",
    "    for i in range(N-1, -1, -1):          # Loops through the columns\n",
    "        for j in range(i+1):              # Loop through the rows\n",
    "            option_tree[j, i] = (1/((1+r)**dt)) * (p * option_tree[j, i+1] + (1-p) * option_tree[j+1, i+1])    # Check this\n",
    "            #option_tree[j, i] = max(option_tree[j, i], K - stock_tree[j, i], 0)    # Do we need to add in a 0 here?\n",
    "\n",
    "    # Print the option price tree\n",
    "    print(\"Option price tree:\")\n",
    "    print(option_tree)\n",
    "\n",
    "    return option_tree[0, 0]"
   ]
  },
  {
   "cell_type": "code",
   "execution_count": 12,
   "metadata": {},
   "outputs": [],
   "source": [
    "def binomial_tree_basic_european_put(S, K, r, u, d, T, N):\n",
    "    \"\"\"\n",
    "    Calculates the price of a European put option using a multi-step binomial tree.\n",
    "\n",
    "    Parameters:\n",
    "        S (float): initial stock price\n",
    "        K (float): strike price\n",
    "        r (float): risk-free interest rate\n",
    "        u: Up factor\n",
    "        d: Down factor\n",
    "        T (float): time to maturity (in years)\n",
    "        N (int): number of time steps in the binomial tree\n",
    "\n",
    "    Returns:\n",
    "        (float) price of the put option\n",
    "    \"\"\"\n",
    "    dt=T/N\n",
    "    # Compute the risk-neutral probabilities of moving up and down\n",
    "    p = (((1+r)**dt) - d) / (u - d)         # Check this\n",
    "    q = 1 - p\n",
    "    \n",
    "    print(p)\n",
    "    print(q)\n",
    "\n",
    "    # Generate the stock price tree\n",
    "    stock_tree = np.zeros((N+1, N+1))\n",
    "    for i in range(N+1):                  # Loops through the columns\n",
    "        for j in range(i+1):              # Loop through the rows\n",
    "            stock_tree[j, i] = S * (u ** (i-j)) * (d ** j)    # Initial stock price multiplied by up amount (power of number of times it went up) multiplied by down amount (power of number of time it went down)\n",
    "\n",
    "    # Print the stock price tree\n",
    "    print(\"Stock price tree:\")\n",
    "    print(stock_tree)\n",
    "\n",
    "    # Generate the option value tree\n",
    "    option_tree = np.zeros((N+1, N+1))\n",
    "    option_tree[:, N] = np.maximum(K - stock_tree[:, N], 0)    # Payoff at maturity\n",
    "    for i in range(N-1, -1, -1):          # Loops through the columns\n",
    "        for j in range(i+1):              # Loop through the rows\n",
    "            option_tree[j, i] = (1/((1+r)**dt)) * (p * option_tree[j, i+1] + (1-p) * option_tree[j+1, i+1])    # Check this\n",
    "            #option_tree[j, i] = max(option_tree[j, i], K - stock_tree[j, i], 0)    # Do we need to add in a 0 here?\n",
    "\n",
    "    # Print the option price tree\n",
    "    print(\"Option price tree:\")\n",
    "    print(option_tree)\n",
    "\n",
    "    return option_tree[0, 0]"
   ]
  },
  {
   "cell_type": "markdown",
   "metadata": {},
   "source": [
    "### Basic American Calls and Puts"
   ]
  },
  {
   "cell_type": "code",
   "execution_count": 13,
   "metadata": {},
   "outputs": [],
   "source": [
    "def binomial_tree_basic_american_call(S, K, r, u, d, T, N):\n",
    "    \"\"\"\n",
    "    Calculates the price of an American call option using a multi-step binomial tree.\n",
    "\n",
    "    Parameters:\n",
    "        S (float): initial stock price\n",
    "        K (float): strike price\n",
    "        r (float): risk-free interest rate\n",
    "        u: Up factor\n",
    "        d: Down factor\n",
    "        T (float): time to maturity (in years)\n",
    "        N (int): number of time steps in the binomial tree\n",
    "\n",
    "    Returns:\n",
    "        (float) price of the put option\n",
    "    \"\"\"\n",
    "    dt=T/N\n",
    "    # Compute the risk-neutral probabilities of moving up and down\n",
    "    p = (((1+r)**dt) - d) / (u - d)      # Check this\n",
    "    q = 1 - p\n",
    "    \n",
    "    print(p)\n",
    "    print(q)\n",
    "    \n",
    "    # Generate the stock price tree\n",
    "    stock_tree = np.zeros((N+1, N+1))\n",
    "    for i in range(N+1):                   # Loops through the columns\n",
    "        for j in range(i+1):               # Loops through the rows\n",
    "            stock_tree[j, i] = S * (u ** (i-j)) * (d ** j)   # Initial stock price multiplied by up amount (power of number of times it went up) multiplied by down amount (power of number of time it went down)\n",
    "\n",
    "    # Print the stock price tree\n",
    "    print(\"Stock price tree:\")\n",
    "    print(stock_tree)\n",
    "\n",
    "    # Generate the option value tree\n",
    "    option_tree = np.zeros((N+1, N+1))\n",
    "    option_tree[:, N] = np.maximum(stock_tree[:, N] - K, 0)\n",
    "    for i in range(N-1, -1, -1):          # Loops through the columns\n",
    "        for j in range(i+1):              # Loops through the rows\n",
    "            exercise_value = stock_tree[j, i] - K\n",
    "            hold_value = (1/((1+r)** dt)) * (p * option_tree[j, i+1] + (1-p) * option_tree[j+1, i+1])   # Check this\n",
    "            option_tree[j, i] = max(exercise_value, hold_value, 0)        # Do we need to add in a 0 here?\n",
    "\n",
    "    # Print the option price tree\n",
    "    print(\"Option price tree:\")\n",
    "    print(option_tree)\n",
    "\n",
    "    return option_tree[0, 0]"
   ]
  },
  {
   "cell_type": "code",
   "execution_count": 14,
   "metadata": {},
   "outputs": [],
   "source": [
    "def binomial_tree_basic_american_put(S, K, r, u, d, T, N):\n",
    "    \"\"\"\n",
    "    Calculates the price of an American put option using a multi-step binomial tree.\n",
    "\n",
    "    Parameters:\n",
    "        S (float): initial stock price\n",
    "        K (float): strike price\n",
    "        r (float): risk-free interest rate\n",
    "        u: Up factor\n",
    "        d: Down factor\n",
    "        T (float): time to maturity (in years)\n",
    "        N (int): number of time steps in the binomial tree\n",
    "\n",
    "    Returns:\n",
    "        (float) price of the put option\n",
    "    \"\"\"\n",
    "    dt=T/N\n",
    "    # Compute the risk-neutral probabilities of moving up and down\n",
    "    p = (((1+r)**dt) - d) / (u - d)          # Check this\n",
    "    q = 1 - p\n",
    "    \n",
    "    print(p)\n",
    "    print(q)\n",
    "    \n",
    "    # Generate the stock price tree\n",
    "    stock_tree = np.zeros((N+1, N+1))\n",
    "    for i in range(N+1):                   # Loops through the columns\n",
    "        for j in range(i+1):               # Loops through the rows\n",
    "            stock_tree[j, i] = S * (u ** (i-j)) * (d ** j)   # Initial stock price multiplied by up amount (power of number of times it went up) multiplied by down amount (power of number of time it went down)\n",
    "\n",
    "    # Print the stock price tree\n",
    "    print(\"Stock price tree:\")\n",
    "    print(stock_tree)\n",
    "\n",
    "    # Generate the option value tree\n",
    "    option_tree = np.zeros((N+1, N+1))\n",
    "    option_tree[:, N] = np.maximum(K - stock_tree[:, N], 0)\n",
    "    for i in range(N-1, -1, -1):          # Loops through the columns\n",
    "        for j in range(i+1):              # Loops through the rows\n",
    "            exercise_value = K - stock_tree[j, i]\n",
    "            hold_value = (1/((1+r)** dt)) * (p * option_tree[j, i+1] + (1-p) * option_tree[j+1, i+1])   # Check this\n",
    "            option_tree[j, i] = max(exercise_value, hold_value, 0)        # Do we need to add in a 0 here?\n",
    "\n",
    "    # Print the option price tree\n",
    "    print(\"Option price tree:\")\n",
    "    print(option_tree)\n",
    "\n",
    "    return option_tree[0, 0]"
   ]
  },
  {
   "cell_type": "code",
   "execution_count": 15,
   "metadata": {},
   "outputs": [
    {
     "name": "stdout",
     "output_type": "stream",
     "text": [
      "0.36000000000000004\n",
      "0.6399999999999999\n",
      "Stock price tree:\n",
      "[[ 5.   10.   20.  ]\n",
      " [ 0.    2.5   5.  ]\n",
      " [ 0.    0.    1.25]]\n",
      "Option price tree:\n",
      "[[ 1.19822485  3.46153846 10.        ]\n",
      " [ 0.          0.          0.        ]\n",
      " [ 0.          0.          0.        ]]\n",
      "European Call price: 1.198224852071006\n"
     ]
    }
   ],
   "source": [
    "basic_european_call_price = binomial_tree_basic_european_call(S, K, r, u, d, T, N)\n",
    "print(\"European Call price:\", basic_european_call_price)"
   ]
  },
  {
   "cell_type": "code",
   "execution_count": 19,
   "metadata": {},
   "outputs": [
    {
     "name": "stdout",
     "output_type": "stream",
     "text": [
      "0.36000000000000004\n",
      "0.6399999999999999\n",
      "Stock price tree:\n",
      "[[ 5.   10.   20.  ]\n",
      " [ 0.    2.5   5.  ]\n",
      " [ 0.    0.    1.25]]\n",
      "Option price tree:\n",
      "[[5.44378698 3.07692308 0.        ]\n",
      " [0.         7.11538462 5.        ]\n",
      " [0.         0.         8.75      ]]\n",
      "European Put price: 5.443786982248518\n"
     ]
    }
   ],
   "source": [
    "basic_european_put_price = binomial_tree_basic_european_put(S=5, K=10, r=0.04, u=2, d=0.5, T=2, N=2)\n",
    "print(\"European Put price:\", basic_european_put_price)"
   ]
  },
  {
   "cell_type": "code",
   "execution_count": 17,
   "metadata": {},
   "outputs": [
    {
     "name": "stdout",
     "output_type": "stream",
     "text": [
      "0.36000000000000004\n",
      "0.6399999999999999\n",
      "Stock price tree:\n",
      "[[ 5.   10.   20.  ]\n",
      " [ 0.    2.5   5.  ]\n",
      " [ 0.    0.    1.25]]\n",
      "Option price tree:\n",
      "[[ 1.19822485  3.46153846 10.        ]\n",
      " [ 0.          0.          0.        ]\n",
      " [ 0.          0.          0.        ]]\n",
      "American Call price: 1.198224852071006\n"
     ]
    }
   ],
   "source": [
    "basic_american_call_price = binomial_tree_basic_american_call(S, K, r, u, d, T, N)\n",
    "print(\"American Call price:\", basic_american_call_price)"
   ]
  },
  {
   "cell_type": "code",
   "execution_count": 18,
   "metadata": {},
   "outputs": [
    {
     "name": "stdout",
     "output_type": "stream",
     "text": [
      "0.36000000000000004\n",
      "0.6399999999999999\n",
      "Stock price tree:\n",
      "[[ 5.   10.   20.  ]\n",
      " [ 0.    2.5   5.  ]\n",
      " [ 0.    0.    1.25]]\n",
      "Option price tree:\n",
      "[[5.68047337 3.07692308 0.        ]\n",
      " [0.         7.5        5.        ]\n",
      " [0.         0.         8.75      ]]\n",
      "American Put price: 5.680473372781063\n"
     ]
    }
   ],
   "source": [
    "basic_american_put_price = binomial_tree_basic_american_put(S, K, r, u, d, T, N)\n",
    "print(\"American Put price:\", basic_american_put_price)"
   ]
  },
  {
   "cell_type": "code",
   "execution_count": null,
   "metadata": {},
   "outputs": [],
   "source": []
  },
  {
   "cell_type": "code",
   "execution_count": null,
   "metadata": {},
   "outputs": [],
   "source": []
  }
 ],
 "metadata": {
  "kernelspec": {
   "display_name": ".venv",
   "language": "python",
   "name": "python3"
  },
  "language_info": {
   "codemirror_mode": {
    "name": "ipython",
    "version": 3
   },
   "file_extension": ".py",
   "mimetype": "text/x-python",
   "name": "python",
   "nbconvert_exporter": "python",
   "pygments_lexer": "ipython3",
   "version": "3.10.6"
  }
 },
 "nbformat": 4,
 "nbformat_minor": 2
}
